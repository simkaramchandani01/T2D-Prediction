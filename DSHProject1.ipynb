{
 "cells": [
  {
   "cell_type": "markdown",
   "id": "34f8c11a-21c1-4645-8e82-105e14cc3a39",
   "metadata": {},
   "source": [
    "### Package Installation"
   ]
  },
  {
   "cell_type": "code",
   "execution_count": 1,
   "id": "d3bd7b9f-b2a6-4da3-acb3-8e7ce0cc7a45",
   "metadata": {
    "tags": []
   },
   "outputs": [],
   "source": [
    "import os\n",
    "import pandas as pd\n",
    "import numpy as np\n",
    "from sklearn.model_selection import train_test_split\n",
    "from sklearn.ensemble import RandomForestClassifier\n",
    "from sklearn.metrics import accuracy_score, precision_score, recall_score, f1_score, roc_auc_score\n",
    "from xgboost import XGBClassifier"
   ]
  },
  {
   "cell_type": "code",
   "execution_count": 2,
   "id": "1b3e220d-a16c-490e-8a1b-38602b14c580",
   "metadata": {
    "tags": []
   },
   "outputs": [],
   "source": [
    "import matplotlib.pyplot as plt\n",
    "import seaborn as sns"
   ]
  },
  {
   "cell_type": "markdown",
   "id": "cb088eb1-9add-4914-b47c-e121cfae7932",
   "metadata": {},
   "source": [
    "### Importing Datasets"
   ]
  },
  {
   "cell_type": "code",
   "execution_count": 3,
   "id": "4b3123dd-41cb-4d21-a379-798d415c29a7",
   "metadata": {
    "tags": []
   },
   "outputs": [
    {
     "name": "stdout",
     "output_type": "stream",
     "text": [
      "Loaded SyncCondition: (3, 3)\n",
      "Loaded SyncSmokingStatus: (10, 3)\n",
      "Loaded test_SyncPatient: (3348, 5)\n",
      "Loaded test_SyncPatientForecast: (3348, 2)\n",
      "Loaded training_SyncAllergy: (2797, 9)\n",
      "Loaded training_SyncDiagnosis: (94830, 8)\n",
      "Loaded training_SyncImmunization: (8, 6)\n",
      "Loaded training_SyncLabObservation: (29014, 13)\n",
      "Loaded training_SyncLabPanel: (11139, 5)\n",
      "Loaded training_SyncLabResult: (1952, 8)\n",
      "Loaded training_SyncMedication: (44520, 8)\n",
      "Loaded training_SyncPatient: (9871, 6)\n",
      "Loaded training_SyncPatientCondition: (2836, 4)\n",
      "Loaded training_SyncPatientSmokingStatus: (4940, 4)\n",
      "Loaded training_SyncPatient_orig: (9871, 6)\n",
      "Loaded training_SyncPrescription: (78863, 9)\n",
      "Loaded training_SyncTranscript: (131031, 13)\n",
      "Loaded training_SyncTranscriptAllergy: (801, 3)\n",
      "Loaded training_SyncTranscriptDiagnosis: (267938, 3)\n",
      "Loaded training_SyncTranscriptMedication: (97109, 3)\n"
     ]
    }
   ],
   "source": [
    "patient_dict = {}\n",
    "for filename in os.listdir('.'):\n",
    "    if filename.endswith('.csv'):\n",
    "        df_name = os.path.splitext(filename)[0]  \n",
    "        patient_dict[df_name] = pd.read_csv(filename)\n",
    "        print(f\"Loaded {df_name}: {patient_dict[df_name].shape}\")"
   ]
  },
  {
   "cell_type": "markdown",
   "id": "04bd7e44-c6d3-473a-b003-5056df60c350",
   "metadata": {},
   "source": [
    "#### Renaming Dataframes"
   ]
  },
  {
   "cell_type": "code",
   "execution_count": 4,
   "id": "4f3b593a-0762-4984-926a-ca53db3c0eb7",
   "metadata": {
    "tags": []
   },
   "outputs": [],
   "source": [
    "df_train_sp=patient_dict['training_SyncPatient']\n",
    "df_test_sp=patient_dict['test_SyncPatient']"
   ]
  },
  {
   "cell_type": "code",
   "execution_count": 5,
   "id": "1a03ffd8-6323-42b9-80c2-847e049f2ec5",
   "metadata": {
    "tags": []
   },
   "outputs": [
    {
     "data": {
      "text/plain": [
       "Index(['PatientGuid', 'Gender', 'YearOfBirth', 'State', 'PracticeGuid'], dtype='object')"
      ]
     },
     "execution_count": 5,
     "metadata": {},
     "output_type": "execute_result"
    }
   ],
   "source": [
    "df_test_sp.columns"
   ]
  },
  {
   "cell_type": "code",
   "execution_count": 6,
   "id": "b2c748d7-06ff-4a2e-950d-e0c139b800c4",
   "metadata": {
    "tags": []
   },
   "outputs": [
    {
     "name": "stdout",
     "output_type": "stream",
     "text": [
      "59226\n",
      "16740\n"
     ]
    }
   ],
   "source": [
    "print(df_train_sp.size)\n",
    "print(df_test_sp.size)"
   ]
  },
  {
   "cell_type": "code",
   "execution_count": 7,
   "id": "d3e280f0-7e04-4a63-b7d1-35483c0d7b10",
   "metadata": {
    "tags": []
   },
   "outputs": [],
   "source": [
    "df_sc=patient_dict['SyncCondition']\n",
    "df_sss=patient_dict['SyncSmokingStatus']\n",
    "df_train_sa=patient_dict['training_SyncAllergy']\n",
    "df_train_sd=patient_dict['training_SyncDiagnosis']\n",
    "df_train_si=patient_dict['training_SyncImmunization']\n",
    "df_train_slo=patient_dict['training_SyncLabObservation']\n",
    "df_train_slp=patient_dict['training_SyncLabPanel']\n",
    "df_train_slr=patient_dict['training_SyncLabResult']\n",
    "df_train_sm=patient_dict['training_SyncMedication']\n",
    "df_train_spc=patient_dict['training_SyncPatientCondition']\n",
    "df_train_spss=patient_dict['training_SyncPatientSmokingStatus']\n",
    "df_train_spo=patient_dict['training_SyncPatient_orig']\n",
    "df_train_spr=patient_dict['training_SyncPrescription']\n",
    "df_train_st=patient_dict['training_SyncTranscript']\n",
    "df_train_sta=patient_dict['training_SyncTranscriptAllergy']\n",
    "df_train_std=patient_dict['training_SyncTranscriptDiagnosis']\n",
    "df_train_stm=patient_dict['training_SyncTranscriptMedication']"
   ]
  },
  {
   "cell_type": "code",
   "execution_count": 8,
   "id": "83e49275-7c76-4c69-8c16-ab44e9347caa",
   "metadata": {
    "tags": []
   },
   "outputs": [
    {
     "name": "stdout",
     "output_type": "stream",
     "text": [
      "SyncCondition:\n",
      "                          ConditionGuid                Code  \\\n",
      "0  D4FF24EA-658D-4500-A71F-821F9776FB27    NOKNOWNDIAGNOSES   \n",
      "1  4BF4503F-4EA7-4E63-BBA6-B6A4A8C273F8    NOKNOWNALLERGIES   \n",
      "2  2AE517F6-5029-4BC4-9353-FB8E0CC3A822  NOKNOWNMEDICATIONS   \n",
      "\n",
      "                   Name  \n",
      "0    No Known Diagnoses  \n",
      "1    No Known Allergies  \n",
      "2  No Known Medications  \n",
      "\n",
      "\n",
      "SyncSmokingStatus:\n",
      "                      SmokingStatusGuid  \\\n",
      "0  E86CA3A8-E35B-4BBF-80E2-0375AB4A1460   \n",
      "1  1F3BFBBF-AB76-481B-B1E0-08A3689A54BC   \n",
      "2  C12C2DB7-D31A-4514-88C0-42CBD339F764   \n",
      "3  FA2B7AE4-4D14-4768-A8C7-55B5F0CDF4AF   \n",
      "4  0815F240-3DD3-43C6-8618-613CA9E41F9F   \n",
      "\n",
      "                              Description  NISTcode  \n",
      "0                  Current status unknown         9  \n",
      "1              Not a current tobacco user         0  \n",
      "2  0 cigarettes per day (previous smoker)         3  \n",
      "3            Few (1-3) cigarettes per day         2  \n",
      "4                  Current status unknown         5  \n",
      "\n",
      "\n",
      "test_SyncPatient:\n",
      "                            PatientGuid Gender  YearOfBirth State  \\\n",
      "0  027AC271-0852-4DDD-99C2-A74FE50066E0      F         1978    CA   \n",
      "1  C5D4C6FA-A2B3-4CCD-A8D5-A760127CE47D      F         1941    PA   \n",
      "2  1F4D1486-7632-4576-AC92-A760680D1DC9      M         1938    VA   \n",
      "3  0F6AD971-F133-4BD7-B508-A76788D9C46C      M         1952    OH   \n",
      "4  1E23496C-7AAF-4A91-AAF4-A769BD439E67      F         1961    FL   \n",
      "\n",
      "                           PracticeGuid  \n",
      "0  4D27688B-C925-4513-9CF9-8D281ACC6712  \n",
      "1  44C560D5-82B4-436A-9C72-C090F5377FD0  \n",
      "2  9891CFAA-9B40-4120-AE20-3A1D86064898  \n",
      "3  64F84808-F87B-41CF-8E4B-5E0F456359B4  \n",
      "4  BD209FBC-E92C-4392-A085-1DDA42AF37BA  \n",
      "\n",
      "\n",
      "test_SyncPatientForecast:\n",
      "                            PatientGuid  DMIndicatorForecast\n",
      "0  000B4862-7CE7-4EC5-8043-A97FCD74BD78             0.004484\n",
      "1  003CEE1F-5BF5-4171-9284-F5464EC12D41             0.004484\n",
      "2  004382BD-E31F-4091-8DE5-E86A59D70C2D             0.004484\n",
      "3  004EA6A7-6159-4D70-B06A-C0391D8623BD             0.081571\n",
      "4  0063B34F-C2C4-423A-A144-E51F7149253A             0.333333\n",
      "\n",
      "\n",
      "training_SyncAllergy:\n",
      "                            AllergyGuid                           PatientGuid  \\\n",
      "0  FFD9BE48-3AD6-40CB-A5CD-001CDCE49A26  43CE4977-3EC1-48D5-8FCE-8F27BBDDFC1C   \n",
      "1  5C0F88CB-1B5A-4EA7-8921-00D777F82918  622830A1-BA4A-4272-B38B-4C6A9D6F973D   \n",
      "2  D536315B-A551-4CA5-A505-00E553EFCD4D  44BFA67A-9E8E-4447-BFCC-17FF76ADFE21   \n",
      "3  C0A19E94-FEC2-45C6-9D46-00EBD8F2226C  74F39AC1-16C5-4A9C-BF59-67513C342070   \n",
      "4  D7779B6B-2FFF-4A87-8F74-00F000127A8E  DCFBC6A1-2EBD-41C8-8B17-64D3EC20C082   \n",
      "\n",
      "  AllergyType  StartYear         ReactionName SeverityName  MedicationNDCCode  \\\n",
      "0  Medication       2010           Runny nose       Modest       7.443429e+07   \n",
      "1  Medication       2012  Shortness of breath       Severe       1.780085e+08   \n",
      "2  Medication       2011   Rash - generalized         Mild       6.811503e+10   \n",
      "3  Medication       2011             Diarrhea         Mild       4.562005e+08   \n",
      "4  Medication       2012             Vomiting       Severe       5.801601e+10   \n",
      "\n",
      "                                      MedicationName  \\\n",
      "0                  TriCor (fenofibrate) oral capsule   \n",
      "1                       Ferrous Fumarate oral tablet   \n",
      "2  Norflex (orphenadrine) oral tablet, extended r...   \n",
      "3                 Lexapro (escitalopram) oral tablet   \n",
      "4    Vicodin (acetaminophen-HYDROcodone) oral tablet   \n",
      "\n",
      "                               UserGuid  \n",
      "0  60C80223-5A28-4E74-89FF-73505D39BCDD  \n",
      "1  6605B278-A5B4-4CBC-907E-E1E8508E0404  \n",
      "2  B7B99AED-10D1-4608-8274-64F66B6FFDB4  \n",
      "3  2F7B6534-886A-4CC7-958E-2197A1741126  \n",
      "4  D73415A9-CCD2-4D17-A43A-45E75878C6C5  \n",
      "\n",
      "\n",
      "training_SyncDiagnosis:\n",
      "                          DiagnosisGuid                           PatientGuid  \\\n",
      "0  D8873CD9-C72E-4ABD-B0C5-000101A9A72A  BA954BD7-5EE7-4CCF-AB31-07B9C7F72D07   \n",
      "1  70F10549-2A75-44F9-8640-00010B10EFAD  F8D890EA-7920-40AF-BFCF-42010E1BF563   \n",
      "2  A5F5AF96-0B64-472E-BB67-00012544228C  A3AD2D57-5589-47E2-BDB2-1D5B51764896   \n",
      "3  3C4B7780-6742-4DB5-8DFE-000157ED4DD3  2AC1DCDA-9C11-44ED-A2BE-4B1F2393B68E   \n",
      "4  903825EF-AEDD-4F2D-985C-0004D6D95E9B  9DB2B66C-A696-4308-BFA1-4C8F6E97977E   \n",
      "\n",
      "  ICD9Code                               DiagnosisDescription  StartYear  \\\n",
      "0    825.0                      Fracture of calcaneus, closed       2012   \n",
      "1    784.0                                           Headache          0   \n",
      "2    461.9                       Acute sinusitis, unspecified       2010   \n",
      "3   V72.31                  Routine gynecological examination       2009   \n",
      "4   345.90  Epilepsy, unspecified, without mention of intr...       2010   \n",
      "\n",
      "   StopYear  Acute                              UserGuid  \n",
      "0       NaN      0  A65727FD-4E6C-43B9-AE7B-E4088265DDB4  \n",
      "1       NaN      1  2925D93F-3904-4D28-8E93-4A5C059E5743  \n",
      "2    2010.0      1  E935F904-AAFE-4148-AB24-70E02EB9005D  \n",
      "3       NaN      0  60C80223-5A28-4E74-89FF-73505D39BCDD  \n",
      "4       NaN      0  EC059D01-0352-4E95-ACF5-7D2268064DF7  \n",
      "\n",
      "\n",
      "training_SyncImmunization:\n",
      "                       ImmunizationGuid                           PatientGuid  \\\n",
      "0  4B4CB6A5-3104-437E-824F-018C47331650  49788582-072C-4C8F-9098-4654D7C728B6   \n",
      "1  7E150241-E7F3-4A1C-8015-061455B9169A  6B995891-AEB1-46A7-B4F1-7C27B119DA48   \n",
      "2  3738DBD5-8507-4395-BBB4-22C957516780  7FAD2C82-95D3-4903-9FBB-98FABEC00B13   \n",
      "3  D21C91AE-7B6E-43D5-B06B-2821BD177CCD  9B4C4F35-4D7A-4B0E-AF00-230791A42A74   \n",
      "4  D5B72798-CDE0-4C93-998E-64750DB409F0  74184CD9-9717-4954-865A-01F0559A7E46   \n",
      "\n",
      "                                         VaccineName  AdministeredYear  \\\n",
      "0  Hepatitis B vaccine, pediatric/adolescent dosa...              2008   \n",
      "1  Hepatitis B vaccine, pediatric/adolescent dosa...              2008   \n",
      "2  Hepatitis B vaccine, adolescent (2 dose schedu...              2008   \n",
      "3  Hepatitis B vaccine, pediatric/adolescent dosa...              2008   \n",
      "4  Hepatitis B vaccine, pediatric/adolescent dosa...              2008   \n",
      "\n",
      "   CvxCode                              UserGuid  \n",
      "0        8  546CEBD4-9D3E-4B13-BA3B-4E0A558414C8  \n",
      "1        8  546CEBD4-9D3E-4B13-BA3B-4E0A558414C8  \n",
      "2       43  F5A682D4-9C5B-4419-B7C7-EBFFB6590D78  \n",
      "3        8  546CEBD4-9D3E-4B13-BA3B-4E0A558414C8  \n",
      "4        8  546CEBD4-9D3E-4B13-BA3B-4E0A558414C8  \n",
      "\n",
      "\n",
      "training_SyncLabObservation:\n",
      "  HL7Identifier         HL7Text                    LabObservationGuid  \\\n",
      "0        001016  Calcium, Serum  30F3917A-E4DE-4ADD-BE2A-6E842B1CF958   \n",
      "1        001016  Calcium, Serum  29C33291-2E32-46E1-9FDC-4D73783867E6   \n",
      "2        001016  Calcium, Serum  06586D95-D7F3-4E63-B8AA-5751F3213D98   \n",
      "3        001016  Calcium, Serum  2ADEC63D-D741-48F5-9024-B103F2BBCC3B   \n",
      "4        001016  Calcium, Serum  CCB87D9F-DCF8-4145-B4A8-5082F9E2FDA7   \n",
      "\n",
      "                           LabPanelGuid HL7CodingSystem  ObservationValue  \\\n",
      "0  AC8B2E6D-E55E-42C5-B0F4-099094703A4B    LabCorpLocal               9.8   \n",
      "1  B8A16544-6185-43E7-ADE1-258E4781CCC7    LabCorpLocal               9.6   \n",
      "2  C9E3816D-C533-4046-AD79-B4EC5CB7DEFA    LabCorpLocal              10.1   \n",
      "3  D17E087C-7783-42E8-A875-E4870C2F5EC0    LabCorpLocal               9.5   \n",
      "4  A1455081-17F7-4714-89E3-CACE4BA5BBC5    LabCorpLocal               9.2   \n",
      "\n",
      "   Units ReferenceRange AbnormalFlags ResultStatus  ObservationYear  \\\n",
      "0  mg/dL       8.6-10.2           NaN        Final             2011   \n",
      "1  mg/dL       8.7-10.2           NaN        Final             2011   \n",
      "2  mg/dL       8.6-10.2           NaN        Final             2011   \n",
      "3  mg/dL       8.6-10.2           NaN        Final             2011   \n",
      "4  mg/dL       8.7-10.2           NaN        Final             2011   \n",
      "\n",
      "                               UserGuid  IsAbnormalValue  \n",
      "0  3027FCA9-C076-4B4D-823E-840FE03E1AFE                0  \n",
      "1  00000000-0000-0000-0000-000000000000                0  \n",
      "2  B366A9CC-814C-4B2F-99E5-4DC5C79B9DEC                0  \n",
      "3  60C80223-5A28-4E74-89FF-73505D39BCDD                0  \n",
      "4  00000000-0000-0000-0000-000000000000                0  \n",
      "\n",
      "\n",
      "training_SyncLabPanel:\n",
      "                        PanelName                          LabPanelGuid  \\\n",
      "0  083824+CBC/D/Plt+RPR+Rh+ABO...  356133F9-70AD-4C03-9FC2-5B134C84D3D2   \n",
      "1  083824+CBC/D/Plt+RPR+Rh+ABO...  3B90AE78-024D-4183-90D4-9592B638554A   \n",
      "2  083824+CBC/D/Plt+RPR+Rh+ABO...  A7ED264E-A0A9-41E0-8D1D-0A65CC1BF927   \n",
      "3  083824+CBC/D/Plt+RPR+Rh+ABO...  7958A75D-A5AF-4C10-AC2D-9F1AFD5758B9   \n",
      "4  083824+CBC/D/Plt+RPR+Rh+ABO...  EA8BA390-2454-4905-8437-121FD48DF555   \n",
      "\n",
      "                          LabResultGuid  ObservationYear Status  \n",
      "0  E2E9F32D-4277-4078-A466-CF9714718D56             2011  Final  \n",
      "1  938556AC-E98D-4386-A94A-C89A83FA570C             2012  Final  \n",
      "2  34CE5F46-0ED5-44B7-B004-771EFA0EDE81             2011  Final  \n",
      "3  840ED500-8FC6-468A-B7AF-B429CC3FDD7C             2011  Final  \n",
      "4  642AEA75-D604-45B3-94DF-9AC4F1C1AEEA             2012  Final  \n",
      "\n",
      "\n",
      "training_SyncLabResult:\n",
      "                          LabResultGuid                              UserGuid  \\\n",
      "0  9B66DC54-51BA-4851-BE1F-007E994839B9  FFBB415B-25A7-49B9-AAC5-2019AE0EE66F   \n",
      "1  E2206C79-B879-4BD7-BE8F-00A00A29751F  1D1774BE-69A2-47C5-B813-97C16008E64F   \n",
      "2  F7078302-BCBF-4626-B0B7-00B105577727  3C0C75A4-9C79-47F5-8C25-8C8DE738FD1F   \n",
      "3  F9099B02-ACE7-4943-A586-00D5EEBA196A  5942D07E-787A-48AD-9FCF-4DA9E535D830   \n",
      "4  7A8AD63C-200E-4AE5-93AE-0108498EE481  3027FCA9-C076-4B4D-823E-840FE03E1AFE   \n",
      "\n",
      "                            PatientGuid                        TranscriptGuid  \\\n",
      "0  ECD01885-2FB6-41D2-9220-286F67F57282  00000000-0000-0000-0000-000000000000   \n",
      "1  ED48DCBA-1B6A-4A99-B17E-15537EFB137A  00000000-0000-0000-0000-000000000000   \n",
      "2  D6F957FF-C1F4-4B52-8481-A543C5C20E58  00000000-0000-0000-0000-000000000000   \n",
      "3  FF1059B3-2B7A-4161-AF23-C3B07FB8BB92  00000000-0000-0000-0000-000000000000   \n",
      "4  4651E19F-9DDE-4AF6-90C4-FEEDFAF10643  00000000-0000-0000-0000-000000000000   \n",
      "\n",
      "                           PracticeGuid                          FacilityGuid  \\\n",
      "0  F8C6FF40-A74C-4FA0-854D-ACA3479CBD9A  5DC326A6-F397-4553-A206-EAADB2D321A6   \n",
      "1  57CFBF23-D5DE-4318-933D-82AEF76C408D  0C745A5A-2DEF-431C-AA09-855B769A48F2   \n",
      "2  A7AEDBCC-2D87-40A8-B6A0-F585BD5301F7  11AEFA8C-159B-4164-B45A-458DD0581F4A   \n",
      "3  A0D25C50-BF56-4301-8B52-2D14EDCE2756  843D2F16-87BA-43AD-8D1E-4C4A11CE8D41   \n",
      "4  A2F40C7C-E6C8-4E0E-9B80-478D39494222  7237AD6A-C72C-48A9-B60B-1BB5FC90EEBD   \n",
      "\n",
      "   ReportYear                 AncestorLabResultGuid  \n",
      "0        2011  00000000-0000-0000-0000-000000000000  \n",
      "1        2011  00000000-0000-0000-0000-000000000000  \n",
      "2        2012  00000000-0000-0000-0000-000000000000  \n",
      "3        2011  00000000-0000-0000-0000-000000000000  \n",
      "4        2011  00000000-0000-0000-0000-000000000000  \n",
      "\n",
      "\n",
      "training_SyncMedication:\n",
      "                         MedicationGuid                           PatientGuid  \\\n",
      "0  0D6B339C-AB1F-4FF1-B231-000026C414C9  A7F1591C-9DB8-4F12-A0B8-15AC12C2B801   \n",
      "1  72ADD073-CDA0-4F85-B6CB-00008B645E90  7A88D55F-22A9-4126-861D-92F0DA2ED701   \n",
      "2  D35E505A-02F8-4EFD-A460-00042F85EF3E  F0B80C93-D371-44BE-B464-530C97FE6C02   \n",
      "3  FFB036B9-A636-48F2-967C-0005F8D78574  FF32CBDA-DDB1-4730-81C5-ACB0F321C2C5   \n",
      "4  AB095685-A703-4D81-8678-0009396BF105  1ECD93C8-75BD-4D3C-8D15-E2A3D0373090   \n",
      "\n",
      "       NdcCode                                     MedicationName  \\\n",
      "0  23490544301                                Digoxin oral tablet   \n",
      "1    143126730                             Lisinopril oral tablet   \n",
      "2    456069801                Tessalon (benzonatate) oral capsule   \n",
      "3  60432060504  Promethazine VC Plain (phenylephrine-promethaz...   \n",
      "4    247211730                 Lexapro (escitalopram) oral tablet   \n",
      "\n",
      "   MedicationStrength  Schedule                         DiagnosisGuid  \\\n",
      "0  125 mcg (0.125 mg)       NaN  DA833B28-CE04-4547-A94F-8A4E6C187A3B   \n",
      "1               10 mg       NaN  3ED5B90C-22A1-46EE-9CF5-027E684627D8   \n",
      "2              200 mg       NaN  0B6C3285-1D8C-4C0F-9928-95EC226CB2FE   \n",
      "3   5 mg-6.25 mg/5 mL       NaN  DE2E15A5-5080-4141-A061-C81EC739C0A4   \n",
      "4               10 mg       NaN  16B189A4-359C-41E1-BAA3-3E081EA24C41   \n",
      "\n",
      "                               UserGuid  \n",
      "0  1247EA46-61C3-4E91-ACF1-9C54D920ED05  \n",
      "1  89049E64-8E9C-4863-8CF2-B6874235FA14  \n",
      "2  7511BCEC-9E46-4808-99A7-5B30778B6E84  \n",
      "3  7CA1DC13-E602-4296-805F-A64DC8950C5A  \n",
      "4  92EBF1FE-3BE4-4367-83DD-C34F58B0B6C6  \n",
      "\n",
      "\n",
      "training_SyncPatient:\n",
      "                            PatientGuid  DMIndicator Gender  YearOfBirth  \\\n",
      "0  FB6EFC3D-1A20-4497-9CBD-00027CC5D220          0.0      M       1929.0   \n",
      "1  C6746626-6783-4650-A58F-00065649139A          0.0      F       1985.0   \n",
      "2  E05C6E8F-779F-4594-A388-000C635AE4D3          0.0      F       1984.0   \n",
      "3  EAEBD216-F847-4355-87B2-000D942E08F0          0.0      M       1959.0   \n",
      "4  C7F10A80-4934-42D2-8540-000FBEBA75C8          0.0      F       1990.0   \n",
      "\n",
      "  State                          PracticeGuid  \n",
      "0    SD  7BF4DAD8-5F67-4985-B911-20C9E89A3737  \n",
      "1    TX  E7101967-2FF1-4B0F-8129-B0B429D1D15C  \n",
      "2    NJ  FC01A799-1CAF-464F-A86F-8A666AB86F32  \n",
      "3    OH  EEBC95EF-79BE-4542-892E-98D3166BAB20  \n",
      "4    FL  677BA32E-B4C4-48F2-86E4-08C42B135401  \n",
      "\n",
      "\n",
      "training_SyncPatientCondition:\n",
      "                   PatientConditionGuid                           PatientGuid  \\\n",
      "0  22A5A7B5-FF9F-4FE6-86B2-00314970CF94  7441A529-1D78-4807-81F5-77B3D125D375   \n",
      "1  F9BE2F6F-87DD-4816-9ADE-00423A35C7DB  026855B2-24AC-4586-9F8C-DAC183CFE913   \n",
      "2  61A844C2-01B0-4DBF-B4AE-0062C30CD9B0  6793DFD6-3DE1-41A6-A39E-1E21CE955D79   \n",
      "3  47BA9B33-CCD9-4ED0-AA3B-006AE7960C4D  962B162F-9EB2-4CCC-8853-96BDD600868F   \n",
      "4  FD0847B3-534E-4433-AD50-007430B1DCF4  3921D6EC-7EB0-4C0C-8CE5-D5EE66CB2D6A   \n",
      "\n",
      "                          ConditionGuid  CreatedYear  \n",
      "0  4BF4503F-4EA7-4E63-BBA6-B6A4A8C273F8         2011  \n",
      "1  4BF4503F-4EA7-4E63-BBA6-B6A4A8C273F8         2011  \n",
      "2  4BF4503F-4EA7-4E63-BBA6-B6A4A8C273F8         2011  \n",
      "3  4BF4503F-4EA7-4E63-BBA6-B6A4A8C273F8         2011  \n",
      "4  4BF4503F-4EA7-4E63-BBA6-B6A4A8C273F8         2011  \n",
      "\n",
      "\n",
      "training_SyncPatientSmokingStatus:\n",
      "               PatientSmokingStatusGuid                           PatientGuid  \\\n",
      "0  98D65810-96E1-4AF2-986E-001AB3FA8F07  418B3B82-D178-47D3-A6D4-B9F92A37D7DC   \n",
      "1  AF76A721-2A12-4C30-A600-0020DC77DEE1  53183B47-C9F6-46D4-ACD1-D2B44B6263B0   \n",
      "2  D2C7E57A-5CBC-4BB3-91BF-00249D55AFBA  4E01E2C2-387D-485E-8AFA-312AAB7B5026   \n",
      "3  D230ED80-6318-4E48-A374-002928252CBA  B732CBF8-E855-4CA3-9548-7C0A1660CC52   \n",
      "4  6ED5ABA8-7D47-49F8-8857-00321749C4D2  4AE52DF5-AB5B-4272-AF6C-789EFE0B58B3   \n",
      "\n",
      "                      SmokingStatusGuid  EffectiveYear  \n",
      "0  FCD437AA-0451-4D8A-9396-B6F19D8B25E8           2011  \n",
      "1  DD01E545-D7AF-4F00-B248-9FD40010D81D           2011  \n",
      "2  1F3BFBBF-AB76-481B-B1E0-08A3689A54BC           2011  \n",
      "3  5ABBAB35-836F-4F3E-8632-CE063828DA15           2012  \n",
      "4  5ABBAB35-836F-4F3E-8632-CE063828DA15           2011  \n",
      "\n",
      "\n",
      "training_SyncPatient_orig:\n",
      "                            PatientGuid  DMIndicator Gender  YearOfBirth  \\\n",
      "0  FB6EFC3D-1A20-4497-9CBD-00027CC5D220          0.0      M       1929.0   \n",
      "1  C6746626-6783-4650-A58F-00065649139A          0.0      F       1985.0   \n",
      "2  E05C6E8F-779F-4594-A388-000C635AE4D3          0.0      F       1984.0   \n",
      "3  EAEBD216-F847-4355-87B2-000D942E08F0          0.0      M       1959.0   \n",
      "4  C7F10A80-4934-42D2-8540-000FBEBA75C8          0.0      F       1990.0   \n",
      "\n",
      "  State                          PracticeGuid  \n",
      "0    SD  7BF4DAD8-5F67-4985-B911-20C9E89A3737  \n",
      "1    TX  E7101967-2FF1-4B0F-8129-B0B429D1D15C  \n",
      "2    NJ  FC01A799-1CAF-464F-A86F-8A666AB86F32  \n",
      "3    OH  EEBC95EF-79BE-4542-892E-98D3166BAB20  \n",
      "4    FL  677BA32E-B4C4-48F2-86E4-08C42B135401  \n",
      "\n",
      "\n",
      "training_SyncPrescription:\n",
      "                       PrescriptionGuid                           PatientGuid  \\\n",
      "0  DD22B641-A6BA-4B0C-957A-00012731F571  C907DB37-6FFE-4102-B12D-CCE965A91AB6   \n",
      "1  736B99DB-34A2-4A08-9760-000201B2D7C7  35F5194C-22FE-4960-BAF6-15E616D67B66   \n",
      "2  2008B573-370C-443E-8486-000201BCFAA6  A45C5F8F-030A-421A-BC07-669FDE202D30   \n",
      "3  C7D62A47-B33B-48CE-9C5A-00022DB765C5  DC5B1E3B-E789-4BF2-AE36-71465165EF56   \n",
      "4  274181D8-7927-4D64-B137-0002E45116CD  24E8D498-65BE-4F9E-A9FE-6BACD50E5C57   \n",
      "\n",
      "                         MedicationGuid  PrescriptionYear     Quantity  \\\n",
      "0  81378082-ED3B-4FB4-AADC-E16F96E3FABA              2010           90   \n",
      "1  0873ABE3-E104-4BB3-8416-8C9E1C8912C1              2009           90   \n",
      "2  A0AD4801-7601-4D18-A623-A906DCF42C7E              2010          180   \n",
      "3  BAC517F0-03E3-4E03-BD7F-0B626E496437              2011           30   \n",
      "4  C73551FD-A00E-406B-BDE0-4491802954CC              2010  (30) Thirty   \n",
      "\n",
      "  NumberOfRefills  RefillAsNeeded  GenericAllowed  \\\n",
      "0               3               0               1   \n",
      "1             NaN               0               1   \n",
      "2               0               1               1   \n",
      "3               0               0               1   \n",
      "4            zero               0               1   \n",
      "\n",
      "                               UserGuid  \n",
      "0  0FFBB7EA-5AA2-4F2E-97B1-B0F6EE85190D  \n",
      "1  8CF71DD6-7C8D-4CB1-94B4-5FEC3175D84B  \n",
      "2  1D045E5C-2547-4A86-A252-3A8539FAE318  \n",
      "3  9E9CE66B-8FDD-4170-AB58-95E5B236B70C  \n",
      "4  2F7B6534-886A-4CC7-958E-2197A1741126  \n",
      "\n",
      "\n",
      "training_SyncTranscript:\n",
      "                         TranscriptGuid                           PatientGuid  \\\n",
      "0  4E74D809-F0C6-4A4D-8F6F-0000042B3AEA  7F78C9FD-8A95-48DC-B074-FA41F5B41826   \n",
      "1  84A5F60E-49F6-4437-BAE1-00004F4D15EE  EE1E2D06-8846-4BF5-9C82-E08BC8798DAE   \n",
      "2  7C45CC93-4799-42A1-B6D6-00008D1B3579  1FF23603-B9D4-42B0-B450-BCD5EA46A025   \n",
      "3  375F3C1C-0058-4872-B96E-00009FE9328A  16C2D99F-1494-4DF9-82E6-0FA0F0EB1B63   \n",
      "4  66439EEB-2FFB-4711-87F2-0001690835A6  18256C20-BAC8-4F57-A03C-2C7152CE1813   \n",
      "\n",
      "   VisitYear  Height  Weight     BMI  SystolicBP  DiastolicBP  \\\n",
      "0       2009    63.0   145.8  25.824         NaN          NaN   \n",
      "1       2011     NaN     0.0   0.000         NaN          NaN   \n",
      "2       2010    64.5   133.0  22.474       106.0         66.0   \n",
      "3       2011    68.0   125.4  19.065       119.0         64.0   \n",
      "4       2011     NaN     0.0   0.000         NaN          NaN   \n",
      "\n",
      "   RespiratoryRate  HeartRate  Temperature PhysicianSpecialty  \\\n",
      "0              NaN        NaN          NaN    Family Practice   \n",
      "1              NaN        NaN          NaN    Family Practice   \n",
      "2              NaN        NaN         98.2    Family Practice   \n",
      "3              NaN        NaN         98.2    Family Practice   \n",
      "4              NaN        NaN          NaN    Family Practice   \n",
      "\n",
      "                               UserGuid  \n",
      "0  226D906B-E53A-4EEA-86A8-633D14B98BF2  \n",
      "1  412307EE-D407-4F16-8379-D4A88A7B1122  \n",
      "2  B366A9CC-814C-4B2F-99E5-4DC5C79B9DEC  \n",
      "3  B8CDE35A-5C03-4995-B771-10F660B84F1A  \n",
      "4  6D105E1E-EACC-478E-9454-FBED1F50F888  \n",
      "\n",
      "\n",
      "training_SyncTranscriptAllergy:\n",
      "                  TranscriptAllergyGuid                        TranscriptGuid  \\\n",
      "0  7871260D-D525-4FBC-B747-00BF63BF565F  9994BCA5-70A2-4AA1-AD74-70C76D2E0ED1   \n",
      "1  17BA575D-8A8C-46E8-B67A-00C9A388D667  FC989B9E-5378-4C32-A7AC-5B65B3743082   \n",
      "2  0BC7D70E-1566-4E32-8CEE-010CB8AE06FE  B6B7069D-4D4F-42B8-8DD8-2437D90E6ADA   \n",
      "3  FD726AA1-8E2E-48D3-A6A5-021E8845B483  AA2E21E0-CBB3-4034-9436-AFEF808F7E1B   \n",
      "4  6026AB5A-55A0-4294-8C7F-021F7C0D9DFF  0B0898F6-52B3-4E46-948F-6E88A96E427E   \n",
      "\n",
      "                            AllergyGuid  \n",
      "0  496E9CDC-D811-470A-BBC3-11944A1F33D6  \n",
      "1  51C60FE1-F9E9-4ACA-8C14-CB2342E59E3B  \n",
      "2  1A14A7C4-7A7D-4D3F-809C-FBEEFCB9A232  \n",
      "3  D998FA81-9D68-409C-BA72-0BAB54197749  \n",
      "4  B590A7F7-B7A8-475C-9CAC-C5B353B31267  \n",
      "\n",
      "\n",
      "training_SyncTranscriptDiagnosis:\n",
      "                TranscriptDiagnosisGuid                        TranscriptGuid  \\\n",
      "0  6B3C4C59-B093-4B72-BB79-000021DF2211  48952F6E-3236-4981-B047-AB2390EA654A   \n",
      "1  46960605-2629-4E6D-9ADE-0000767EF9E0  16CEC101-3D0E-4C79-B69A-15BB6D49E22B   \n",
      "2  C9DD903F-0D34-428A-A430-0001064684F3  FAA34362-8AC3-47B7-B170-9D434E315980   \n",
      "3  4CEF2C19-589D-4781-BF8C-0001139BB4F3  6CB3EB24-F797-4FB4-B60D-085710A159AB   \n",
      "4  D258DB7D-D1F7-4D55-A55C-00012318C0C6  431BDB12-015C-45A9-A14E-5BBFB86C4464   \n",
      "\n",
      "                          DiagnosisGuid  \n",
      "0  CA7AC145-6BB1-49D4-A469-E8E7DFA3FD44  \n",
      "1  9457992E-CB61-4E01-92CE-05ABBE83DE76  \n",
      "2  B7D30237-B24B-4076-A268-B7657D00342B  \n",
      "3  5C8B4590-C3BD-416D-9612-211CBE3B9DDA  \n",
      "4  C0413961-AD07-4D97-96DE-6766112981C6  \n",
      "\n",
      "\n",
      "training_SyncTranscriptMedication:\n",
      "               TranscriptMedicationGuid                        TranscriptGuid  \\\n",
      "0  D9D24240-60D2-4252-8126-000010512B86  E387232D-2DE8-4E77-8282-C53E5878782B   \n",
      "1  EC889C15-023A-49D7-B074-00005319DE0E  60BC1613-3D7E-4913-9073-253A97025B64   \n",
      "2  85E4FBE7-22E7-4899-BDFC-0000E3D675DC  B5315BEC-8944-41A1-8BBE-C9407CA17667   \n",
      "3  F35AD9BE-5009-43A2-B025-00015AECF6E1  7783A45E-1CDA-4CD6-BE5B-CECD9514D63D   \n",
      "4  EA9BF6BD-3D0E-4023-8C71-00026D6B760B  D4D45440-2A9B-40A7-8B06-A19F8600D24C   \n",
      "\n",
      "                         MedicationGuid  \n",
      "0  09B79ABF-EFFC-46E0-BE76-0318AF713A47  \n",
      "1  E686C76C-EBA3-4A28-9C90-D9F64FE62FA3  \n",
      "2  B2D6D949-C75C-4C6F-B2F2-626A8A2655DB  \n",
      "3  42FAC4E3-0025-4E9D-A4C4-E9431C96FAF3  \n",
      "4  4DE6D8D1-6A1A-4D7B-8476-A2B311CEA2E4  \n",
      "\n",
      "\n"
     ]
    }
   ],
   "source": [
    "for name, df in patient_dict.items():\n",
    "    print(f\"{name}:\")\n",
    "    print(df.head())  \n",
    "    print(\"\\n\")"
   ]
  },
  {
   "cell_type": "markdown",
   "id": "2c319d85-b59c-4559-97b1-8002b5478633",
   "metadata": {
    "tags": []
   },
   "source": [
    "***Checking Nulls***"
   ]
  },
  {
   "cell_type": "code",
   "execution_count": 9,
   "id": "0b70f16b-665d-4526-8176-258bdb8b56f6",
   "metadata": {
    "tags": []
   },
   "outputs": [
    {
     "name": "stdout",
     "output_type": "stream",
     "text": [
      "Null value counts for training_SyncAllergy:\n",
      "AllergyGuid            0\n",
      "PatientGuid            0\n",
      "AllergyType            0\n",
      "StartYear              0\n",
      "ReactionName           0\n",
      "SeverityName           0\n",
      "MedicationNDCCode    246\n",
      "MedicationName       272\n",
      "UserGuid               0\n",
      "dtype: int64\n",
      "\n",
      "\n",
      "Null value counts for training_SyncDiagnosis:\n",
      "DiagnosisGuid               0\n",
      "PatientGuid                 0\n",
      "ICD9Code                    0\n",
      "DiagnosisDescription        0\n",
      "StartYear                   0\n",
      "StopYear                90040\n",
      "Acute                       0\n",
      "UserGuid                    0\n",
      "dtype: int64\n",
      "\n",
      "\n",
      "Null value counts for training_SyncLabObservation:\n",
      "HL7Identifier          5397\n",
      "HL7Text                   0\n",
      "LabObservationGuid        0\n",
      "LabPanelGuid              0\n",
      "HL7CodingSystem           0\n",
      "ObservationValue       4692\n",
      "Units                     0\n",
      "ReferenceRange         1163\n",
      "AbnormalFlags         26797\n",
      "ResultStatus              0\n",
      "ObservationYear           0\n",
      "UserGuid                  0\n",
      "IsAbnormalValue           0\n",
      "dtype: int64\n",
      "\n",
      "\n",
      "Null value counts for training_SyncMedication:\n",
      "MedicationGuid            0\n",
      "PatientGuid               0\n",
      "NdcCode                   0\n",
      "MedicationName          138\n",
      "MedicationStrength      127\n",
      "Schedule              39393\n",
      "DiagnosisGuid             0\n",
      "UserGuid                  0\n",
      "dtype: int64\n",
      "\n",
      "\n",
      "Null value counts for training_SyncPatient:\n",
      "PatientGuid     3271\n",
      "DMIndicator     3271\n",
      "Gender          3271\n",
      "YearOfBirth     3271\n",
      "State           3271\n",
      "PracticeGuid    3271\n",
      "dtype: int64\n",
      "\n",
      "\n",
      "Null value counts for training_SyncPatient_orig:\n",
      "PatientGuid     3271\n",
      "DMIndicator     3271\n",
      "Gender          3271\n",
      "YearOfBirth     3271\n",
      "State           3271\n",
      "PracticeGuid    3271\n",
      "dtype: int64\n",
      "\n",
      "\n",
      "Null value counts for training_SyncPrescription:\n",
      "PrescriptionGuid       0\n",
      "PatientGuid            0\n",
      "MedicationGuid         0\n",
      "PrescriptionYear       0\n",
      "Quantity            2440\n",
      "NumberOfRefills     5820\n",
      "RefillAsNeeded         0\n",
      "GenericAllowed         0\n",
      "UserGuid               0\n",
      "dtype: int64\n",
      "\n",
      "\n",
      "Null value counts for training_SyncTranscript:\n",
      "TranscriptGuid             0\n",
      "PatientGuid                0\n",
      "VisitYear                  0\n",
      "Height                 70983\n",
      "Weight                     0\n",
      "BMI                        0\n",
      "SystolicBP             45451\n",
      "DiastolicBP            45451\n",
      "RespiratoryRate        79839\n",
      "HeartRate             131031\n",
      "Temperature            80997\n",
      "PhysicianSpecialty       181\n",
      "UserGuid                   0\n",
      "dtype: int64\n",
      "\n",
      "\n"
     ]
    }
   ],
   "source": [
    "for name, df in patient_dict.items():\n",
    "    null_ct = df.isnull().sum()\n",
    "    if null_ct.any():  \n",
    "        print(f\"Null value counts for {name}:\")\n",
    "        print(null_ct)\n",
    "        print(\"\\n\")"
   ]
  },
  {
   "cell_type": "markdown",
   "id": "09dc335b-3bc7-4843-8cf2-749667b1d6df",
   "metadata": {},
   "source": [
    "###### **Imputing Values for Nulls**"
   ]
  },
  {
   "cell_type": "code",
   "execution_count": 10,
   "id": "fac9ec0a-e765-42f9-9f39-d630ec3965bd",
   "metadata": {
    "tags": []
   },
   "outputs": [
    {
     "name": "stdout",
     "output_type": "stream",
     "text": [
      "Null value counts after imputation for SyncCondition:\n",
      "ConditionGuid    0\n",
      "Code             0\n",
      "Name             0\n",
      "dtype: int64\n",
      "\n",
      "\n",
      "Null value counts after imputation for SyncSmokingStatus:\n",
      "SmokingStatusGuid    0\n",
      "Description          0\n",
      "NISTcode             0\n",
      "dtype: int64\n",
      "\n",
      "\n",
      "Null value counts after imputation for test_SyncPatient:\n",
      "PatientGuid     0\n",
      "Gender          0\n",
      "YearOfBirth     0\n",
      "State           0\n",
      "PracticeGuid    0\n",
      "dtype: int64\n",
      "\n",
      "\n",
      "Null value counts after imputation for test_SyncPatientForecast:\n",
      "PatientGuid            0\n",
      "DMIndicatorForecast    0\n",
      "dtype: int64\n",
      "\n",
      "\n",
      "Null value counts after imputation for training_SyncAllergy:\n",
      "AllergyGuid          0\n",
      "PatientGuid          0\n",
      "AllergyType          0\n",
      "StartYear            0\n",
      "ReactionName         0\n",
      "SeverityName         0\n",
      "MedicationNDCCode    0\n",
      "MedicationName       0\n",
      "UserGuid             0\n",
      "dtype: int64\n",
      "\n",
      "\n",
      "Null value counts after imputation for training_SyncDiagnosis:\n",
      "DiagnosisGuid           0\n",
      "PatientGuid             0\n",
      "ICD9Code                0\n",
      "DiagnosisDescription    0\n",
      "StartYear               0\n",
      "StopYear                0\n",
      "Acute                   0\n",
      "UserGuid                0\n",
      "dtype: int64\n",
      "\n",
      "\n",
      "Null value counts after imputation for training_SyncImmunization:\n",
      "ImmunizationGuid    0\n",
      "PatientGuid         0\n",
      "VaccineName         0\n",
      "AdministeredYear    0\n",
      "CvxCode             0\n",
      "UserGuid            0\n",
      "dtype: int64\n",
      "\n",
      "\n",
      "Null value counts after imputation for training_SyncLabObservation:\n",
      "HL7Identifier         0\n",
      "HL7Text               0\n",
      "LabObservationGuid    0\n",
      "LabPanelGuid          0\n",
      "HL7CodingSystem       0\n",
      "ObservationValue      0\n",
      "Units                 0\n",
      "ReferenceRange        0\n",
      "AbnormalFlags         0\n",
      "ResultStatus          0\n",
      "ObservationYear       0\n",
      "UserGuid              0\n",
      "IsAbnormalValue       0\n",
      "dtype: int64\n",
      "\n",
      "\n",
      "Null value counts after imputation for training_SyncLabPanel:\n",
      "PanelName          0\n",
      "LabPanelGuid       0\n",
      "LabResultGuid      0\n",
      "ObservationYear    0\n",
      "Status             0\n",
      "dtype: int64\n",
      "\n",
      "\n",
      "Null value counts after imputation for training_SyncLabResult:\n",
      "LabResultGuid            0\n",
      "UserGuid                 0\n",
      "PatientGuid              0\n",
      "TranscriptGuid           0\n",
      "PracticeGuid             0\n",
      "FacilityGuid             0\n",
      "ReportYear               0\n",
      "AncestorLabResultGuid    0\n",
      "dtype: int64\n",
      "\n",
      "\n",
      "Null value counts after imputation for training_SyncMedication:\n",
      "MedicationGuid        0\n",
      "PatientGuid           0\n",
      "NdcCode               0\n",
      "MedicationName        0\n",
      "MedicationStrength    0\n",
      "Schedule              0\n",
      "DiagnosisGuid         0\n",
      "UserGuid              0\n",
      "dtype: int64\n",
      "\n",
      "\n",
      "Null value counts after imputation for training_SyncPatient:\n",
      "PatientGuid     0\n",
      "DMIndicator     0\n",
      "Gender          0\n",
      "YearOfBirth     0\n",
      "State           0\n",
      "PracticeGuid    0\n",
      "dtype: int64\n",
      "\n",
      "\n",
      "Null value counts after imputation for training_SyncPatientCondition:\n",
      "PatientConditionGuid    0\n",
      "PatientGuid             0\n",
      "ConditionGuid           0\n",
      "CreatedYear             0\n",
      "dtype: int64\n",
      "\n",
      "\n",
      "Null value counts after imputation for training_SyncPatientSmokingStatus:\n",
      "PatientSmokingStatusGuid    0\n",
      "PatientGuid                 0\n",
      "SmokingStatusGuid           0\n",
      "EffectiveYear               0\n",
      "dtype: int64\n",
      "\n",
      "\n",
      "Null value counts after imputation for training_SyncPatient_orig:\n",
      "PatientGuid     0\n",
      "DMIndicator     0\n",
      "Gender          0\n",
      "YearOfBirth     0\n",
      "State           0\n",
      "PracticeGuid    0\n",
      "dtype: int64\n",
      "\n",
      "\n",
      "Null value counts after imputation for training_SyncPrescription:\n",
      "PrescriptionGuid    0\n",
      "PatientGuid         0\n",
      "MedicationGuid      0\n",
      "PrescriptionYear    0\n",
      "Quantity            0\n",
      "NumberOfRefills     0\n",
      "RefillAsNeeded      0\n",
      "GenericAllowed      0\n",
      "UserGuid            0\n",
      "dtype: int64\n",
      "\n",
      "\n",
      "Null value counts after imputation for training_SyncTranscript:\n",
      "TranscriptGuid        0\n",
      "PatientGuid           0\n",
      "VisitYear             0\n",
      "Height                0\n",
      "Weight                0\n",
      "BMI                   0\n",
      "SystolicBP            0\n",
      "DiastolicBP           0\n",
      "RespiratoryRate       0\n",
      "HeartRate             0\n",
      "Temperature           0\n",
      "PhysicianSpecialty    0\n",
      "UserGuid              0\n",
      "dtype: int64\n",
      "\n",
      "\n",
      "Null value counts after imputation for training_SyncTranscriptAllergy:\n",
      "TranscriptAllergyGuid    0\n",
      "TranscriptGuid           0\n",
      "AllergyGuid              0\n",
      "dtype: int64\n",
      "\n",
      "\n",
      "Null value counts after imputation for training_SyncTranscriptDiagnosis:\n",
      "TranscriptDiagnosisGuid    0\n",
      "TranscriptGuid             0\n",
      "DiagnosisGuid              0\n",
      "dtype: int64\n",
      "\n",
      "\n",
      "Null value counts after imputation for training_SyncTranscriptMedication:\n",
      "TranscriptMedicationGuid    0\n",
      "TranscriptGuid              0\n",
      "MedicationGuid              0\n",
      "dtype: int64\n",
      "\n",
      "\n"
     ]
    }
   ],
   "source": [
    "for name, df in patient_dict.items():\n",
    "    df.fillna(0, inplace=True)\n",
    "    print(f\"Null value counts after imputation for {name}:\")\n",
    "    print(df.isnull().sum())\n",
    "    print(\"\\n\")"
   ]
  },
  {
   "cell_type": "markdown",
   "id": "df4537e4-8853-482a-8075-a2ae599551ae",
   "metadata": {},
   "source": [
    "***Checking Duplicates***"
   ]
  },
  {
   "cell_type": "code",
   "execution_count": 11,
   "id": "026557a8-3173-496c-9101-4ad3ffd3ae28",
   "metadata": {
    "tags": []
   },
   "outputs": [
    {
     "name": "stdout",
     "output_type": "stream",
     "text": [
      "No duplicate records in SyncCondition\n",
      "No duplicate records in SyncSmokingStatus\n",
      "No duplicate records in test_SyncPatient\n",
      "No duplicate records in test_SyncPatientForecast\n",
      "No duplicate records in training_SyncAllergy\n",
      "No duplicate records in training_SyncDiagnosis\n",
      "No duplicate records in training_SyncImmunization\n",
      "No duplicate records in training_SyncLabObservation\n",
      "No duplicate records in training_SyncLabPanel\n",
      "No duplicate records in training_SyncLabResult\n",
      "No duplicate records in training_SyncMedication\n",
      "Duplicate records found in training_SyncPatient: 3270 duplicates\n",
      "No duplicate records in training_SyncPatientCondition\n",
      "No duplicate records in training_SyncPatientSmokingStatus\n",
      "Duplicate records found in training_SyncPatient_orig: 3270 duplicates\n",
      "No duplicate records in training_SyncPrescription\n",
      "No duplicate records in training_SyncTranscript\n",
      "No duplicate records in training_SyncTranscriptAllergy\n",
      "No duplicate records in training_SyncTranscriptDiagnosis\n",
      "No duplicate records in training_SyncTranscriptMedication\n"
     ]
    }
   ],
   "source": [
    "for name, df in patient_dict.items():\n",
    "    duplicate_ct = df.duplicated().sum()\n",
    "    \n",
    "    if duplicate_ct > 0:\n",
    "        print(f\"Duplicate records found in {name}: {duplicate_ct} duplicates\")\n",
    "    else:\n",
    "        print(f\"No duplicate records in {name}\")"
   ]
  },
  {
   "cell_type": "markdown",
   "id": "267b56b0-f712-4f5d-a02d-ee0a6dd0fe77",
   "metadata": {},
   "source": [
    "#### SyncPatient"
   ]
  },
  {
   "cell_type": "code",
   "execution_count": 12,
   "id": "2118e115-90b7-49dd-94e5-431086975b5c",
   "metadata": {
    "tags": []
   },
   "outputs": [
    {
     "data": {
      "text/plain": [
       "Index(['PatientGuid', 'DMIndicator', 'Gender', 'YearOfBirth', 'State',\n",
       "       'PracticeGuid'],\n",
       "      dtype='object')"
      ]
     },
     "execution_count": 12,
     "metadata": {},
     "output_type": "execute_result"
    }
   ],
   "source": [
    "df_train_sp.columns"
   ]
  },
  {
   "cell_type": "code",
   "execution_count": 13,
   "id": "7c82d320-8cbe-4122-8fd4-e8cc5e50a507",
   "metadata": {
    "tags": []
   },
   "outputs": [],
   "source": [
    "df_train_sp_tot = df_train_sp.groupby(\"PatientGuid\").agg(\n",
    "    DMIndicator=(\"DMIndicator\", lambda x: x.mode().iloc[0] if not x.mode().empty else None), \n",
    "    Gender=(\"Gender\", lambda x: x.mode().iloc[0] if not x.mode().empty else None),\n",
    "    YearOfBirth=(\"YearOfBirth\", lambda x: x.mode().iloc[0] if not x.mode().empty else None), \n",
    "    State=(\"State\", lambda x: x.mode().iloc[0] if not x.mode().empty else None),\n",
    "    PracticeGuid=(\"PracticeGuid\", lambda x: x.mode().iloc[0] if not x.mode().empty else None),\n",
    ").reset_index()"
   ]
  },
  {
   "cell_type": "code",
   "execution_count": 14,
   "id": "463509e7-db5e-4954-96f5-98505457907d",
   "metadata": {
    "tags": []
   },
   "outputs": [
    {
     "data": {
      "text/plain": [
       "(6601, 6)"
      ]
     },
     "execution_count": 14,
     "metadata": {},
     "output_type": "execute_result"
    }
   ],
   "source": [
    "df_train_sp_tot.shape"
   ]
  },
  {
   "cell_type": "code",
   "execution_count": 15,
   "id": "9d4d60bd-aa2e-4888-b4e5-6d39167a030b",
   "metadata": {
    "tags": []
   },
   "outputs": [
    {
     "name": "stdout",
     "output_type": "stream",
     "text": [
      "0                                          0\n",
      "1       00023761-9D8D-445B-874C-2424CC7CF620\n",
      "2       0005D9BD-0247-4F02-B7EE-7C1B44825FA1\n",
      "3       00110ABC-DAB9-49E3-A1C8-88BBF8D58109\n",
      "4       002667F4-B9A3-4DE2-875F-8034DD637865\n",
      "                        ...                 \n",
      "6596    FFC9E47E-6971-4210-8370-3FB01BB1B47F\n",
      "6597    FFCCEB55-7FCA-4CCD-A035-9672674F2353\n",
      "6598    FFEF293B-6147-47F0-8F0B-76180C124205\n",
      "6599    FFF2B406-9C3F-4A8B-8B27-7179B7D7FBC6\n",
      "6600    FFF5C634-1CF7-40D5-BDF1-4FA2D62D9C63\n",
      "Name: PatientGuid, Length: 6601, dtype: object\n"
     ]
    }
   ],
   "source": [
    "print(df_train_sp_tot['PatientGuid'])"
   ]
  },
  {
   "cell_type": "code",
   "execution_count": 16,
   "id": "6a03026d-9b31-419b-8e2d-cee1af8172bc",
   "metadata": {
    "tags": []
   },
   "outputs": [],
   "source": [
    "df_train_sp_tot = df_train_sp_tot[df_train_sp_tot['PatientGuid'] != 0]"
   ]
  },
  {
   "cell_type": "code",
   "execution_count": 17,
   "id": "75111223-84b6-421e-a9ad-b005e72f478a",
   "metadata": {
    "tags": []
   },
   "outputs": [
    {
     "data": {
      "text/plain": [
       "(6600, 6)"
      ]
     },
     "execution_count": 17,
     "metadata": {},
     "output_type": "execute_result"
    }
   ],
   "source": [
    "df_train_sp_tot.shape"
   ]
  },
  {
   "cell_type": "code",
   "execution_count": 18,
   "id": "a9bc7581-0ccf-41d8-b2e9-26d4c63917c1",
   "metadata": {
    "tags": []
   },
   "outputs": [
    {
     "data": {
      "text/html": [
       "<div>\n",
       "<style scoped>\n",
       "    .dataframe tbody tr th:only-of-type {\n",
       "        vertical-align: middle;\n",
       "    }\n",
       "\n",
       "    .dataframe tbody tr th {\n",
       "        vertical-align: top;\n",
       "    }\n",
       "\n",
       "    .dataframe thead th {\n",
       "        text-align: right;\n",
       "    }\n",
       "</style>\n",
       "<table border=\"1\" class=\"dataframe\">\n",
       "  <thead>\n",
       "    <tr style=\"text-align: right;\">\n",
       "      <th></th>\n",
       "      <th>PatientGuid</th>\n",
       "      <th>DMIndicator</th>\n",
       "      <th>Gender</th>\n",
       "      <th>YearOfBirth</th>\n",
       "      <th>State</th>\n",
       "      <th>PracticeGuid</th>\n",
       "    </tr>\n",
       "  </thead>\n",
       "  <tbody>\n",
       "    <tr>\n",
       "      <th>1</th>\n",
       "      <td>00023761-9D8D-445B-874C-2424CC7CF620</td>\n",
       "      <td>0.0</td>\n",
       "      <td>M</td>\n",
       "      <td>1956.0</td>\n",
       "      <td>AZ</td>\n",
       "      <td>43150977-9080-41E0-B75D-B126248B11B9</td>\n",
       "    </tr>\n",
       "    <tr>\n",
       "      <th>2</th>\n",
       "      <td>0005D9BD-0247-4F02-B7EE-7C1B44825FA1</td>\n",
       "      <td>0.0</td>\n",
       "      <td>F</td>\n",
       "      <td>1952.0</td>\n",
       "      <td>MI</td>\n",
       "      <td>60CDC115-561D-40C7-98D3-7913BA2607A9</td>\n",
       "    </tr>\n",
       "    <tr>\n",
       "      <th>3</th>\n",
       "      <td>00110ABC-DAB9-49E3-A1C8-88BBF8D58109</td>\n",
       "      <td>0.0</td>\n",
       "      <td>M</td>\n",
       "      <td>1970.0</td>\n",
       "      <td>CA</td>\n",
       "      <td>6F6700B8-7D1F-4F1C-9B91-3474148B03A7</td>\n",
       "    </tr>\n",
       "    <tr>\n",
       "      <th>4</th>\n",
       "      <td>002667F4-B9A3-4DE2-875F-8034DD637865</td>\n",
       "      <td>0.0</td>\n",
       "      <td>F</td>\n",
       "      <td>1928.0</td>\n",
       "      <td>MD</td>\n",
       "      <td>A088B59F-EBE3-4325-97E0-79E2D83C6BC8</td>\n",
       "    </tr>\n",
       "    <tr>\n",
       "      <th>5</th>\n",
       "      <td>0029BBC8-7C22-4444-9F44-87BEF05FE033</td>\n",
       "      <td>0.0</td>\n",
       "      <td>F</td>\n",
       "      <td>1953.0</td>\n",
       "      <td>ID</td>\n",
       "      <td>390E34D8-8DE8-4790-9C33-FE918ABBD080</td>\n",
       "    </tr>\n",
       "  </tbody>\n",
       "</table>\n",
       "</div>"
      ],
      "text/plain": [
       "                            PatientGuid  DMIndicator Gender  YearOfBirth  \\\n",
       "1  00023761-9D8D-445B-874C-2424CC7CF620          0.0      M       1956.0   \n",
       "2  0005D9BD-0247-4F02-B7EE-7C1B44825FA1          0.0      F       1952.0   \n",
       "3  00110ABC-DAB9-49E3-A1C8-88BBF8D58109          0.0      M       1970.0   \n",
       "4  002667F4-B9A3-4DE2-875F-8034DD637865          0.0      F       1928.0   \n",
       "5  0029BBC8-7C22-4444-9F44-87BEF05FE033          0.0      F       1953.0   \n",
       "\n",
       "  State                          PracticeGuid  \n",
       "1    AZ  43150977-9080-41E0-B75D-B126248B11B9  \n",
       "2    MI  60CDC115-561D-40C7-98D3-7913BA2607A9  \n",
       "3    CA  6F6700B8-7D1F-4F1C-9B91-3474148B03A7  \n",
       "4    MD  A088B59F-EBE3-4325-97E0-79E2D83C6BC8  \n",
       "5    ID  390E34D8-8DE8-4790-9C33-FE918ABBD080  "
      ]
     },
     "execution_count": 18,
     "metadata": {},
     "output_type": "execute_result"
    }
   ],
   "source": [
    "df_train_sp_tot.head()"
   ]
  },
  {
   "cell_type": "code",
   "execution_count": 19,
   "id": "c5144da5-9e6e-466e-b9da-9ee650f08294",
   "metadata": {
    "tags": []
   },
   "outputs": [
    {
     "name": "stdout",
     "output_type": "stream",
     "text": [
      "0\n"
     ]
    }
   ],
   "source": [
    "duplicates = df_train_sp_tot.duplicated()\n",
    "print(duplicates.sum())"
   ]
  },
  {
   "cell_type": "markdown",
   "id": "7b8b7beb-61ba-4f4a-b054-bbc491f0f067",
   "metadata": {},
   "source": [
    "#### SyncPatient Origin"
   ]
  },
  {
   "cell_type": "code",
   "execution_count": 20,
   "id": "5c7e87c6-e8ae-44ca-b17c-44b8ad26d61d",
   "metadata": {
    "tags": []
   },
   "outputs": [
    {
     "data": {
      "text/plain": [
       "Index(['PatientGuid', 'DMIndicator', 'Gender', 'YearOfBirth', 'State',\n",
       "       'PracticeGuid'],\n",
       "      dtype='object')"
      ]
     },
     "execution_count": 20,
     "metadata": {},
     "output_type": "execute_result"
    }
   ],
   "source": [
    "df_train_spo.columns"
   ]
  },
  {
   "cell_type": "code",
   "execution_count": 21,
   "id": "912f4b11-be14-48fa-bb24-7ecf67625907",
   "metadata": {
    "tags": []
   },
   "outputs": [
    {
     "data": {
      "text/plain": [
       "(9871, 6)"
      ]
     },
     "execution_count": 21,
     "metadata": {},
     "output_type": "execute_result"
    }
   ],
   "source": [
    "df_train_spo.shape"
   ]
  },
  {
   "cell_type": "code",
   "execution_count": 22,
   "id": "d3f30e52-9570-4d97-8ffe-1f3990ee4066",
   "metadata": {
    "tags": []
   },
   "outputs": [],
   "source": [
    "df_train_spo_tot = df_train_spo.groupby(\"PatientGuid\").agg(\n",
    "    DMIndicator=(\"DMIndicator\", lambda x: x.mode().iloc[0] if not x.mode().empty else None), \n",
    "    Gender=(\"Gender\", lambda x: x.mode().iloc[0] if not x.mode().empty else None),\n",
    "    YearOfBirth=(\"YearOfBirth\", lambda x: x.mode().iloc[0] if not x.mode().empty else None), \n",
    "    State=(\"State\", lambda x: x.mode().iloc[0] if not x.mode().empty else None),\n",
    "    PracticeGuid=(\"PracticeGuid\", lambda x: x.mode().iloc[0] if not x.mode().empty else None),\n",
    ").reset_index()"
   ]
  },
  {
   "cell_type": "code",
   "execution_count": 23,
   "id": "4aba1099-1138-4103-b7e2-5842a1c71e13",
   "metadata": {
    "tags": []
   },
   "outputs": [
    {
     "data": {
      "text/plain": [
       "(6600, 6)"
      ]
     },
     "execution_count": 23,
     "metadata": {},
     "output_type": "execute_result"
    }
   ],
   "source": [
    "df_train_sp_tot=pd.merge(df_train_sp_tot,df_train_spo_tot,how='left')\n",
    "df_train_sp_tot.shape"
   ]
  },
  {
   "cell_type": "code",
   "execution_count": 24,
   "id": "21c72f59-b201-441a-8bda-e15d5b24424f",
   "metadata": {
    "tags": []
   },
   "outputs": [
    {
     "name": "stdout",
     "output_type": "stream",
     "text": [
      "['00023761-9D8D-445B-874C-2424CC7CF620'\n",
      " '0005D9BD-0247-4F02-B7EE-7C1B44825FA1'\n",
      " '00110ABC-DAB9-49E3-A1C8-88BBF8D58109' ...\n",
      " 'FFEF293B-6147-47F0-8F0B-76180C124205'\n",
      " 'FFF2B406-9C3F-4A8B-8B27-7179B7D7FBC6'\n",
      " 'FFF5C634-1CF7-40D5-BDF1-4FA2D62D9C63']\n"
     ]
    }
   ],
   "source": [
    "print(df_train_sp_tot['PatientGuid'].unique())"
   ]
  },
  {
   "cell_type": "markdown",
   "id": "306da9f5-236d-4f69-b497-70d71a19d36e",
   "metadata": {},
   "source": [
    "### Primary Keys"
   ]
  },
  {
   "cell_type": "code",
   "execution_count": 25,
   "id": "f90dbbfb-cae4-4bb4-b2cc-ce145da4d829",
   "metadata": {
    "tags": []
   },
   "outputs": [],
   "source": [
    "primary_keys = [\n",
    "    \"PatientGuid\", \"ConditionGuid\", \"TranscriptGuid\", \n",
    "    \"LabPanelGuid\", \"LabObservationGuid\", \"MedicationGuid\", \n",
    "    \"DiagnosisGuid\", \"SmokingStatusGuid\"\n",
    "]"
   ]
  },
  {
   "cell_type": "markdown",
   "id": "0cfa7e38-64df-45bf-a44d-4517b4e06424",
   "metadata": {},
   "source": [
    "***Reference Date***"
   ]
  },
  {
   "cell_type": "code",
   "execution_count": 26,
   "id": "36eaf963-d656-40d1-a8e5-93ed5254dc8b",
   "metadata": {
    "tags": []
   },
   "outputs": [],
   "source": [
    "reference_date = pd.to_datetime(\"2012-12-31\")"
   ]
  },
  {
   "cell_type": "markdown",
   "id": "f403ac26-e637-4398-98c0-670dc21d03a9",
   "metadata": {},
   "source": [
    "### Table Exploration"
   ]
  },
  {
   "cell_type": "markdown",
   "id": "e2e9d191-6c40-4877-b349-61585d774bbd",
   "metadata": {},
   "source": [
    "***Allergy***"
   ]
  },
  {
   "cell_type": "code",
   "execution_count": 27,
   "id": "d10c99bb-922b-4909-8f3a-fd57cfcdfe09",
   "metadata": {
    "tags": []
   },
   "outputs": [
    {
     "data": {
      "text/plain": [
       "Index(['AllergyGuid', 'PatientGuid', 'AllergyType', 'StartYear',\n",
       "       'ReactionName', 'SeverityName', 'MedicationNDCCode', 'MedicationName',\n",
       "       'UserGuid'],\n",
       "      dtype='object')"
      ]
     },
     "execution_count": 27,
     "metadata": {},
     "output_type": "execute_result"
    }
   ],
   "source": [
    "df_train_sa.columns"
   ]
  },
  {
   "cell_type": "code",
   "execution_count": 28,
   "id": "f78d4e0d-fc73-41a4-a168-8f2a0b1ae0ff",
   "metadata": {
    "tags": []
   },
   "outputs": [
    {
     "data": {
      "text/html": [
       "<div>\n",
       "<style scoped>\n",
       "    .dataframe tbody tr th:only-of-type {\n",
       "        vertical-align: middle;\n",
       "    }\n",
       "\n",
       "    .dataframe tbody tr th {\n",
       "        vertical-align: top;\n",
       "    }\n",
       "\n",
       "    .dataframe thead th {\n",
       "        text-align: right;\n",
       "    }\n",
       "</style>\n",
       "<table border=\"1\" class=\"dataframe\">\n",
       "  <thead>\n",
       "    <tr style=\"text-align: right;\">\n",
       "      <th></th>\n",
       "      <th>PatientGuid</th>\n",
       "      <th>MedicationNDCCode</th>\n",
       "      <th>MedicationName</th>\n",
       "      <th>AllergyGuid</th>\n",
       "      <th>AllergyType</th>\n",
       "    </tr>\n",
       "  </thead>\n",
       "  <tbody>\n",
       "    <tr>\n",
       "      <th>0</th>\n",
       "      <td>43CE4977-3EC1-48D5-8FCE-8F27BBDDFC1C</td>\n",
       "      <td>7.443429e+07</td>\n",
       "      <td>TriCor (fenofibrate) oral capsule</td>\n",
       "      <td>FFD9BE48-3AD6-40CB-A5CD-001CDCE49A26</td>\n",
       "      <td>Medication</td>\n",
       "    </tr>\n",
       "    <tr>\n",
       "      <th>1</th>\n",
       "      <td>622830A1-BA4A-4272-B38B-4C6A9D6F973D</td>\n",
       "      <td>1.780085e+08</td>\n",
       "      <td>Ferrous Fumarate oral tablet</td>\n",
       "      <td>5C0F88CB-1B5A-4EA7-8921-00D777F82918</td>\n",
       "      <td>Medication</td>\n",
       "    </tr>\n",
       "    <tr>\n",
       "      <th>2</th>\n",
       "      <td>44BFA67A-9E8E-4447-BFCC-17FF76ADFE21</td>\n",
       "      <td>6.811503e+10</td>\n",
       "      <td>Norflex (orphenadrine) oral tablet, extended r...</td>\n",
       "      <td>D536315B-A551-4CA5-A505-00E553EFCD4D</td>\n",
       "      <td>Medication</td>\n",
       "    </tr>\n",
       "    <tr>\n",
       "      <th>3</th>\n",
       "      <td>74F39AC1-16C5-4A9C-BF59-67513C342070</td>\n",
       "      <td>4.562005e+08</td>\n",
       "      <td>Lexapro (escitalopram) oral tablet</td>\n",
       "      <td>C0A19E94-FEC2-45C6-9D46-00EBD8F2226C</td>\n",
       "      <td>Medication</td>\n",
       "    </tr>\n",
       "    <tr>\n",
       "      <th>4</th>\n",
       "      <td>DCFBC6A1-2EBD-41C8-8B17-64D3EC20C082</td>\n",
       "      <td>5.801601e+10</td>\n",
       "      <td>Vicodin (acetaminophen-HYDROcodone) oral tablet</td>\n",
       "      <td>D7779B6B-2FFF-4A87-8F74-00F000127A8E</td>\n",
       "      <td>Medication</td>\n",
       "    </tr>\n",
       "  </tbody>\n",
       "</table>\n",
       "</div>"
      ],
      "text/plain": [
       "                            PatientGuid  MedicationNDCCode  \\\n",
       "0  43CE4977-3EC1-48D5-8FCE-8F27BBDDFC1C       7.443429e+07   \n",
       "1  622830A1-BA4A-4272-B38B-4C6A9D6F973D       1.780085e+08   \n",
       "2  44BFA67A-9E8E-4447-BFCC-17FF76ADFE21       6.811503e+10   \n",
       "3  74F39AC1-16C5-4A9C-BF59-67513C342070       4.562005e+08   \n",
       "4  DCFBC6A1-2EBD-41C8-8B17-64D3EC20C082       5.801601e+10   \n",
       "\n",
       "                                      MedicationName  \\\n",
       "0                  TriCor (fenofibrate) oral capsule   \n",
       "1                       Ferrous Fumarate oral tablet   \n",
       "2  Norflex (orphenadrine) oral tablet, extended r...   \n",
       "3                 Lexapro (escitalopram) oral tablet   \n",
       "4    Vicodin (acetaminophen-HYDROcodone) oral tablet   \n",
       "\n",
       "                            AllergyGuid AllergyType  \n",
       "0  FFD9BE48-3AD6-40CB-A5CD-001CDCE49A26  Medication  \n",
       "1  5C0F88CB-1B5A-4EA7-8921-00D777F82918  Medication  \n",
       "2  D536315B-A551-4CA5-A505-00E553EFCD4D  Medication  \n",
       "3  C0A19E94-FEC2-45C6-9D46-00EBD8F2226C  Medication  \n",
       "4  D7779B6B-2FFF-4A87-8F74-00F000127A8E  Medication  "
      ]
     },
     "execution_count": 28,
     "metadata": {},
     "output_type": "execute_result"
    }
   ],
   "source": [
    "keep_columns_sa = [\n",
    "    'PatientGuid',         # Patient identifier\n",
    "    'MedicationNDCCode',   # Medication identifier (T2D comorbidities)\n",
    "    'MedicationName',      # Name of the medication (T2D comorbidities)\n",
    "    'AllergyGuid',         # Allergy identifier \n",
    "    'AllergyType',         # Type of allergy (could be related to inflammation affecting T2D)\n",
    "]\n",
    "\n",
    "df_allergy_new = df_train_sa[keep_columns_sa]\n",
    "df_allergy_new.head()"
   ]
  },
  {
   "cell_type": "code",
   "execution_count": 29,
   "id": "35483625-1f27-4f7a-917a-531b13d22fcf",
   "metadata": {
    "tags": []
   },
   "outputs": [
    {
     "name": "stderr",
     "output_type": "stream",
     "text": [
      "C:\\Users\\svkar\\AppData\\Local\\Temp\\ipykernel_824\\4278961325.py:2: UserWarning: Unable to sort modes: '<' not supported between instances of 'int' and 'str'\n",
      "  MostCommonMedication=(\"MedicationName\", lambda x: x.mode().iloc[0] if not x.mode().empty else None),\n",
      "C:\\Users\\svkar\\AppData\\Local\\Temp\\ipykernel_824\\4278961325.py:2: UserWarning: Unable to sort modes: '<' not supported between instances of 'int' and 'str'\n",
      "  MostCommonMedication=(\"MedicationName\", lambda x: x.mode().iloc[0] if not x.mode().empty else None),\n",
      "C:\\Users\\svkar\\AppData\\Local\\Temp\\ipykernel_824\\4278961325.py:2: UserWarning: Unable to sort modes: '<' not supported between instances of 'str' and 'int'\n",
      "  MostCommonMedication=(\"MedicationName\", lambda x: x.mode().iloc[0] if not x.mode().empty else None),\n",
      "C:\\Users\\svkar\\AppData\\Local\\Temp\\ipykernel_824\\4278961325.py:2: UserWarning: Unable to sort modes: '<' not supported between instances of 'str' and 'int'\n",
      "  MostCommonMedication=(\"MedicationName\", lambda x: x.mode().iloc[0] if not x.mode().empty else None),\n",
      "C:\\Users\\svkar\\AppData\\Local\\Temp\\ipykernel_824\\4278961325.py:2: UserWarning: Unable to sort modes: '<' not supported between instances of 'int' and 'str'\n",
      "  MostCommonMedication=(\"MedicationName\", lambda x: x.mode().iloc[0] if not x.mode().empty else None),\n",
      "C:\\Users\\svkar\\AppData\\Local\\Temp\\ipykernel_824\\4278961325.py:2: UserWarning: Unable to sort modes: '<' not supported between instances of 'int' and 'str'\n",
      "  MostCommonMedication=(\"MedicationName\", lambda x: x.mode().iloc[0] if not x.mode().empty else None),\n",
      "C:\\Users\\svkar\\AppData\\Local\\Temp\\ipykernel_824\\4278961325.py:2: UserWarning: Unable to sort modes: '<' not supported between instances of 'int' and 'str'\n",
      "  MostCommonMedication=(\"MedicationName\", lambda x: x.mode().iloc[0] if not x.mode().empty else None),\n",
      "C:\\Users\\svkar\\AppData\\Local\\Temp\\ipykernel_824\\4278961325.py:2: UserWarning: Unable to sort modes: '<' not supported between instances of 'int' and 'str'\n",
      "  MostCommonMedication=(\"MedicationName\", lambda x: x.mode().iloc[0] if not x.mode().empty else None),\n",
      "C:\\Users\\svkar\\AppData\\Local\\Temp\\ipykernel_824\\4278961325.py:2: UserWarning: Unable to sort modes: '<' not supported between instances of 'int' and 'str'\n",
      "  MostCommonMedication=(\"MedicationName\", lambda x: x.mode().iloc[0] if not x.mode().empty else None),\n",
      "C:\\Users\\svkar\\AppData\\Local\\Temp\\ipykernel_824\\4278961325.py:2: UserWarning: Unable to sort modes: '<' not supported between instances of 'int' and 'str'\n",
      "  MostCommonMedication=(\"MedicationName\", lambda x: x.mode().iloc[0] if not x.mode().empty else None),\n",
      "C:\\Users\\svkar\\AppData\\Local\\Temp\\ipykernel_824\\4278961325.py:2: UserWarning: Unable to sort modes: '<' not supported between instances of 'str' and 'int'\n",
      "  MostCommonMedication=(\"MedicationName\", lambda x: x.mode().iloc[0] if not x.mode().empty else None),\n",
      "C:\\Users\\svkar\\AppData\\Local\\Temp\\ipykernel_824\\4278961325.py:2: UserWarning: Unable to sort modes: '<' not supported between instances of 'str' and 'int'\n",
      "  MostCommonMedication=(\"MedicationName\", lambda x: x.mode().iloc[0] if not x.mode().empty else None),\n",
      "C:\\Users\\svkar\\AppData\\Local\\Temp\\ipykernel_824\\4278961325.py:2: UserWarning: Unable to sort modes: '<' not supported between instances of 'str' and 'int'\n",
      "  MostCommonMedication=(\"MedicationName\", lambda x: x.mode().iloc[0] if not x.mode().empty else None),\n",
      "C:\\Users\\svkar\\AppData\\Local\\Temp\\ipykernel_824\\4278961325.py:2: UserWarning: Unable to sort modes: '<' not supported between instances of 'str' and 'int'\n",
      "  MostCommonMedication=(\"MedicationName\", lambda x: x.mode().iloc[0] if not x.mode().empty else None),\n",
      "C:\\Users\\svkar\\AppData\\Local\\Temp\\ipykernel_824\\4278961325.py:2: UserWarning: Unable to sort modes: '<' not supported between instances of 'int' and 'str'\n",
      "  MostCommonMedication=(\"MedicationName\", lambda x: x.mode().iloc[0] if not x.mode().empty else None),\n",
      "C:\\Users\\svkar\\AppData\\Local\\Temp\\ipykernel_824\\4278961325.py:2: UserWarning: Unable to sort modes: '<' not supported between instances of 'int' and 'str'\n",
      "  MostCommonMedication=(\"MedicationName\", lambda x: x.mode().iloc[0] if not x.mode().empty else None),\n",
      "C:\\Users\\svkar\\AppData\\Local\\Temp\\ipykernel_824\\4278961325.py:2: UserWarning: Unable to sort modes: '<' not supported between instances of 'str' and 'int'\n",
      "  MostCommonMedication=(\"MedicationName\", lambda x: x.mode().iloc[0] if not x.mode().empty else None),\n",
      "C:\\Users\\svkar\\AppData\\Local\\Temp\\ipykernel_824\\4278961325.py:2: UserWarning: Unable to sort modes: '<' not supported between instances of 'str' and 'int'\n",
      "  MostCommonMedication=(\"MedicationName\", lambda x: x.mode().iloc[0] if not x.mode().empty else None),\n",
      "C:\\Users\\svkar\\AppData\\Local\\Temp\\ipykernel_824\\4278961325.py:2: UserWarning: Unable to sort modes: '<' not supported between instances of 'int' and 'str'\n",
      "  MostCommonMedication=(\"MedicationName\", lambda x: x.mode().iloc[0] if not x.mode().empty else None),\n",
      "C:\\Users\\svkar\\AppData\\Local\\Temp\\ipykernel_824\\4278961325.py:2: UserWarning: Unable to sort modes: '<' not supported between instances of 'int' and 'str'\n",
      "  MostCommonMedication=(\"MedicationName\", lambda x: x.mode().iloc[0] if not x.mode().empty else None),\n",
      "C:\\Users\\svkar\\AppData\\Local\\Temp\\ipykernel_824\\4278961325.py:2: UserWarning: Unable to sort modes: '<' not supported between instances of 'str' and 'int'\n",
      "  MostCommonMedication=(\"MedicationName\", lambda x: x.mode().iloc[0] if not x.mode().empty else None),\n",
      "C:\\Users\\svkar\\AppData\\Local\\Temp\\ipykernel_824\\4278961325.py:2: UserWarning: Unable to sort modes: '<' not supported between instances of 'str' and 'int'\n",
      "  MostCommonMedication=(\"MedicationName\", lambda x: x.mode().iloc[0] if not x.mode().empty else None),\n",
      "C:\\Users\\svkar\\AppData\\Local\\Temp\\ipykernel_824\\4278961325.py:2: UserWarning: Unable to sort modes: '<' not supported between instances of 'int' and 'str'\n",
      "  MostCommonMedication=(\"MedicationName\", lambda x: x.mode().iloc[0] if not x.mode().empty else None),\n",
      "C:\\Users\\svkar\\AppData\\Local\\Temp\\ipykernel_824\\4278961325.py:2: UserWarning: Unable to sort modes: '<' not supported between instances of 'int' and 'str'\n",
      "  MostCommonMedication=(\"MedicationName\", lambda x: x.mode().iloc[0] if not x.mode().empty else None),\n",
      "C:\\Users\\svkar\\AppData\\Local\\Temp\\ipykernel_824\\4278961325.py:2: UserWarning: Unable to sort modes: '<' not supported between instances of 'int' and 'str'\n",
      "  MostCommonMedication=(\"MedicationName\", lambda x: x.mode().iloc[0] if not x.mode().empty else None),\n",
      "C:\\Users\\svkar\\AppData\\Local\\Temp\\ipykernel_824\\4278961325.py:2: UserWarning: Unable to sort modes: '<' not supported between instances of 'int' and 'str'\n",
      "  MostCommonMedication=(\"MedicationName\", lambda x: x.mode().iloc[0] if not x.mode().empty else None),\n",
      "C:\\Users\\svkar\\AppData\\Local\\Temp\\ipykernel_824\\4278961325.py:2: UserWarning: Unable to sort modes: '<' not supported between instances of 'str' and 'int'\n",
      "  MostCommonMedication=(\"MedicationName\", lambda x: x.mode().iloc[0] if not x.mode().empty else None),\n",
      "C:\\Users\\svkar\\AppData\\Local\\Temp\\ipykernel_824\\4278961325.py:2: UserWarning: Unable to sort modes: '<' not supported between instances of 'str' and 'int'\n",
      "  MostCommonMedication=(\"MedicationName\", lambda x: x.mode().iloc[0] if not x.mode().empty else None),\n",
      "C:\\Users\\svkar\\AppData\\Local\\Temp\\ipykernel_824\\4278961325.py:2: UserWarning: Unable to sort modes: '<' not supported between instances of 'str' and 'int'\n",
      "  MostCommonMedication=(\"MedicationName\", lambda x: x.mode().iloc[0] if not x.mode().empty else None),\n",
      "C:\\Users\\svkar\\AppData\\Local\\Temp\\ipykernel_824\\4278961325.py:2: UserWarning: Unable to sort modes: '<' not supported between instances of 'str' and 'int'\n",
      "  MostCommonMedication=(\"MedicationName\", lambda x: x.mode().iloc[0] if not x.mode().empty else None),\n",
      "C:\\Users\\svkar\\AppData\\Local\\Temp\\ipykernel_824\\4278961325.py:2: UserWarning: Unable to sort modes: '<' not supported between instances of 'str' and 'int'\n",
      "  MostCommonMedication=(\"MedicationName\", lambda x: x.mode().iloc[0] if not x.mode().empty else None),\n",
      "C:\\Users\\svkar\\AppData\\Local\\Temp\\ipykernel_824\\4278961325.py:2: UserWarning: Unable to sort modes: '<' not supported between instances of 'str' and 'int'\n",
      "  MostCommonMedication=(\"MedicationName\", lambda x: x.mode().iloc[0] if not x.mode().empty else None),\n",
      "C:\\Users\\svkar\\AppData\\Local\\Temp\\ipykernel_824\\4278961325.py:2: UserWarning: Unable to sort modes: '<' not supported between instances of 'int' and 'str'\n",
      "  MostCommonMedication=(\"MedicationName\", lambda x: x.mode().iloc[0] if not x.mode().empty else None),\n",
      "C:\\Users\\svkar\\AppData\\Local\\Temp\\ipykernel_824\\4278961325.py:2: UserWarning: Unable to sort modes: '<' not supported between instances of 'int' and 'str'\n",
      "  MostCommonMedication=(\"MedicationName\", lambda x: x.mode().iloc[0] if not x.mode().empty else None),\n",
      "C:\\Users\\svkar\\AppData\\Local\\Temp\\ipykernel_824\\4278961325.py:2: UserWarning: Unable to sort modes: '<' not supported between instances of 'str' and 'int'\n",
      "  MostCommonMedication=(\"MedicationName\", lambda x: x.mode().iloc[0] if not x.mode().empty else None),\n",
      "C:\\Users\\svkar\\AppData\\Local\\Temp\\ipykernel_824\\4278961325.py:2: UserWarning: Unable to sort modes: '<' not supported between instances of 'str' and 'int'\n",
      "  MostCommonMedication=(\"MedicationName\", lambda x: x.mode().iloc[0] if not x.mode().empty else None),\n",
      "C:\\Users\\svkar\\AppData\\Local\\Temp\\ipykernel_824\\4278961325.py:2: UserWarning: Unable to sort modes: '<' not supported between instances of 'int' and 'str'\n",
      "  MostCommonMedication=(\"MedicationName\", lambda x: x.mode().iloc[0] if not x.mode().empty else None),\n",
      "C:\\Users\\svkar\\AppData\\Local\\Temp\\ipykernel_824\\4278961325.py:2: UserWarning: Unable to sort modes: '<' not supported between instances of 'int' and 'str'\n",
      "  MostCommonMedication=(\"MedicationName\", lambda x: x.mode().iloc[0] if not x.mode().empty else None),\n",
      "C:\\Users\\svkar\\AppData\\Local\\Temp\\ipykernel_824\\4278961325.py:2: UserWarning: Unable to sort modes: '<' not supported between instances of 'int' and 'str'\n",
      "  MostCommonMedication=(\"MedicationName\", lambda x: x.mode().iloc[0] if not x.mode().empty else None),\n",
      "C:\\Users\\svkar\\AppData\\Local\\Temp\\ipykernel_824\\4278961325.py:2: UserWarning: Unable to sort modes: '<' not supported between instances of 'int' and 'str'\n",
      "  MostCommonMedication=(\"MedicationName\", lambda x: x.mode().iloc[0] if not x.mode().empty else None),\n",
      "C:\\Users\\svkar\\AppData\\Local\\Temp\\ipykernel_824\\4278961325.py:2: UserWarning: Unable to sort modes: '<' not supported between instances of 'int' and 'str'\n",
      "  MostCommonMedication=(\"MedicationName\", lambda x: x.mode().iloc[0] if not x.mode().empty else None),\n",
      "C:\\Users\\svkar\\AppData\\Local\\Temp\\ipykernel_824\\4278961325.py:2: UserWarning: Unable to sort modes: '<' not supported between instances of 'int' and 'str'\n",
      "  MostCommonMedication=(\"MedicationName\", lambda x: x.mode().iloc[0] if not x.mode().empty else None),\n",
      "C:\\Users\\svkar\\AppData\\Local\\Temp\\ipykernel_824\\4278961325.py:2: UserWarning: Unable to sort modes: '<' not supported between instances of 'str' and 'int'\n",
      "  MostCommonMedication=(\"MedicationName\", lambda x: x.mode().iloc[0] if not x.mode().empty else None),\n",
      "C:\\Users\\svkar\\AppData\\Local\\Temp\\ipykernel_824\\4278961325.py:2: UserWarning: Unable to sort modes: '<' not supported between instances of 'str' and 'int'\n",
      "  MostCommonMedication=(\"MedicationName\", lambda x: x.mode().iloc[0] if not x.mode().empty else None),\n",
      "C:\\Users\\svkar\\AppData\\Local\\Temp\\ipykernel_824\\4278961325.py:2: UserWarning: Unable to sort modes: '<' not supported between instances of 'str' and 'int'\n",
      "  MostCommonMedication=(\"MedicationName\", lambda x: x.mode().iloc[0] if not x.mode().empty else None),\n",
      "C:\\Users\\svkar\\AppData\\Local\\Temp\\ipykernel_824\\4278961325.py:2: UserWarning: Unable to sort modes: '<' not supported between instances of 'str' and 'int'\n",
      "  MostCommonMedication=(\"MedicationName\", lambda x: x.mode().iloc[0] if not x.mode().empty else None),\n",
      "C:\\Users\\svkar\\AppData\\Local\\Temp\\ipykernel_824\\4278961325.py:2: UserWarning: Unable to sort modes: '<' not supported between instances of 'int' and 'str'\n",
      "  MostCommonMedication=(\"MedicationName\", lambda x: x.mode().iloc[0] if not x.mode().empty else None),\n",
      "C:\\Users\\svkar\\AppData\\Local\\Temp\\ipykernel_824\\4278961325.py:2: UserWarning: Unable to sort modes: '<' not supported between instances of 'int' and 'str'\n",
      "  MostCommonMedication=(\"MedicationName\", lambda x: x.mode().iloc[0] if not x.mode().empty else None),\n",
      "C:\\Users\\svkar\\AppData\\Local\\Temp\\ipykernel_824\\4278961325.py:2: UserWarning: Unable to sort modes: '<' not supported between instances of 'int' and 'str'\n",
      "  MostCommonMedication=(\"MedicationName\", lambda x: x.mode().iloc[0] if not x.mode().empty else None),\n",
      "C:\\Users\\svkar\\AppData\\Local\\Temp\\ipykernel_824\\4278961325.py:2: UserWarning: Unable to sort modes: '<' not supported between instances of 'int' and 'str'\n",
      "  MostCommonMedication=(\"MedicationName\", lambda x: x.mode().iloc[0] if not x.mode().empty else None),\n",
      "C:\\Users\\svkar\\AppData\\Local\\Temp\\ipykernel_824\\4278961325.py:2: UserWarning: Unable to sort modes: '<' not supported between instances of 'str' and 'int'\n",
      "  MostCommonMedication=(\"MedicationName\", lambda x: x.mode().iloc[0] if not x.mode().empty else None),\n",
      "C:\\Users\\svkar\\AppData\\Local\\Temp\\ipykernel_824\\4278961325.py:2: UserWarning: Unable to sort modes: '<' not supported between instances of 'str' and 'int'\n",
      "  MostCommonMedication=(\"MedicationName\", lambda x: x.mode().iloc[0] if not x.mode().empty else None),\n",
      "C:\\Users\\svkar\\AppData\\Local\\Temp\\ipykernel_824\\4278961325.py:2: UserWarning: Unable to sort modes: '<' not supported between instances of 'int' and 'str'\n",
      "  MostCommonMedication=(\"MedicationName\", lambda x: x.mode().iloc[0] if not x.mode().empty else None),\n",
      "C:\\Users\\svkar\\AppData\\Local\\Temp\\ipykernel_824\\4278961325.py:2: UserWarning: Unable to sort modes: '<' not supported between instances of 'int' and 'str'\n",
      "  MostCommonMedication=(\"MedicationName\", lambda x: x.mode().iloc[0] if not x.mode().empty else None),\n",
      "C:\\Users\\svkar\\AppData\\Local\\Temp\\ipykernel_824\\4278961325.py:2: UserWarning: Unable to sort modes: '<' not supported between instances of 'int' and 'str'\n",
      "  MostCommonMedication=(\"MedicationName\", lambda x: x.mode().iloc[0] if not x.mode().empty else None),\n",
      "C:\\Users\\svkar\\AppData\\Local\\Temp\\ipykernel_824\\4278961325.py:2: UserWarning: Unable to sort modes: '<' not supported between instances of 'int' and 'str'\n",
      "  MostCommonMedication=(\"MedicationName\", lambda x: x.mode().iloc[0] if not x.mode().empty else None),\n",
      "C:\\Users\\svkar\\AppData\\Local\\Temp\\ipykernel_824\\4278961325.py:2: UserWarning: Unable to sort modes: '<' not supported between instances of 'str' and 'int'\n",
      "  MostCommonMedication=(\"MedicationName\", lambda x: x.mode().iloc[0] if not x.mode().empty else None),\n",
      "C:\\Users\\svkar\\AppData\\Local\\Temp\\ipykernel_824\\4278961325.py:2: UserWarning: Unable to sort modes: '<' not supported between instances of 'str' and 'int'\n",
      "  MostCommonMedication=(\"MedicationName\", lambda x: x.mode().iloc[0] if not x.mode().empty else None),\n",
      "C:\\Users\\svkar\\AppData\\Local\\Temp\\ipykernel_824\\4278961325.py:2: UserWarning: Unable to sort modes: '<' not supported between instances of 'int' and 'str'\n",
      "  MostCommonMedication=(\"MedicationName\", lambda x: x.mode().iloc[0] if not x.mode().empty else None),\n",
      "C:\\Users\\svkar\\AppData\\Local\\Temp\\ipykernel_824\\4278961325.py:2: UserWarning: Unable to sort modes: '<' not supported between instances of 'int' and 'str'\n",
      "  MostCommonMedication=(\"MedicationName\", lambda x: x.mode().iloc[0] if not x.mode().empty else None),\n",
      "C:\\Users\\svkar\\AppData\\Local\\Temp\\ipykernel_824\\4278961325.py:2: UserWarning: Unable to sort modes: '<' not supported between instances of 'int' and 'str'\n",
      "  MostCommonMedication=(\"MedicationName\", lambda x: x.mode().iloc[0] if not x.mode().empty else None),\n",
      "C:\\Users\\svkar\\AppData\\Local\\Temp\\ipykernel_824\\4278961325.py:2: UserWarning: Unable to sort modes: '<' not supported between instances of 'int' and 'str'\n",
      "  MostCommonMedication=(\"MedicationName\", lambda x: x.mode().iloc[0] if not x.mode().empty else None),\n",
      "C:\\Users\\svkar\\AppData\\Local\\Temp\\ipykernel_824\\4278961325.py:2: UserWarning: Unable to sort modes: '<' not supported between instances of 'str' and 'int'\n",
      "  MostCommonMedication=(\"MedicationName\", lambda x: x.mode().iloc[0] if not x.mode().empty else None),\n",
      "C:\\Users\\svkar\\AppData\\Local\\Temp\\ipykernel_824\\4278961325.py:2: UserWarning: Unable to sort modes: '<' not supported between instances of 'str' and 'int'\n",
      "  MostCommonMedication=(\"MedicationName\", lambda x: x.mode().iloc[0] if not x.mode().empty else None),\n",
      "C:\\Users\\svkar\\AppData\\Local\\Temp\\ipykernel_824\\4278961325.py:2: UserWarning: Unable to sort modes: '<' not supported between instances of 'int' and 'str'\n",
      "  MostCommonMedication=(\"MedicationName\", lambda x: x.mode().iloc[0] if not x.mode().empty else None),\n",
      "C:\\Users\\svkar\\AppData\\Local\\Temp\\ipykernel_824\\4278961325.py:2: UserWarning: Unable to sort modes: '<' not supported between instances of 'int' and 'str'\n",
      "  MostCommonMedication=(\"MedicationName\", lambda x: x.mode().iloc[0] if not x.mode().empty else None),\n",
      "C:\\Users\\svkar\\AppData\\Local\\Temp\\ipykernel_824\\4278961325.py:2: UserWarning: Unable to sort modes: '<' not supported between instances of 'int' and 'str'\n",
      "  MostCommonMedication=(\"MedicationName\", lambda x: x.mode().iloc[0] if not x.mode().empty else None),\n",
      "C:\\Users\\svkar\\AppData\\Local\\Temp\\ipykernel_824\\4278961325.py:2: UserWarning: Unable to sort modes: '<' not supported between instances of 'int' and 'str'\n",
      "  MostCommonMedication=(\"MedicationName\", lambda x: x.mode().iloc[0] if not x.mode().empty else None),\n",
      "C:\\Users\\svkar\\AppData\\Local\\Temp\\ipykernel_824\\4278961325.py:2: UserWarning: Unable to sort modes: '<' not supported between instances of 'str' and 'int'\n",
      "  MostCommonMedication=(\"MedicationName\", lambda x: x.mode().iloc[0] if not x.mode().empty else None),\n",
      "C:\\Users\\svkar\\AppData\\Local\\Temp\\ipykernel_824\\4278961325.py:2: UserWarning: Unable to sort modes: '<' not supported between instances of 'str' and 'int'\n",
      "  MostCommonMedication=(\"MedicationName\", lambda x: x.mode().iloc[0] if not x.mode().empty else None),\n",
      "C:\\Users\\svkar\\AppData\\Local\\Temp\\ipykernel_824\\4278961325.py:2: UserWarning: Unable to sort modes: '<' not supported between instances of 'int' and 'str'\n",
      "  MostCommonMedication=(\"MedicationName\", lambda x: x.mode().iloc[0] if not x.mode().empty else None),\n",
      "C:\\Users\\svkar\\AppData\\Local\\Temp\\ipykernel_824\\4278961325.py:2: UserWarning: Unable to sort modes: '<' not supported between instances of 'int' and 'str'\n",
      "  MostCommonMedication=(\"MedicationName\", lambda x: x.mode().iloc[0] if not x.mode().empty else None),\n",
      "C:\\Users\\svkar\\AppData\\Local\\Temp\\ipykernel_824\\4278961325.py:2: UserWarning: Unable to sort modes: '<' not supported between instances of 'str' and 'int'\n",
      "  MostCommonMedication=(\"MedicationName\", lambda x: x.mode().iloc[0] if not x.mode().empty else None),\n",
      "C:\\Users\\svkar\\AppData\\Local\\Temp\\ipykernel_824\\4278961325.py:2: UserWarning: Unable to sort modes: '<' not supported between instances of 'str' and 'int'\n",
      "  MostCommonMedication=(\"MedicationName\", lambda x: x.mode().iloc[0] if not x.mode().empty else None),\n",
      "C:\\Users\\svkar\\AppData\\Local\\Temp\\ipykernel_824\\4278961325.py:2: UserWarning: Unable to sort modes: '<' not supported between instances of 'str' and 'int'\n",
      "  MostCommonMedication=(\"MedicationName\", lambda x: x.mode().iloc[0] if not x.mode().empty else None),\n",
      "C:\\Users\\svkar\\AppData\\Local\\Temp\\ipykernel_824\\4278961325.py:2: UserWarning: Unable to sort modes: '<' not supported between instances of 'str' and 'int'\n",
      "  MostCommonMedication=(\"MedicationName\", lambda x: x.mode().iloc[0] if not x.mode().empty else None),\n",
      "C:\\Users\\svkar\\AppData\\Local\\Temp\\ipykernel_824\\4278961325.py:2: UserWarning: Unable to sort modes: '<' not supported between instances of 'int' and 'str'\n",
      "  MostCommonMedication=(\"MedicationName\", lambda x: x.mode().iloc[0] if not x.mode().empty else None),\n",
      "C:\\Users\\svkar\\AppData\\Local\\Temp\\ipykernel_824\\4278961325.py:2: UserWarning: Unable to sort modes: '<' not supported between instances of 'int' and 'str'\n",
      "  MostCommonMedication=(\"MedicationName\", lambda x: x.mode().iloc[0] if not x.mode().empty else None),\n",
      "C:\\Users\\svkar\\AppData\\Local\\Temp\\ipykernel_824\\4278961325.py:2: UserWarning: Unable to sort modes: '<' not supported between instances of 'int' and 'str'\n",
      "  MostCommonMedication=(\"MedicationName\", lambda x: x.mode().iloc[0] if not x.mode().empty else None),\n",
      "C:\\Users\\svkar\\AppData\\Local\\Temp\\ipykernel_824\\4278961325.py:2: UserWarning: Unable to sort modes: '<' not supported between instances of 'int' and 'str'\n",
      "  MostCommonMedication=(\"MedicationName\", lambda x: x.mode().iloc[0] if not x.mode().empty else None),\n",
      "C:\\Users\\svkar\\AppData\\Local\\Temp\\ipykernel_824\\4278961325.py:2: UserWarning: Unable to sort modes: '<' not supported between instances of 'str' and 'int'\n",
      "  MostCommonMedication=(\"MedicationName\", lambda x: x.mode().iloc[0] if not x.mode().empty else None),\n",
      "C:\\Users\\svkar\\AppData\\Local\\Temp\\ipykernel_824\\4278961325.py:2: UserWarning: Unable to sort modes: '<' not supported between instances of 'str' and 'int'\n",
      "  MostCommonMedication=(\"MedicationName\", lambda x: x.mode().iloc[0] if not x.mode().empty else None),\n",
      "C:\\Users\\svkar\\AppData\\Local\\Temp\\ipykernel_824\\4278961325.py:2: UserWarning: Unable to sort modes: '<' not supported between instances of 'str' and 'int'\n",
      "  MostCommonMedication=(\"MedicationName\", lambda x: x.mode().iloc[0] if not x.mode().empty else None),\n",
      "C:\\Users\\svkar\\AppData\\Local\\Temp\\ipykernel_824\\4278961325.py:2: UserWarning: Unable to sort modes: '<' not supported between instances of 'str' and 'int'\n",
      "  MostCommonMedication=(\"MedicationName\", lambda x: x.mode().iloc[0] if not x.mode().empty else None),\n",
      "C:\\Users\\svkar\\AppData\\Local\\Temp\\ipykernel_824\\4278961325.py:2: UserWarning: Unable to sort modes: '<' not supported between instances of 'int' and 'str'\n",
      "  MostCommonMedication=(\"MedicationName\", lambda x: x.mode().iloc[0] if not x.mode().empty else None),\n",
      "C:\\Users\\svkar\\AppData\\Local\\Temp\\ipykernel_824\\4278961325.py:2: UserWarning: Unable to sort modes: '<' not supported between instances of 'int' and 'str'\n",
      "  MostCommonMedication=(\"MedicationName\", lambda x: x.mode().iloc[0] if not x.mode().empty else None),\n",
      "C:\\Users\\svkar\\AppData\\Local\\Temp\\ipykernel_824\\4278961325.py:2: UserWarning: Unable to sort modes: '<' not supported between instances of 'int' and 'str'\n",
      "  MostCommonMedication=(\"MedicationName\", lambda x: x.mode().iloc[0] if not x.mode().empty else None),\n",
      "C:\\Users\\svkar\\AppData\\Local\\Temp\\ipykernel_824\\4278961325.py:2: UserWarning: Unable to sort modes: '<' not supported between instances of 'int' and 'str'\n",
      "  MostCommonMedication=(\"MedicationName\", lambda x: x.mode().iloc[0] if not x.mode().empty else None),\n",
      "C:\\Users\\svkar\\AppData\\Local\\Temp\\ipykernel_824\\4278961325.py:2: UserWarning: Unable to sort modes: '<' not supported between instances of 'int' and 'str'\n",
      "  MostCommonMedication=(\"MedicationName\", lambda x: x.mode().iloc[0] if not x.mode().empty else None),\n",
      "C:\\Users\\svkar\\AppData\\Local\\Temp\\ipykernel_824\\4278961325.py:2: UserWarning: Unable to sort modes: '<' not supported between instances of 'int' and 'str'\n",
      "  MostCommonMedication=(\"MedicationName\", lambda x: x.mode().iloc[0] if not x.mode().empty else None),\n",
      "C:\\Users\\svkar\\AppData\\Local\\Temp\\ipykernel_824\\4278961325.py:2: UserWarning: Unable to sort modes: '<' not supported between instances of 'str' and 'int'\n",
      "  MostCommonMedication=(\"MedicationName\", lambda x: x.mode().iloc[0] if not x.mode().empty else None),\n",
      "C:\\Users\\svkar\\AppData\\Local\\Temp\\ipykernel_824\\4278961325.py:2: UserWarning: Unable to sort modes: '<' not supported between instances of 'str' and 'int'\n",
      "  MostCommonMedication=(\"MedicationName\", lambda x: x.mode().iloc[0] if not x.mode().empty else None),\n",
      "C:\\Users\\svkar\\AppData\\Local\\Temp\\ipykernel_824\\4278961325.py:2: UserWarning: Unable to sort modes: '<' not supported between instances of 'int' and 'str'\n",
      "  MostCommonMedication=(\"MedicationName\", lambda x: x.mode().iloc[0] if not x.mode().empty else None),\n",
      "C:\\Users\\svkar\\AppData\\Local\\Temp\\ipykernel_824\\4278961325.py:2: UserWarning: Unable to sort modes: '<' not supported between instances of 'int' and 'str'\n",
      "  MostCommonMedication=(\"MedicationName\", lambda x: x.mode().iloc[0] if not x.mode().empty else None),\n",
      "C:\\Users\\svkar\\AppData\\Local\\Temp\\ipykernel_824\\4278961325.py:2: UserWarning: Unable to sort modes: '<' not supported between instances of 'int' and 'str'\n",
      "  MostCommonMedication=(\"MedicationName\", lambda x: x.mode().iloc[0] if not x.mode().empty else None),\n",
      "C:\\Users\\svkar\\AppData\\Local\\Temp\\ipykernel_824\\4278961325.py:2: UserWarning: Unable to sort modes: '<' not supported between instances of 'int' and 'str'\n",
      "  MostCommonMedication=(\"MedicationName\", lambda x: x.mode().iloc[0] if not x.mode().empty else None),\n",
      "C:\\Users\\svkar\\AppData\\Local\\Temp\\ipykernel_824\\4278961325.py:2: UserWarning: Unable to sort modes: '<' not supported between instances of 'int' and 'str'\n",
      "  MostCommonMedication=(\"MedicationName\", lambda x: x.mode().iloc[0] if not x.mode().empty else None),\n",
      "C:\\Users\\svkar\\AppData\\Local\\Temp\\ipykernel_824\\4278961325.py:2: UserWarning: Unable to sort modes: '<' not supported between instances of 'int' and 'str'\n",
      "  MostCommonMedication=(\"MedicationName\", lambda x: x.mode().iloc[0] if not x.mode().empty else None),\n",
      "C:\\Users\\svkar\\AppData\\Local\\Temp\\ipykernel_824\\4278961325.py:2: UserWarning: Unable to sort modes: '<' not supported between instances of 'str' and 'int'\n",
      "  MostCommonMedication=(\"MedicationName\", lambda x: x.mode().iloc[0] if not x.mode().empty else None),\n",
      "C:\\Users\\svkar\\AppData\\Local\\Temp\\ipykernel_824\\4278961325.py:2: UserWarning: Unable to sort modes: '<' not supported between instances of 'str' and 'int'\n",
      "  MostCommonMedication=(\"MedicationName\", lambda x: x.mode().iloc[0] if not x.mode().empty else None),\n",
      "C:\\Users\\svkar\\AppData\\Local\\Temp\\ipykernel_824\\4278961325.py:2: UserWarning: Unable to sort modes: '<' not supported between instances of 'int' and 'str'\n",
      "  MostCommonMedication=(\"MedicationName\", lambda x: x.mode().iloc[0] if not x.mode().empty else None),\n",
      "C:\\Users\\svkar\\AppData\\Local\\Temp\\ipykernel_824\\4278961325.py:2: UserWarning: Unable to sort modes: '<' not supported between instances of 'int' and 'str'\n",
      "  MostCommonMedication=(\"MedicationName\", lambda x: x.mode().iloc[0] if not x.mode().empty else None),\n",
      "C:\\Users\\svkar\\AppData\\Local\\Temp\\ipykernel_824\\4278961325.py:2: UserWarning: Unable to sort modes: '<' not supported between instances of 'int' and 'str'\n",
      "  MostCommonMedication=(\"MedicationName\", lambda x: x.mode().iloc[0] if not x.mode().empty else None),\n",
      "C:\\Users\\svkar\\AppData\\Local\\Temp\\ipykernel_824\\4278961325.py:2: UserWarning: Unable to sort modes: '<' not supported between instances of 'int' and 'str'\n",
      "  MostCommonMedication=(\"MedicationName\", lambda x: x.mode().iloc[0] if not x.mode().empty else None),\n",
      "C:\\Users\\svkar\\AppData\\Local\\Temp\\ipykernel_824\\4278961325.py:2: UserWarning: Unable to sort modes: '<' not supported between instances of 'int' and 'str'\n",
      "  MostCommonMedication=(\"MedicationName\", lambda x: x.mode().iloc[0] if not x.mode().empty else None),\n",
      "C:\\Users\\svkar\\AppData\\Local\\Temp\\ipykernel_824\\4278961325.py:2: UserWarning: Unable to sort modes: '<' not supported between instances of 'int' and 'str'\n",
      "  MostCommonMedication=(\"MedicationName\", lambda x: x.mode().iloc[0] if not x.mode().empty else None),\n",
      "C:\\Users\\svkar\\AppData\\Local\\Temp\\ipykernel_824\\4278961325.py:2: UserWarning: Unable to sort modes: '<' not supported between instances of 'int' and 'str'\n",
      "  MostCommonMedication=(\"MedicationName\", lambda x: x.mode().iloc[0] if not x.mode().empty else None),\n",
      "C:\\Users\\svkar\\AppData\\Local\\Temp\\ipykernel_824\\4278961325.py:2: UserWarning: Unable to sort modes: '<' not supported between instances of 'int' and 'str'\n",
      "  MostCommonMedication=(\"MedicationName\", lambda x: x.mode().iloc[0] if not x.mode().empty else None),\n",
      "C:\\Users\\svkar\\AppData\\Local\\Temp\\ipykernel_824\\4278961325.py:2: UserWarning: Unable to sort modes: '<' not supported between instances of 'int' and 'str'\n",
      "  MostCommonMedication=(\"MedicationName\", lambda x: x.mode().iloc[0] if not x.mode().empty else None),\n",
      "C:\\Users\\svkar\\AppData\\Local\\Temp\\ipykernel_824\\4278961325.py:2: UserWarning: Unable to sort modes: '<' not supported between instances of 'int' and 'str'\n",
      "  MostCommonMedication=(\"MedicationName\", lambda x: x.mode().iloc[0] if not x.mode().empty else None),\n",
      "C:\\Users\\svkar\\AppData\\Local\\Temp\\ipykernel_824\\4278961325.py:2: UserWarning: Unable to sort modes: '<' not supported between instances of 'str' and 'int'\n",
      "  MostCommonMedication=(\"MedicationName\", lambda x: x.mode().iloc[0] if not x.mode().empty else None),\n",
      "C:\\Users\\svkar\\AppData\\Local\\Temp\\ipykernel_824\\4278961325.py:2: UserWarning: Unable to sort modes: '<' not supported between instances of 'str' and 'int'\n",
      "  MostCommonMedication=(\"MedicationName\", lambda x: x.mode().iloc[0] if not x.mode().empty else None),\n",
      "C:\\Users\\svkar\\AppData\\Local\\Temp\\ipykernel_824\\4278961325.py:2: UserWarning: Unable to sort modes: '<' not supported between instances of 'int' and 'str'\n",
      "  MostCommonMedication=(\"MedicationName\", lambda x: x.mode().iloc[0] if not x.mode().empty else None),\n",
      "C:\\Users\\svkar\\AppData\\Local\\Temp\\ipykernel_824\\4278961325.py:2: UserWarning: Unable to sort modes: '<' not supported between instances of 'int' and 'str'\n",
      "  MostCommonMedication=(\"MedicationName\", lambda x: x.mode().iloc[0] if not x.mode().empty else None),\n",
      "C:\\Users\\svkar\\AppData\\Local\\Temp\\ipykernel_824\\4278961325.py:2: UserWarning: Unable to sort modes: '<' not supported between instances of 'int' and 'str'\n",
      "  MostCommonMedication=(\"MedicationName\", lambda x: x.mode().iloc[0] if not x.mode().empty else None),\n",
      "C:\\Users\\svkar\\AppData\\Local\\Temp\\ipykernel_824\\4278961325.py:2: UserWarning: Unable to sort modes: '<' not supported between instances of 'int' and 'str'\n",
      "  MostCommonMedication=(\"MedicationName\", lambda x: x.mode().iloc[0] if not x.mode().empty else None),\n",
      "C:\\Users\\svkar\\AppData\\Local\\Temp\\ipykernel_824\\4278961325.py:2: UserWarning: Unable to sort modes: '<' not supported between instances of 'str' and 'int'\n",
      "  MostCommonMedication=(\"MedicationName\", lambda x: x.mode().iloc[0] if not x.mode().empty else None),\n",
      "C:\\Users\\svkar\\AppData\\Local\\Temp\\ipykernel_824\\4278961325.py:2: UserWarning: Unable to sort modes: '<' not supported between instances of 'str' and 'int'\n",
      "  MostCommonMedication=(\"MedicationName\", lambda x: x.mode().iloc[0] if not x.mode().empty else None),\n",
      "C:\\Users\\svkar\\AppData\\Local\\Temp\\ipykernel_824\\4278961325.py:2: UserWarning: Unable to sort modes: '<' not supported between instances of 'int' and 'str'\n",
      "  MostCommonMedication=(\"MedicationName\", lambda x: x.mode().iloc[0] if not x.mode().empty else None),\n",
      "C:\\Users\\svkar\\AppData\\Local\\Temp\\ipykernel_824\\4278961325.py:2: UserWarning: Unable to sort modes: '<' not supported between instances of 'int' and 'str'\n",
      "  MostCommonMedication=(\"MedicationName\", lambda x: x.mode().iloc[0] if not x.mode().empty else None),\n",
      "C:\\Users\\svkar\\AppData\\Local\\Temp\\ipykernel_824\\4278961325.py:2: UserWarning: Unable to sort modes: '<' not supported between instances of 'str' and 'int'\n",
      "  MostCommonMedication=(\"MedicationName\", lambda x: x.mode().iloc[0] if not x.mode().empty else None),\n",
      "C:\\Users\\svkar\\AppData\\Local\\Temp\\ipykernel_824\\4278961325.py:2: UserWarning: Unable to sort modes: '<' not supported between instances of 'str' and 'int'\n",
      "  MostCommonMedication=(\"MedicationName\", lambda x: x.mode().iloc[0] if not x.mode().empty else None),\n",
      "C:\\Users\\svkar\\AppData\\Local\\Temp\\ipykernel_824\\4278961325.py:2: UserWarning: Unable to sort modes: '<' not supported between instances of 'int' and 'str'\n",
      "  MostCommonMedication=(\"MedicationName\", lambda x: x.mode().iloc[0] if not x.mode().empty else None),\n",
      "C:\\Users\\svkar\\AppData\\Local\\Temp\\ipykernel_824\\4278961325.py:2: UserWarning: Unable to sort modes: '<' not supported between instances of 'int' and 'str'\n",
      "  MostCommonMedication=(\"MedicationName\", lambda x: x.mode().iloc[0] if not x.mode().empty else None),\n",
      "C:\\Users\\svkar\\AppData\\Local\\Temp\\ipykernel_824\\4278961325.py:2: UserWarning: Unable to sort modes: '<' not supported between instances of 'int' and 'str'\n",
      "  MostCommonMedication=(\"MedicationName\", lambda x: x.mode().iloc[0] if not x.mode().empty else None),\n",
      "C:\\Users\\svkar\\AppData\\Local\\Temp\\ipykernel_824\\4278961325.py:2: UserWarning: Unable to sort modes: '<' not supported between instances of 'int' and 'str'\n",
      "  MostCommonMedication=(\"MedicationName\", lambda x: x.mode().iloc[0] if not x.mode().empty else None),\n",
      "C:\\Users\\svkar\\AppData\\Local\\Temp\\ipykernel_824\\4278961325.py:2: UserWarning: Unable to sort modes: '<' not supported between instances of 'str' and 'int'\n",
      "  MostCommonMedication=(\"MedicationName\", lambda x: x.mode().iloc[0] if not x.mode().empty else None),\n",
      "C:\\Users\\svkar\\AppData\\Local\\Temp\\ipykernel_824\\4278961325.py:2: UserWarning: Unable to sort modes: '<' not supported between instances of 'str' and 'int'\n",
      "  MostCommonMedication=(\"MedicationName\", lambda x: x.mode().iloc[0] if not x.mode().empty else None),\n",
      "C:\\Users\\svkar\\AppData\\Local\\Temp\\ipykernel_824\\4278961325.py:2: UserWarning: Unable to sort modes: '<' not supported between instances of 'str' and 'int'\n",
      "  MostCommonMedication=(\"MedicationName\", lambda x: x.mode().iloc[0] if not x.mode().empty else None),\n",
      "C:\\Users\\svkar\\AppData\\Local\\Temp\\ipykernel_824\\4278961325.py:2: UserWarning: Unable to sort modes: '<' not supported between instances of 'str' and 'int'\n",
      "  MostCommonMedication=(\"MedicationName\", lambda x: x.mode().iloc[0] if not x.mode().empty else None),\n",
      "C:\\Users\\svkar\\AppData\\Local\\Temp\\ipykernel_824\\4278961325.py:2: UserWarning: Unable to sort modes: '<' not supported between instances of 'str' and 'int'\n",
      "  MostCommonMedication=(\"MedicationName\", lambda x: x.mode().iloc[0] if not x.mode().empty else None),\n",
      "C:\\Users\\svkar\\AppData\\Local\\Temp\\ipykernel_824\\4278961325.py:2: UserWarning: Unable to sort modes: '<' not supported between instances of 'str' and 'int'\n",
      "  MostCommonMedication=(\"MedicationName\", lambda x: x.mode().iloc[0] if not x.mode().empty else None),\n",
      "C:\\Users\\svkar\\AppData\\Local\\Temp\\ipykernel_824\\4278961325.py:2: UserWarning: Unable to sort modes: '<' not supported between instances of 'str' and 'int'\n",
      "  MostCommonMedication=(\"MedicationName\", lambda x: x.mode().iloc[0] if not x.mode().empty else None),\n",
      "C:\\Users\\svkar\\AppData\\Local\\Temp\\ipykernel_824\\4278961325.py:2: UserWarning: Unable to sort modes: '<' not supported between instances of 'str' and 'int'\n",
      "  MostCommonMedication=(\"MedicationName\", lambda x: x.mode().iloc[0] if not x.mode().empty else None),\n",
      "C:\\Users\\svkar\\AppData\\Local\\Temp\\ipykernel_824\\4278961325.py:2: UserWarning: Unable to sort modes: '<' not supported between instances of 'int' and 'str'\n",
      "  MostCommonMedication=(\"MedicationName\", lambda x: x.mode().iloc[0] if not x.mode().empty else None),\n",
      "C:\\Users\\svkar\\AppData\\Local\\Temp\\ipykernel_824\\4278961325.py:2: UserWarning: Unable to sort modes: '<' not supported between instances of 'int' and 'str'\n",
      "  MostCommonMedication=(\"MedicationName\", lambda x: x.mode().iloc[0] if not x.mode().empty else None),\n",
      "C:\\Users\\svkar\\AppData\\Local\\Temp\\ipykernel_824\\4278961325.py:2: UserWarning: Unable to sort modes: '<' not supported between instances of 'int' and 'str'\n",
      "  MostCommonMedication=(\"MedicationName\", lambda x: x.mode().iloc[0] if not x.mode().empty else None),\n",
      "C:\\Users\\svkar\\AppData\\Local\\Temp\\ipykernel_824\\4278961325.py:2: UserWarning: Unable to sort modes: '<' not supported between instances of 'int' and 'str'\n",
      "  MostCommonMedication=(\"MedicationName\", lambda x: x.mode().iloc[0] if not x.mode().empty else None),\n"
     ]
    }
   ],
   "source": [
    "df_allergy_tot = df_allergy_new.groupby(\"PatientGuid\").agg(\n",
    "    MostCommonMedication=(\"MedicationName\", lambda x: x.mode().iloc[0] if not x.mode().empty else None),\n",
    "    MedicationNDCCount=(\"MedicationNDCCode\", \"count\"),  \n",
    "    MostAllergyTypes=(\"AllergyType\", lambda x: x.mode().iloc[0] if not x.mode().empty else None)\n",
    ").reset_index()"
   ]
  },
  {
   "cell_type": "code",
   "execution_count": 30,
   "id": "045377eb-6b9e-4635-9dea-65ac27b99547",
   "metadata": {
    "tags": []
   },
   "outputs": [
    {
     "data": {
      "text/plain": [
       "(2797, 5)"
      ]
     },
     "execution_count": 30,
     "metadata": {},
     "output_type": "execute_result"
    }
   ],
   "source": [
    "df_allergy_new.shape"
   ]
  },
  {
   "cell_type": "code",
   "execution_count": 31,
   "id": "94235c42-5a37-414b-a056-141d31fdf077",
   "metadata": {
    "tags": []
   },
   "outputs": [
    {
     "data": {
      "text/plain": [
       "(1724, 4)"
      ]
     },
     "execution_count": 31,
     "metadata": {},
     "output_type": "execute_result"
    }
   ],
   "source": [
    "df_allergy_tot.shape"
   ]
  },
  {
   "cell_type": "markdown",
   "id": "94658c28-04f9-45c8-9d2a-f6dee43c7e98",
   "metadata": {},
   "source": [
    "Merging with train and checking shape"
   ]
  },
  {
   "cell_type": "code",
   "execution_count": 32,
   "id": "acef51c0-ee1c-4023-9084-bad9d22a392a",
   "metadata": {
    "tags": []
   },
   "outputs": [
    {
     "data": {
      "text/plain": [
       "(6600, 9)"
      ]
     },
     "execution_count": 32,
     "metadata": {},
     "output_type": "execute_result"
    }
   ],
   "source": [
    "df_train_sp_tot=pd.merge(df_train_sp_tot,df_allergy_tot,how='left')\n",
    "df_train_sp_tot.shape"
   ]
  },
  {
   "cell_type": "markdown",
   "id": "a9377413-7dad-4075-a9ef-dadded562ff8",
   "metadata": {},
   "source": [
    "***Diagnosis***"
   ]
  },
  {
   "cell_type": "code",
   "execution_count": 33,
   "id": "3b00452c-64ae-4337-b6b8-81b9ad5f2832",
   "metadata": {
    "tags": []
   },
   "outputs": [
    {
     "data": {
      "text/plain": [
       "Index(['DiagnosisGuid', 'PatientGuid', 'ICD9Code', 'DiagnosisDescription',\n",
       "       'StartYear', 'StopYear', 'Acute', 'UserGuid'],\n",
       "      dtype='object')"
      ]
     },
     "execution_count": 33,
     "metadata": {},
     "output_type": "execute_result"
    }
   ],
   "source": [
    "df_train_sd.columns"
   ]
  },
  {
   "cell_type": "code",
   "execution_count": 34,
   "id": "29af82e6-53ee-49b2-b110-634dd9713b3e",
   "metadata": {
    "tags": []
   },
   "outputs": [
    {
     "data": {
      "text/html": [
       "<div>\n",
       "<style scoped>\n",
       "    .dataframe tbody tr th:only-of-type {\n",
       "        vertical-align: middle;\n",
       "    }\n",
       "\n",
       "    .dataframe tbody tr th {\n",
       "        vertical-align: top;\n",
       "    }\n",
       "\n",
       "    .dataframe thead th {\n",
       "        text-align: right;\n",
       "    }\n",
       "</style>\n",
       "<table border=\"1\" class=\"dataframe\">\n",
       "  <thead>\n",
       "    <tr style=\"text-align: right;\">\n",
       "      <th></th>\n",
       "      <th>PatientGuid</th>\n",
       "      <th>DiagnosisGuid</th>\n",
       "      <th>ICD9Code</th>\n",
       "      <th>DiagnosisDescription</th>\n",
       "      <th>StartYear</th>\n",
       "      <th>Acute</th>\n",
       "    </tr>\n",
       "  </thead>\n",
       "  <tbody>\n",
       "    <tr>\n",
       "      <th>0</th>\n",
       "      <td>BA954BD7-5EE7-4CCF-AB31-07B9C7F72D07</td>\n",
       "      <td>D8873CD9-C72E-4ABD-B0C5-000101A9A72A</td>\n",
       "      <td>825.0</td>\n",
       "      <td>Fracture of calcaneus, closed</td>\n",
       "      <td>2012</td>\n",
       "      <td>0</td>\n",
       "    </tr>\n",
       "    <tr>\n",
       "      <th>1</th>\n",
       "      <td>F8D890EA-7920-40AF-BFCF-42010E1BF563</td>\n",
       "      <td>70F10549-2A75-44F9-8640-00010B10EFAD</td>\n",
       "      <td>784.0</td>\n",
       "      <td>Headache</td>\n",
       "      <td>0</td>\n",
       "      <td>1</td>\n",
       "    </tr>\n",
       "    <tr>\n",
       "      <th>2</th>\n",
       "      <td>A3AD2D57-5589-47E2-BDB2-1D5B51764896</td>\n",
       "      <td>A5F5AF96-0B64-472E-BB67-00012544228C</td>\n",
       "      <td>461.9</td>\n",
       "      <td>Acute sinusitis, unspecified</td>\n",
       "      <td>2010</td>\n",
       "      <td>1</td>\n",
       "    </tr>\n",
       "    <tr>\n",
       "      <th>3</th>\n",
       "      <td>2AC1DCDA-9C11-44ED-A2BE-4B1F2393B68E</td>\n",
       "      <td>3C4B7780-6742-4DB5-8DFE-000157ED4DD3</td>\n",
       "      <td>V72.31</td>\n",
       "      <td>Routine gynecological examination</td>\n",
       "      <td>2009</td>\n",
       "      <td>0</td>\n",
       "    </tr>\n",
       "    <tr>\n",
       "      <th>4</th>\n",
       "      <td>9DB2B66C-A696-4308-BFA1-4C8F6E97977E</td>\n",
       "      <td>903825EF-AEDD-4F2D-985C-0004D6D95E9B</td>\n",
       "      <td>345.90</td>\n",
       "      <td>Epilepsy, unspecified, without mention of intr...</td>\n",
       "      <td>2010</td>\n",
       "      <td>0</td>\n",
       "    </tr>\n",
       "  </tbody>\n",
       "</table>\n",
       "</div>"
      ],
      "text/plain": [
       "                            PatientGuid                         DiagnosisGuid  \\\n",
       "0  BA954BD7-5EE7-4CCF-AB31-07B9C7F72D07  D8873CD9-C72E-4ABD-B0C5-000101A9A72A   \n",
       "1  F8D890EA-7920-40AF-BFCF-42010E1BF563  70F10549-2A75-44F9-8640-00010B10EFAD   \n",
       "2  A3AD2D57-5589-47E2-BDB2-1D5B51764896  A5F5AF96-0B64-472E-BB67-00012544228C   \n",
       "3  2AC1DCDA-9C11-44ED-A2BE-4B1F2393B68E  3C4B7780-6742-4DB5-8DFE-000157ED4DD3   \n",
       "4  9DB2B66C-A696-4308-BFA1-4C8F6E97977E  903825EF-AEDD-4F2D-985C-0004D6D95E9B   \n",
       "\n",
       "  ICD9Code                               DiagnosisDescription  StartYear  \\\n",
       "0    825.0                      Fracture of calcaneus, closed       2012   \n",
       "1    784.0                                           Headache          0   \n",
       "2    461.9                       Acute sinusitis, unspecified       2010   \n",
       "3   V72.31                  Routine gynecological examination       2009   \n",
       "4   345.90  Epilepsy, unspecified, without mention of intr...       2010   \n",
       "\n",
       "   Acute  \n",
       "0      0  \n",
       "1      1  \n",
       "2      1  \n",
       "3      0  \n",
       "4      0  "
      ]
     },
     "execution_count": 34,
     "metadata": {},
     "output_type": "execute_result"
    }
   ],
   "source": [
    "keep_columns_sd = [\n",
    "    'PatientGuid',         # Patient identifier \n",
    "    'DiagnosisGuid',       # Diagnosis identifier (linking)\n",
    "    'ICD9Code',           # Diagnosis code (comorbid conditions)\n",
    "    'DiagnosisDescription',# Diagnosis description (understanding the condition)\n",
    "    'StartYear',           # Year the diagnosis was made (tracking chronic conditions)\n",
    "    'Acute',               # Acute condition flag (filter out acute conditions)\n",
    "]\n",
    "\n",
    "df_diagnosis_new = df_train_sd[keep_columns_sd]\n",
    "df_diagnosis_new.head()"
   ]
  },
  {
   "cell_type": "code",
   "execution_count": 35,
   "id": "7df2f327-4eaa-4628-9126-3a495da32869",
   "metadata": {
    "tags": []
   },
   "outputs": [
    {
     "name": "stderr",
     "output_type": "stream",
     "text": [
      "C:\\Users\\svkar\\AppData\\Local\\Temp\\ipykernel_824\\1766932282.py:1: SettingWithCopyWarning: \n",
      "A value is trying to be set on a copy of a slice from a DataFrame.\n",
      "Try using .loc[row_indexer,col_indexer] = value instead\n",
      "\n",
      "See the caveats in the documentation: https://pandas.pydata.org/pandas-docs/stable/user_guide/indexing.html#returning-a-view-versus-a-copy\n",
      "  df_diagnosis_new.loc[:, 'T2D_Diagnosis_Flag'] = df_diagnosis_new.apply(\n"
     ]
    }
   ],
   "source": [
    "df_diagnosis_new.loc[:, 'T2D_Diagnosis_Flag'] = df_diagnosis_new.apply(\n",
    "    lambda row: 1 if (row['Acute'] == 0 and (str(row['ICD9Code']).startswith('249') or str(row['ICD9Code']).startswith('250'))) else 0,\n",
    "    axis=1\n",
    ")"
   ]
  },
  {
   "cell_type": "code",
   "execution_count": 36,
   "id": "55ead2c8-aebe-4fed-9a1c-eb046a888913",
   "metadata": {
    "tags": []
   },
   "outputs": [
    {
     "data": {
      "text/html": [
       "<div>\n",
       "<style scoped>\n",
       "    .dataframe tbody tr th:only-of-type {\n",
       "        vertical-align: middle;\n",
       "    }\n",
       "\n",
       "    .dataframe tbody tr th {\n",
       "        vertical-align: top;\n",
       "    }\n",
       "\n",
       "    .dataframe thead th {\n",
       "        text-align: right;\n",
       "    }\n",
       "</style>\n",
       "<table border=\"1\" class=\"dataframe\">\n",
       "  <thead>\n",
       "    <tr style=\"text-align: right;\">\n",
       "      <th></th>\n",
       "      <th>PatientGuid</th>\n",
       "      <th>DiagnosisGuid</th>\n",
       "      <th>ICD9Code</th>\n",
       "      <th>DiagnosisDescription</th>\n",
       "      <th>StartYear</th>\n",
       "      <th>Acute</th>\n",
       "      <th>T2D_Diagnosis_Flag</th>\n",
       "    </tr>\n",
       "  </thead>\n",
       "  <tbody>\n",
       "    <tr>\n",
       "      <th>0</th>\n",
       "      <td>BA954BD7-5EE7-4CCF-AB31-07B9C7F72D07</td>\n",
       "      <td>D8873CD9-C72E-4ABD-B0C5-000101A9A72A</td>\n",
       "      <td>825.0</td>\n",
       "      <td>Fracture of calcaneus, closed</td>\n",
       "      <td>2012</td>\n",
       "      <td>0</td>\n",
       "      <td>0</td>\n",
       "    </tr>\n",
       "    <tr>\n",
       "      <th>1</th>\n",
       "      <td>F8D890EA-7920-40AF-BFCF-42010E1BF563</td>\n",
       "      <td>70F10549-2A75-44F9-8640-00010B10EFAD</td>\n",
       "      <td>784.0</td>\n",
       "      <td>Headache</td>\n",
       "      <td>0</td>\n",
       "      <td>1</td>\n",
       "      <td>0</td>\n",
       "    </tr>\n",
       "    <tr>\n",
       "      <th>2</th>\n",
       "      <td>A3AD2D57-5589-47E2-BDB2-1D5B51764896</td>\n",
       "      <td>A5F5AF96-0B64-472E-BB67-00012544228C</td>\n",
       "      <td>461.9</td>\n",
       "      <td>Acute sinusitis, unspecified</td>\n",
       "      <td>2010</td>\n",
       "      <td>1</td>\n",
       "      <td>0</td>\n",
       "    </tr>\n",
       "    <tr>\n",
       "      <th>3</th>\n",
       "      <td>2AC1DCDA-9C11-44ED-A2BE-4B1F2393B68E</td>\n",
       "      <td>3C4B7780-6742-4DB5-8DFE-000157ED4DD3</td>\n",
       "      <td>V72.31</td>\n",
       "      <td>Routine gynecological examination</td>\n",
       "      <td>2009</td>\n",
       "      <td>0</td>\n",
       "      <td>0</td>\n",
       "    </tr>\n",
       "    <tr>\n",
       "      <th>4</th>\n",
       "      <td>9DB2B66C-A696-4308-BFA1-4C8F6E97977E</td>\n",
       "      <td>903825EF-AEDD-4F2D-985C-0004D6D95E9B</td>\n",
       "      <td>345.90</td>\n",
       "      <td>Epilepsy, unspecified, without mention of intr...</td>\n",
       "      <td>2010</td>\n",
       "      <td>0</td>\n",
       "      <td>0</td>\n",
       "    </tr>\n",
       "  </tbody>\n",
       "</table>\n",
       "</div>"
      ],
      "text/plain": [
       "                            PatientGuid                         DiagnosisGuid  \\\n",
       "0  BA954BD7-5EE7-4CCF-AB31-07B9C7F72D07  D8873CD9-C72E-4ABD-B0C5-000101A9A72A   \n",
       "1  F8D890EA-7920-40AF-BFCF-42010E1BF563  70F10549-2A75-44F9-8640-00010B10EFAD   \n",
       "2  A3AD2D57-5589-47E2-BDB2-1D5B51764896  A5F5AF96-0B64-472E-BB67-00012544228C   \n",
       "3  2AC1DCDA-9C11-44ED-A2BE-4B1F2393B68E  3C4B7780-6742-4DB5-8DFE-000157ED4DD3   \n",
       "4  9DB2B66C-A696-4308-BFA1-4C8F6E97977E  903825EF-AEDD-4F2D-985C-0004D6D95E9B   \n",
       "\n",
       "  ICD9Code                               DiagnosisDescription  StartYear  \\\n",
       "0    825.0                      Fracture of calcaneus, closed       2012   \n",
       "1    784.0                                           Headache          0   \n",
       "2    461.9                       Acute sinusitis, unspecified       2010   \n",
       "3   V72.31                  Routine gynecological examination       2009   \n",
       "4   345.90  Epilepsy, unspecified, without mention of intr...       2010   \n",
       "\n",
       "   Acute  T2D_Diagnosis_Flag  \n",
       "0      0                   0  \n",
       "1      1                   0  \n",
       "2      1                   0  \n",
       "3      0                   0  \n",
       "4      0                   0  "
      ]
     },
     "execution_count": 36,
     "metadata": {},
     "output_type": "execute_result"
    }
   ],
   "source": [
    "df_diagnosis_new.head()"
   ]
  },
  {
   "cell_type": "code",
   "execution_count": 37,
   "id": "29b38a85-d3f3-486a-a93b-5cdd509ee514",
   "metadata": {
    "tags": []
   },
   "outputs": [],
   "source": [
    "df_diagnosis_tot = df_diagnosis_new.groupby('PatientGuid').agg(\n",
    "    T2D_Diagnosis_Flag_Mode=('T2D_Diagnosis_Flag', lambda x: x.mode().iloc[0] if not x.mode().empty else None),\n",
    "    MostDiagnosisDescription=('DiagnosisDescription', lambda x: x.mode().iloc[0] if not x.mode().empty else None),\n",
    "    MostCommonICD9=('ICD9Code', lambda x: x.mode().iloc[0] if not x.mode().empty else None),\n",
    "    MostStartYear=('StartYear', lambda x: x.mode().iloc[0] if not x.mode().empty else None),\n",
    "    MostDiagnosisGuid=('DiagnosisGuid', lambda x: x.mode().iloc[0] if not x.mode().empty else None),\n",
    ").reset_index()"
   ]
  },
  {
   "cell_type": "code",
   "execution_count": 38,
   "id": "d273997b-fa98-4fbc-bba8-5c639f2ea950",
   "metadata": {
    "tags": []
   },
   "outputs": [
    {
     "data": {
      "text/plain": [
       "(94830, 7)"
      ]
     },
     "execution_count": 38,
     "metadata": {},
     "output_type": "execute_result"
    }
   ],
   "source": [
    "df_diagnosis_new.shape"
   ]
  },
  {
   "cell_type": "code",
   "execution_count": 39,
   "id": "dbda7581-0298-4752-a9f2-f0aa5d5f4e46",
   "metadata": {
    "tags": []
   },
   "outputs": [
    {
     "data": {
      "text/plain": [
       "(9948, 6)"
      ]
     },
     "execution_count": 39,
     "metadata": {},
     "output_type": "execute_result"
    }
   ],
   "source": [
    "df_diagnosis_tot.shape"
   ]
  },
  {
   "cell_type": "markdown",
   "id": "4d4d7f0f-1147-433b-9483-ca3748404a83",
   "metadata": {},
   "source": [
    "Merging with train and checking shape"
   ]
  },
  {
   "cell_type": "code",
   "execution_count": 40,
   "id": "e220c461-fe6a-4406-bc67-599d83d704af",
   "metadata": {
    "tags": []
   },
   "outputs": [
    {
     "data": {
      "text/plain": [
       "(6600, 14)"
      ]
     },
     "execution_count": 40,
     "metadata": {},
     "output_type": "execute_result"
    }
   ],
   "source": [
    "df_train_sp_tot=pd.merge(df_train_sp_tot,df_diagnosis_tot,how='left')\n",
    "df_train_sp_tot.shape"
   ]
  },
  {
   "cell_type": "markdown",
   "id": "310a3509-3ce8-4aaa-816e-81b3543c7a7b",
   "metadata": {},
   "source": [
    "### ***Lab***"
   ]
  },
  {
   "cell_type": "markdown",
   "id": "01e2c79f-4162-4945-91f3-703ff5556d92",
   "metadata": {},
   "source": [
    "#### Lab Observation "
   ]
  },
  {
   "cell_type": "code",
   "execution_count": 41,
   "id": "c7de1d97-7b85-4591-8d05-37a0df91e212",
   "metadata": {
    "tags": []
   },
   "outputs": [
    {
     "data": {
      "text/plain": [
       "Index(['HL7Identifier', 'HL7Text', 'LabObservationGuid', 'LabPanelGuid',\n",
       "       'HL7CodingSystem', 'ObservationValue', 'Units', 'ReferenceRange',\n",
       "       'AbnormalFlags', 'ResultStatus', 'ObservationYear', 'UserGuid',\n",
       "       'IsAbnormalValue'],\n",
       "      dtype='object')"
      ]
     },
     "execution_count": 41,
     "metadata": {},
     "output_type": "execute_result"
    }
   ],
   "source": [
    "df_train_slo.columns"
   ]
  },
  {
   "cell_type": "code",
   "execution_count": 42,
   "id": "ff75a614-f437-4b4c-b166-01cfda536047",
   "metadata": {
    "tags": []
   },
   "outputs": [
    {
     "data": {
      "text/html": [
       "<div>\n",
       "<style scoped>\n",
       "    .dataframe tbody tr th:only-of-type {\n",
       "        vertical-align: middle;\n",
       "    }\n",
       "\n",
       "    .dataframe tbody tr th {\n",
       "        vertical-align: top;\n",
       "    }\n",
       "\n",
       "    .dataframe thead th {\n",
       "        text-align: right;\n",
       "    }\n",
       "</style>\n",
       "<table border=\"1\" class=\"dataframe\">\n",
       "  <thead>\n",
       "    <tr style=\"text-align: right;\">\n",
       "      <th></th>\n",
       "      <th>HL7Identifier</th>\n",
       "      <th>HL7Text</th>\n",
       "      <th>LabObservationGuid</th>\n",
       "      <th>LabPanelGuid</th>\n",
       "      <th>HL7CodingSystem</th>\n",
       "      <th>ObservationValue</th>\n",
       "      <th>Units</th>\n",
       "      <th>ReferenceRange</th>\n",
       "      <th>AbnormalFlags</th>\n",
       "      <th>ResultStatus</th>\n",
       "      <th>ObservationYear</th>\n",
       "      <th>UserGuid</th>\n",
       "      <th>IsAbnormalValue</th>\n",
       "    </tr>\n",
       "  </thead>\n",
       "  <tbody>\n",
       "    <tr>\n",
       "      <th>0</th>\n",
       "      <td>001016</td>\n",
       "      <td>Calcium, Serum</td>\n",
       "      <td>30F3917A-E4DE-4ADD-BE2A-6E842B1CF958</td>\n",
       "      <td>AC8B2E6D-E55E-42C5-B0F4-099094703A4B</td>\n",
       "      <td>LabCorpLocal</td>\n",
       "      <td>9.8</td>\n",
       "      <td>mg/dL</td>\n",
       "      <td>8.6-10.2</td>\n",
       "      <td>0</td>\n",
       "      <td>Final</td>\n",
       "      <td>2011</td>\n",
       "      <td>3027FCA9-C076-4B4D-823E-840FE03E1AFE</td>\n",
       "      <td>0</td>\n",
       "    </tr>\n",
       "    <tr>\n",
       "      <th>1</th>\n",
       "      <td>001016</td>\n",
       "      <td>Calcium, Serum</td>\n",
       "      <td>29C33291-2E32-46E1-9FDC-4D73783867E6</td>\n",
       "      <td>B8A16544-6185-43E7-ADE1-258E4781CCC7</td>\n",
       "      <td>LabCorpLocal</td>\n",
       "      <td>9.6</td>\n",
       "      <td>mg/dL</td>\n",
       "      <td>8.7-10.2</td>\n",
       "      <td>0</td>\n",
       "      <td>Final</td>\n",
       "      <td>2011</td>\n",
       "      <td>00000000-0000-0000-0000-000000000000</td>\n",
       "      <td>0</td>\n",
       "    </tr>\n",
       "    <tr>\n",
       "      <th>2</th>\n",
       "      <td>001016</td>\n",
       "      <td>Calcium, Serum</td>\n",
       "      <td>06586D95-D7F3-4E63-B8AA-5751F3213D98</td>\n",
       "      <td>C9E3816D-C533-4046-AD79-B4EC5CB7DEFA</td>\n",
       "      <td>LabCorpLocal</td>\n",
       "      <td>10.1</td>\n",
       "      <td>mg/dL</td>\n",
       "      <td>8.6-10.2</td>\n",
       "      <td>0</td>\n",
       "      <td>Final</td>\n",
       "      <td>2011</td>\n",
       "      <td>B366A9CC-814C-4B2F-99E5-4DC5C79B9DEC</td>\n",
       "      <td>0</td>\n",
       "    </tr>\n",
       "    <tr>\n",
       "      <th>3</th>\n",
       "      <td>001016</td>\n",
       "      <td>Calcium, Serum</td>\n",
       "      <td>2ADEC63D-D741-48F5-9024-B103F2BBCC3B</td>\n",
       "      <td>D17E087C-7783-42E8-A875-E4870C2F5EC0</td>\n",
       "      <td>LabCorpLocal</td>\n",
       "      <td>9.5</td>\n",
       "      <td>mg/dL</td>\n",
       "      <td>8.6-10.2</td>\n",
       "      <td>0</td>\n",
       "      <td>Final</td>\n",
       "      <td>2011</td>\n",
       "      <td>60C80223-5A28-4E74-89FF-73505D39BCDD</td>\n",
       "      <td>0</td>\n",
       "    </tr>\n",
       "    <tr>\n",
       "      <th>4</th>\n",
       "      <td>001016</td>\n",
       "      <td>Calcium, Serum</td>\n",
       "      <td>CCB87D9F-DCF8-4145-B4A8-5082F9E2FDA7</td>\n",
       "      <td>A1455081-17F7-4714-89E3-CACE4BA5BBC5</td>\n",
       "      <td>LabCorpLocal</td>\n",
       "      <td>9.2</td>\n",
       "      <td>mg/dL</td>\n",
       "      <td>8.7-10.2</td>\n",
       "      <td>0</td>\n",
       "      <td>Final</td>\n",
       "      <td>2011</td>\n",
       "      <td>00000000-0000-0000-0000-000000000000</td>\n",
       "      <td>0</td>\n",
       "    </tr>\n",
       "  </tbody>\n",
       "</table>\n",
       "</div>"
      ],
      "text/plain": [
       "  HL7Identifier         HL7Text                    LabObservationGuid  \\\n",
       "0        001016  Calcium, Serum  30F3917A-E4DE-4ADD-BE2A-6E842B1CF958   \n",
       "1        001016  Calcium, Serum  29C33291-2E32-46E1-9FDC-4D73783867E6   \n",
       "2        001016  Calcium, Serum  06586D95-D7F3-4E63-B8AA-5751F3213D98   \n",
       "3        001016  Calcium, Serum  2ADEC63D-D741-48F5-9024-B103F2BBCC3B   \n",
       "4        001016  Calcium, Serum  CCB87D9F-DCF8-4145-B4A8-5082F9E2FDA7   \n",
       "\n",
       "                           LabPanelGuid HL7CodingSystem  ObservationValue  \\\n",
       "0  AC8B2E6D-E55E-42C5-B0F4-099094703A4B    LabCorpLocal               9.8   \n",
       "1  B8A16544-6185-43E7-ADE1-258E4781CCC7    LabCorpLocal               9.6   \n",
       "2  C9E3816D-C533-4046-AD79-B4EC5CB7DEFA    LabCorpLocal              10.1   \n",
       "3  D17E087C-7783-42E8-A875-E4870C2F5EC0    LabCorpLocal               9.5   \n",
       "4  A1455081-17F7-4714-89E3-CACE4BA5BBC5    LabCorpLocal               9.2   \n",
       "\n",
       "   Units ReferenceRange AbnormalFlags ResultStatus  ObservationYear  \\\n",
       "0  mg/dL       8.6-10.2             0        Final             2011   \n",
       "1  mg/dL       8.7-10.2             0        Final             2011   \n",
       "2  mg/dL       8.6-10.2             0        Final             2011   \n",
       "3  mg/dL       8.6-10.2             0        Final             2011   \n",
       "4  mg/dL       8.7-10.2             0        Final             2011   \n",
       "\n",
       "                               UserGuid  IsAbnormalValue  \n",
       "0  3027FCA9-C076-4B4D-823E-840FE03E1AFE                0  \n",
       "1  00000000-0000-0000-0000-000000000000                0  \n",
       "2  B366A9CC-814C-4B2F-99E5-4DC5C79B9DEC                0  \n",
       "3  60C80223-5A28-4E74-89FF-73505D39BCDD                0  \n",
       "4  00000000-0000-0000-0000-000000000000                0  "
      ]
     },
     "execution_count": 42,
     "metadata": {},
     "output_type": "execute_result"
    }
   ],
   "source": [
    "df_train_slo.head()"
   ]
  },
  {
   "cell_type": "code",
   "execution_count": 43,
   "id": "ed788fa0-07a3-498c-ae8d-b0e3e5dfc917",
   "metadata": {
    "tags": []
   },
   "outputs": [
    {
     "data": {
      "text/html": [
       "<div>\n",
       "<style scoped>\n",
       "    .dataframe tbody tr th:only-of-type {\n",
       "        vertical-align: middle;\n",
       "    }\n",
       "\n",
       "    .dataframe tbody tr th {\n",
       "        vertical-align: top;\n",
       "    }\n",
       "\n",
       "    .dataframe thead th {\n",
       "        text-align: right;\n",
       "    }\n",
       "</style>\n",
       "<table border=\"1\" class=\"dataframe\">\n",
       "  <thead>\n",
       "    <tr style=\"text-align: right;\">\n",
       "      <th></th>\n",
       "      <th>LabPanelGuid</th>\n",
       "      <th>LabObservationGuid</th>\n",
       "      <th>HL7Identifier</th>\n",
       "      <th>HL7Text</th>\n",
       "      <th>ObservationValue</th>\n",
       "      <th>Units</th>\n",
       "      <th>AbnormalFlags</th>\n",
       "      <th>IsAbnormalValue</th>\n",
       "    </tr>\n",
       "  </thead>\n",
       "  <tbody>\n",
       "    <tr>\n",
       "      <th>0</th>\n",
       "      <td>AC8B2E6D-E55E-42C5-B0F4-099094703A4B</td>\n",
       "      <td>30F3917A-E4DE-4ADD-BE2A-6E842B1CF958</td>\n",
       "      <td>001016</td>\n",
       "      <td>Calcium, Serum</td>\n",
       "      <td>9.8</td>\n",
       "      <td>mg/dL</td>\n",
       "      <td>0</td>\n",
       "      <td>0</td>\n",
       "    </tr>\n",
       "    <tr>\n",
       "      <th>1</th>\n",
       "      <td>B8A16544-6185-43E7-ADE1-258E4781CCC7</td>\n",
       "      <td>29C33291-2E32-46E1-9FDC-4D73783867E6</td>\n",
       "      <td>001016</td>\n",
       "      <td>Calcium, Serum</td>\n",
       "      <td>9.6</td>\n",
       "      <td>mg/dL</td>\n",
       "      <td>0</td>\n",
       "      <td>0</td>\n",
       "    </tr>\n",
       "    <tr>\n",
       "      <th>2</th>\n",
       "      <td>C9E3816D-C533-4046-AD79-B4EC5CB7DEFA</td>\n",
       "      <td>06586D95-D7F3-4E63-B8AA-5751F3213D98</td>\n",
       "      <td>001016</td>\n",
       "      <td>Calcium, Serum</td>\n",
       "      <td>10.1</td>\n",
       "      <td>mg/dL</td>\n",
       "      <td>0</td>\n",
       "      <td>0</td>\n",
       "    </tr>\n",
       "    <tr>\n",
       "      <th>3</th>\n",
       "      <td>D17E087C-7783-42E8-A875-E4870C2F5EC0</td>\n",
       "      <td>2ADEC63D-D741-48F5-9024-B103F2BBCC3B</td>\n",
       "      <td>001016</td>\n",
       "      <td>Calcium, Serum</td>\n",
       "      <td>9.5</td>\n",
       "      <td>mg/dL</td>\n",
       "      <td>0</td>\n",
       "      <td>0</td>\n",
       "    </tr>\n",
       "    <tr>\n",
       "      <th>4</th>\n",
       "      <td>A1455081-17F7-4714-89E3-CACE4BA5BBC5</td>\n",
       "      <td>CCB87D9F-DCF8-4145-B4A8-5082F9E2FDA7</td>\n",
       "      <td>001016</td>\n",
       "      <td>Calcium, Serum</td>\n",
       "      <td>9.2</td>\n",
       "      <td>mg/dL</td>\n",
       "      <td>0</td>\n",
       "      <td>0</td>\n",
       "    </tr>\n",
       "  </tbody>\n",
       "</table>\n",
       "</div>"
      ],
      "text/plain": [
       "                           LabPanelGuid                    LabObservationGuid  \\\n",
       "0  AC8B2E6D-E55E-42C5-B0F4-099094703A4B  30F3917A-E4DE-4ADD-BE2A-6E842B1CF958   \n",
       "1  B8A16544-6185-43E7-ADE1-258E4781CCC7  29C33291-2E32-46E1-9FDC-4D73783867E6   \n",
       "2  C9E3816D-C533-4046-AD79-B4EC5CB7DEFA  06586D95-D7F3-4E63-B8AA-5751F3213D98   \n",
       "3  D17E087C-7783-42E8-A875-E4870C2F5EC0  2ADEC63D-D741-48F5-9024-B103F2BBCC3B   \n",
       "4  A1455081-17F7-4714-89E3-CACE4BA5BBC5  CCB87D9F-DCF8-4145-B4A8-5082F9E2FDA7   \n",
       "\n",
       "  HL7Identifier         HL7Text  ObservationValue  Units AbnormalFlags  \\\n",
       "0        001016  Calcium, Serum               9.8  mg/dL             0   \n",
       "1        001016  Calcium, Serum               9.6  mg/dL             0   \n",
       "2        001016  Calcium, Serum              10.1  mg/dL             0   \n",
       "3        001016  Calcium, Serum               9.5  mg/dL             0   \n",
       "4        001016  Calcium, Serum               9.2  mg/dL             0   \n",
       "\n",
       "   IsAbnormalValue  \n",
       "0                0  \n",
       "1                0  \n",
       "2                0  \n",
       "3                0  \n",
       "4                0  "
      ]
     },
     "execution_count": 43,
     "metadata": {},
     "output_type": "execute_result"
    }
   ],
   "source": [
    "keep_columns_lo = [\n",
    "    'LabPanelGuid',\n",
    "    'LabObservationGuid',\n",
    "    'HL7Identifier',\n",
    "    'HL7Text',\n",
    "    'ObservationValue',\n",
    "    'Units',\n",
    "    'AbnormalFlags',\n",
    "    'IsAbnormalValue',\n",
    "]\n",
    "\n",
    "df_slo_new = df_train_slo[keep_columns_lo]\n",
    "df_slo_new.head()"
   ]
  },
  {
   "cell_type": "code",
   "execution_count": 44,
   "id": "a3f1dc1b-acb2-466e-a2e7-81e60a83bf2b",
   "metadata": {
    "tags": []
   },
   "outputs": [
    {
     "name": "stdout",
     "output_type": "stream",
     "text": [
      "Unique HL7Identifier Values:\n",
      "['001016' '001040' '001057' '001065' '001073' '001081' '001099' '001107'\n",
      " '001123' '001149' '001180' '001198' '001206' '001222' '001315' '001339'\n",
      " '001347' '001348' '001362' '001370' '001404' '001503' '001537' '001545'\n",
      " '001578' '001725' '001784' '002019' '002030' '004227' '004261' '004264'\n",
      " '004598' '005025' '005033' '005041' '005058' '005076' '005077' '005215'\n",
      " '006072' '006201' '006510' '006627' '006677' '007386' '008847' '010334'\n",
      " '010389' '011150' '011247' '011362' '011577' '011849' '011916' '011976'\n",
      " '012039' '012047' '012054' '012237' '012581' '012684' '012692' '013045'\n",
      " '013052' '013060' '013078' '013094' '013102' '013104' '013105' '013106'\n",
      " '013110' '013128' '013136' '013145' '013146' '013147' '013148' '013152'\n",
      " '013185' '013672' '015065' '015073' '015081' '015107' '015108' '015123'\n",
      " '015131' '015149' '015156' '015172' '015180' '015255' '015289' '015610'\n",
      " '015909' '015911' '015917' '015925' '015933' '015941' '015945' '016014'\n",
      " '016055' '016063' '016354' '016362' '016683' '017389' '018014' '018707'\n",
      " '019018' '019745' '019747' '080032' '080033' '080074' '081952' '096343' 0\n",
      " '10834-0' '13965-9' '1759-0' '1798-8' '18282-4' '19123-9' '19141-1'\n",
      " '19270-8' '19295-5' '19550-3' '1975-2' '20405-7' '20454-5' '2075-0'\n",
      " '2143-6' '21484-1' '2243-4' '2276-4' '2284-8' '24124-0' '2514-8' '2571-8'\n",
      " '2597-3' '2823-3' '2839-9' '2842-3' '2885-2' '2888-6' '3026-2' '3034-6'\n",
      " '3349-8' '3377-9' '3390-2' '3746-5' '377203' '3773-9' '3879-4' '3936-2'\n",
      " '4544-3' '550134' '5767-9' '5769-5' '5770-3' '5778-6' '5782-8' '5794-3'\n",
      " '5802-4' '5803-2' '6824-7' '6825-4' '718-7' '742-7' '751-8' '777-3'\n",
      " '8247-9' '9335-1' '9796-4' '9804-6' 'HUN3103' 'HUN3140' 'HUN3814'\n",
      " 'HUN3815' 'HUN4454' 'HUNXTOTE']\n",
      "Unique HL7 Text:\n",
      "['% CD 4 Pos. Lymph.', '.', '25 OH VITAMIN D', '25 OH VITAMIN D:  RESULT:', 'A/G Ratio', 'ABS BASOPHILS', 'ABS EOSINOPHILS', 'ABS LYMPHOCYTES', 'ABS MONOCYTES', 'ABS SEGS', 'ALBUMIN', 'ALK PHOSPHATASE', 'ALKALINE PHOSPHATASE', 'ALT', 'ALT (SGPT)', 'ALT/SGPT', 'AST', 'AST (SGOT )', 'AST (SGOT)', 'AST/SGOT', 'Absolute CD 4 Helper', 'Additional Test(s) Requested', 'Albumin / Globulin Ratio', 'Albumin, Serum', 'Albumin/Globulin', 'Aldolase', 'Alkaline Phos', 'Alkaline Phosphatase, S', 'Ambig Abbrev BMP8 Default', 'Ambig Abbrev CMP14 Default', 'Ambig Abbrev HFP7 Default', 'Ambig Abbrev LP Default', 'Ambiguous Test Order', 'Amphetamines', 'Amylase', 'Anion Gap', 'Anti-Centromere B Antibodies', 'Anti-DNA (DS) Ab Qn', 'Anti-Jo-1', 'Antibody Screen', 'Antichromatin Antibodies', 'Antimicrobial Susceptibility', 'Antiscleroderma-70 Antibodies', 'Apolipoprotein B', 'Appearance', 'B-Type Natriuretic Peptide', 'BASOPHILS', 'BILIRUBIN,TOTAL', 'BLOOD UREA NITROGEN', 'BUN', 'BUN / Creatinine Ratio', 'BUN/Creatinine Ratio', 'Bacteria', 'Bands', 'Barbiturates', 'Baso (Absolute)', 'Basophils - Absolute', 'Basos', 'Benzodiazepines', 'Beta Globulin', 'Bilirubin', 'Bilirubin Direct', 'Bilirubin Total', 'Bilirubin, Direct', 'Bilirubin, Indirect', 'Bilirubin, Total', 'Blood', 'Blood Grouping', 'C-Reactive Protein, Cardiac', 'C-Reactive Protein, Quant', 'CALCIUM', 'CF, Screen', 'CLINICAL INFORMATION', 'CO2', 'COMPLETE BLOOD COUNT', 'COMPLETE BLOOD COUNT: WHITE BLOOD CELL COUNT', 'CREATININE', 'Calcium, Serum', 'Cannabinoids', 'Carbon Dioxide, Total', 'Cast Type', 'Casts', 'Chlamydia, Nuc. Acid Amp', 'Chloride', 'Chloride, Serum', 'Cholesterol / HDL Ratio', 'Cholesterol, Total', 'Class Description', 'Clinician provided ICD9:', 'Cocaine', 'Color', 'Comment:', 'Comments:', 'Cortisol', 'Creatine Kinase (CK), MB', 'Creatine Kinase,Total,Serum', 'Creatinine, Serum', 'Creatinine, Urine', 'Crystal Type', 'Crystals', 'DATE RELEASED:', 'DESCRIPTIVE DIAGNOSIS:', 'DIAGNOSIS:', 'DIFFERENTIAL', 'DIFFERENTIAL: SEGS', 'DIRECT BILIRUBIN', 'Deamidated Gliadin Abs, IgA', 'Deamidated Gliadin Abs, IgG', 'Digoxin, Serum', 'EOSINOPHILS', 'EPITHELIAL CELLS:', 'Electronically signed by:', 'Endomysial Antibody IgA', 'Eos', 'Eos (Absolute)', 'Eosinophils - Absolute', 'Epithelial Cells', 'Epithelial Cells (non renal)', 'Estimated GFR (eGFR)', 'Estradiol', 'Estrogens, Total', 'FOLLICLE STIM. HORMONE (FSH)', 'FOLLICLE STIM. HORMONE (FSH):  RESULT:', 'FSH', 'Ferritin', 'Ferritin, Serum', 'Folate', 'Folate (Folic Acid), Serum', 'Free Testosterone(Direct)', 'GENERAL CATEGORIZATION:', 'GFR (AFRICAN AMERICAN)', 'GFR (NON AFRICAN AMER)', 'GFR/Black', 'GFR/White', 'Gamma Globulin', 'Globulin', 'Globulin, Total', 'Gonococcus, Nuc. Acid Amp', 'H. pylori Breath Test', 'H. pylori IgG, Abs', 'H. pylori, IgA ABS', 'H.pylori, IgM ABS', 'HBsAg Screen', 'HCT', 'HDL', 'HDL Chol', 'HDL-C', 'HDL-P (Total)', 'HGB', 'HIV 1/2 Screen', 'HIV 1/O/2 Abs, Qual', 'HIV 1/O/2 Abs-Index Value', 'HIV-1 RNA by PCR', 'HPV, high-risk', 'Hematocrit', 'Hematology Comments:', 'Hemoglobin', 'Hepatitis C Antibody', 'Homocyst(e)ine, Plasma', 'Homocysteine', 'INR', 'Immature Cells', 'Immature Grans (Abs)', 'Immature Granulocytes', 'Immunoglobulin A, Qn, Serum', 'Interpretive Comment', 'Iron Bind.Cap.(TIBC)', 'Iron Saturation', 'Iron, Serum', 'KETONES, URINE:', 'Ketones', 'LDL', 'LDL Chol', 'LDL Cholesterol (Calc)', 'LDL Cholesterol (Calculation)', 'LDL Cholesterol Calc', 'LDL Size', 'LDL-C', 'LDL-P', 'LDL/HDL Ratio', 'LH', 'LP-IR Score', 'LYMPHOCYTES', 'Lipase', 'Lipase, Serum', 'Lipoprotein (a)', 'Lymphocytes - Absolute', 'Lymphs', 'Lymphs (Absolute)', 'MCH', 'MCHC', 'MCV', 'MICROSCOPIC, URINE', 'MICROSCOPIC, URINE: WBC', 'MPV', 'Magnesium', 'Magnesium, Serum', 'Meperidine', 'Methadone', 'Methaqualone', 'Microalb/Creat Ratio', 'Microalbumin', 'Microalbumin, Urine', 'Microalbumin/Creatinine Ratio', 'Microscopic Examination', 'Monocytes', 'Monocytes - Absolute', 'Monocytes(Absolute)', 'Mucus', 'Mucus Threads', 'NITRITES', 'NRBC', 'Neutrophils', 'Neutrophils (Absolute)', 'Neutrophils - Absolute', 'Nitrite', 'Nitrite, Urine', 'Non-HDL Cholesterol', 'Note:', 'OTHER', 'Occult Blood', 'One Specimen Identifier', 'Opiates', 'PATHOLOGIST:', 'PDF Report1', 'PDF Report2', 'PH,URINE', 'PLATELET COUNT: PLATELET COUNT', 'PROSTATE SPECIFIC ANTIGEN', 'PROSTATE SPECIFIC ANTIGEN:  RESULT:', 'PSA', 'PSA Diagnostic', 'PTH, Intact', 'Pathologist provided ICD9:', 'Performed by:', 'Phencyclidine', 'Platelet Count', 'Platelets', 'Please note', 'Please note:', 'Potassium', 'Potassium, Serum', 'Progesterone', 'Prolactin', 'Propoxyphene', 'Prostate Specific Ag, Serum', 'Protein', 'Protein Total', 'Protein, Total, Serum', 'Prothrombin Time', 'QC reviewed by:', 'RBC', 'RBC COUNT', 'RBC DISTRIBUTION WIDTH', 'RDW', 'RED BLOOD CELL COUNT', 'RNP Antibodies', 'RPR', 'Race', 'Reflex Criteria', 'Request Problem', 'Result 1', 'Result 2', 'Results', 'Rh Factor (D)', 'Rheumatoid Factor', 'Risk Ratio (CHOL/HDL)', 'Rubella Antibodies, IgG', 'SED RATE', 'SED RATE:  RESULT:', 'SGOT (AST)', 'SGPT (ALT)', 'SODIUM', 'SPECIMEN ADEQUACY:', 'Sedimentation Rate', 'Sedimentation Rate-Westergren', 'See below:', 'Sex Hormone Binding Globulin', \"Sjogren's Anti-SS-A\", \"Sjogren's Anti-SS-B\", 'Small LDL-P', 'Smith Antibodies', 'Sodium, Serum', 'Specific Gravity', 'T3 Total', 'T3 UPTAKE', 'T3, Free', 'T4,Free (Direct)', 'T4,Free(Direct)', 'TESTNOTES', 'TIBC', 'TOTAL BILIRUBIN', 'TOTAL T3', 'TOTAL T3:  RESULT:', 'TSH', 'TSH (Ultrasensitive)', 'TSH 3RD GENERATION', 'Test Information:', 'Test Methodology:', 'Testosterone, Free', 'Testosterone, Serum', 'Testosterone, Total', 'Thyroid Peroxidase (TPO) Ab', 'Thyroxine', 'Thyroxine (T4)', 'Thyroxine Free', 'Total Chol/HDL Ratio', 'Total Cholesterol', 'Total Protein', 'Transferrin', 'Triglyceride', 'Triiodothyronine,Free,Serum', 'UIBC', 'URINALYSIS', 'URINALYSIS: GLUCOSE', 'URINE CLARITY', 'URINE COLOR', 'Uric Acid', 'Uric Acid, Serum', 'Urinalysis Reflex', 'Urine Culture', 'Urine Culture, Routine', 'Urine-Color', 'Urobilinogen', 'Urobilinogen,Semi-Qn', 'VLDL', 'VLDL Chol Calc', 'VLDL Cholesterol (Calc)', 'VLDL Cholesterol (Calculation)', 'VLDL Cholesterol Cal', 'Verbal Add-on', 'Vitamin B-12', 'Vitamin B12', 'Vitamin D 25-Hydroxy', 'Vitamin D, 25-Hydroxy', 'Vitamin D,25 Hydroxy', 'WBC', 'WBC COUNT', 'WBC Esterase', 'Weight', 'Written Authorization', 'eGFR', 'eGFR African Amer', 'eGFR AfricanAmerican', 'eGFR Non-African Amer', 'pH', 't-Transglutaminase (tTG) IgA', 't-Transglutaminase (tTG) IgG']\n"
     ]
    }
   ],
   "source": [
    "unique_hl7 = df_slo_new['HL7Identifier'].unique()\n",
    "print(\"Unique HL7Identifier Values:\")\n",
    "print(unique_hl7)\n",
    "\n",
    "unique_hl7_text = df_slo_new['HL7Text'].unique()\n",
    "print(\"Unique HL7 Text:\")\n",
    "print(sorted(unique_hl7_text))"
   ]
  },
  {
   "cell_type": "code",
   "execution_count": 45,
   "id": "06cc0719-6dcc-491c-ace1-a04253dafdbe",
   "metadata": {
    "tags": []
   },
   "outputs": [],
   "source": [
    "t2d_hl7_identifiers = [\n",
    "    '18282-4', '1558-6', '20405-7', '2075-0', '2345-7',  # Glucose Monitoring\n",
    "    '4548-4',  # HbA1c\n",
    "    '2093-3', '2571-8', '2823-3', '2085-9'  # Lipid Profile\n",
    "]"
   ]
  },
  {
   "cell_type": "code",
   "execution_count": 46,
   "id": "0083c9db-96c4-4f6d-b99e-f6c6f1e9e05b",
   "metadata": {
    "tags": []
   },
   "outputs": [
    {
     "name": "stdout",
     "output_type": "stream",
     "text": [
      "Unique Abnormal Values:\n",
      "[0 1]\n"
     ]
    }
   ],
   "source": [
    "unique_av = df_slo_new['IsAbnormalValue'].unique()\n",
    "print(\"Unique Abnormal Values:\")\n",
    "print(unique_av)"
   ]
  },
  {
   "cell_type": "code",
   "execution_count": 47,
   "id": "95a03292-409d-4113-88ad-3a6e58ab7779",
   "metadata": {
    "tags": []
   },
   "outputs": [
    {
     "name": "stdout",
     "output_type": "stream",
     "text": [
      "Unique Abnormal Flags:\n",
      "[0 'Below Normal Low' 'Above Normal High' 'Panic High' 'Abnormal Result'\n",
      " 'Alert High' 'Panic Low' 'Alert Low' 'UKNOWN']\n"
     ]
    }
   ],
   "source": [
    "unique_av_values = df_slo_new['AbnormalFlags'].unique()\n",
    "print(\"Unique Abnormal Flags:\")\n",
    "print(unique_av_values)"
   ]
  },
  {
   "cell_type": "code",
   "execution_count": 48,
   "id": "e0c346ec-8182-455d-850d-abf832af232b",
   "metadata": {
    "tags": []
   },
   "outputs": [
    {
     "name": "stderr",
     "output_type": "stream",
     "text": [
      "C:\\Users\\svkar\\AppData\\Local\\Temp\\ipykernel_824\\908909369.py:1: SettingWithCopyWarning: \n",
      "A value is trying to be set on a copy of a slice from a DataFrame.\n",
      "Try using .loc[row_indexer,col_indexer] = value instead\n",
      "\n",
      "See the caveats in the documentation: https://pandas.pydata.org/pandas-docs/stable/user_guide/indexing.html#returning-a-view-versus-a-copy\n",
      "  df_slo_new.loc[:, 'T2D_Lab_Observation_Flag'] = df_slo_new.apply(\n"
     ]
    }
   ],
   "source": [
    "df_slo_new.loc[:, 'T2D_Lab_Observation_Flag'] = df_slo_new.apply(\n",
    "    lambda row: 1 if (row['HL7Identifier'] in t2d_hl7_identifiers and row['IsAbnormalValue'] == 1) else 0,\n",
    "    axis=1\n",
    ")"
   ]
  },
  {
   "cell_type": "code",
   "execution_count": 49,
   "id": "388fd986-73cb-4d2e-8f88-c42fa7be7340",
   "metadata": {
    "tags": []
   },
   "outputs": [
    {
     "data": {
      "text/html": [
       "<div>\n",
       "<style scoped>\n",
       "    .dataframe tbody tr th:only-of-type {\n",
       "        vertical-align: middle;\n",
       "    }\n",
       "\n",
       "    .dataframe tbody tr th {\n",
       "        vertical-align: top;\n",
       "    }\n",
       "\n",
       "    .dataframe thead th {\n",
       "        text-align: right;\n",
       "    }\n",
       "</style>\n",
       "<table border=\"1\" class=\"dataframe\">\n",
       "  <thead>\n",
       "    <tr style=\"text-align: right;\">\n",
       "      <th></th>\n",
       "      <th>LabPanelGuid</th>\n",
       "      <th>LabObservationGuid</th>\n",
       "      <th>HL7Identifier</th>\n",
       "      <th>HL7Text</th>\n",
       "      <th>ObservationValue</th>\n",
       "      <th>Units</th>\n",
       "      <th>AbnormalFlags</th>\n",
       "      <th>IsAbnormalValue</th>\n",
       "      <th>T2D_Lab_Observation_Flag</th>\n",
       "    </tr>\n",
       "  </thead>\n",
       "  <tbody>\n",
       "    <tr>\n",
       "      <th>0</th>\n",
       "      <td>AC8B2E6D-E55E-42C5-B0F4-099094703A4B</td>\n",
       "      <td>30F3917A-E4DE-4ADD-BE2A-6E842B1CF958</td>\n",
       "      <td>001016</td>\n",
       "      <td>Calcium, Serum</td>\n",
       "      <td>9.8</td>\n",
       "      <td>mg/dL</td>\n",
       "      <td>0</td>\n",
       "      <td>0</td>\n",
       "      <td>0</td>\n",
       "    </tr>\n",
       "    <tr>\n",
       "      <th>1</th>\n",
       "      <td>B8A16544-6185-43E7-ADE1-258E4781CCC7</td>\n",
       "      <td>29C33291-2E32-46E1-9FDC-4D73783867E6</td>\n",
       "      <td>001016</td>\n",
       "      <td>Calcium, Serum</td>\n",
       "      <td>9.6</td>\n",
       "      <td>mg/dL</td>\n",
       "      <td>0</td>\n",
       "      <td>0</td>\n",
       "      <td>0</td>\n",
       "    </tr>\n",
       "    <tr>\n",
       "      <th>2</th>\n",
       "      <td>C9E3816D-C533-4046-AD79-B4EC5CB7DEFA</td>\n",
       "      <td>06586D95-D7F3-4E63-B8AA-5751F3213D98</td>\n",
       "      <td>001016</td>\n",
       "      <td>Calcium, Serum</td>\n",
       "      <td>10.1</td>\n",
       "      <td>mg/dL</td>\n",
       "      <td>0</td>\n",
       "      <td>0</td>\n",
       "      <td>0</td>\n",
       "    </tr>\n",
       "    <tr>\n",
       "      <th>3</th>\n",
       "      <td>D17E087C-7783-42E8-A875-E4870C2F5EC0</td>\n",
       "      <td>2ADEC63D-D741-48F5-9024-B103F2BBCC3B</td>\n",
       "      <td>001016</td>\n",
       "      <td>Calcium, Serum</td>\n",
       "      <td>9.5</td>\n",
       "      <td>mg/dL</td>\n",
       "      <td>0</td>\n",
       "      <td>0</td>\n",
       "      <td>0</td>\n",
       "    </tr>\n",
       "    <tr>\n",
       "      <th>4</th>\n",
       "      <td>A1455081-17F7-4714-89E3-CACE4BA5BBC5</td>\n",
       "      <td>CCB87D9F-DCF8-4145-B4A8-5082F9E2FDA7</td>\n",
       "      <td>001016</td>\n",
       "      <td>Calcium, Serum</td>\n",
       "      <td>9.2</td>\n",
       "      <td>mg/dL</td>\n",
       "      <td>0</td>\n",
       "      <td>0</td>\n",
       "      <td>0</td>\n",
       "    </tr>\n",
       "  </tbody>\n",
       "</table>\n",
       "</div>"
      ],
      "text/plain": [
       "                           LabPanelGuid                    LabObservationGuid  \\\n",
       "0  AC8B2E6D-E55E-42C5-B0F4-099094703A4B  30F3917A-E4DE-4ADD-BE2A-6E842B1CF958   \n",
       "1  B8A16544-6185-43E7-ADE1-258E4781CCC7  29C33291-2E32-46E1-9FDC-4D73783867E6   \n",
       "2  C9E3816D-C533-4046-AD79-B4EC5CB7DEFA  06586D95-D7F3-4E63-B8AA-5751F3213D98   \n",
       "3  D17E087C-7783-42E8-A875-E4870C2F5EC0  2ADEC63D-D741-48F5-9024-B103F2BBCC3B   \n",
       "4  A1455081-17F7-4714-89E3-CACE4BA5BBC5  CCB87D9F-DCF8-4145-B4A8-5082F9E2FDA7   \n",
       "\n",
       "  HL7Identifier         HL7Text  ObservationValue  Units AbnormalFlags  \\\n",
       "0        001016  Calcium, Serum               9.8  mg/dL             0   \n",
       "1        001016  Calcium, Serum               9.6  mg/dL             0   \n",
       "2        001016  Calcium, Serum              10.1  mg/dL             0   \n",
       "3        001016  Calcium, Serum               9.5  mg/dL             0   \n",
       "4        001016  Calcium, Serum               9.2  mg/dL             0   \n",
       "\n",
       "   IsAbnormalValue  T2D_Lab_Observation_Flag  \n",
       "0                0                         0  \n",
       "1                0                         0  \n",
       "2                0                         0  \n",
       "3                0                         0  \n",
       "4                0                         0  "
      ]
     },
     "execution_count": 49,
     "metadata": {},
     "output_type": "execute_result"
    }
   ],
   "source": [
    "df_slo_new.head()"
   ]
  },
  {
   "cell_type": "code",
   "execution_count": 50,
   "id": "32bd8664-c341-4cab-99be-184d38566f2b",
   "metadata": {
    "tags": []
   },
   "outputs": [
    {
     "name": "stderr",
     "output_type": "stream",
     "text": [
      "C:\\Users\\svkar\\AppData\\Local\\Temp\\ipykernel_824\\2494931097.py:3: UserWarning: Unable to sort modes: '<' not supported between instances of 'int' and 'str'\n",
      "  MostHL7Identifier=('HL7Identifier', lambda x: x.mode().iloc[0] if not x.mode().empty else None),\n",
      "C:\\Users\\svkar\\AppData\\Local\\Temp\\ipykernel_824\\2494931097.py:3: UserWarning: Unable to sort modes: '<' not supported between instances of 'int' and 'str'\n",
      "  MostHL7Identifier=('HL7Identifier', lambda x: x.mode().iloc[0] if not x.mode().empty else None),\n",
      "C:\\Users\\svkar\\AppData\\Local\\Temp\\ipykernel_824\\2494931097.py:3: UserWarning: Unable to sort modes: '<' not supported between instances of 'int' and 'str'\n",
      "  MostHL7Identifier=('HL7Identifier', lambda x: x.mode().iloc[0] if not x.mode().empty else None),\n",
      "C:\\Users\\svkar\\AppData\\Local\\Temp\\ipykernel_824\\2494931097.py:3: UserWarning: Unable to sort modes: '<' not supported between instances of 'int' and 'str'\n",
      "  MostHL7Identifier=('HL7Identifier', lambda x: x.mode().iloc[0] if not x.mode().empty else None),\n",
      "C:\\Users\\svkar\\AppData\\Local\\Temp\\ipykernel_824\\2494931097.py:3: UserWarning: Unable to sort modes: '<' not supported between instances of 'int' and 'str'\n",
      "  MostHL7Identifier=('HL7Identifier', lambda x: x.mode().iloc[0] if not x.mode().empty else None),\n",
      "C:\\Users\\svkar\\AppData\\Local\\Temp\\ipykernel_824\\2494931097.py:3: UserWarning: Unable to sort modes: '<' not supported between instances of 'int' and 'str'\n",
      "  MostHL7Identifier=('HL7Identifier', lambda x: x.mode().iloc[0] if not x.mode().empty else None),\n",
      "C:\\Users\\svkar\\AppData\\Local\\Temp\\ipykernel_824\\2494931097.py:3: UserWarning: Unable to sort modes: '<' not supported between instances of 'int' and 'str'\n",
      "  MostHL7Identifier=('HL7Identifier', lambda x: x.mode().iloc[0] if not x.mode().empty else None),\n",
      "C:\\Users\\svkar\\AppData\\Local\\Temp\\ipykernel_824\\2494931097.py:3: UserWarning: Unable to sort modes: '<' not supported between instances of 'int' and 'str'\n",
      "  MostHL7Identifier=('HL7Identifier', lambda x: x.mode().iloc[0] if not x.mode().empty else None),\n",
      "C:\\Users\\svkar\\AppData\\Local\\Temp\\ipykernel_824\\2494931097.py:3: UserWarning: Unable to sort modes: '<' not supported between instances of 'int' and 'str'\n",
      "  MostHL7Identifier=('HL7Identifier', lambda x: x.mode().iloc[0] if not x.mode().empty else None),\n",
      "C:\\Users\\svkar\\AppData\\Local\\Temp\\ipykernel_824\\2494931097.py:3: UserWarning: Unable to sort modes: '<' not supported between instances of 'int' and 'str'\n",
      "  MostHL7Identifier=('HL7Identifier', lambda x: x.mode().iloc[0] if not x.mode().empty else None),\n",
      "C:\\Users\\svkar\\AppData\\Local\\Temp\\ipykernel_824\\2494931097.py:3: UserWarning: Unable to sort modes: '<' not supported between instances of 'int' and 'str'\n",
      "  MostHL7Identifier=('HL7Identifier', lambda x: x.mode().iloc[0] if not x.mode().empty else None),\n",
      "C:\\Users\\svkar\\AppData\\Local\\Temp\\ipykernel_824\\2494931097.py:3: UserWarning: Unable to sort modes: '<' not supported between instances of 'int' and 'str'\n",
      "  MostHL7Identifier=('HL7Identifier', lambda x: x.mode().iloc[0] if not x.mode().empty else None),\n",
      "C:\\Users\\svkar\\AppData\\Local\\Temp\\ipykernel_824\\2494931097.py:3: UserWarning: Unable to sort modes: '<' not supported between instances of 'int' and 'str'\n",
      "  MostHL7Identifier=('HL7Identifier', lambda x: x.mode().iloc[0] if not x.mode().empty else None),\n",
      "C:\\Users\\svkar\\AppData\\Local\\Temp\\ipykernel_824\\2494931097.py:3: UserWarning: Unable to sort modes: '<' not supported between instances of 'int' and 'str'\n",
      "  MostHL7Identifier=('HL7Identifier', lambda x: x.mode().iloc[0] if not x.mode().empty else None),\n",
      "C:\\Users\\svkar\\AppData\\Local\\Temp\\ipykernel_824\\2494931097.py:3: UserWarning: Unable to sort modes: '<' not supported between instances of 'int' and 'str'\n",
      "  MostHL7Identifier=('HL7Identifier', lambda x: x.mode().iloc[0] if not x.mode().empty else None),\n",
      "C:\\Users\\svkar\\AppData\\Local\\Temp\\ipykernel_824\\2494931097.py:3: UserWarning: Unable to sort modes: '<' not supported between instances of 'int' and 'str'\n",
      "  MostHL7Identifier=('HL7Identifier', lambda x: x.mode().iloc[0] if not x.mode().empty else None),\n",
      "C:\\Users\\svkar\\AppData\\Local\\Temp\\ipykernel_824\\2494931097.py:3: UserWarning: Unable to sort modes: '<' not supported between instances of 'int' and 'str'\n",
      "  MostHL7Identifier=('HL7Identifier', lambda x: x.mode().iloc[0] if not x.mode().empty else None),\n",
      "C:\\Users\\svkar\\AppData\\Local\\Temp\\ipykernel_824\\2494931097.py:3: UserWarning: Unable to sort modes: '<' not supported between instances of 'int' and 'str'\n",
      "  MostHL7Identifier=('HL7Identifier', lambda x: x.mode().iloc[0] if not x.mode().empty else None),\n",
      "C:\\Users\\svkar\\AppData\\Local\\Temp\\ipykernel_824\\2494931097.py:3: UserWarning: Unable to sort modes: '<' not supported between instances of 'int' and 'str'\n",
      "  MostHL7Identifier=('HL7Identifier', lambda x: x.mode().iloc[0] if not x.mode().empty else None),\n",
      "C:\\Users\\svkar\\AppData\\Local\\Temp\\ipykernel_824\\2494931097.py:3: UserWarning: Unable to sort modes: '<' not supported between instances of 'int' and 'str'\n",
      "  MostHL7Identifier=('HL7Identifier', lambda x: x.mode().iloc[0] if not x.mode().empty else None),\n",
      "C:\\Users\\svkar\\AppData\\Local\\Temp\\ipykernel_824\\2494931097.py:3: UserWarning: Unable to sort modes: '<' not supported between instances of 'int' and 'str'\n",
      "  MostHL7Identifier=('HL7Identifier', lambda x: x.mode().iloc[0] if not x.mode().empty else None),\n",
      "C:\\Users\\svkar\\AppData\\Local\\Temp\\ipykernel_824\\2494931097.py:3: UserWarning: Unable to sort modes: '<' not supported between instances of 'int' and 'str'\n",
      "  MostHL7Identifier=('HL7Identifier', lambda x: x.mode().iloc[0] if not x.mode().empty else None),\n",
      "C:\\Users\\svkar\\AppData\\Local\\Temp\\ipykernel_824\\2494931097.py:3: UserWarning: Unable to sort modes: '<' not supported between instances of 'int' and 'str'\n",
      "  MostHL7Identifier=('HL7Identifier', lambda x: x.mode().iloc[0] if not x.mode().empty else None),\n",
      "C:\\Users\\svkar\\AppData\\Local\\Temp\\ipykernel_824\\2494931097.py:3: UserWarning: Unable to sort modes: '<' not supported between instances of 'int' and 'str'\n",
      "  MostHL7Identifier=('HL7Identifier', lambda x: x.mode().iloc[0] if not x.mode().empty else None),\n",
      "C:\\Users\\svkar\\AppData\\Local\\Temp\\ipykernel_824\\2494931097.py:3: UserWarning: Unable to sort modes: '<' not supported between instances of 'int' and 'str'\n",
      "  MostHL7Identifier=('HL7Identifier', lambda x: x.mode().iloc[0] if not x.mode().empty else None),\n",
      "C:\\Users\\svkar\\AppData\\Local\\Temp\\ipykernel_824\\2494931097.py:3: UserWarning: Unable to sort modes: '<' not supported between instances of 'int' and 'str'\n",
      "  MostHL7Identifier=('HL7Identifier', lambda x: x.mode().iloc[0] if not x.mode().empty else None),\n",
      "C:\\Users\\svkar\\AppData\\Local\\Temp\\ipykernel_824\\2494931097.py:3: UserWarning: Unable to sort modes: '<' not supported between instances of 'int' and 'str'\n",
      "  MostHL7Identifier=('HL7Identifier', lambda x: x.mode().iloc[0] if not x.mode().empty else None),\n",
      "C:\\Users\\svkar\\AppData\\Local\\Temp\\ipykernel_824\\2494931097.py:3: UserWarning: Unable to sort modes: '<' not supported between instances of 'int' and 'str'\n",
      "  MostHL7Identifier=('HL7Identifier', lambda x: x.mode().iloc[0] if not x.mode().empty else None),\n",
      "C:\\Users\\svkar\\AppData\\Local\\Temp\\ipykernel_824\\2494931097.py:3: UserWarning: Unable to sort modes: '<' not supported between instances of 'int' and 'str'\n",
      "  MostHL7Identifier=('HL7Identifier', lambda x: x.mode().iloc[0] if not x.mode().empty else None),\n",
      "C:\\Users\\svkar\\AppData\\Local\\Temp\\ipykernel_824\\2494931097.py:3: UserWarning: Unable to sort modes: '<' not supported between instances of 'int' and 'str'\n",
      "  MostHL7Identifier=('HL7Identifier', lambda x: x.mode().iloc[0] if not x.mode().empty else None),\n",
      "C:\\Users\\svkar\\AppData\\Local\\Temp\\ipykernel_824\\2494931097.py:3: UserWarning: Unable to sort modes: '<' not supported between instances of 'int' and 'str'\n",
      "  MostHL7Identifier=('HL7Identifier', lambda x: x.mode().iloc[0] if not x.mode().empty else None),\n",
      "C:\\Users\\svkar\\AppData\\Local\\Temp\\ipykernel_824\\2494931097.py:3: UserWarning: Unable to sort modes: '<' not supported between instances of 'int' and 'str'\n",
      "  MostHL7Identifier=('HL7Identifier', lambda x: x.mode().iloc[0] if not x.mode().empty else None),\n",
      "C:\\Users\\svkar\\AppData\\Local\\Temp\\ipykernel_824\\2494931097.py:3: UserWarning: Unable to sort modes: '<' not supported between instances of 'str' and 'int'\n",
      "  MostHL7Identifier=('HL7Identifier', lambda x: x.mode().iloc[0] if not x.mode().empty else None),\n",
      "C:\\Users\\svkar\\AppData\\Local\\Temp\\ipykernel_824\\2494931097.py:3: UserWarning: Unable to sort modes: '<' not supported between instances of 'str' and 'int'\n",
      "  MostHL7Identifier=('HL7Identifier', lambda x: x.mode().iloc[0] if not x.mode().empty else None),\n",
      "C:\\Users\\svkar\\AppData\\Local\\Temp\\ipykernel_824\\2494931097.py:3: UserWarning: Unable to sort modes: '<' not supported between instances of 'int' and 'str'\n",
      "  MostHL7Identifier=('HL7Identifier', lambda x: x.mode().iloc[0] if not x.mode().empty else None),\n",
      "C:\\Users\\svkar\\AppData\\Local\\Temp\\ipykernel_824\\2494931097.py:3: UserWarning: Unable to sort modes: '<' not supported between instances of 'int' and 'str'\n",
      "  MostHL7Identifier=('HL7Identifier', lambda x: x.mode().iloc[0] if not x.mode().empty else None),\n",
      "C:\\Users\\svkar\\AppData\\Local\\Temp\\ipykernel_824\\2494931097.py:3: UserWarning: Unable to sort modes: '<' not supported between instances of 'int' and 'str'\n",
      "  MostHL7Identifier=('HL7Identifier', lambda x: x.mode().iloc[0] if not x.mode().empty else None),\n",
      "C:\\Users\\svkar\\AppData\\Local\\Temp\\ipykernel_824\\2494931097.py:3: UserWarning: Unable to sort modes: '<' not supported between instances of 'int' and 'str'\n",
      "  MostHL7Identifier=('HL7Identifier', lambda x: x.mode().iloc[0] if not x.mode().empty else None),\n",
      "C:\\Users\\svkar\\AppData\\Local\\Temp\\ipykernel_824\\2494931097.py:3: UserWarning: Unable to sort modes: '<' not supported between instances of 'int' and 'str'\n",
      "  MostHL7Identifier=('HL7Identifier', lambda x: x.mode().iloc[0] if not x.mode().empty else None),\n",
      "C:\\Users\\svkar\\AppData\\Local\\Temp\\ipykernel_824\\2494931097.py:3: UserWarning: Unable to sort modes: '<' not supported between instances of 'int' and 'str'\n",
      "  MostHL7Identifier=('HL7Identifier', lambda x: x.mode().iloc[0] if not x.mode().empty else None),\n",
      "C:\\Users\\svkar\\AppData\\Local\\Temp\\ipykernel_824\\2494931097.py:3: UserWarning: Unable to sort modes: '<' not supported between instances of 'int' and 'str'\n",
      "  MostHL7Identifier=('HL7Identifier', lambda x: x.mode().iloc[0] if not x.mode().empty else None),\n",
      "C:\\Users\\svkar\\AppData\\Local\\Temp\\ipykernel_824\\2494931097.py:3: UserWarning: Unable to sort modes: '<' not supported between instances of 'int' and 'str'\n",
      "  MostHL7Identifier=('HL7Identifier', lambda x: x.mode().iloc[0] if not x.mode().empty else None),\n",
      "C:\\Users\\svkar\\AppData\\Local\\Temp\\ipykernel_824\\2494931097.py:3: UserWarning: Unable to sort modes: '<' not supported between instances of 'int' and 'str'\n",
      "  MostHL7Identifier=('HL7Identifier', lambda x: x.mode().iloc[0] if not x.mode().empty else None),\n",
      "C:\\Users\\svkar\\AppData\\Local\\Temp\\ipykernel_824\\2494931097.py:3: UserWarning: Unable to sort modes: '<' not supported between instances of 'int' and 'str'\n",
      "  MostHL7Identifier=('HL7Identifier', lambda x: x.mode().iloc[0] if not x.mode().empty else None),\n",
      "C:\\Users\\svkar\\AppData\\Local\\Temp\\ipykernel_824\\2494931097.py:3: UserWarning: Unable to sort modes: '<' not supported between instances of 'int' and 'str'\n",
      "  MostHL7Identifier=('HL7Identifier', lambda x: x.mode().iloc[0] if not x.mode().empty else None),\n",
      "C:\\Users\\svkar\\AppData\\Local\\Temp\\ipykernel_824\\2494931097.py:3: UserWarning: Unable to sort modes: '<' not supported between instances of 'int' and 'str'\n",
      "  MostHL7Identifier=('HL7Identifier', lambda x: x.mode().iloc[0] if not x.mode().empty else None),\n",
      "C:\\Users\\svkar\\AppData\\Local\\Temp\\ipykernel_824\\2494931097.py:3: UserWarning: Unable to sort modes: '<' not supported between instances of 'int' and 'str'\n",
      "  MostHL7Identifier=('HL7Identifier', lambda x: x.mode().iloc[0] if not x.mode().empty else None),\n",
      "C:\\Users\\svkar\\AppData\\Local\\Temp\\ipykernel_824\\2494931097.py:3: UserWarning: Unable to sort modes: '<' not supported between instances of 'int' and 'str'\n",
      "  MostHL7Identifier=('HL7Identifier', lambda x: x.mode().iloc[0] if not x.mode().empty else None),\n",
      "C:\\Users\\svkar\\AppData\\Local\\Temp\\ipykernel_824\\2494931097.py:3: UserWarning: Unable to sort modes: '<' not supported between instances of 'int' and 'str'\n",
      "  MostHL7Identifier=('HL7Identifier', lambda x: x.mode().iloc[0] if not x.mode().empty else None),\n",
      "C:\\Users\\svkar\\AppData\\Local\\Temp\\ipykernel_824\\2494931097.py:3: UserWarning: Unable to sort modes: '<' not supported between instances of 'int' and 'str'\n",
      "  MostHL7Identifier=('HL7Identifier', lambda x: x.mode().iloc[0] if not x.mode().empty else None),\n",
      "C:\\Users\\svkar\\AppData\\Local\\Temp\\ipykernel_824\\2494931097.py:3: UserWarning: Unable to sort modes: '<' not supported between instances of 'int' and 'str'\n",
      "  MostHL7Identifier=('HL7Identifier', lambda x: x.mode().iloc[0] if not x.mode().empty else None),\n",
      "C:\\Users\\svkar\\AppData\\Local\\Temp\\ipykernel_824\\2494931097.py:3: UserWarning: Unable to sort modes: '<' not supported between instances of 'int' and 'str'\n",
      "  MostHL7Identifier=('HL7Identifier', lambda x: x.mode().iloc[0] if not x.mode().empty else None),\n",
      "C:\\Users\\svkar\\AppData\\Local\\Temp\\ipykernel_824\\2494931097.py:3: UserWarning: Unable to sort modes: '<' not supported between instances of 'int' and 'str'\n",
      "  MostHL7Identifier=('HL7Identifier', lambda x: x.mode().iloc[0] if not x.mode().empty else None),\n",
      "C:\\Users\\svkar\\AppData\\Local\\Temp\\ipykernel_824\\2494931097.py:3: UserWarning: Unable to sort modes: '<' not supported between instances of 'int' and 'str'\n",
      "  MostHL7Identifier=('HL7Identifier', lambda x: x.mode().iloc[0] if not x.mode().empty else None),\n",
      "C:\\Users\\svkar\\AppData\\Local\\Temp\\ipykernel_824\\2494931097.py:3: UserWarning: Unable to sort modes: '<' not supported between instances of 'int' and 'str'\n",
      "  MostHL7Identifier=('HL7Identifier', lambda x: x.mode().iloc[0] if not x.mode().empty else None),\n",
      "C:\\Users\\svkar\\AppData\\Local\\Temp\\ipykernel_824\\2494931097.py:3: UserWarning: Unable to sort modes: '<' not supported between instances of 'int' and 'str'\n",
      "  MostHL7Identifier=('HL7Identifier', lambda x: x.mode().iloc[0] if not x.mode().empty else None),\n",
      "C:\\Users\\svkar\\AppData\\Local\\Temp\\ipykernel_824\\2494931097.py:3: UserWarning: Unable to sort modes: '<' not supported between instances of 'int' and 'str'\n",
      "  MostHL7Identifier=('HL7Identifier', lambda x: x.mode().iloc[0] if not x.mode().empty else None),\n",
      "C:\\Users\\svkar\\AppData\\Local\\Temp\\ipykernel_824\\2494931097.py:3: UserWarning: Unable to sort modes: '<' not supported between instances of 'int' and 'str'\n",
      "  MostHL7Identifier=('HL7Identifier', lambda x: x.mode().iloc[0] if not x.mode().empty else None),\n",
      "C:\\Users\\svkar\\AppData\\Local\\Temp\\ipykernel_824\\2494931097.py:3: UserWarning: Unable to sort modes: '<' not supported between instances of 'int' and 'str'\n",
      "  MostHL7Identifier=('HL7Identifier', lambda x: x.mode().iloc[0] if not x.mode().empty else None),\n",
      "C:\\Users\\svkar\\AppData\\Local\\Temp\\ipykernel_824\\2494931097.py:3: UserWarning: Unable to sort modes: '<' not supported between instances of 'int' and 'str'\n",
      "  MostHL7Identifier=('HL7Identifier', lambda x: x.mode().iloc[0] if not x.mode().empty else None),\n",
      "C:\\Users\\svkar\\AppData\\Local\\Temp\\ipykernel_824\\2494931097.py:3: UserWarning: Unable to sort modes: '<' not supported between instances of 'int' and 'str'\n",
      "  MostHL7Identifier=('HL7Identifier', lambda x: x.mode().iloc[0] if not x.mode().empty else None),\n",
      "C:\\Users\\svkar\\AppData\\Local\\Temp\\ipykernel_824\\2494931097.py:3: UserWarning: Unable to sort modes: '<' not supported between instances of 'int' and 'str'\n",
      "  MostHL7Identifier=('HL7Identifier', lambda x: x.mode().iloc[0] if not x.mode().empty else None),\n",
      "C:\\Users\\svkar\\AppData\\Local\\Temp\\ipykernel_824\\2494931097.py:3: UserWarning: Unable to sort modes: '<' not supported between instances of 'int' and 'str'\n",
      "  MostHL7Identifier=('HL7Identifier', lambda x: x.mode().iloc[0] if not x.mode().empty else None),\n",
      "C:\\Users\\svkar\\AppData\\Local\\Temp\\ipykernel_824\\2494931097.py:3: UserWarning: Unable to sort modes: '<' not supported between instances of 'int' and 'str'\n",
      "  MostHL7Identifier=('HL7Identifier', lambda x: x.mode().iloc[0] if not x.mode().empty else None),\n",
      "C:\\Users\\svkar\\AppData\\Local\\Temp\\ipykernel_824\\2494931097.py:3: UserWarning: Unable to sort modes: '<' not supported between instances of 'int' and 'str'\n",
      "  MostHL7Identifier=('HL7Identifier', lambda x: x.mode().iloc[0] if not x.mode().empty else None),\n",
      "C:\\Users\\svkar\\AppData\\Local\\Temp\\ipykernel_824\\2494931097.py:3: UserWarning: Unable to sort modes: '<' not supported between instances of 'int' and 'str'\n",
      "  MostHL7Identifier=('HL7Identifier', lambda x: x.mode().iloc[0] if not x.mode().empty else None),\n",
      "C:\\Users\\svkar\\AppData\\Local\\Temp\\ipykernel_824\\2494931097.py:3: UserWarning: Unable to sort modes: '<' not supported between instances of 'int' and 'str'\n",
      "  MostHL7Identifier=('HL7Identifier', lambda x: x.mode().iloc[0] if not x.mode().empty else None),\n",
      "C:\\Users\\svkar\\AppData\\Local\\Temp\\ipykernel_824\\2494931097.py:3: UserWarning: Unable to sort modes: '<' not supported between instances of 'int' and 'str'\n",
      "  MostHL7Identifier=('HL7Identifier', lambda x: x.mode().iloc[0] if not x.mode().empty else None),\n",
      "C:\\Users\\svkar\\AppData\\Local\\Temp\\ipykernel_824\\2494931097.py:3: UserWarning: Unable to sort modes: '<' not supported between instances of 'int' and 'str'\n",
      "  MostHL7Identifier=('HL7Identifier', lambda x: x.mode().iloc[0] if not x.mode().empty else None),\n",
      "C:\\Users\\svkar\\AppData\\Local\\Temp\\ipykernel_824\\2494931097.py:3: UserWarning: Unable to sort modes: '<' not supported between instances of 'int' and 'str'\n",
      "  MostHL7Identifier=('HL7Identifier', lambda x: x.mode().iloc[0] if not x.mode().empty else None),\n",
      "C:\\Users\\svkar\\AppData\\Local\\Temp\\ipykernel_824\\2494931097.py:3: UserWarning: Unable to sort modes: '<' not supported between instances of 'int' and 'str'\n",
      "  MostHL7Identifier=('HL7Identifier', lambda x: x.mode().iloc[0] if not x.mode().empty else None),\n",
      "C:\\Users\\svkar\\AppData\\Local\\Temp\\ipykernel_824\\2494931097.py:3: UserWarning: Unable to sort modes: '<' not supported between instances of 'int' and 'str'\n",
      "  MostHL7Identifier=('HL7Identifier', lambda x: x.mode().iloc[0] if not x.mode().empty else None),\n",
      "C:\\Users\\svkar\\AppData\\Local\\Temp\\ipykernel_824\\2494931097.py:3: UserWarning: Unable to sort modes: '<' not supported between instances of 'int' and 'str'\n",
      "  MostHL7Identifier=('HL7Identifier', lambda x: x.mode().iloc[0] if not x.mode().empty else None),\n",
      "C:\\Users\\svkar\\AppData\\Local\\Temp\\ipykernel_824\\2494931097.py:3: UserWarning: Unable to sort modes: '<' not supported between instances of 'int' and 'str'\n",
      "  MostHL7Identifier=('HL7Identifier', lambda x: x.mode().iloc[0] if not x.mode().empty else None),\n",
      "C:\\Users\\svkar\\AppData\\Local\\Temp\\ipykernel_824\\2494931097.py:3: UserWarning: Unable to sort modes: '<' not supported between instances of 'int' and 'str'\n",
      "  MostHL7Identifier=('HL7Identifier', lambda x: x.mode().iloc[0] if not x.mode().empty else None),\n",
      "C:\\Users\\svkar\\AppData\\Local\\Temp\\ipykernel_824\\2494931097.py:3: UserWarning: Unable to sort modes: '<' not supported between instances of 'int' and 'str'\n",
      "  MostHL7Identifier=('HL7Identifier', lambda x: x.mode().iloc[0] if not x.mode().empty else None),\n",
      "C:\\Users\\svkar\\AppData\\Local\\Temp\\ipykernel_824\\2494931097.py:3: UserWarning: Unable to sort modes: '<' not supported between instances of 'int' and 'str'\n",
      "  MostHL7Identifier=('HL7Identifier', lambda x: x.mode().iloc[0] if not x.mode().empty else None),\n",
      "C:\\Users\\svkar\\AppData\\Local\\Temp\\ipykernel_824\\2494931097.py:3: UserWarning: Unable to sort modes: '<' not supported between instances of 'int' and 'str'\n",
      "  MostHL7Identifier=('HL7Identifier', lambda x: x.mode().iloc[0] if not x.mode().empty else None),\n",
      "C:\\Users\\svkar\\AppData\\Local\\Temp\\ipykernel_824\\2494931097.py:3: UserWarning: Unable to sort modes: '<' not supported between instances of 'int' and 'str'\n",
      "  MostHL7Identifier=('HL7Identifier', lambda x: x.mode().iloc[0] if not x.mode().empty else None),\n",
      "C:\\Users\\svkar\\AppData\\Local\\Temp\\ipykernel_824\\2494931097.py:3: UserWarning: Unable to sort modes: '<' not supported between instances of 'int' and 'str'\n",
      "  MostHL7Identifier=('HL7Identifier', lambda x: x.mode().iloc[0] if not x.mode().empty else None),\n",
      "C:\\Users\\svkar\\AppData\\Local\\Temp\\ipykernel_824\\2494931097.py:3: UserWarning: Unable to sort modes: '<' not supported between instances of 'int' and 'str'\n",
      "  MostHL7Identifier=('HL7Identifier', lambda x: x.mode().iloc[0] if not x.mode().empty else None),\n",
      "C:\\Users\\svkar\\AppData\\Local\\Temp\\ipykernel_824\\2494931097.py:3: UserWarning: Unable to sort modes: '<' not supported between instances of 'int' and 'str'\n",
      "  MostHL7Identifier=('HL7Identifier', lambda x: x.mode().iloc[0] if not x.mode().empty else None),\n",
      "C:\\Users\\svkar\\AppData\\Local\\Temp\\ipykernel_824\\2494931097.py:3: UserWarning: Unable to sort modes: '<' not supported between instances of 'int' and 'str'\n",
      "  MostHL7Identifier=('HL7Identifier', lambda x: x.mode().iloc[0] if not x.mode().empty else None),\n",
      "C:\\Users\\svkar\\AppData\\Local\\Temp\\ipykernel_824\\2494931097.py:3: UserWarning: Unable to sort modes: '<' not supported between instances of 'int' and 'str'\n",
      "  MostHL7Identifier=('HL7Identifier', lambda x: x.mode().iloc[0] if not x.mode().empty else None),\n",
      "C:\\Users\\svkar\\AppData\\Local\\Temp\\ipykernel_824\\2494931097.py:3: UserWarning: Unable to sort modes: '<' not supported between instances of 'int' and 'str'\n",
      "  MostHL7Identifier=('HL7Identifier', lambda x: x.mode().iloc[0] if not x.mode().empty else None),\n",
      "C:\\Users\\svkar\\AppData\\Local\\Temp\\ipykernel_824\\2494931097.py:3: UserWarning: Unable to sort modes: '<' not supported between instances of 'int' and 'str'\n",
      "  MostHL7Identifier=('HL7Identifier', lambda x: x.mode().iloc[0] if not x.mode().empty else None),\n",
      "C:\\Users\\svkar\\AppData\\Local\\Temp\\ipykernel_824\\2494931097.py:3: UserWarning: Unable to sort modes: '<' not supported between instances of 'int' and 'str'\n",
      "  MostHL7Identifier=('HL7Identifier', lambda x: x.mode().iloc[0] if not x.mode().empty else None),\n",
      "C:\\Users\\svkar\\AppData\\Local\\Temp\\ipykernel_824\\2494931097.py:3: UserWarning: Unable to sort modes: '<' not supported between instances of 'int' and 'str'\n",
      "  MostHL7Identifier=('HL7Identifier', lambda x: x.mode().iloc[0] if not x.mode().empty else None),\n",
      "C:\\Users\\svkar\\AppData\\Local\\Temp\\ipykernel_824\\2494931097.py:3: UserWarning: Unable to sort modes: '<' not supported between instances of 'int' and 'str'\n",
      "  MostHL7Identifier=('HL7Identifier', lambda x: x.mode().iloc[0] if not x.mode().empty else None),\n",
      "C:\\Users\\svkar\\AppData\\Local\\Temp\\ipykernel_824\\2494931097.py:3: UserWarning: Unable to sort modes: '<' not supported between instances of 'int' and 'str'\n",
      "  MostHL7Identifier=('HL7Identifier', lambda x: x.mode().iloc[0] if not x.mode().empty else None),\n",
      "C:\\Users\\svkar\\AppData\\Local\\Temp\\ipykernel_824\\2494931097.py:3: UserWarning: Unable to sort modes: '<' not supported between instances of 'int' and 'str'\n",
      "  MostHL7Identifier=('HL7Identifier', lambda x: x.mode().iloc[0] if not x.mode().empty else None),\n",
      "C:\\Users\\svkar\\AppData\\Local\\Temp\\ipykernel_824\\2494931097.py:3: UserWarning: Unable to sort modes: '<' not supported between instances of 'int' and 'str'\n",
      "  MostHL7Identifier=('HL7Identifier', lambda x: x.mode().iloc[0] if not x.mode().empty else None),\n",
      "C:\\Users\\svkar\\AppData\\Local\\Temp\\ipykernel_824\\2494931097.py:3: UserWarning: Unable to sort modes: '<' not supported between instances of 'int' and 'str'\n",
      "  MostHL7Identifier=('HL7Identifier', lambda x: x.mode().iloc[0] if not x.mode().empty else None),\n",
      "C:\\Users\\svkar\\AppData\\Local\\Temp\\ipykernel_824\\2494931097.py:3: UserWarning: Unable to sort modes: '<' not supported between instances of 'int' and 'str'\n",
      "  MostHL7Identifier=('HL7Identifier', lambda x: x.mode().iloc[0] if not x.mode().empty else None),\n",
      "C:\\Users\\svkar\\AppData\\Local\\Temp\\ipykernel_824\\2494931097.py:3: UserWarning: Unable to sort modes: '<' not supported between instances of 'int' and 'str'\n",
      "  MostHL7Identifier=('HL7Identifier', lambda x: x.mode().iloc[0] if not x.mode().empty else None),\n",
      "C:\\Users\\svkar\\AppData\\Local\\Temp\\ipykernel_824\\2494931097.py:3: UserWarning: Unable to sort modes: '<' not supported between instances of 'int' and 'str'\n",
      "  MostHL7Identifier=('HL7Identifier', lambda x: x.mode().iloc[0] if not x.mode().empty else None),\n",
      "C:\\Users\\svkar\\AppData\\Local\\Temp\\ipykernel_824\\2494931097.py:3: UserWarning: Unable to sort modes: '<' not supported between instances of 'int' and 'str'\n",
      "  MostHL7Identifier=('HL7Identifier', lambda x: x.mode().iloc[0] if not x.mode().empty else None),\n",
      "C:\\Users\\svkar\\AppData\\Local\\Temp\\ipykernel_824\\2494931097.py:3: UserWarning: Unable to sort modes: '<' not supported between instances of 'int' and 'str'\n",
      "  MostHL7Identifier=('HL7Identifier', lambda x: x.mode().iloc[0] if not x.mode().empty else None),\n",
      "C:\\Users\\svkar\\AppData\\Local\\Temp\\ipykernel_824\\2494931097.py:3: UserWarning: Unable to sort modes: '<' not supported between instances of 'int' and 'str'\n",
      "  MostHL7Identifier=('HL7Identifier', lambda x: x.mode().iloc[0] if not x.mode().empty else None),\n",
      "C:\\Users\\svkar\\AppData\\Local\\Temp\\ipykernel_824\\2494931097.py:3: UserWarning: Unable to sort modes: '<' not supported between instances of 'int' and 'str'\n",
      "  MostHL7Identifier=('HL7Identifier', lambda x: x.mode().iloc[0] if not x.mode().empty else None),\n",
      "C:\\Users\\svkar\\AppData\\Local\\Temp\\ipykernel_824\\2494931097.py:3: UserWarning: Unable to sort modes: '<' not supported between instances of 'int' and 'str'\n",
      "  MostHL7Identifier=('HL7Identifier', lambda x: x.mode().iloc[0] if not x.mode().empty else None),\n",
      "C:\\Users\\svkar\\AppData\\Local\\Temp\\ipykernel_824\\2494931097.py:3: UserWarning: Unable to sort modes: '<' not supported between instances of 'int' and 'str'\n",
      "  MostHL7Identifier=('HL7Identifier', lambda x: x.mode().iloc[0] if not x.mode().empty else None),\n",
      "C:\\Users\\svkar\\AppData\\Local\\Temp\\ipykernel_824\\2494931097.py:3: UserWarning: Unable to sort modes: '<' not supported between instances of 'int' and 'str'\n",
      "  MostHL7Identifier=('HL7Identifier', lambda x: x.mode().iloc[0] if not x.mode().empty else None),\n",
      "C:\\Users\\svkar\\AppData\\Local\\Temp\\ipykernel_824\\2494931097.py:3: UserWarning: Unable to sort modes: '<' not supported between instances of 'int' and 'str'\n",
      "  MostHL7Identifier=('HL7Identifier', lambda x: x.mode().iloc[0] if not x.mode().empty else None),\n",
      "C:\\Users\\svkar\\AppData\\Local\\Temp\\ipykernel_824\\2494931097.py:3: UserWarning: Unable to sort modes: '<' not supported between instances of 'int' and 'str'\n",
      "  MostHL7Identifier=('HL7Identifier', lambda x: x.mode().iloc[0] if not x.mode().empty else None),\n",
      "C:\\Users\\svkar\\AppData\\Local\\Temp\\ipykernel_824\\2494931097.py:3: UserWarning: Unable to sort modes: '<' not supported between instances of 'int' and 'str'\n",
      "  MostHL7Identifier=('HL7Identifier', lambda x: x.mode().iloc[0] if not x.mode().empty else None),\n",
      "C:\\Users\\svkar\\AppData\\Local\\Temp\\ipykernel_824\\2494931097.py:3: UserWarning: Unable to sort modes: '<' not supported between instances of 'int' and 'str'\n",
      "  MostHL7Identifier=('HL7Identifier', lambda x: x.mode().iloc[0] if not x.mode().empty else None),\n",
      "C:\\Users\\svkar\\AppData\\Local\\Temp\\ipykernel_824\\2494931097.py:3: UserWarning: Unable to sort modes: '<' not supported between instances of 'int' and 'str'\n",
      "  MostHL7Identifier=('HL7Identifier', lambda x: x.mode().iloc[0] if not x.mode().empty else None),\n",
      "C:\\Users\\svkar\\AppData\\Local\\Temp\\ipykernel_824\\2494931097.py:3: UserWarning: Unable to sort modes: '<' not supported between instances of 'int' and 'str'\n",
      "  MostHL7Identifier=('HL7Identifier', lambda x: x.mode().iloc[0] if not x.mode().empty else None),\n",
      "C:\\Users\\svkar\\AppData\\Local\\Temp\\ipykernel_824\\2494931097.py:3: UserWarning: Unable to sort modes: '<' not supported between instances of 'int' and 'str'\n",
      "  MostHL7Identifier=('HL7Identifier', lambda x: x.mode().iloc[0] if not x.mode().empty else None),\n",
      "C:\\Users\\svkar\\AppData\\Local\\Temp\\ipykernel_824\\2494931097.py:3: UserWarning: Unable to sort modes: '<' not supported between instances of 'int' and 'str'\n",
      "  MostHL7Identifier=('HL7Identifier', lambda x: x.mode().iloc[0] if not x.mode().empty else None),\n",
      "C:\\Users\\svkar\\AppData\\Local\\Temp\\ipykernel_824\\2494931097.py:3: UserWarning: Unable to sort modes: '<' not supported between instances of 'int' and 'str'\n",
      "  MostHL7Identifier=('HL7Identifier', lambda x: x.mode().iloc[0] if not x.mode().empty else None),\n",
      "C:\\Users\\svkar\\AppData\\Local\\Temp\\ipykernel_824\\2494931097.py:3: UserWarning: Unable to sort modes: '<' not supported between instances of 'int' and 'str'\n",
      "  MostHL7Identifier=('HL7Identifier', lambda x: x.mode().iloc[0] if not x.mode().empty else None),\n",
      "C:\\Users\\svkar\\AppData\\Local\\Temp\\ipykernel_824\\2494931097.py:3: UserWarning: Unable to sort modes: '<' not supported between instances of 'int' and 'str'\n",
      "  MostHL7Identifier=('HL7Identifier', lambda x: x.mode().iloc[0] if not x.mode().empty else None),\n",
      "C:\\Users\\svkar\\AppData\\Local\\Temp\\ipykernel_824\\2494931097.py:3: UserWarning: Unable to sort modes: '<' not supported between instances of 'int' and 'str'\n",
      "  MostHL7Identifier=('HL7Identifier', lambda x: x.mode().iloc[0] if not x.mode().empty else None),\n",
      "C:\\Users\\svkar\\AppData\\Local\\Temp\\ipykernel_824\\2494931097.py:3: UserWarning: Unable to sort modes: '<' not supported between instances of 'int' and 'str'\n",
      "  MostHL7Identifier=('HL7Identifier', lambda x: x.mode().iloc[0] if not x.mode().empty else None),\n",
      "C:\\Users\\svkar\\AppData\\Local\\Temp\\ipykernel_824\\2494931097.py:3: UserWarning: Unable to sort modes: '<' not supported between instances of 'int' and 'str'\n",
      "  MostHL7Identifier=('HL7Identifier', lambda x: x.mode().iloc[0] if not x.mode().empty else None),\n",
      "C:\\Users\\svkar\\AppData\\Local\\Temp\\ipykernel_824\\2494931097.py:3: UserWarning: Unable to sort modes: '<' not supported between instances of 'int' and 'str'\n",
      "  MostHL7Identifier=('HL7Identifier', lambda x: x.mode().iloc[0] if not x.mode().empty else None),\n",
      "C:\\Users\\svkar\\AppData\\Local\\Temp\\ipykernel_824\\2494931097.py:3: UserWarning: Unable to sort modes: '<' not supported between instances of 'int' and 'str'\n",
      "  MostHL7Identifier=('HL7Identifier', lambda x: x.mode().iloc[0] if not x.mode().empty else None),\n",
      "C:\\Users\\svkar\\AppData\\Local\\Temp\\ipykernel_824\\2494931097.py:3: UserWarning: Unable to sort modes: '<' not supported between instances of 'int' and 'str'\n",
      "  MostHL7Identifier=('HL7Identifier', lambda x: x.mode().iloc[0] if not x.mode().empty else None),\n",
      "C:\\Users\\svkar\\AppData\\Local\\Temp\\ipykernel_824\\2494931097.py:3: UserWarning: Unable to sort modes: '<' not supported between instances of 'int' and 'str'\n",
      "  MostHL7Identifier=('HL7Identifier', lambda x: x.mode().iloc[0] if not x.mode().empty else None),\n",
      "C:\\Users\\svkar\\AppData\\Local\\Temp\\ipykernel_824\\2494931097.py:3: UserWarning: Unable to sort modes: '<' not supported between instances of 'int' and 'str'\n",
      "  MostHL7Identifier=('HL7Identifier', lambda x: x.mode().iloc[0] if not x.mode().empty else None),\n",
      "C:\\Users\\svkar\\AppData\\Local\\Temp\\ipykernel_824\\2494931097.py:3: UserWarning: Unable to sort modes: '<' not supported between instances of 'int' and 'str'\n",
      "  MostHL7Identifier=('HL7Identifier', lambda x: x.mode().iloc[0] if not x.mode().empty else None),\n",
      "C:\\Users\\svkar\\AppData\\Local\\Temp\\ipykernel_824\\2494931097.py:3: UserWarning: Unable to sort modes: '<' not supported between instances of 'int' and 'str'\n",
      "  MostHL7Identifier=('HL7Identifier', lambda x: x.mode().iloc[0] if not x.mode().empty else None),\n",
      "C:\\Users\\svkar\\AppData\\Local\\Temp\\ipykernel_824\\2494931097.py:3: UserWarning: Unable to sort modes: '<' not supported between instances of 'int' and 'str'\n",
      "  MostHL7Identifier=('HL7Identifier', lambda x: x.mode().iloc[0] if not x.mode().empty else None),\n",
      "C:\\Users\\svkar\\AppData\\Local\\Temp\\ipykernel_824\\2494931097.py:3: UserWarning: Unable to sort modes: '<' not supported between instances of 'int' and 'str'\n",
      "  MostHL7Identifier=('HL7Identifier', lambda x: x.mode().iloc[0] if not x.mode().empty else None),\n",
      "C:\\Users\\svkar\\AppData\\Local\\Temp\\ipykernel_824\\2494931097.py:3: UserWarning: Unable to sort modes: '<' not supported between instances of 'int' and 'str'\n",
      "  MostHL7Identifier=('HL7Identifier', lambda x: x.mode().iloc[0] if not x.mode().empty else None),\n",
      "C:\\Users\\svkar\\AppData\\Local\\Temp\\ipykernel_824\\2494931097.py:3: UserWarning: Unable to sort modes: '<' not supported between instances of 'int' and 'str'\n",
      "  MostHL7Identifier=('HL7Identifier', lambda x: x.mode().iloc[0] if not x.mode().empty else None),\n",
      "C:\\Users\\svkar\\AppData\\Local\\Temp\\ipykernel_824\\2494931097.py:3: UserWarning: Unable to sort modes: '<' not supported between instances of 'int' and 'str'\n",
      "  MostHL7Identifier=('HL7Identifier', lambda x: x.mode().iloc[0] if not x.mode().empty else None),\n",
      "C:\\Users\\svkar\\AppData\\Local\\Temp\\ipykernel_824\\2494931097.py:3: UserWarning: Unable to sort modes: '<' not supported between instances of 'int' and 'str'\n",
      "  MostHL7Identifier=('HL7Identifier', lambda x: x.mode().iloc[0] if not x.mode().empty else None),\n",
      "C:\\Users\\svkar\\AppData\\Local\\Temp\\ipykernel_824\\2494931097.py:3: UserWarning: Unable to sort modes: '<' not supported between instances of 'int' and 'str'\n",
      "  MostHL7Identifier=('HL7Identifier', lambda x: x.mode().iloc[0] if not x.mode().empty else None),\n",
      "C:\\Users\\svkar\\AppData\\Local\\Temp\\ipykernel_824\\2494931097.py:3: UserWarning: Unable to sort modes: '<' not supported between instances of 'int' and 'str'\n",
      "  MostHL7Identifier=('HL7Identifier', lambda x: x.mode().iloc[0] if not x.mode().empty else None),\n",
      "C:\\Users\\svkar\\AppData\\Local\\Temp\\ipykernel_824\\2494931097.py:3: UserWarning: Unable to sort modes: '<' not supported between instances of 'int' and 'str'\n",
      "  MostHL7Identifier=('HL7Identifier', lambda x: x.mode().iloc[0] if not x.mode().empty else None),\n",
      "C:\\Users\\svkar\\AppData\\Local\\Temp\\ipykernel_824\\2494931097.py:3: UserWarning: Unable to sort modes: '<' not supported between instances of 'int' and 'str'\n",
      "  MostHL7Identifier=('HL7Identifier', lambda x: x.mode().iloc[0] if not x.mode().empty else None),\n",
      "C:\\Users\\svkar\\AppData\\Local\\Temp\\ipykernel_824\\2494931097.py:3: UserWarning: Unable to sort modes: '<' not supported between instances of 'int' and 'str'\n",
      "  MostHL7Identifier=('HL7Identifier', lambda x: x.mode().iloc[0] if not x.mode().empty else None),\n",
      "C:\\Users\\svkar\\AppData\\Local\\Temp\\ipykernel_824\\2494931097.py:3: UserWarning: Unable to sort modes: '<' not supported between instances of 'int' and 'str'\n",
      "  MostHL7Identifier=('HL7Identifier', lambda x: x.mode().iloc[0] if not x.mode().empty else None),\n",
      "C:\\Users\\svkar\\AppData\\Local\\Temp\\ipykernel_824\\2494931097.py:3: UserWarning: Unable to sort modes: '<' not supported between instances of 'int' and 'str'\n",
      "  MostHL7Identifier=('HL7Identifier', lambda x: x.mode().iloc[0] if not x.mode().empty else None),\n",
      "C:\\Users\\svkar\\AppData\\Local\\Temp\\ipykernel_824\\2494931097.py:3: UserWarning: Unable to sort modes: '<' not supported between instances of 'int' and 'str'\n",
      "  MostHL7Identifier=('HL7Identifier', lambda x: x.mode().iloc[0] if not x.mode().empty else None),\n",
      "C:\\Users\\svkar\\AppData\\Local\\Temp\\ipykernel_824\\2494931097.py:3: UserWarning: Unable to sort modes: '<' not supported between instances of 'int' and 'str'\n",
      "  MostHL7Identifier=('HL7Identifier', lambda x: x.mode().iloc[0] if not x.mode().empty else None),\n",
      "C:\\Users\\svkar\\AppData\\Local\\Temp\\ipykernel_824\\2494931097.py:3: UserWarning: Unable to sort modes: '<' not supported between instances of 'int' and 'str'\n",
      "  MostHL7Identifier=('HL7Identifier', lambda x: x.mode().iloc[0] if not x.mode().empty else None),\n",
      "C:\\Users\\svkar\\AppData\\Local\\Temp\\ipykernel_824\\2494931097.py:3: UserWarning: Unable to sort modes: '<' not supported between instances of 'int' and 'str'\n",
      "  MostHL7Identifier=('HL7Identifier', lambda x: x.mode().iloc[0] if not x.mode().empty else None),\n",
      "C:\\Users\\svkar\\AppData\\Local\\Temp\\ipykernel_824\\2494931097.py:3: UserWarning: Unable to sort modes: '<' not supported between instances of 'int' and 'str'\n",
      "  MostHL7Identifier=('HL7Identifier', lambda x: x.mode().iloc[0] if not x.mode().empty else None),\n",
      "C:\\Users\\svkar\\AppData\\Local\\Temp\\ipykernel_824\\2494931097.py:3: UserWarning: Unable to sort modes: '<' not supported between instances of 'int' and 'str'\n",
      "  MostHL7Identifier=('HL7Identifier', lambda x: x.mode().iloc[0] if not x.mode().empty else None),\n",
      "C:\\Users\\svkar\\AppData\\Local\\Temp\\ipykernel_824\\2494931097.py:3: UserWarning: Unable to sort modes: '<' not supported between instances of 'int' and 'str'\n",
      "  MostHL7Identifier=('HL7Identifier', lambda x: x.mode().iloc[0] if not x.mode().empty else None),\n",
      "C:\\Users\\svkar\\AppData\\Local\\Temp\\ipykernel_824\\2494931097.py:3: UserWarning: Unable to sort modes: '<' not supported between instances of 'int' and 'str'\n",
      "  MostHL7Identifier=('HL7Identifier', lambda x: x.mode().iloc[0] if not x.mode().empty else None),\n",
      "C:\\Users\\svkar\\AppData\\Local\\Temp\\ipykernel_824\\2494931097.py:3: UserWarning: Unable to sort modes: '<' not supported between instances of 'int' and 'str'\n",
      "  MostHL7Identifier=('HL7Identifier', lambda x: x.mode().iloc[0] if not x.mode().empty else None),\n",
      "C:\\Users\\svkar\\AppData\\Local\\Temp\\ipykernel_824\\2494931097.py:3: UserWarning: Unable to sort modes: '<' not supported between instances of 'int' and 'str'\n",
      "  MostHL7Identifier=('HL7Identifier', lambda x: x.mode().iloc[0] if not x.mode().empty else None),\n",
      "C:\\Users\\svkar\\AppData\\Local\\Temp\\ipykernel_824\\2494931097.py:3: UserWarning: Unable to sort modes: '<' not supported between instances of 'int' and 'str'\n",
      "  MostHL7Identifier=('HL7Identifier', lambda x: x.mode().iloc[0] if not x.mode().empty else None),\n",
      "C:\\Users\\svkar\\AppData\\Local\\Temp\\ipykernel_824\\2494931097.py:3: UserWarning: Unable to sort modes: '<' not supported between instances of 'int' and 'str'\n",
      "  MostHL7Identifier=('HL7Identifier', lambda x: x.mode().iloc[0] if not x.mode().empty else None),\n",
      "C:\\Users\\svkar\\AppData\\Local\\Temp\\ipykernel_824\\2494931097.py:3: UserWarning: Unable to sort modes: '<' not supported between instances of 'int' and 'str'\n",
      "  MostHL7Identifier=('HL7Identifier', lambda x: x.mode().iloc[0] if not x.mode().empty else None),\n",
      "C:\\Users\\svkar\\AppData\\Local\\Temp\\ipykernel_824\\2494931097.py:3: UserWarning: Unable to sort modes: '<' not supported between instances of 'int' and 'str'\n",
      "  MostHL7Identifier=('HL7Identifier', lambda x: x.mode().iloc[0] if not x.mode().empty else None),\n",
      "C:\\Users\\svkar\\AppData\\Local\\Temp\\ipykernel_824\\2494931097.py:3: UserWarning: Unable to sort modes: '<' not supported between instances of 'int' and 'str'\n",
      "  MostHL7Identifier=('HL7Identifier', lambda x: x.mode().iloc[0] if not x.mode().empty else None),\n",
      "C:\\Users\\svkar\\AppData\\Local\\Temp\\ipykernel_824\\2494931097.py:3: UserWarning: Unable to sort modes: '<' not supported between instances of 'int' and 'str'\n",
      "  MostHL7Identifier=('HL7Identifier', lambda x: x.mode().iloc[0] if not x.mode().empty else None),\n",
      "C:\\Users\\svkar\\AppData\\Local\\Temp\\ipykernel_824\\2494931097.py:3: UserWarning: Unable to sort modes: '<' not supported between instances of 'int' and 'str'\n",
      "  MostHL7Identifier=('HL7Identifier', lambda x: x.mode().iloc[0] if not x.mode().empty else None),\n",
      "C:\\Users\\svkar\\AppData\\Local\\Temp\\ipykernel_824\\2494931097.py:3: UserWarning: Unable to sort modes: '<' not supported between instances of 'int' and 'str'\n",
      "  MostHL7Identifier=('HL7Identifier', lambda x: x.mode().iloc[0] if not x.mode().empty else None),\n",
      "C:\\Users\\svkar\\AppData\\Local\\Temp\\ipykernel_824\\2494931097.py:3: UserWarning: Unable to sort modes: '<' not supported between instances of 'int' and 'str'\n",
      "  MostHL7Identifier=('HL7Identifier', lambda x: x.mode().iloc[0] if not x.mode().empty else None),\n",
      "C:\\Users\\svkar\\AppData\\Local\\Temp\\ipykernel_824\\2494931097.py:3: UserWarning: Unable to sort modes: '<' not supported between instances of 'int' and 'str'\n",
      "  MostHL7Identifier=('HL7Identifier', lambda x: x.mode().iloc[0] if not x.mode().empty else None),\n",
      "C:\\Users\\svkar\\AppData\\Local\\Temp\\ipykernel_824\\2494931097.py:3: UserWarning: Unable to sort modes: '<' not supported between instances of 'int' and 'str'\n",
      "  MostHL7Identifier=('HL7Identifier', lambda x: x.mode().iloc[0] if not x.mode().empty else None),\n",
      "C:\\Users\\svkar\\AppData\\Local\\Temp\\ipykernel_824\\2494931097.py:3: UserWarning: Unable to sort modes: '<' not supported between instances of 'int' and 'str'\n",
      "  MostHL7Identifier=('HL7Identifier', lambda x: x.mode().iloc[0] if not x.mode().empty else None),\n",
      "C:\\Users\\svkar\\AppData\\Local\\Temp\\ipykernel_824\\2494931097.py:3: UserWarning: Unable to sort modes: '<' not supported between instances of 'int' and 'str'\n",
      "  MostHL7Identifier=('HL7Identifier', lambda x: x.mode().iloc[0] if not x.mode().empty else None),\n",
      "C:\\Users\\svkar\\AppData\\Local\\Temp\\ipykernel_824\\2494931097.py:3: UserWarning: Unable to sort modes: '<' not supported between instances of 'int' and 'str'\n",
      "  MostHL7Identifier=('HL7Identifier', lambda x: x.mode().iloc[0] if not x.mode().empty else None),\n",
      "C:\\Users\\svkar\\AppData\\Local\\Temp\\ipykernel_824\\2494931097.py:3: UserWarning: Unable to sort modes: '<' not supported between instances of 'int' and 'str'\n",
      "  MostHL7Identifier=('HL7Identifier', lambda x: x.mode().iloc[0] if not x.mode().empty else None),\n",
      "C:\\Users\\svkar\\AppData\\Local\\Temp\\ipykernel_824\\2494931097.py:3: UserWarning: Unable to sort modes: '<' not supported between instances of 'int' and 'str'\n",
      "  MostHL7Identifier=('HL7Identifier', lambda x: x.mode().iloc[0] if not x.mode().empty else None),\n",
      "C:\\Users\\svkar\\AppData\\Local\\Temp\\ipykernel_824\\2494931097.py:3: UserWarning: Unable to sort modes: '<' not supported between instances of 'int' and 'str'\n",
      "  MostHL7Identifier=('HL7Identifier', lambda x: x.mode().iloc[0] if not x.mode().empty else None),\n",
      "C:\\Users\\svkar\\AppData\\Local\\Temp\\ipykernel_824\\2494931097.py:3: UserWarning: Unable to sort modes: '<' not supported between instances of 'int' and 'str'\n",
      "  MostHL7Identifier=('HL7Identifier', lambda x: x.mode().iloc[0] if not x.mode().empty else None),\n",
      "C:\\Users\\svkar\\AppData\\Local\\Temp\\ipykernel_824\\2494931097.py:3: UserWarning: Unable to sort modes: '<' not supported between instances of 'int' and 'str'\n",
      "  MostHL7Identifier=('HL7Identifier', lambda x: x.mode().iloc[0] if not x.mode().empty else None),\n",
      "C:\\Users\\svkar\\AppData\\Local\\Temp\\ipykernel_824\\2494931097.py:3: UserWarning: Unable to sort modes: '<' not supported between instances of 'int' and 'str'\n",
      "  MostHL7Identifier=('HL7Identifier', lambda x: x.mode().iloc[0] if not x.mode().empty else None),\n",
      "C:\\Users\\svkar\\AppData\\Local\\Temp\\ipykernel_824\\2494931097.py:3: UserWarning: Unable to sort modes: '<' not supported between instances of 'int' and 'str'\n",
      "  MostHL7Identifier=('HL7Identifier', lambda x: x.mode().iloc[0] if not x.mode().empty else None),\n",
      "C:\\Users\\svkar\\AppData\\Local\\Temp\\ipykernel_824\\2494931097.py:3: UserWarning: Unable to sort modes: '<' not supported between instances of 'int' and 'str'\n",
      "  MostHL7Identifier=('HL7Identifier', lambda x: x.mode().iloc[0] if not x.mode().empty else None),\n",
      "C:\\Users\\svkar\\AppData\\Local\\Temp\\ipykernel_824\\2494931097.py:3: UserWarning: Unable to sort modes: '<' not supported between instances of 'int' and 'str'\n",
      "  MostHL7Identifier=('HL7Identifier', lambda x: x.mode().iloc[0] if not x.mode().empty else None),\n",
      "C:\\Users\\svkar\\AppData\\Local\\Temp\\ipykernel_824\\2494931097.py:3: UserWarning: Unable to sort modes: '<' not supported between instances of 'int' and 'str'\n",
      "  MostHL7Identifier=('HL7Identifier', lambda x: x.mode().iloc[0] if not x.mode().empty else None),\n",
      "C:\\Users\\svkar\\AppData\\Local\\Temp\\ipykernel_824\\2494931097.py:3: UserWarning: Unable to sort modes: '<' not supported between instances of 'int' and 'str'\n",
      "  MostHL7Identifier=('HL7Identifier', lambda x: x.mode().iloc[0] if not x.mode().empty else None),\n",
      "C:\\Users\\svkar\\AppData\\Local\\Temp\\ipykernel_824\\2494931097.py:3: UserWarning: Unable to sort modes: '<' not supported between instances of 'int' and 'str'\n",
      "  MostHL7Identifier=('HL7Identifier', lambda x: x.mode().iloc[0] if not x.mode().empty else None),\n",
      "C:\\Users\\svkar\\AppData\\Local\\Temp\\ipykernel_824\\2494931097.py:3: UserWarning: Unable to sort modes: '<' not supported between instances of 'int' and 'str'\n",
      "  MostHL7Identifier=('HL7Identifier', lambda x: x.mode().iloc[0] if not x.mode().empty else None),\n",
      "C:\\Users\\svkar\\AppData\\Local\\Temp\\ipykernel_824\\2494931097.py:3: UserWarning: Unable to sort modes: '<' not supported between instances of 'int' and 'str'\n",
      "  MostHL7Identifier=('HL7Identifier', lambda x: x.mode().iloc[0] if not x.mode().empty else None),\n",
      "C:\\Users\\svkar\\AppData\\Local\\Temp\\ipykernel_824\\2494931097.py:3: UserWarning: Unable to sort modes: '<' not supported between instances of 'int' and 'str'\n",
      "  MostHL7Identifier=('HL7Identifier', lambda x: x.mode().iloc[0] if not x.mode().empty else None),\n",
      "C:\\Users\\svkar\\AppData\\Local\\Temp\\ipykernel_824\\2494931097.py:3: UserWarning: Unable to sort modes: '<' not supported between instances of 'int' and 'str'\n",
      "  MostHL7Identifier=('HL7Identifier', lambda x: x.mode().iloc[0] if not x.mode().empty else None),\n",
      "C:\\Users\\svkar\\AppData\\Local\\Temp\\ipykernel_824\\2494931097.py:3: UserWarning: Unable to sort modes: '<' not supported between instances of 'int' and 'str'\n",
      "  MostHL7Identifier=('HL7Identifier', lambda x: x.mode().iloc[0] if not x.mode().empty else None),\n",
      "C:\\Users\\svkar\\AppData\\Local\\Temp\\ipykernel_824\\2494931097.py:3: UserWarning: Unable to sort modes: '<' not supported between instances of 'int' and 'str'\n",
      "  MostHL7Identifier=('HL7Identifier', lambda x: x.mode().iloc[0] if not x.mode().empty else None),\n",
      "C:\\Users\\svkar\\AppData\\Local\\Temp\\ipykernel_824\\2494931097.py:3: UserWarning: Unable to sort modes: '<' not supported between instances of 'int' and 'str'\n",
      "  MostHL7Identifier=('HL7Identifier', lambda x: x.mode().iloc[0] if not x.mode().empty else None),\n",
      "C:\\Users\\svkar\\AppData\\Local\\Temp\\ipykernel_824\\2494931097.py:3: UserWarning: Unable to sort modes: '<' not supported between instances of 'int' and 'str'\n",
      "  MostHL7Identifier=('HL7Identifier', lambda x: x.mode().iloc[0] if not x.mode().empty else None),\n",
      "C:\\Users\\svkar\\AppData\\Local\\Temp\\ipykernel_824\\2494931097.py:3: UserWarning: Unable to sort modes: '<' not supported between instances of 'int' and 'str'\n",
      "  MostHL7Identifier=('HL7Identifier', lambda x: x.mode().iloc[0] if not x.mode().empty else None),\n",
      "C:\\Users\\svkar\\AppData\\Local\\Temp\\ipykernel_824\\2494931097.py:3: UserWarning: Unable to sort modes: '<' not supported between instances of 'int' and 'str'\n",
      "  MostHL7Identifier=('HL7Identifier', lambda x: x.mode().iloc[0] if not x.mode().empty else None),\n",
      "C:\\Users\\svkar\\AppData\\Local\\Temp\\ipykernel_824\\2494931097.py:3: UserWarning: Unable to sort modes: '<' not supported between instances of 'int' and 'str'\n",
      "  MostHL7Identifier=('HL7Identifier', lambda x: x.mode().iloc[0] if not x.mode().empty else None),\n",
      "C:\\Users\\svkar\\AppData\\Local\\Temp\\ipykernel_824\\2494931097.py:3: UserWarning: Unable to sort modes: '<' not supported between instances of 'int' and 'str'\n",
      "  MostHL7Identifier=('HL7Identifier', lambda x: x.mode().iloc[0] if not x.mode().empty else None),\n",
      "C:\\Users\\svkar\\AppData\\Local\\Temp\\ipykernel_824\\2494931097.py:3: UserWarning: Unable to sort modes: '<' not supported between instances of 'int' and 'str'\n",
      "  MostHL7Identifier=('HL7Identifier', lambda x: x.mode().iloc[0] if not x.mode().empty else None),\n",
      "C:\\Users\\svkar\\AppData\\Local\\Temp\\ipykernel_824\\2494931097.py:3: UserWarning: Unable to sort modes: '<' not supported between instances of 'int' and 'str'\n",
      "  MostHL7Identifier=('HL7Identifier', lambda x: x.mode().iloc[0] if not x.mode().empty else None),\n",
      "C:\\Users\\svkar\\AppData\\Local\\Temp\\ipykernel_824\\2494931097.py:3: UserWarning: Unable to sort modes: '<' not supported between instances of 'int' and 'str'\n",
      "  MostHL7Identifier=('HL7Identifier', lambda x: x.mode().iloc[0] if not x.mode().empty else None),\n",
      "C:\\Users\\svkar\\AppData\\Local\\Temp\\ipykernel_824\\2494931097.py:3: UserWarning: Unable to sort modes: '<' not supported between instances of 'int' and 'str'\n",
      "  MostHL7Identifier=('HL7Identifier', lambda x: x.mode().iloc[0] if not x.mode().empty else None),\n",
      "C:\\Users\\svkar\\AppData\\Local\\Temp\\ipykernel_824\\2494931097.py:3: UserWarning: Unable to sort modes: '<' not supported between instances of 'int' and 'str'\n",
      "  MostHL7Identifier=('HL7Identifier', lambda x: x.mode().iloc[0] if not x.mode().empty else None),\n",
      "C:\\Users\\svkar\\AppData\\Local\\Temp\\ipykernel_824\\2494931097.py:3: UserWarning: Unable to sort modes: '<' not supported between instances of 'int' and 'str'\n",
      "  MostHL7Identifier=('HL7Identifier', lambda x: x.mode().iloc[0] if not x.mode().empty else None),\n",
      "C:\\Users\\svkar\\AppData\\Local\\Temp\\ipykernel_824\\2494931097.py:3: UserWarning: Unable to sort modes: '<' not supported between instances of 'int' and 'str'\n",
      "  MostHL7Identifier=('HL7Identifier', lambda x: x.mode().iloc[0] if not x.mode().empty else None),\n",
      "C:\\Users\\svkar\\AppData\\Local\\Temp\\ipykernel_824\\2494931097.py:3: UserWarning: Unable to sort modes: '<' not supported between instances of 'int' and 'str'\n",
      "  MostHL7Identifier=('HL7Identifier', lambda x: x.mode().iloc[0] if not x.mode().empty else None),\n",
      "C:\\Users\\svkar\\AppData\\Local\\Temp\\ipykernel_824\\2494931097.py:3: UserWarning: Unable to sort modes: '<' not supported between instances of 'int' and 'str'\n",
      "  MostHL7Identifier=('HL7Identifier', lambda x: x.mode().iloc[0] if not x.mode().empty else None),\n",
      "C:\\Users\\svkar\\AppData\\Local\\Temp\\ipykernel_824\\2494931097.py:3: UserWarning: Unable to sort modes: '<' not supported between instances of 'int' and 'str'\n",
      "  MostHL7Identifier=('HL7Identifier', lambda x: x.mode().iloc[0] if not x.mode().empty else None),\n",
      "C:\\Users\\svkar\\AppData\\Local\\Temp\\ipykernel_824\\2494931097.py:3: UserWarning: Unable to sort modes: '<' not supported between instances of 'int' and 'str'\n",
      "  MostHL7Identifier=('HL7Identifier', lambda x: x.mode().iloc[0] if not x.mode().empty else None),\n",
      "C:\\Users\\svkar\\AppData\\Local\\Temp\\ipykernel_824\\2494931097.py:3: UserWarning: Unable to sort modes: '<' not supported between instances of 'int' and 'str'\n",
      "  MostHL7Identifier=('HL7Identifier', lambda x: x.mode().iloc[0] if not x.mode().empty else None),\n",
      "C:\\Users\\svkar\\AppData\\Local\\Temp\\ipykernel_824\\2494931097.py:3: UserWarning: Unable to sort modes: '<' not supported between instances of 'int' and 'str'\n",
      "  MostHL7Identifier=('HL7Identifier', lambda x: x.mode().iloc[0] if not x.mode().empty else None),\n",
      "C:\\Users\\svkar\\AppData\\Local\\Temp\\ipykernel_824\\2494931097.py:3: UserWarning: Unable to sort modes: '<' not supported between instances of 'int' and 'str'\n",
      "  MostHL7Identifier=('HL7Identifier', lambda x: x.mode().iloc[0] if not x.mode().empty else None),\n",
      "C:\\Users\\svkar\\AppData\\Local\\Temp\\ipykernel_824\\2494931097.py:3: UserWarning: Unable to sort modes: '<' not supported between instances of 'int' and 'str'\n",
      "  MostHL7Identifier=('HL7Identifier', lambda x: x.mode().iloc[0] if not x.mode().empty else None),\n",
      "C:\\Users\\svkar\\AppData\\Local\\Temp\\ipykernel_824\\2494931097.py:3: UserWarning: Unable to sort modes: '<' not supported between instances of 'int' and 'str'\n",
      "  MostHL7Identifier=('HL7Identifier', lambda x: x.mode().iloc[0] if not x.mode().empty else None),\n",
      "C:\\Users\\svkar\\AppData\\Local\\Temp\\ipykernel_824\\2494931097.py:3: UserWarning: Unable to sort modes: '<' not supported between instances of 'int' and 'str'\n",
      "  MostHL7Identifier=('HL7Identifier', lambda x: x.mode().iloc[0] if not x.mode().empty else None),\n",
      "C:\\Users\\svkar\\AppData\\Local\\Temp\\ipykernel_824\\2494931097.py:3: UserWarning: Unable to sort modes: '<' not supported between instances of 'int' and 'str'\n",
      "  MostHL7Identifier=('HL7Identifier', lambda x: x.mode().iloc[0] if not x.mode().empty else None),\n",
      "C:\\Users\\svkar\\AppData\\Local\\Temp\\ipykernel_824\\2494931097.py:3: UserWarning: Unable to sort modes: '<' not supported between instances of 'int' and 'str'\n",
      "  MostHL7Identifier=('HL7Identifier', lambda x: x.mode().iloc[0] if not x.mode().empty else None),\n",
      "C:\\Users\\svkar\\AppData\\Local\\Temp\\ipykernel_824\\2494931097.py:3: UserWarning: Unable to sort modes: '<' not supported between instances of 'int' and 'str'\n",
      "  MostHL7Identifier=('HL7Identifier', lambda x: x.mode().iloc[0] if not x.mode().empty else None),\n",
      "C:\\Users\\svkar\\AppData\\Local\\Temp\\ipykernel_824\\2494931097.py:3: UserWarning: Unable to sort modes: '<' not supported between instances of 'int' and 'str'\n",
      "  MostHL7Identifier=('HL7Identifier', lambda x: x.mode().iloc[0] if not x.mode().empty else None),\n",
      "C:\\Users\\svkar\\AppData\\Local\\Temp\\ipykernel_824\\2494931097.py:3: UserWarning: Unable to sort modes: '<' not supported between instances of 'int' and 'str'\n",
      "  MostHL7Identifier=('HL7Identifier', lambda x: x.mode().iloc[0] if not x.mode().empty else None),\n",
      "C:\\Users\\svkar\\AppData\\Local\\Temp\\ipykernel_824\\2494931097.py:3: UserWarning: Unable to sort modes: '<' not supported between instances of 'int' and 'str'\n",
      "  MostHL7Identifier=('HL7Identifier', lambda x: x.mode().iloc[0] if not x.mode().empty else None),\n",
      "C:\\Users\\svkar\\AppData\\Local\\Temp\\ipykernel_824\\2494931097.py:3: UserWarning: Unable to sort modes: '<' not supported between instances of 'int' and 'str'\n",
      "  MostHL7Identifier=('HL7Identifier', lambda x: x.mode().iloc[0] if not x.mode().empty else None),\n",
      "C:\\Users\\svkar\\AppData\\Local\\Temp\\ipykernel_824\\2494931097.py:3: UserWarning: Unable to sort modes: '<' not supported between instances of 'int' and 'str'\n",
      "  MostHL7Identifier=('HL7Identifier', lambda x: x.mode().iloc[0] if not x.mode().empty else None),\n",
      "C:\\Users\\svkar\\AppData\\Local\\Temp\\ipykernel_824\\2494931097.py:3: UserWarning: Unable to sort modes: '<' not supported between instances of 'int' and 'str'\n",
      "  MostHL7Identifier=('HL7Identifier', lambda x: x.mode().iloc[0] if not x.mode().empty else None),\n",
      "C:\\Users\\svkar\\AppData\\Local\\Temp\\ipykernel_824\\2494931097.py:3: UserWarning: Unable to sort modes: '<' not supported between instances of 'int' and 'str'\n",
      "  MostHL7Identifier=('HL7Identifier', lambda x: x.mode().iloc[0] if not x.mode().empty else None),\n",
      "C:\\Users\\svkar\\AppData\\Local\\Temp\\ipykernel_824\\2494931097.py:3: UserWarning: Unable to sort modes: '<' not supported between instances of 'int' and 'str'\n",
      "  MostHL7Identifier=('HL7Identifier', lambda x: x.mode().iloc[0] if not x.mode().empty else None),\n",
      "C:\\Users\\svkar\\AppData\\Local\\Temp\\ipykernel_824\\2494931097.py:3: UserWarning: Unable to sort modes: '<' not supported between instances of 'int' and 'str'\n",
      "  MostHL7Identifier=('HL7Identifier', lambda x: x.mode().iloc[0] if not x.mode().empty else None),\n",
      "C:\\Users\\svkar\\AppData\\Local\\Temp\\ipykernel_824\\2494931097.py:3: UserWarning: Unable to sort modes: '<' not supported between instances of 'int' and 'str'\n",
      "  MostHL7Identifier=('HL7Identifier', lambda x: x.mode().iloc[0] if not x.mode().empty else None),\n",
      "C:\\Users\\svkar\\AppData\\Local\\Temp\\ipykernel_824\\2494931097.py:3: UserWarning: Unable to sort modes: '<' not supported between instances of 'int' and 'str'\n",
      "  MostHL7Identifier=('HL7Identifier', lambda x: x.mode().iloc[0] if not x.mode().empty else None),\n",
      "C:\\Users\\svkar\\AppData\\Local\\Temp\\ipykernel_824\\2494931097.py:3: UserWarning: Unable to sort modes: '<' not supported between instances of 'int' and 'str'\n",
      "  MostHL7Identifier=('HL7Identifier', lambda x: x.mode().iloc[0] if not x.mode().empty else None),\n",
      "C:\\Users\\svkar\\AppData\\Local\\Temp\\ipykernel_824\\2494931097.py:3: UserWarning: Unable to sort modes: '<' not supported between instances of 'int' and 'str'\n",
      "  MostHL7Identifier=('HL7Identifier', lambda x: x.mode().iloc[0] if not x.mode().empty else None),\n",
      "C:\\Users\\svkar\\AppData\\Local\\Temp\\ipykernel_824\\2494931097.py:3: UserWarning: Unable to sort modes: '<' not supported between instances of 'int' and 'str'\n",
      "  MostHL7Identifier=('HL7Identifier', lambda x: x.mode().iloc[0] if not x.mode().empty else None),\n",
      "C:\\Users\\svkar\\AppData\\Local\\Temp\\ipykernel_824\\2494931097.py:3: UserWarning: Unable to sort modes: '<' not supported between instances of 'int' and 'str'\n",
      "  MostHL7Identifier=('HL7Identifier', lambda x: x.mode().iloc[0] if not x.mode().empty else None),\n",
      "C:\\Users\\svkar\\AppData\\Local\\Temp\\ipykernel_824\\2494931097.py:3: UserWarning: Unable to sort modes: '<' not supported between instances of 'int' and 'str'\n",
      "  MostHL7Identifier=('HL7Identifier', lambda x: x.mode().iloc[0] if not x.mode().empty else None),\n",
      "C:\\Users\\svkar\\AppData\\Local\\Temp\\ipykernel_824\\2494931097.py:3: UserWarning: Unable to sort modes: '<' not supported between instances of 'int' and 'str'\n",
      "  MostHL7Identifier=('HL7Identifier', lambda x: x.mode().iloc[0] if not x.mode().empty else None),\n",
      "C:\\Users\\svkar\\AppData\\Local\\Temp\\ipykernel_824\\2494931097.py:3: UserWarning: Unable to sort modes: '<' not supported between instances of 'int' and 'str'\n",
      "  MostHL7Identifier=('HL7Identifier', lambda x: x.mode().iloc[0] if not x.mode().empty else None),\n",
      "C:\\Users\\svkar\\AppData\\Local\\Temp\\ipykernel_824\\2494931097.py:3: UserWarning: Unable to sort modes: '<' not supported between instances of 'int' and 'str'\n",
      "  MostHL7Identifier=('HL7Identifier', lambda x: x.mode().iloc[0] if not x.mode().empty else None),\n",
      "C:\\Users\\svkar\\AppData\\Local\\Temp\\ipykernel_824\\2494931097.py:3: UserWarning: Unable to sort modes: '<' not supported between instances of 'int' and 'str'\n",
      "  MostHL7Identifier=('HL7Identifier', lambda x: x.mode().iloc[0] if not x.mode().empty else None),\n",
      "C:\\Users\\svkar\\AppData\\Local\\Temp\\ipykernel_824\\2494931097.py:3: UserWarning: Unable to sort modes: '<' not supported between instances of 'int' and 'str'\n",
      "  MostHL7Identifier=('HL7Identifier', lambda x: x.mode().iloc[0] if not x.mode().empty else None),\n",
      "C:\\Users\\svkar\\AppData\\Local\\Temp\\ipykernel_824\\2494931097.py:3: UserWarning: Unable to sort modes: '<' not supported between instances of 'int' and 'str'\n",
      "  MostHL7Identifier=('HL7Identifier', lambda x: x.mode().iloc[0] if not x.mode().empty else None),\n",
      "C:\\Users\\svkar\\AppData\\Local\\Temp\\ipykernel_824\\2494931097.py:3: UserWarning: Unable to sort modes: '<' not supported between instances of 'int' and 'str'\n",
      "  MostHL7Identifier=('HL7Identifier', lambda x: x.mode().iloc[0] if not x.mode().empty else None),\n",
      "C:\\Users\\svkar\\AppData\\Local\\Temp\\ipykernel_824\\2494931097.py:3: UserWarning: Unable to sort modes: '<' not supported between instances of 'int' and 'str'\n",
      "  MostHL7Identifier=('HL7Identifier', lambda x: x.mode().iloc[0] if not x.mode().empty else None),\n",
      "C:\\Users\\svkar\\AppData\\Local\\Temp\\ipykernel_824\\2494931097.py:3: UserWarning: Unable to sort modes: '<' not supported between instances of 'int' and 'str'\n",
      "  MostHL7Identifier=('HL7Identifier', lambda x: x.mode().iloc[0] if not x.mode().empty else None),\n",
      "C:\\Users\\svkar\\AppData\\Local\\Temp\\ipykernel_824\\2494931097.py:3: UserWarning: Unable to sort modes: '<' not supported between instances of 'int' and 'str'\n",
      "  MostHL7Identifier=('HL7Identifier', lambda x: x.mode().iloc[0] if not x.mode().empty else None),\n",
      "C:\\Users\\svkar\\AppData\\Local\\Temp\\ipykernel_824\\2494931097.py:3: UserWarning: Unable to sort modes: '<' not supported between instances of 'int' and 'str'\n",
      "  MostHL7Identifier=('HL7Identifier', lambda x: x.mode().iloc[0] if not x.mode().empty else None),\n",
      "C:\\Users\\svkar\\AppData\\Local\\Temp\\ipykernel_824\\2494931097.py:3: UserWarning: Unable to sort modes: '<' not supported between instances of 'int' and 'str'\n",
      "  MostHL7Identifier=('HL7Identifier', lambda x: x.mode().iloc[0] if not x.mode().empty else None),\n",
      "C:\\Users\\svkar\\AppData\\Local\\Temp\\ipykernel_824\\2494931097.py:3: UserWarning: Unable to sort modes: '<' not supported between instances of 'int' and 'str'\n",
      "  MostHL7Identifier=('HL7Identifier', lambda x: x.mode().iloc[0] if not x.mode().empty else None),\n",
      "C:\\Users\\svkar\\AppData\\Local\\Temp\\ipykernel_824\\2494931097.py:3: UserWarning: Unable to sort modes: '<' not supported between instances of 'int' and 'str'\n",
      "  MostHL7Identifier=('HL7Identifier', lambda x: x.mode().iloc[0] if not x.mode().empty else None),\n",
      "C:\\Users\\svkar\\AppData\\Local\\Temp\\ipykernel_824\\2494931097.py:3: UserWarning: Unable to sort modes: '<' not supported between instances of 'int' and 'str'\n",
      "  MostHL7Identifier=('HL7Identifier', lambda x: x.mode().iloc[0] if not x.mode().empty else None),\n",
      "C:\\Users\\svkar\\AppData\\Local\\Temp\\ipykernel_824\\2494931097.py:3: UserWarning: Unable to sort modes: '<' not supported between instances of 'int' and 'str'\n",
      "  MostHL7Identifier=('HL7Identifier', lambda x: x.mode().iloc[0] if not x.mode().empty else None),\n",
      "C:\\Users\\svkar\\AppData\\Local\\Temp\\ipykernel_824\\2494931097.py:3: UserWarning: Unable to sort modes: '<' not supported between instances of 'int' and 'str'\n",
      "  MostHL7Identifier=('HL7Identifier', lambda x: x.mode().iloc[0] if not x.mode().empty else None),\n",
      "C:\\Users\\svkar\\AppData\\Local\\Temp\\ipykernel_824\\2494931097.py:3: UserWarning: Unable to sort modes: '<' not supported between instances of 'int' and 'str'\n",
      "  MostHL7Identifier=('HL7Identifier', lambda x: x.mode().iloc[0] if not x.mode().empty else None),\n",
      "C:\\Users\\svkar\\AppData\\Local\\Temp\\ipykernel_824\\2494931097.py:3: UserWarning: Unable to sort modes: '<' not supported between instances of 'int' and 'str'\n",
      "  MostHL7Identifier=('HL7Identifier', lambda x: x.mode().iloc[0] if not x.mode().empty else None),\n",
      "C:\\Users\\svkar\\AppData\\Local\\Temp\\ipykernel_824\\2494931097.py:3: UserWarning: Unable to sort modes: '<' not supported between instances of 'int' and 'str'\n",
      "  MostHL7Identifier=('HL7Identifier', lambda x: x.mode().iloc[0] if not x.mode().empty else None),\n",
      "C:\\Users\\svkar\\AppData\\Local\\Temp\\ipykernel_824\\2494931097.py:3: UserWarning: Unable to sort modes: '<' not supported between instances of 'int' and 'str'\n",
      "  MostHL7Identifier=('HL7Identifier', lambda x: x.mode().iloc[0] if not x.mode().empty else None),\n",
      "C:\\Users\\svkar\\AppData\\Local\\Temp\\ipykernel_824\\2494931097.py:3: UserWarning: Unable to sort modes: '<' not supported between instances of 'int' and 'str'\n",
      "  MostHL7Identifier=('HL7Identifier', lambda x: x.mode().iloc[0] if not x.mode().empty else None),\n",
      "C:\\Users\\svkar\\AppData\\Local\\Temp\\ipykernel_824\\2494931097.py:3: UserWarning: Unable to sort modes: '<' not supported between instances of 'int' and 'str'\n",
      "  MostHL7Identifier=('HL7Identifier', lambda x: x.mode().iloc[0] if not x.mode().empty else None),\n",
      "C:\\Users\\svkar\\AppData\\Local\\Temp\\ipykernel_824\\2494931097.py:3: UserWarning: Unable to sort modes: '<' not supported between instances of 'int' and 'str'\n",
      "  MostHL7Identifier=('HL7Identifier', lambda x: x.mode().iloc[0] if not x.mode().empty else None),\n",
      "C:\\Users\\svkar\\AppData\\Local\\Temp\\ipykernel_824\\2494931097.py:3: UserWarning: Unable to sort modes: '<' not supported between instances of 'int' and 'str'\n",
      "  MostHL7Identifier=('HL7Identifier', lambda x: x.mode().iloc[0] if not x.mode().empty else None),\n",
      "C:\\Users\\svkar\\AppData\\Local\\Temp\\ipykernel_824\\2494931097.py:3: UserWarning: Unable to sort modes: '<' not supported between instances of 'int' and 'str'\n",
      "  MostHL7Identifier=('HL7Identifier', lambda x: x.mode().iloc[0] if not x.mode().empty else None),\n",
      "C:\\Users\\svkar\\AppData\\Local\\Temp\\ipykernel_824\\2494931097.py:3: UserWarning: Unable to sort modes: '<' not supported between instances of 'int' and 'str'\n",
      "  MostHL7Identifier=('HL7Identifier', lambda x: x.mode().iloc[0] if not x.mode().empty else None),\n",
      "C:\\Users\\svkar\\AppData\\Local\\Temp\\ipykernel_824\\2494931097.py:3: UserWarning: Unable to sort modes: '<' not supported between instances of 'int' and 'str'\n",
      "  MostHL7Identifier=('HL7Identifier', lambda x: x.mode().iloc[0] if not x.mode().empty else None),\n",
      "C:\\Users\\svkar\\AppData\\Local\\Temp\\ipykernel_824\\2494931097.py:3: UserWarning: Unable to sort modes: '<' not supported between instances of 'int' and 'str'\n",
      "  MostHL7Identifier=('HL7Identifier', lambda x: x.mode().iloc[0] if not x.mode().empty else None),\n",
      "C:\\Users\\svkar\\AppData\\Local\\Temp\\ipykernel_824\\2494931097.py:3: UserWarning: Unable to sort modes: '<' not supported between instances of 'int' and 'str'\n",
      "  MostHL7Identifier=('HL7Identifier', lambda x: x.mode().iloc[0] if not x.mode().empty else None),\n",
      "C:\\Users\\svkar\\AppData\\Local\\Temp\\ipykernel_824\\2494931097.py:3: UserWarning: Unable to sort modes: '<' not supported between instances of 'int' and 'str'\n",
      "  MostHL7Identifier=('HL7Identifier', lambda x: x.mode().iloc[0] if not x.mode().empty else None),\n",
      "C:\\Users\\svkar\\AppData\\Local\\Temp\\ipykernel_824\\2494931097.py:3: UserWarning: Unable to sort modes: '<' not supported between instances of 'int' and 'str'\n",
      "  MostHL7Identifier=('HL7Identifier', lambda x: x.mode().iloc[0] if not x.mode().empty else None),\n",
      "C:\\Users\\svkar\\AppData\\Local\\Temp\\ipykernel_824\\2494931097.py:3: UserWarning: Unable to sort modes: '<' not supported between instances of 'int' and 'str'\n",
      "  MostHL7Identifier=('HL7Identifier', lambda x: x.mode().iloc[0] if not x.mode().empty else None),\n",
      "C:\\Users\\svkar\\AppData\\Local\\Temp\\ipykernel_824\\2494931097.py:3: UserWarning: Unable to sort modes: '<' not supported between instances of 'int' and 'str'\n",
      "  MostHL7Identifier=('HL7Identifier', lambda x: x.mode().iloc[0] if not x.mode().empty else None),\n",
      "C:\\Users\\svkar\\AppData\\Local\\Temp\\ipykernel_824\\2494931097.py:3: UserWarning: Unable to sort modes: '<' not supported between instances of 'int' and 'str'\n",
      "  MostHL7Identifier=('HL7Identifier', lambda x: x.mode().iloc[0] if not x.mode().empty else None),\n",
      "C:\\Users\\svkar\\AppData\\Local\\Temp\\ipykernel_824\\2494931097.py:3: UserWarning: Unable to sort modes: '<' not supported between instances of 'int' and 'str'\n",
      "  MostHL7Identifier=('HL7Identifier', lambda x: x.mode().iloc[0] if not x.mode().empty else None),\n",
      "C:\\Users\\svkar\\AppData\\Local\\Temp\\ipykernel_824\\2494931097.py:3: UserWarning: Unable to sort modes: '<' not supported between instances of 'int' and 'str'\n",
      "  MostHL7Identifier=('HL7Identifier', lambda x: x.mode().iloc[0] if not x.mode().empty else None),\n",
      "C:\\Users\\svkar\\AppData\\Local\\Temp\\ipykernel_824\\2494931097.py:3: UserWarning: Unable to sort modes: '<' not supported between instances of 'int' and 'str'\n",
      "  MostHL7Identifier=('HL7Identifier', lambda x: x.mode().iloc[0] if not x.mode().empty else None),\n",
      "C:\\Users\\svkar\\AppData\\Local\\Temp\\ipykernel_824\\2494931097.py:3: UserWarning: Unable to sort modes: '<' not supported between instances of 'int' and 'str'\n",
      "  MostHL7Identifier=('HL7Identifier', lambda x: x.mode().iloc[0] if not x.mode().empty else None),\n",
      "C:\\Users\\svkar\\AppData\\Local\\Temp\\ipykernel_824\\2494931097.py:3: UserWarning: Unable to sort modes: '<' not supported between instances of 'int' and 'str'\n",
      "  MostHL7Identifier=('HL7Identifier', lambda x: x.mode().iloc[0] if not x.mode().empty else None),\n",
      "C:\\Users\\svkar\\AppData\\Local\\Temp\\ipykernel_824\\2494931097.py:3: UserWarning: Unable to sort modes: '<' not supported between instances of 'int' and 'str'\n",
      "  MostHL7Identifier=('HL7Identifier', lambda x: x.mode().iloc[0] if not x.mode().empty else None),\n",
      "C:\\Users\\svkar\\AppData\\Local\\Temp\\ipykernel_824\\2494931097.py:3: UserWarning: Unable to sort modes: '<' not supported between instances of 'int' and 'str'\n",
      "  MostHL7Identifier=('HL7Identifier', lambda x: x.mode().iloc[0] if not x.mode().empty else None),\n",
      "C:\\Users\\svkar\\AppData\\Local\\Temp\\ipykernel_824\\2494931097.py:3: UserWarning: Unable to sort modes: '<' not supported between instances of 'int' and 'str'\n",
      "  MostHL7Identifier=('HL7Identifier', lambda x: x.mode().iloc[0] if not x.mode().empty else None),\n",
      "C:\\Users\\svkar\\AppData\\Local\\Temp\\ipykernel_824\\2494931097.py:3: UserWarning: Unable to sort modes: '<' not supported between instances of 'int' and 'str'\n",
      "  MostHL7Identifier=('HL7Identifier', lambda x: x.mode().iloc[0] if not x.mode().empty else None),\n",
      "C:\\Users\\svkar\\AppData\\Local\\Temp\\ipykernel_824\\2494931097.py:3: UserWarning: Unable to sort modes: '<' not supported between instances of 'int' and 'str'\n",
      "  MostHL7Identifier=('HL7Identifier', lambda x: x.mode().iloc[0] if not x.mode().empty else None),\n",
      "C:\\Users\\svkar\\AppData\\Local\\Temp\\ipykernel_824\\2494931097.py:3: UserWarning: Unable to sort modes: '<' not supported between instances of 'int' and 'str'\n",
      "  MostHL7Identifier=('HL7Identifier', lambda x: x.mode().iloc[0] if not x.mode().empty else None),\n",
      "C:\\Users\\svkar\\AppData\\Local\\Temp\\ipykernel_824\\2494931097.py:3: UserWarning: Unable to sort modes: '<' not supported between instances of 'int' and 'str'\n",
      "  MostHL7Identifier=('HL7Identifier', lambda x: x.mode().iloc[0] if not x.mode().empty else None),\n",
      "C:\\Users\\svkar\\AppData\\Local\\Temp\\ipykernel_824\\2494931097.py:3: UserWarning: Unable to sort modes: '<' not supported between instances of 'int' and 'str'\n",
      "  MostHL7Identifier=('HL7Identifier', lambda x: x.mode().iloc[0] if not x.mode().empty else None),\n",
      "C:\\Users\\svkar\\AppData\\Local\\Temp\\ipykernel_824\\2494931097.py:3: UserWarning: Unable to sort modes: '<' not supported between instances of 'int' and 'str'\n",
      "  MostHL7Identifier=('HL7Identifier', lambda x: x.mode().iloc[0] if not x.mode().empty else None),\n",
      "C:\\Users\\svkar\\AppData\\Local\\Temp\\ipykernel_824\\2494931097.py:3: UserWarning: Unable to sort modes: '<' not supported between instances of 'int' and 'str'\n",
      "  MostHL7Identifier=('HL7Identifier', lambda x: x.mode().iloc[0] if not x.mode().empty else None),\n",
      "C:\\Users\\svkar\\AppData\\Local\\Temp\\ipykernel_824\\2494931097.py:3: UserWarning: Unable to sort modes: '<' not supported between instances of 'int' and 'str'\n",
      "  MostHL7Identifier=('HL7Identifier', lambda x: x.mode().iloc[0] if not x.mode().empty else None),\n",
      "C:\\Users\\svkar\\AppData\\Local\\Temp\\ipykernel_824\\2494931097.py:3: UserWarning: Unable to sort modes: '<' not supported between instances of 'int' and 'str'\n",
      "  MostHL7Identifier=('HL7Identifier', lambda x: x.mode().iloc[0] if not x.mode().empty else None),\n",
      "C:\\Users\\svkar\\AppData\\Local\\Temp\\ipykernel_824\\2494931097.py:3: UserWarning: Unable to sort modes: '<' not supported between instances of 'int' and 'str'\n",
      "  MostHL7Identifier=('HL7Identifier', lambda x: x.mode().iloc[0] if not x.mode().empty else None),\n",
      "C:\\Users\\svkar\\AppData\\Local\\Temp\\ipykernel_824\\2494931097.py:3: UserWarning: Unable to sort modes: '<' not supported between instances of 'int' and 'str'\n",
      "  MostHL7Identifier=('HL7Identifier', lambda x: x.mode().iloc[0] if not x.mode().empty else None),\n",
      "C:\\Users\\svkar\\AppData\\Local\\Temp\\ipykernel_824\\2494931097.py:3: UserWarning: Unable to sort modes: '<' not supported between instances of 'int' and 'str'\n",
      "  MostHL7Identifier=('HL7Identifier', lambda x: x.mode().iloc[0] if not x.mode().empty else None),\n",
      "C:\\Users\\svkar\\AppData\\Local\\Temp\\ipykernel_824\\2494931097.py:3: UserWarning: Unable to sort modes: '<' not supported between instances of 'int' and 'str'\n",
      "  MostHL7Identifier=('HL7Identifier', lambda x: x.mode().iloc[0] if not x.mode().empty else None),\n",
      "C:\\Users\\svkar\\AppData\\Local\\Temp\\ipykernel_824\\2494931097.py:3: UserWarning: Unable to sort modes: '<' not supported between instances of 'int' and 'str'\n",
      "  MostHL7Identifier=('HL7Identifier', lambda x: x.mode().iloc[0] if not x.mode().empty else None),\n",
      "C:\\Users\\svkar\\AppData\\Local\\Temp\\ipykernel_824\\2494931097.py:3: UserWarning: Unable to sort modes: '<' not supported between instances of 'int' and 'str'\n",
      "  MostHL7Identifier=('HL7Identifier', lambda x: x.mode().iloc[0] if not x.mode().empty else None),\n",
      "C:\\Users\\svkar\\AppData\\Local\\Temp\\ipykernel_824\\2494931097.py:3: UserWarning: Unable to sort modes: '<' not supported between instances of 'int' and 'str'\n",
      "  MostHL7Identifier=('HL7Identifier', lambda x: x.mode().iloc[0] if not x.mode().empty else None),\n",
      "C:\\Users\\svkar\\AppData\\Local\\Temp\\ipykernel_824\\2494931097.py:3: UserWarning: Unable to sort modes: '<' not supported between instances of 'int' and 'str'\n",
      "  MostHL7Identifier=('HL7Identifier', lambda x: x.mode().iloc[0] if not x.mode().empty else None),\n",
      "C:\\Users\\svkar\\AppData\\Local\\Temp\\ipykernel_824\\2494931097.py:3: UserWarning: Unable to sort modes: '<' not supported between instances of 'int' and 'str'\n",
      "  MostHL7Identifier=('HL7Identifier', lambda x: x.mode().iloc[0] if not x.mode().empty else None),\n",
      "C:\\Users\\svkar\\AppData\\Local\\Temp\\ipykernel_824\\2494931097.py:3: UserWarning: Unable to sort modes: '<' not supported between instances of 'int' and 'str'\n",
      "  MostHL7Identifier=('HL7Identifier', lambda x: x.mode().iloc[0] if not x.mode().empty else None),\n",
      "C:\\Users\\svkar\\AppData\\Local\\Temp\\ipykernel_824\\2494931097.py:3: UserWarning: Unable to sort modes: '<' not supported between instances of 'int' and 'str'\n",
      "  MostHL7Identifier=('HL7Identifier', lambda x: x.mode().iloc[0] if not x.mode().empty else None),\n",
      "C:\\Users\\svkar\\AppData\\Local\\Temp\\ipykernel_824\\2494931097.py:3: UserWarning: Unable to sort modes: '<' not supported between instances of 'int' and 'str'\n",
      "  MostHL7Identifier=('HL7Identifier', lambda x: x.mode().iloc[0] if not x.mode().empty else None),\n",
      "C:\\Users\\svkar\\AppData\\Local\\Temp\\ipykernel_824\\2494931097.py:3: UserWarning: Unable to sort modes: '<' not supported between instances of 'int' and 'str'\n",
      "  MostHL7Identifier=('HL7Identifier', lambda x: x.mode().iloc[0] if not x.mode().empty else None),\n",
      "C:\\Users\\svkar\\AppData\\Local\\Temp\\ipykernel_824\\2494931097.py:3: UserWarning: Unable to sort modes: '<' not supported between instances of 'int' and 'str'\n",
      "  MostHL7Identifier=('HL7Identifier', lambda x: x.mode().iloc[0] if not x.mode().empty else None),\n",
      "C:\\Users\\svkar\\AppData\\Local\\Temp\\ipykernel_824\\2494931097.py:3: UserWarning: Unable to sort modes: '<' not supported between instances of 'int' and 'str'\n",
      "  MostHL7Identifier=('HL7Identifier', lambda x: x.mode().iloc[0] if not x.mode().empty else None),\n",
      "C:\\Users\\svkar\\AppData\\Local\\Temp\\ipykernel_824\\2494931097.py:3: UserWarning: Unable to sort modes: '<' not supported between instances of 'int' and 'str'\n",
      "  MostHL7Identifier=('HL7Identifier', lambda x: x.mode().iloc[0] if not x.mode().empty else None),\n",
      "C:\\Users\\svkar\\AppData\\Local\\Temp\\ipykernel_824\\2494931097.py:3: UserWarning: Unable to sort modes: '<' not supported between instances of 'int' and 'str'\n",
      "  MostHL7Identifier=('HL7Identifier', lambda x: x.mode().iloc[0] if not x.mode().empty else None),\n",
      "C:\\Users\\svkar\\AppData\\Local\\Temp\\ipykernel_824\\2494931097.py:3: UserWarning: Unable to sort modes: '<' not supported between instances of 'int' and 'str'\n",
      "  MostHL7Identifier=('HL7Identifier', lambda x: x.mode().iloc[0] if not x.mode().empty else None),\n",
      "C:\\Users\\svkar\\AppData\\Local\\Temp\\ipykernel_824\\2494931097.py:3: UserWarning: Unable to sort modes: '<' not supported between instances of 'int' and 'str'\n",
      "  MostHL7Identifier=('HL7Identifier', lambda x: x.mode().iloc[0] if not x.mode().empty else None),\n",
      "C:\\Users\\svkar\\AppData\\Local\\Temp\\ipykernel_824\\2494931097.py:3: UserWarning: Unable to sort modes: '<' not supported between instances of 'int' and 'str'\n",
      "  MostHL7Identifier=('HL7Identifier', lambda x: x.mode().iloc[0] if not x.mode().empty else None),\n",
      "C:\\Users\\svkar\\AppData\\Local\\Temp\\ipykernel_824\\2494931097.py:3: UserWarning: Unable to sort modes: '<' not supported between instances of 'int' and 'str'\n",
      "  MostHL7Identifier=('HL7Identifier', lambda x: x.mode().iloc[0] if not x.mode().empty else None),\n",
      "C:\\Users\\svkar\\AppData\\Local\\Temp\\ipykernel_824\\2494931097.py:3: UserWarning: Unable to sort modes: '<' not supported between instances of 'int' and 'str'\n",
      "  MostHL7Identifier=('HL7Identifier', lambda x: x.mode().iloc[0] if not x.mode().empty else None),\n",
      "C:\\Users\\svkar\\AppData\\Local\\Temp\\ipykernel_824\\2494931097.py:3: UserWarning: Unable to sort modes: '<' not supported between instances of 'int' and 'str'\n",
      "  MostHL7Identifier=('HL7Identifier', lambda x: x.mode().iloc[0] if not x.mode().empty else None),\n",
      "C:\\Users\\svkar\\AppData\\Local\\Temp\\ipykernel_824\\2494931097.py:3: UserWarning: Unable to sort modes: '<' not supported between instances of 'int' and 'str'\n",
      "  MostHL7Identifier=('HL7Identifier', lambda x: x.mode().iloc[0] if not x.mode().empty else None),\n",
      "C:\\Users\\svkar\\AppData\\Local\\Temp\\ipykernel_824\\2494931097.py:3: UserWarning: Unable to sort modes: '<' not supported between instances of 'int' and 'str'\n",
      "  MostHL7Identifier=('HL7Identifier', lambda x: x.mode().iloc[0] if not x.mode().empty else None),\n",
      "C:\\Users\\svkar\\AppData\\Local\\Temp\\ipykernel_824\\2494931097.py:3: UserWarning: Unable to sort modes: '<' not supported between instances of 'int' and 'str'\n",
      "  MostHL7Identifier=('HL7Identifier', lambda x: x.mode().iloc[0] if not x.mode().empty else None),\n",
      "C:\\Users\\svkar\\AppData\\Local\\Temp\\ipykernel_824\\2494931097.py:3: UserWarning: Unable to sort modes: '<' not supported between instances of 'int' and 'str'\n",
      "  MostHL7Identifier=('HL7Identifier', lambda x: x.mode().iloc[0] if not x.mode().empty else None),\n",
      "C:\\Users\\svkar\\AppData\\Local\\Temp\\ipykernel_824\\2494931097.py:3: UserWarning: Unable to sort modes: '<' not supported between instances of 'int' and 'str'\n",
      "  MostHL7Identifier=('HL7Identifier', lambda x: x.mode().iloc[0] if not x.mode().empty else None),\n",
      "C:\\Users\\svkar\\AppData\\Local\\Temp\\ipykernel_824\\2494931097.py:3: UserWarning: Unable to sort modes: '<' not supported between instances of 'int' and 'str'\n",
      "  MostHL7Identifier=('HL7Identifier', lambda x: x.mode().iloc[0] if not x.mode().empty else None),\n",
      "C:\\Users\\svkar\\AppData\\Local\\Temp\\ipykernel_824\\2494931097.py:3: UserWarning: Unable to sort modes: '<' not supported between instances of 'int' and 'str'\n",
      "  MostHL7Identifier=('HL7Identifier', lambda x: x.mode().iloc[0] if not x.mode().empty else None),\n",
      "C:\\Users\\svkar\\AppData\\Local\\Temp\\ipykernel_824\\2494931097.py:3: UserWarning: Unable to sort modes: '<' not supported between instances of 'int' and 'str'\n",
      "  MostHL7Identifier=('HL7Identifier', lambda x: x.mode().iloc[0] if not x.mode().empty else None),\n",
      "C:\\Users\\svkar\\AppData\\Local\\Temp\\ipykernel_824\\2494931097.py:3: UserWarning: Unable to sort modes: '<' not supported between instances of 'int' and 'str'\n",
      "  MostHL7Identifier=('HL7Identifier', lambda x: x.mode().iloc[0] if not x.mode().empty else None),\n",
      "C:\\Users\\svkar\\AppData\\Local\\Temp\\ipykernel_824\\2494931097.py:3: UserWarning: Unable to sort modes: '<' not supported between instances of 'int' and 'str'\n",
      "  MostHL7Identifier=('HL7Identifier', lambda x: x.mode().iloc[0] if not x.mode().empty else None),\n",
      "C:\\Users\\svkar\\AppData\\Local\\Temp\\ipykernel_824\\2494931097.py:3: UserWarning: Unable to sort modes: '<' not supported between instances of 'int' and 'str'\n",
      "  MostHL7Identifier=('HL7Identifier', lambda x: x.mode().iloc[0] if not x.mode().empty else None),\n",
      "C:\\Users\\svkar\\AppData\\Local\\Temp\\ipykernel_824\\2494931097.py:3: UserWarning: Unable to sort modes: '<' not supported between instances of 'int' and 'str'\n",
      "  MostHL7Identifier=('HL7Identifier', lambda x: x.mode().iloc[0] if not x.mode().empty else None),\n",
      "C:\\Users\\svkar\\AppData\\Local\\Temp\\ipykernel_824\\2494931097.py:3: UserWarning: Unable to sort modes: '<' not supported between instances of 'int' and 'str'\n",
      "  MostHL7Identifier=('HL7Identifier', lambda x: x.mode().iloc[0] if not x.mode().empty else None),\n",
      "C:\\Users\\svkar\\AppData\\Local\\Temp\\ipykernel_824\\2494931097.py:3: UserWarning: Unable to sort modes: '<' not supported between instances of 'int' and 'str'\n",
      "  MostHL7Identifier=('HL7Identifier', lambda x: x.mode().iloc[0] if not x.mode().empty else None),\n",
      "C:\\Users\\svkar\\AppData\\Local\\Temp\\ipykernel_824\\2494931097.py:3: UserWarning: Unable to sort modes: '<' not supported between instances of 'int' and 'str'\n",
      "  MostHL7Identifier=('HL7Identifier', lambda x: x.mode().iloc[0] if not x.mode().empty else None),\n",
      "C:\\Users\\svkar\\AppData\\Local\\Temp\\ipykernel_824\\2494931097.py:3: UserWarning: Unable to sort modes: '<' not supported between instances of 'int' and 'str'\n",
      "  MostHL7Identifier=('HL7Identifier', lambda x: x.mode().iloc[0] if not x.mode().empty else None),\n",
      "C:\\Users\\svkar\\AppData\\Local\\Temp\\ipykernel_824\\2494931097.py:3: UserWarning: Unable to sort modes: '<' not supported between instances of 'int' and 'str'\n",
      "  MostHL7Identifier=('HL7Identifier', lambda x: x.mode().iloc[0] if not x.mode().empty else None),\n",
      "C:\\Users\\svkar\\AppData\\Local\\Temp\\ipykernel_824\\2494931097.py:3: UserWarning: Unable to sort modes: '<' not supported between instances of 'int' and 'str'\n",
      "  MostHL7Identifier=('HL7Identifier', lambda x: x.mode().iloc[0] if not x.mode().empty else None),\n",
      "C:\\Users\\svkar\\AppData\\Local\\Temp\\ipykernel_824\\2494931097.py:3: UserWarning: Unable to sort modes: '<' not supported between instances of 'int' and 'str'\n",
      "  MostHL7Identifier=('HL7Identifier', lambda x: x.mode().iloc[0] if not x.mode().empty else None),\n",
      "C:\\Users\\svkar\\AppData\\Local\\Temp\\ipykernel_824\\2494931097.py:3: UserWarning: Unable to sort modes: '<' not supported between instances of 'int' and 'str'\n",
      "  MostHL7Identifier=('HL7Identifier', lambda x: x.mode().iloc[0] if not x.mode().empty else None),\n",
      "C:\\Users\\svkar\\AppData\\Local\\Temp\\ipykernel_824\\2494931097.py:3: UserWarning: Unable to sort modes: '<' not supported between instances of 'int' and 'str'\n",
      "  MostHL7Identifier=('HL7Identifier', lambda x: x.mode().iloc[0] if not x.mode().empty else None),\n",
      "C:\\Users\\svkar\\AppData\\Local\\Temp\\ipykernel_824\\2494931097.py:3: UserWarning: Unable to sort modes: '<' not supported between instances of 'int' and 'str'\n",
      "  MostHL7Identifier=('HL7Identifier', lambda x: x.mode().iloc[0] if not x.mode().empty else None),\n",
      "C:\\Users\\svkar\\AppData\\Local\\Temp\\ipykernel_824\\2494931097.py:3: UserWarning: Unable to sort modes: '<' not supported between instances of 'int' and 'str'\n",
      "  MostHL7Identifier=('HL7Identifier', lambda x: x.mode().iloc[0] if not x.mode().empty else None),\n",
      "C:\\Users\\svkar\\AppData\\Local\\Temp\\ipykernel_824\\2494931097.py:3: UserWarning: Unable to sort modes: '<' not supported between instances of 'int' and 'str'\n",
      "  MostHL7Identifier=('HL7Identifier', lambda x: x.mode().iloc[0] if not x.mode().empty else None),\n",
      "C:\\Users\\svkar\\AppData\\Local\\Temp\\ipykernel_824\\2494931097.py:3: UserWarning: Unable to sort modes: '<' not supported between instances of 'int' and 'str'\n",
      "  MostHL7Identifier=('HL7Identifier', lambda x: x.mode().iloc[0] if not x.mode().empty else None),\n",
      "C:\\Users\\svkar\\AppData\\Local\\Temp\\ipykernel_824\\2494931097.py:3: UserWarning: Unable to sort modes: '<' not supported between instances of 'int' and 'str'\n",
      "  MostHL7Identifier=('HL7Identifier', lambda x: x.mode().iloc[0] if not x.mode().empty else None),\n",
      "C:\\Users\\svkar\\AppData\\Local\\Temp\\ipykernel_824\\2494931097.py:3: UserWarning: Unable to sort modes: '<' not supported between instances of 'int' and 'str'\n",
      "  MostHL7Identifier=('HL7Identifier', lambda x: x.mode().iloc[0] if not x.mode().empty else None),\n",
      "C:\\Users\\svkar\\AppData\\Local\\Temp\\ipykernel_824\\2494931097.py:3: UserWarning: Unable to sort modes: '<' not supported between instances of 'int' and 'str'\n",
      "  MostHL7Identifier=('HL7Identifier', lambda x: x.mode().iloc[0] if not x.mode().empty else None),\n",
      "C:\\Users\\svkar\\AppData\\Local\\Temp\\ipykernel_824\\2494931097.py:3: UserWarning: Unable to sort modes: '<' not supported between instances of 'str' and 'int'\n",
      "  MostHL7Identifier=('HL7Identifier', lambda x: x.mode().iloc[0] if not x.mode().empty else None),\n",
      "C:\\Users\\svkar\\AppData\\Local\\Temp\\ipykernel_824\\2494931097.py:3: UserWarning: Unable to sort modes: '<' not supported between instances of 'str' and 'int'\n",
      "  MostHL7Identifier=('HL7Identifier', lambda x: x.mode().iloc[0] if not x.mode().empty else None),\n",
      "C:\\Users\\svkar\\AppData\\Local\\Temp\\ipykernel_824\\2494931097.py:3: UserWarning: Unable to sort modes: '<' not supported between instances of 'int' and 'str'\n",
      "  MostHL7Identifier=('HL7Identifier', lambda x: x.mode().iloc[0] if not x.mode().empty else None),\n",
      "C:\\Users\\svkar\\AppData\\Local\\Temp\\ipykernel_824\\2494931097.py:3: UserWarning: Unable to sort modes: '<' not supported between instances of 'int' and 'str'\n",
      "  MostHL7Identifier=('HL7Identifier', lambda x: x.mode().iloc[0] if not x.mode().empty else None),\n",
      "C:\\Users\\svkar\\AppData\\Local\\Temp\\ipykernel_824\\2494931097.py:3: UserWarning: Unable to sort modes: '<' not supported between instances of 'int' and 'str'\n",
      "  MostHL7Identifier=('HL7Identifier', lambda x: x.mode().iloc[0] if not x.mode().empty else None),\n",
      "C:\\Users\\svkar\\AppData\\Local\\Temp\\ipykernel_824\\2494931097.py:3: UserWarning: Unable to sort modes: '<' not supported between instances of 'int' and 'str'\n",
      "  MostHL7Identifier=('HL7Identifier', lambda x: x.mode().iloc[0] if not x.mode().empty else None),\n",
      "C:\\Users\\svkar\\AppData\\Local\\Temp\\ipykernel_824\\2494931097.py:3: UserWarning: Unable to sort modes: '<' not supported between instances of 'int' and 'str'\n",
      "  MostHL7Identifier=('HL7Identifier', lambda x: x.mode().iloc[0] if not x.mode().empty else None),\n",
      "C:\\Users\\svkar\\AppData\\Local\\Temp\\ipykernel_824\\2494931097.py:3: UserWarning: Unable to sort modes: '<' not supported between instances of 'int' and 'str'\n",
      "  MostHL7Identifier=('HL7Identifier', lambda x: x.mode().iloc[0] if not x.mode().empty else None),\n",
      "C:\\Users\\svkar\\AppData\\Local\\Temp\\ipykernel_824\\2494931097.py:3: UserWarning: Unable to sort modes: '<' not supported between instances of 'int' and 'str'\n",
      "  MostHL7Identifier=('HL7Identifier', lambda x: x.mode().iloc[0] if not x.mode().empty else None),\n",
      "C:\\Users\\svkar\\AppData\\Local\\Temp\\ipykernel_824\\2494931097.py:3: UserWarning: Unable to sort modes: '<' not supported between instances of 'int' and 'str'\n",
      "  MostHL7Identifier=('HL7Identifier', lambda x: x.mode().iloc[0] if not x.mode().empty else None),\n",
      "C:\\Users\\svkar\\AppData\\Local\\Temp\\ipykernel_824\\2494931097.py:3: UserWarning: Unable to sort modes: '<' not supported between instances of 'int' and 'str'\n",
      "  MostHL7Identifier=('HL7Identifier', lambda x: x.mode().iloc[0] if not x.mode().empty else None),\n",
      "C:\\Users\\svkar\\AppData\\Local\\Temp\\ipykernel_824\\2494931097.py:3: UserWarning: Unable to sort modes: '<' not supported between instances of 'int' and 'str'\n",
      "  MostHL7Identifier=('HL7Identifier', lambda x: x.mode().iloc[0] if not x.mode().empty else None),\n",
      "C:\\Users\\svkar\\AppData\\Local\\Temp\\ipykernel_824\\2494931097.py:3: UserWarning: Unable to sort modes: '<' not supported between instances of 'int' and 'str'\n",
      "  MostHL7Identifier=('HL7Identifier', lambda x: x.mode().iloc[0] if not x.mode().empty else None),\n",
      "C:\\Users\\svkar\\AppData\\Local\\Temp\\ipykernel_824\\2494931097.py:3: UserWarning: Unable to sort modes: '<' not supported between instances of 'int' and 'str'\n",
      "  MostHL7Identifier=('HL7Identifier', lambda x: x.mode().iloc[0] if not x.mode().empty else None),\n",
      "C:\\Users\\svkar\\AppData\\Local\\Temp\\ipykernel_824\\2494931097.py:3: UserWarning: Unable to sort modes: '<' not supported between instances of 'int' and 'str'\n",
      "  MostHL7Identifier=('HL7Identifier', lambda x: x.mode().iloc[0] if not x.mode().empty else None),\n",
      "C:\\Users\\svkar\\AppData\\Local\\Temp\\ipykernel_824\\2494931097.py:3: UserWarning: Unable to sort modes: '<' not supported between instances of 'int' and 'str'\n",
      "  MostHL7Identifier=('HL7Identifier', lambda x: x.mode().iloc[0] if not x.mode().empty else None),\n",
      "C:\\Users\\svkar\\AppData\\Local\\Temp\\ipykernel_824\\2494931097.py:3: UserWarning: Unable to sort modes: '<' not supported between instances of 'int' and 'str'\n",
      "  MostHL7Identifier=('HL7Identifier', lambda x: x.mode().iloc[0] if not x.mode().empty else None),\n",
      "C:\\Users\\svkar\\AppData\\Local\\Temp\\ipykernel_824\\2494931097.py:3: UserWarning: Unable to sort modes: '<' not supported between instances of 'int' and 'str'\n",
      "  MostHL7Identifier=('HL7Identifier', lambda x: x.mode().iloc[0] if not x.mode().empty else None),\n",
      "C:\\Users\\svkar\\AppData\\Local\\Temp\\ipykernel_824\\2494931097.py:3: UserWarning: Unable to sort modes: '<' not supported between instances of 'int' and 'str'\n",
      "  MostHL7Identifier=('HL7Identifier', lambda x: x.mode().iloc[0] if not x.mode().empty else None),\n",
      "C:\\Users\\svkar\\AppData\\Local\\Temp\\ipykernel_824\\2494931097.py:3: UserWarning: Unable to sort modes: '<' not supported between instances of 'int' and 'str'\n",
      "  MostHL7Identifier=('HL7Identifier', lambda x: x.mode().iloc[0] if not x.mode().empty else None),\n",
      "C:\\Users\\svkar\\AppData\\Local\\Temp\\ipykernel_824\\2494931097.py:3: UserWarning: Unable to sort modes: '<' not supported between instances of 'int' and 'str'\n",
      "  MostHL7Identifier=('HL7Identifier', lambda x: x.mode().iloc[0] if not x.mode().empty else None),\n",
      "C:\\Users\\svkar\\AppData\\Local\\Temp\\ipykernel_824\\2494931097.py:3: UserWarning: Unable to sort modes: '<' not supported between instances of 'int' and 'str'\n",
      "  MostHL7Identifier=('HL7Identifier', lambda x: x.mode().iloc[0] if not x.mode().empty else None),\n",
      "C:\\Users\\svkar\\AppData\\Local\\Temp\\ipykernel_824\\2494931097.py:3: UserWarning: Unable to sort modes: '<' not supported between instances of 'int' and 'str'\n",
      "  MostHL7Identifier=('HL7Identifier', lambda x: x.mode().iloc[0] if not x.mode().empty else None),\n",
      "C:\\Users\\svkar\\AppData\\Local\\Temp\\ipykernel_824\\2494931097.py:3: UserWarning: Unable to sort modes: '<' not supported between instances of 'int' and 'str'\n",
      "  MostHL7Identifier=('HL7Identifier', lambda x: x.mode().iloc[0] if not x.mode().empty else None),\n",
      "C:\\Users\\svkar\\AppData\\Local\\Temp\\ipykernel_824\\2494931097.py:3: UserWarning: Unable to sort modes: '<' not supported between instances of 'int' and 'str'\n",
      "  MostHL7Identifier=('HL7Identifier', lambda x: x.mode().iloc[0] if not x.mode().empty else None),\n",
      "C:\\Users\\svkar\\AppData\\Local\\Temp\\ipykernel_824\\2494931097.py:3: UserWarning: Unable to sort modes: '<' not supported between instances of 'int' and 'str'\n",
      "  MostHL7Identifier=('HL7Identifier', lambda x: x.mode().iloc[0] if not x.mode().empty else None),\n",
      "C:\\Users\\svkar\\AppData\\Local\\Temp\\ipykernel_824\\2494931097.py:3: UserWarning: Unable to sort modes: '<' not supported between instances of 'int' and 'str'\n",
      "  MostHL7Identifier=('HL7Identifier', lambda x: x.mode().iloc[0] if not x.mode().empty else None),\n",
      "C:\\Users\\svkar\\AppData\\Local\\Temp\\ipykernel_824\\2494931097.py:3: UserWarning: Unable to sort modes: '<' not supported between instances of 'int' and 'str'\n",
      "  MostHL7Identifier=('HL7Identifier', lambda x: x.mode().iloc[0] if not x.mode().empty else None),\n",
      "C:\\Users\\svkar\\AppData\\Local\\Temp\\ipykernel_824\\2494931097.py:3: UserWarning: Unable to sort modes: '<' not supported between instances of 'int' and 'str'\n",
      "  MostHL7Identifier=('HL7Identifier', lambda x: x.mode().iloc[0] if not x.mode().empty else None),\n",
      "C:\\Users\\svkar\\AppData\\Local\\Temp\\ipykernel_824\\2494931097.py:3: UserWarning: Unable to sort modes: '<' not supported between instances of 'int' and 'str'\n",
      "  MostHL7Identifier=('HL7Identifier', lambda x: x.mode().iloc[0] if not x.mode().empty else None),\n",
      "C:\\Users\\svkar\\AppData\\Local\\Temp\\ipykernel_824\\2494931097.py:3: UserWarning: Unable to sort modes: '<' not supported between instances of 'int' and 'str'\n",
      "  MostHL7Identifier=('HL7Identifier', lambda x: x.mode().iloc[0] if not x.mode().empty else None),\n",
      "C:\\Users\\svkar\\AppData\\Local\\Temp\\ipykernel_824\\2494931097.py:3: UserWarning: Unable to sort modes: '<' not supported between instances of 'int' and 'str'\n",
      "  MostHL7Identifier=('HL7Identifier', lambda x: x.mode().iloc[0] if not x.mode().empty else None),\n",
      "C:\\Users\\svkar\\AppData\\Local\\Temp\\ipykernel_824\\2494931097.py:3: UserWarning: Unable to sort modes: '<' not supported between instances of 'int' and 'str'\n",
      "  MostHL7Identifier=('HL7Identifier', lambda x: x.mode().iloc[0] if not x.mode().empty else None),\n",
      "C:\\Users\\svkar\\AppData\\Local\\Temp\\ipykernel_824\\2494931097.py:3: UserWarning: Unable to sort modes: '<' not supported between instances of 'int' and 'str'\n",
      "  MostHL7Identifier=('HL7Identifier', lambda x: x.mode().iloc[0] if not x.mode().empty else None),\n",
      "C:\\Users\\svkar\\AppData\\Local\\Temp\\ipykernel_824\\2494931097.py:3: UserWarning: Unable to sort modes: '<' not supported between instances of 'int' and 'str'\n",
      "  MostHL7Identifier=('HL7Identifier', lambda x: x.mode().iloc[0] if not x.mode().empty else None),\n",
      "C:\\Users\\svkar\\AppData\\Local\\Temp\\ipykernel_824\\2494931097.py:3: UserWarning: Unable to sort modes: '<' not supported between instances of 'int' and 'str'\n",
      "  MostHL7Identifier=('HL7Identifier', lambda x: x.mode().iloc[0] if not x.mode().empty else None),\n",
      "C:\\Users\\svkar\\AppData\\Local\\Temp\\ipykernel_824\\2494931097.py:3: UserWarning: Unable to sort modes: '<' not supported between instances of 'int' and 'str'\n",
      "  MostHL7Identifier=('HL7Identifier', lambda x: x.mode().iloc[0] if not x.mode().empty else None),\n",
      "C:\\Users\\svkar\\AppData\\Local\\Temp\\ipykernel_824\\2494931097.py:3: UserWarning: Unable to sort modes: '<' not supported between instances of 'int' and 'str'\n",
      "  MostHL7Identifier=('HL7Identifier', lambda x: x.mode().iloc[0] if not x.mode().empty else None),\n",
      "C:\\Users\\svkar\\AppData\\Local\\Temp\\ipykernel_824\\2494931097.py:3: UserWarning: Unable to sort modes: '<' not supported between instances of 'int' and 'str'\n",
      "  MostHL7Identifier=('HL7Identifier', lambda x: x.mode().iloc[0] if not x.mode().empty else None),\n",
      "C:\\Users\\svkar\\AppData\\Local\\Temp\\ipykernel_824\\2494931097.py:3: UserWarning: Unable to sort modes: '<' not supported between instances of 'int' and 'str'\n",
      "  MostHL7Identifier=('HL7Identifier', lambda x: x.mode().iloc[0] if not x.mode().empty else None),\n",
      "C:\\Users\\svkar\\AppData\\Local\\Temp\\ipykernel_824\\2494931097.py:3: UserWarning: Unable to sort modes: '<' not supported between instances of 'int' and 'str'\n",
      "  MostHL7Identifier=('HL7Identifier', lambda x: x.mode().iloc[0] if not x.mode().empty else None),\n",
      "C:\\Users\\svkar\\AppData\\Local\\Temp\\ipykernel_824\\2494931097.py:3: UserWarning: Unable to sort modes: '<' not supported between instances of 'int' and 'str'\n",
      "  MostHL7Identifier=('HL7Identifier', lambda x: x.mode().iloc[0] if not x.mode().empty else None),\n",
      "C:\\Users\\svkar\\AppData\\Local\\Temp\\ipykernel_824\\2494931097.py:3: UserWarning: Unable to sort modes: '<' not supported between instances of 'int' and 'str'\n",
      "  MostHL7Identifier=('HL7Identifier', lambda x: x.mode().iloc[0] if not x.mode().empty else None),\n",
      "C:\\Users\\svkar\\AppData\\Local\\Temp\\ipykernel_824\\2494931097.py:3: UserWarning: Unable to sort modes: '<' not supported between instances of 'int' and 'str'\n",
      "  MostHL7Identifier=('HL7Identifier', lambda x: x.mode().iloc[0] if not x.mode().empty else None),\n",
      "C:\\Users\\svkar\\AppData\\Local\\Temp\\ipykernel_824\\2494931097.py:3: UserWarning: Unable to sort modes: '<' not supported between instances of 'int' and 'str'\n",
      "  MostHL7Identifier=('HL7Identifier', lambda x: x.mode().iloc[0] if not x.mode().empty else None),\n",
      "C:\\Users\\svkar\\AppData\\Local\\Temp\\ipykernel_824\\2494931097.py:3: UserWarning: Unable to sort modes: '<' not supported between instances of 'int' and 'str'\n",
      "  MostHL7Identifier=('HL7Identifier', lambda x: x.mode().iloc[0] if not x.mode().empty else None),\n",
      "C:\\Users\\svkar\\AppData\\Local\\Temp\\ipykernel_824\\2494931097.py:3: UserWarning: Unable to sort modes: '<' not supported between instances of 'int' and 'str'\n",
      "  MostHL7Identifier=('HL7Identifier', lambda x: x.mode().iloc[0] if not x.mode().empty else None),\n",
      "C:\\Users\\svkar\\AppData\\Local\\Temp\\ipykernel_824\\2494931097.py:3: UserWarning: Unable to sort modes: '<' not supported between instances of 'int' and 'str'\n",
      "  MostHL7Identifier=('HL7Identifier', lambda x: x.mode().iloc[0] if not x.mode().empty else None),\n",
      "C:\\Users\\svkar\\AppData\\Local\\Temp\\ipykernel_824\\2494931097.py:3: UserWarning: Unable to sort modes: '<' not supported between instances of 'int' and 'str'\n",
      "  MostHL7Identifier=('HL7Identifier', lambda x: x.mode().iloc[0] if not x.mode().empty else None),\n",
      "C:\\Users\\svkar\\AppData\\Local\\Temp\\ipykernel_824\\2494931097.py:3: UserWarning: Unable to sort modes: '<' not supported between instances of 'int' and 'str'\n",
      "  MostHL7Identifier=('HL7Identifier', lambda x: x.mode().iloc[0] if not x.mode().empty else None),\n",
      "C:\\Users\\svkar\\AppData\\Local\\Temp\\ipykernel_824\\2494931097.py:3: UserWarning: Unable to sort modes: '<' not supported between instances of 'int' and 'str'\n",
      "  MostHL7Identifier=('HL7Identifier', lambda x: x.mode().iloc[0] if not x.mode().empty else None),\n",
      "C:\\Users\\svkar\\AppData\\Local\\Temp\\ipykernel_824\\2494931097.py:3: UserWarning: Unable to sort modes: '<' not supported between instances of 'int' and 'str'\n",
      "  MostHL7Identifier=('HL7Identifier', lambda x: x.mode().iloc[0] if not x.mode().empty else None),\n",
      "C:\\Users\\svkar\\AppData\\Local\\Temp\\ipykernel_824\\2494931097.py:3: UserWarning: Unable to sort modes: '<' not supported between instances of 'int' and 'str'\n",
      "  MostHL7Identifier=('HL7Identifier', lambda x: x.mode().iloc[0] if not x.mode().empty else None),\n",
      "C:\\Users\\svkar\\AppData\\Local\\Temp\\ipykernel_824\\2494931097.py:3: UserWarning: Unable to sort modes: '<' not supported between instances of 'int' and 'str'\n",
      "  MostHL7Identifier=('HL7Identifier', lambda x: x.mode().iloc[0] if not x.mode().empty else None),\n",
      "C:\\Users\\svkar\\AppData\\Local\\Temp\\ipykernel_824\\2494931097.py:3: UserWarning: Unable to sort modes: '<' not supported between instances of 'int' and 'str'\n",
      "  MostHL7Identifier=('HL7Identifier', lambda x: x.mode().iloc[0] if not x.mode().empty else None),\n",
      "C:\\Users\\svkar\\AppData\\Local\\Temp\\ipykernel_824\\2494931097.py:3: UserWarning: Unable to sort modes: '<' not supported between instances of 'int' and 'str'\n",
      "  MostHL7Identifier=('HL7Identifier', lambda x: x.mode().iloc[0] if not x.mode().empty else None),\n",
      "C:\\Users\\svkar\\AppData\\Local\\Temp\\ipykernel_824\\2494931097.py:3: UserWarning: Unable to sort modes: '<' not supported between instances of 'int' and 'str'\n",
      "  MostHL7Identifier=('HL7Identifier', lambda x: x.mode().iloc[0] if not x.mode().empty else None),\n",
      "C:\\Users\\svkar\\AppData\\Local\\Temp\\ipykernel_824\\2494931097.py:3: UserWarning: Unable to sort modes: '<' not supported between instances of 'int' and 'str'\n",
      "  MostHL7Identifier=('HL7Identifier', lambda x: x.mode().iloc[0] if not x.mode().empty else None),\n",
      "C:\\Users\\svkar\\AppData\\Local\\Temp\\ipykernel_824\\2494931097.py:3: UserWarning: Unable to sort modes: '<' not supported between instances of 'int' and 'str'\n",
      "  MostHL7Identifier=('HL7Identifier', lambda x: x.mode().iloc[0] if not x.mode().empty else None),\n",
      "C:\\Users\\svkar\\AppData\\Local\\Temp\\ipykernel_824\\2494931097.py:3: UserWarning: Unable to sort modes: '<' not supported between instances of 'int' and 'str'\n",
      "  MostHL7Identifier=('HL7Identifier', lambda x: x.mode().iloc[0] if not x.mode().empty else None),\n",
      "C:\\Users\\svkar\\AppData\\Local\\Temp\\ipykernel_824\\2494931097.py:3: UserWarning: Unable to sort modes: '<' not supported between instances of 'int' and 'str'\n",
      "  MostHL7Identifier=('HL7Identifier', lambda x: x.mode().iloc[0] if not x.mode().empty else None),\n",
      "C:\\Users\\svkar\\AppData\\Local\\Temp\\ipykernel_824\\2494931097.py:3: UserWarning: Unable to sort modes: '<' not supported between instances of 'int' and 'str'\n",
      "  MostHL7Identifier=('HL7Identifier', lambda x: x.mode().iloc[0] if not x.mode().empty else None),\n",
      "C:\\Users\\svkar\\AppData\\Local\\Temp\\ipykernel_824\\2494931097.py:3: UserWarning: Unable to sort modes: '<' not supported between instances of 'int' and 'str'\n",
      "  MostHL7Identifier=('HL7Identifier', lambda x: x.mode().iloc[0] if not x.mode().empty else None),\n",
      "C:\\Users\\svkar\\AppData\\Local\\Temp\\ipykernel_824\\2494931097.py:3: UserWarning: Unable to sort modes: '<' not supported between instances of 'int' and 'str'\n",
      "  MostHL7Identifier=('HL7Identifier', lambda x: x.mode().iloc[0] if not x.mode().empty else None),\n",
      "C:\\Users\\svkar\\AppData\\Local\\Temp\\ipykernel_824\\2494931097.py:3: UserWarning: Unable to sort modes: '<' not supported between instances of 'int' and 'str'\n",
      "  MostHL7Identifier=('HL7Identifier', lambda x: x.mode().iloc[0] if not x.mode().empty else None),\n",
      "C:\\Users\\svkar\\AppData\\Local\\Temp\\ipykernel_824\\2494931097.py:3: UserWarning: Unable to sort modes: '<' not supported between instances of 'int' and 'str'\n",
      "  MostHL7Identifier=('HL7Identifier', lambda x: x.mode().iloc[0] if not x.mode().empty else None),\n",
      "C:\\Users\\svkar\\AppData\\Local\\Temp\\ipykernel_824\\2494931097.py:3: UserWarning: Unable to sort modes: '<' not supported between instances of 'int' and 'str'\n",
      "  MostHL7Identifier=('HL7Identifier', lambda x: x.mode().iloc[0] if not x.mode().empty else None),\n",
      "C:\\Users\\svkar\\AppData\\Local\\Temp\\ipykernel_824\\2494931097.py:3: UserWarning: Unable to sort modes: '<' not supported between instances of 'int' and 'str'\n",
      "  MostHL7Identifier=('HL7Identifier', lambda x: x.mode().iloc[0] if not x.mode().empty else None),\n",
      "C:\\Users\\svkar\\AppData\\Local\\Temp\\ipykernel_824\\2494931097.py:3: UserWarning: Unable to sort modes: '<' not supported between instances of 'int' and 'str'\n",
      "  MostHL7Identifier=('HL7Identifier', lambda x: x.mode().iloc[0] if not x.mode().empty else None),\n",
      "C:\\Users\\svkar\\AppData\\Local\\Temp\\ipykernel_824\\2494931097.py:3: UserWarning: Unable to sort modes: '<' not supported between instances of 'int' and 'str'\n",
      "  MostHL7Identifier=('HL7Identifier', lambda x: x.mode().iloc[0] if not x.mode().empty else None),\n",
      "C:\\Users\\svkar\\AppData\\Local\\Temp\\ipykernel_824\\2494931097.py:3: UserWarning: Unable to sort modes: '<' not supported between instances of 'int' and 'str'\n",
      "  MostHL7Identifier=('HL7Identifier', lambda x: x.mode().iloc[0] if not x.mode().empty else None),\n",
      "C:\\Users\\svkar\\AppData\\Local\\Temp\\ipykernel_824\\2494931097.py:3: UserWarning: Unable to sort modes: '<' not supported between instances of 'int' and 'str'\n",
      "  MostHL7Identifier=('HL7Identifier', lambda x: x.mode().iloc[0] if not x.mode().empty else None),\n",
      "C:\\Users\\svkar\\AppData\\Local\\Temp\\ipykernel_824\\2494931097.py:3: UserWarning: Unable to sort modes: '<' not supported between instances of 'str' and 'int'\n",
      "  MostHL7Identifier=('HL7Identifier', lambda x: x.mode().iloc[0] if not x.mode().empty else None),\n",
      "C:\\Users\\svkar\\AppData\\Local\\Temp\\ipykernel_824\\2494931097.py:3: UserWarning: Unable to sort modes: '<' not supported between instances of 'str' and 'int'\n",
      "  MostHL7Identifier=('HL7Identifier', lambda x: x.mode().iloc[0] if not x.mode().empty else None),\n",
      "C:\\Users\\svkar\\AppData\\Local\\Temp\\ipykernel_824\\2494931097.py:3: UserWarning: Unable to sort modes: '<' not supported between instances of 'int' and 'str'\n",
      "  MostHL7Identifier=('HL7Identifier', lambda x: x.mode().iloc[0] if not x.mode().empty else None),\n",
      "C:\\Users\\svkar\\AppData\\Local\\Temp\\ipykernel_824\\2494931097.py:3: UserWarning: Unable to sort modes: '<' not supported between instances of 'int' and 'str'\n",
      "  MostHL7Identifier=('HL7Identifier', lambda x: x.mode().iloc[0] if not x.mode().empty else None),\n",
      "C:\\Users\\svkar\\AppData\\Local\\Temp\\ipykernel_824\\2494931097.py:3: UserWarning: Unable to sort modes: '<' not supported between instances of 'int' and 'str'\n",
      "  MostHL7Identifier=('HL7Identifier', lambda x: x.mode().iloc[0] if not x.mode().empty else None),\n",
      "C:\\Users\\svkar\\AppData\\Local\\Temp\\ipykernel_824\\2494931097.py:3: UserWarning: Unable to sort modes: '<' not supported between instances of 'int' and 'str'\n",
      "  MostHL7Identifier=('HL7Identifier', lambda x: x.mode().iloc[0] if not x.mode().empty else None),\n",
      "C:\\Users\\svkar\\AppData\\Local\\Temp\\ipykernel_824\\2494931097.py:3: UserWarning: Unable to sort modes: '<' not supported between instances of 'int' and 'str'\n",
      "  MostHL7Identifier=('HL7Identifier', lambda x: x.mode().iloc[0] if not x.mode().empty else None),\n",
      "C:\\Users\\svkar\\AppData\\Local\\Temp\\ipykernel_824\\2494931097.py:3: UserWarning: Unable to sort modes: '<' not supported between instances of 'int' and 'str'\n",
      "  MostHL7Identifier=('HL7Identifier', lambda x: x.mode().iloc[0] if not x.mode().empty else None),\n",
      "C:\\Users\\svkar\\AppData\\Local\\Temp\\ipykernel_824\\2494931097.py:3: UserWarning: Unable to sort modes: '<' not supported between instances of 'int' and 'str'\n",
      "  MostHL7Identifier=('HL7Identifier', lambda x: x.mode().iloc[0] if not x.mode().empty else None),\n",
      "C:\\Users\\svkar\\AppData\\Local\\Temp\\ipykernel_824\\2494931097.py:3: UserWarning: Unable to sort modes: '<' not supported between instances of 'int' and 'str'\n",
      "  MostHL7Identifier=('HL7Identifier', lambda x: x.mode().iloc[0] if not x.mode().empty else None),\n",
      "C:\\Users\\svkar\\AppData\\Local\\Temp\\ipykernel_824\\2494931097.py:3: UserWarning: Unable to sort modes: '<' not supported between instances of 'int' and 'str'\n",
      "  MostHL7Identifier=('HL7Identifier', lambda x: x.mode().iloc[0] if not x.mode().empty else None),\n",
      "C:\\Users\\svkar\\AppData\\Local\\Temp\\ipykernel_824\\2494931097.py:3: UserWarning: Unable to sort modes: '<' not supported between instances of 'int' and 'str'\n",
      "  MostHL7Identifier=('HL7Identifier', lambda x: x.mode().iloc[0] if not x.mode().empty else None),\n",
      "C:\\Users\\svkar\\AppData\\Local\\Temp\\ipykernel_824\\2494931097.py:3: UserWarning: Unable to sort modes: '<' not supported between instances of 'int' and 'str'\n",
      "  MostHL7Identifier=('HL7Identifier', lambda x: x.mode().iloc[0] if not x.mode().empty else None),\n",
      "C:\\Users\\svkar\\AppData\\Local\\Temp\\ipykernel_824\\2494931097.py:3: UserWarning: Unable to sort modes: '<' not supported between instances of 'int' and 'str'\n",
      "  MostHL7Identifier=('HL7Identifier', lambda x: x.mode().iloc[0] if not x.mode().empty else None),\n",
      "C:\\Users\\svkar\\AppData\\Local\\Temp\\ipykernel_824\\2494931097.py:3: UserWarning: Unable to sort modes: '<' not supported between instances of 'int' and 'str'\n",
      "  MostHL7Identifier=('HL7Identifier', lambda x: x.mode().iloc[0] if not x.mode().empty else None),\n",
      "C:\\Users\\svkar\\AppData\\Local\\Temp\\ipykernel_824\\2494931097.py:3: UserWarning: Unable to sort modes: '<' not supported between instances of 'int' and 'str'\n",
      "  MostHL7Identifier=('HL7Identifier', lambda x: x.mode().iloc[0] if not x.mode().empty else None),\n",
      "C:\\Users\\svkar\\AppData\\Local\\Temp\\ipykernel_824\\2494931097.py:3: UserWarning: Unable to sort modes: '<' not supported between instances of 'int' and 'str'\n",
      "  MostHL7Identifier=('HL7Identifier', lambda x: x.mode().iloc[0] if not x.mode().empty else None),\n",
      "C:\\Users\\svkar\\AppData\\Local\\Temp\\ipykernel_824\\2494931097.py:3: UserWarning: Unable to sort modes: '<' not supported between instances of 'int' and 'str'\n",
      "  MostHL7Identifier=('HL7Identifier', lambda x: x.mode().iloc[0] if not x.mode().empty else None),\n",
      "C:\\Users\\svkar\\AppData\\Local\\Temp\\ipykernel_824\\2494931097.py:3: UserWarning: Unable to sort modes: '<' not supported between instances of 'int' and 'str'\n",
      "  MostHL7Identifier=('HL7Identifier', lambda x: x.mode().iloc[0] if not x.mode().empty else None),\n",
      "C:\\Users\\svkar\\AppData\\Local\\Temp\\ipykernel_824\\2494931097.py:3: UserWarning: Unable to sort modes: '<' not supported between instances of 'int' and 'str'\n",
      "  MostHL7Identifier=('HL7Identifier', lambda x: x.mode().iloc[0] if not x.mode().empty else None),\n",
      "C:\\Users\\svkar\\AppData\\Local\\Temp\\ipykernel_824\\2494931097.py:3: UserWarning: Unable to sort modes: '<' not supported between instances of 'int' and 'str'\n",
      "  MostHL7Identifier=('HL7Identifier', lambda x: x.mode().iloc[0] if not x.mode().empty else None),\n",
      "C:\\Users\\svkar\\AppData\\Local\\Temp\\ipykernel_824\\2494931097.py:3: UserWarning: Unable to sort modes: '<' not supported between instances of 'int' and 'str'\n",
      "  MostHL7Identifier=('HL7Identifier', lambda x: x.mode().iloc[0] if not x.mode().empty else None),\n",
      "C:\\Users\\svkar\\AppData\\Local\\Temp\\ipykernel_824\\2494931097.py:3: UserWarning: Unable to sort modes: '<' not supported between instances of 'int' and 'str'\n",
      "  MostHL7Identifier=('HL7Identifier', lambda x: x.mode().iloc[0] if not x.mode().empty else None),\n",
      "C:\\Users\\svkar\\AppData\\Local\\Temp\\ipykernel_824\\2494931097.py:3: UserWarning: Unable to sort modes: '<' not supported between instances of 'int' and 'str'\n",
      "  MostHL7Identifier=('HL7Identifier', lambda x: x.mode().iloc[0] if not x.mode().empty else None),\n",
      "C:\\Users\\svkar\\AppData\\Local\\Temp\\ipykernel_824\\2494931097.py:3: UserWarning: Unable to sort modes: '<' not supported between instances of 'int' and 'str'\n",
      "  MostHL7Identifier=('HL7Identifier', lambda x: x.mode().iloc[0] if not x.mode().empty else None),\n",
      "C:\\Users\\svkar\\AppData\\Local\\Temp\\ipykernel_824\\2494931097.py:3: UserWarning: Unable to sort modes: '<' not supported between instances of 'int' and 'str'\n",
      "  MostHL7Identifier=('HL7Identifier', lambda x: x.mode().iloc[0] if not x.mode().empty else None),\n",
      "C:\\Users\\svkar\\AppData\\Local\\Temp\\ipykernel_824\\2494931097.py:3: UserWarning: Unable to sort modes: '<' not supported between instances of 'int' and 'str'\n",
      "  MostHL7Identifier=('HL7Identifier', lambda x: x.mode().iloc[0] if not x.mode().empty else None),\n",
      "C:\\Users\\svkar\\AppData\\Local\\Temp\\ipykernel_824\\2494931097.py:3: UserWarning: Unable to sort modes: '<' not supported between instances of 'int' and 'str'\n",
      "  MostHL7Identifier=('HL7Identifier', lambda x: x.mode().iloc[0] if not x.mode().empty else None),\n",
      "C:\\Users\\svkar\\AppData\\Local\\Temp\\ipykernel_824\\2494931097.py:3: UserWarning: Unable to sort modes: '<' not supported between instances of 'int' and 'str'\n",
      "  MostHL7Identifier=('HL7Identifier', lambda x: x.mode().iloc[0] if not x.mode().empty else None),\n",
      "C:\\Users\\svkar\\AppData\\Local\\Temp\\ipykernel_824\\2494931097.py:3: UserWarning: Unable to sort modes: '<' not supported between instances of 'int' and 'str'\n",
      "  MostHL7Identifier=('HL7Identifier', lambda x: x.mode().iloc[0] if not x.mode().empty else None),\n",
      "C:\\Users\\svkar\\AppData\\Local\\Temp\\ipykernel_824\\2494931097.py:3: UserWarning: Unable to sort modes: '<' not supported between instances of 'int' and 'str'\n",
      "  MostHL7Identifier=('HL7Identifier', lambda x: x.mode().iloc[0] if not x.mode().empty else None),\n",
      "C:\\Users\\svkar\\AppData\\Local\\Temp\\ipykernel_824\\2494931097.py:3: UserWarning: Unable to sort modes: '<' not supported between instances of 'int' and 'str'\n",
      "  MostHL7Identifier=('HL7Identifier', lambda x: x.mode().iloc[0] if not x.mode().empty else None),\n",
      "C:\\Users\\svkar\\AppData\\Local\\Temp\\ipykernel_824\\2494931097.py:3: UserWarning: Unable to sort modes: '<' not supported between instances of 'int' and 'str'\n",
      "  MostHL7Identifier=('HL7Identifier', lambda x: x.mode().iloc[0] if not x.mode().empty else None),\n",
      "C:\\Users\\svkar\\AppData\\Local\\Temp\\ipykernel_824\\2494931097.py:3: UserWarning: Unable to sort modes: '<' not supported between instances of 'int' and 'str'\n",
      "  MostHL7Identifier=('HL7Identifier', lambda x: x.mode().iloc[0] if not x.mode().empty else None),\n",
      "C:\\Users\\svkar\\AppData\\Local\\Temp\\ipykernel_824\\2494931097.py:3: UserWarning: Unable to sort modes: '<' not supported between instances of 'int' and 'str'\n",
      "  MostHL7Identifier=('HL7Identifier', lambda x: x.mode().iloc[0] if not x.mode().empty else None),\n",
      "C:\\Users\\svkar\\AppData\\Local\\Temp\\ipykernel_824\\2494931097.py:3: UserWarning: Unable to sort modes: '<' not supported between instances of 'int' and 'str'\n",
      "  MostHL7Identifier=('HL7Identifier', lambda x: x.mode().iloc[0] if not x.mode().empty else None),\n",
      "C:\\Users\\svkar\\AppData\\Local\\Temp\\ipykernel_824\\2494931097.py:3: UserWarning: Unable to sort modes: '<' not supported between instances of 'int' and 'str'\n",
      "  MostHL7Identifier=('HL7Identifier', lambda x: x.mode().iloc[0] if not x.mode().empty else None),\n",
      "C:\\Users\\svkar\\AppData\\Local\\Temp\\ipykernel_824\\2494931097.py:3: UserWarning: Unable to sort modes: '<' not supported between instances of 'int' and 'str'\n",
      "  MostHL7Identifier=('HL7Identifier', lambda x: x.mode().iloc[0] if not x.mode().empty else None),\n",
      "C:\\Users\\svkar\\AppData\\Local\\Temp\\ipykernel_824\\2494931097.py:5: UserWarning: Unable to sort modes: '<' not supported between instances of 'str' and 'int'\n",
      "  MostAbnormalFlags=('AbnormalFlags', lambda x: x.mode().iloc[0] if not x.mode().empty else None),\n",
      "C:\\Users\\svkar\\AppData\\Local\\Temp\\ipykernel_824\\2494931097.py:5: UserWarning: Unable to sort modes: '<' not supported between instances of 'str' and 'int'\n",
      "  MostAbnormalFlags=('AbnormalFlags', lambda x: x.mode().iloc[0] if not x.mode().empty else None),\n",
      "C:\\Users\\svkar\\AppData\\Local\\Temp\\ipykernel_824\\2494931097.py:5: UserWarning: Unable to sort modes: '<' not supported between instances of 'int' and 'str'\n",
      "  MostAbnormalFlags=('AbnormalFlags', lambda x: x.mode().iloc[0] if not x.mode().empty else None),\n",
      "C:\\Users\\svkar\\AppData\\Local\\Temp\\ipykernel_824\\2494931097.py:5: UserWarning: Unable to sort modes: '<' not supported between instances of 'int' and 'str'\n",
      "  MostAbnormalFlags=('AbnormalFlags', lambda x: x.mode().iloc[0] if not x.mode().empty else None),\n",
      "C:\\Users\\svkar\\AppData\\Local\\Temp\\ipykernel_824\\2494931097.py:5: UserWarning: Unable to sort modes: '<' not supported between instances of 'str' and 'int'\n",
      "  MostAbnormalFlags=('AbnormalFlags', lambda x: x.mode().iloc[0] if not x.mode().empty else None),\n",
      "C:\\Users\\svkar\\AppData\\Local\\Temp\\ipykernel_824\\2494931097.py:5: UserWarning: Unable to sort modes: '<' not supported between instances of 'str' and 'int'\n",
      "  MostAbnormalFlags=('AbnormalFlags', lambda x: x.mode().iloc[0] if not x.mode().empty else None),\n",
      "C:\\Users\\svkar\\AppData\\Local\\Temp\\ipykernel_824\\2494931097.py:5: UserWarning: Unable to sort modes: '<' not supported between instances of 'str' and 'int'\n",
      "  MostAbnormalFlags=('AbnormalFlags', lambda x: x.mode().iloc[0] if not x.mode().empty else None),\n",
      "C:\\Users\\svkar\\AppData\\Local\\Temp\\ipykernel_824\\2494931097.py:5: UserWarning: Unable to sort modes: '<' not supported between instances of 'str' and 'int'\n",
      "  MostAbnormalFlags=('AbnormalFlags', lambda x: x.mode().iloc[0] if not x.mode().empty else None),\n",
      "C:\\Users\\svkar\\AppData\\Local\\Temp\\ipykernel_824\\2494931097.py:5: UserWarning: Unable to sort modes: '<' not supported between instances of 'str' and 'int'\n",
      "  MostAbnormalFlags=('AbnormalFlags', lambda x: x.mode().iloc[0] if not x.mode().empty else None),\n",
      "C:\\Users\\svkar\\AppData\\Local\\Temp\\ipykernel_824\\2494931097.py:5: UserWarning: Unable to sort modes: '<' not supported between instances of 'str' and 'int'\n",
      "  MostAbnormalFlags=('AbnormalFlags', lambda x: x.mode().iloc[0] if not x.mode().empty else None),\n",
      "C:\\Users\\svkar\\AppData\\Local\\Temp\\ipykernel_824\\2494931097.py:5: UserWarning: Unable to sort modes: '<' not supported between instances of 'int' and 'str'\n",
      "  MostAbnormalFlags=('AbnormalFlags', lambda x: x.mode().iloc[0] if not x.mode().empty else None),\n",
      "C:\\Users\\svkar\\AppData\\Local\\Temp\\ipykernel_824\\2494931097.py:5: UserWarning: Unable to sort modes: '<' not supported between instances of 'int' and 'str'\n",
      "  MostAbnormalFlags=('AbnormalFlags', lambda x: x.mode().iloc[0] if not x.mode().empty else None),\n",
      "C:\\Users\\svkar\\AppData\\Local\\Temp\\ipykernel_824\\2494931097.py:5: UserWarning: Unable to sort modes: '<' not supported between instances of 'int' and 'str'\n",
      "  MostAbnormalFlags=('AbnormalFlags', lambda x: x.mode().iloc[0] if not x.mode().empty else None),\n",
      "C:\\Users\\svkar\\AppData\\Local\\Temp\\ipykernel_824\\2494931097.py:5: UserWarning: Unable to sort modes: '<' not supported between instances of 'int' and 'str'\n",
      "  MostAbnormalFlags=('AbnormalFlags', lambda x: x.mode().iloc[0] if not x.mode().empty else None),\n",
      "C:\\Users\\svkar\\AppData\\Local\\Temp\\ipykernel_824\\2494931097.py:5: UserWarning: Unable to sort modes: '<' not supported between instances of 'int' and 'str'\n",
      "  MostAbnormalFlags=('AbnormalFlags', lambda x: x.mode().iloc[0] if not x.mode().empty else None),\n",
      "C:\\Users\\svkar\\AppData\\Local\\Temp\\ipykernel_824\\2494931097.py:5: UserWarning: Unable to sort modes: '<' not supported between instances of 'int' and 'str'\n",
      "  MostAbnormalFlags=('AbnormalFlags', lambda x: x.mode().iloc[0] if not x.mode().empty else None),\n",
      "C:\\Users\\svkar\\AppData\\Local\\Temp\\ipykernel_824\\2494931097.py:5: UserWarning: Unable to sort modes: '<' not supported between instances of 'int' and 'str'\n",
      "  MostAbnormalFlags=('AbnormalFlags', lambda x: x.mode().iloc[0] if not x.mode().empty else None),\n",
      "C:\\Users\\svkar\\AppData\\Local\\Temp\\ipykernel_824\\2494931097.py:5: UserWarning: Unable to sort modes: '<' not supported between instances of 'int' and 'str'\n",
      "  MostAbnormalFlags=('AbnormalFlags', lambda x: x.mode().iloc[0] if not x.mode().empty else None),\n",
      "C:\\Users\\svkar\\AppData\\Local\\Temp\\ipykernel_824\\2494931097.py:5: UserWarning: Unable to sort modes: '<' not supported between instances of 'int' and 'str'\n",
      "  MostAbnormalFlags=('AbnormalFlags', lambda x: x.mode().iloc[0] if not x.mode().empty else None),\n",
      "C:\\Users\\svkar\\AppData\\Local\\Temp\\ipykernel_824\\2494931097.py:5: UserWarning: Unable to sort modes: '<' not supported between instances of 'int' and 'str'\n",
      "  MostAbnormalFlags=('AbnormalFlags', lambda x: x.mode().iloc[0] if not x.mode().empty else None),\n",
      "C:\\Users\\svkar\\AppData\\Local\\Temp\\ipykernel_824\\2494931097.py:5: UserWarning: Unable to sort modes: '<' not supported between instances of 'str' and 'int'\n",
      "  MostAbnormalFlags=('AbnormalFlags', lambda x: x.mode().iloc[0] if not x.mode().empty else None),\n",
      "C:\\Users\\svkar\\AppData\\Local\\Temp\\ipykernel_824\\2494931097.py:5: UserWarning: Unable to sort modes: '<' not supported between instances of 'str' and 'int'\n",
      "  MostAbnormalFlags=('AbnormalFlags', lambda x: x.mode().iloc[0] if not x.mode().empty else None),\n",
      "C:\\Users\\svkar\\AppData\\Local\\Temp\\ipykernel_824\\2494931097.py:5: UserWarning: Unable to sort modes: '<' not supported between instances of 'int' and 'str'\n",
      "  MostAbnormalFlags=('AbnormalFlags', lambda x: x.mode().iloc[0] if not x.mode().empty else None),\n",
      "C:\\Users\\svkar\\AppData\\Local\\Temp\\ipykernel_824\\2494931097.py:5: UserWarning: Unable to sort modes: '<' not supported between instances of 'int' and 'str'\n",
      "  MostAbnormalFlags=('AbnormalFlags', lambda x: x.mode().iloc[0] if not x.mode().empty else None),\n",
      "C:\\Users\\svkar\\AppData\\Local\\Temp\\ipykernel_824\\2494931097.py:5: UserWarning: Unable to sort modes: '<' not supported between instances of 'int' and 'str'\n",
      "  MostAbnormalFlags=('AbnormalFlags', lambda x: x.mode().iloc[0] if not x.mode().empty else None),\n",
      "C:\\Users\\svkar\\AppData\\Local\\Temp\\ipykernel_824\\2494931097.py:5: UserWarning: Unable to sort modes: '<' not supported between instances of 'int' and 'str'\n",
      "  MostAbnormalFlags=('AbnormalFlags', lambda x: x.mode().iloc[0] if not x.mode().empty else None),\n",
      "C:\\Users\\svkar\\AppData\\Local\\Temp\\ipykernel_824\\2494931097.py:5: UserWarning: Unable to sort modes: '<' not supported between instances of 'int' and 'str'\n",
      "  MostAbnormalFlags=('AbnormalFlags', lambda x: x.mode().iloc[0] if not x.mode().empty else None),\n",
      "C:\\Users\\svkar\\AppData\\Local\\Temp\\ipykernel_824\\2494931097.py:5: UserWarning: Unable to sort modes: '<' not supported between instances of 'int' and 'str'\n",
      "  MostAbnormalFlags=('AbnormalFlags', lambda x: x.mode().iloc[0] if not x.mode().empty else None),\n",
      "C:\\Users\\svkar\\AppData\\Local\\Temp\\ipykernel_824\\2494931097.py:5: UserWarning: Unable to sort modes: '<' not supported between instances of 'str' and 'int'\n",
      "  MostAbnormalFlags=('AbnormalFlags', lambda x: x.mode().iloc[0] if not x.mode().empty else None),\n",
      "C:\\Users\\svkar\\AppData\\Local\\Temp\\ipykernel_824\\2494931097.py:5: UserWarning: Unable to sort modes: '<' not supported between instances of 'str' and 'int'\n",
      "  MostAbnormalFlags=('AbnormalFlags', lambda x: x.mode().iloc[0] if not x.mode().empty else None),\n",
      "C:\\Users\\svkar\\AppData\\Local\\Temp\\ipykernel_824\\2494931097.py:5: UserWarning: Unable to sort modes: '<' not supported between instances of 'str' and 'int'\n",
      "  MostAbnormalFlags=('AbnormalFlags', lambda x: x.mode().iloc[0] if not x.mode().empty else None),\n",
      "C:\\Users\\svkar\\AppData\\Local\\Temp\\ipykernel_824\\2494931097.py:5: UserWarning: Unable to sort modes: '<' not supported between instances of 'str' and 'int'\n",
      "  MostAbnormalFlags=('AbnormalFlags', lambda x: x.mode().iloc[0] if not x.mode().empty else None),\n",
      "C:\\Users\\svkar\\AppData\\Local\\Temp\\ipykernel_824\\2494931097.py:5: UserWarning: Unable to sort modes: '<' not supported between instances of 'int' and 'str'\n",
      "  MostAbnormalFlags=('AbnormalFlags', lambda x: x.mode().iloc[0] if not x.mode().empty else None),\n",
      "C:\\Users\\svkar\\AppData\\Local\\Temp\\ipykernel_824\\2494931097.py:5: UserWarning: Unable to sort modes: '<' not supported between instances of 'int' and 'str'\n",
      "  MostAbnormalFlags=('AbnormalFlags', lambda x: x.mode().iloc[0] if not x.mode().empty else None),\n",
      "C:\\Users\\svkar\\AppData\\Local\\Temp\\ipykernel_824\\2494931097.py:5: UserWarning: Unable to sort modes: '<' not supported between instances of 'int' and 'str'\n",
      "  MostAbnormalFlags=('AbnormalFlags', lambda x: x.mode().iloc[0] if not x.mode().empty else None),\n",
      "C:\\Users\\svkar\\AppData\\Local\\Temp\\ipykernel_824\\2494931097.py:5: UserWarning: Unable to sort modes: '<' not supported between instances of 'int' and 'str'\n",
      "  MostAbnormalFlags=('AbnormalFlags', lambda x: x.mode().iloc[0] if not x.mode().empty else None),\n",
      "C:\\Users\\svkar\\AppData\\Local\\Temp\\ipykernel_824\\2494931097.py:5: UserWarning: Unable to sort modes: '<' not supported between instances of 'str' and 'int'\n",
      "  MostAbnormalFlags=('AbnormalFlags', lambda x: x.mode().iloc[0] if not x.mode().empty else None),\n",
      "C:\\Users\\svkar\\AppData\\Local\\Temp\\ipykernel_824\\2494931097.py:5: UserWarning: Unable to sort modes: '<' not supported between instances of 'str' and 'int'\n",
      "  MostAbnormalFlags=('AbnormalFlags', lambda x: x.mode().iloc[0] if not x.mode().empty else None),\n",
      "C:\\Users\\svkar\\AppData\\Local\\Temp\\ipykernel_824\\2494931097.py:5: UserWarning: Unable to sort modes: '<' not supported between instances of 'str' and 'int'\n",
      "  MostAbnormalFlags=('AbnormalFlags', lambda x: x.mode().iloc[0] if not x.mode().empty else None),\n",
      "C:\\Users\\svkar\\AppData\\Local\\Temp\\ipykernel_824\\2494931097.py:5: UserWarning: Unable to sort modes: '<' not supported between instances of 'str' and 'int'\n",
      "  MostAbnormalFlags=('AbnormalFlags', lambda x: x.mode().iloc[0] if not x.mode().empty else None),\n",
      "C:\\Users\\svkar\\AppData\\Local\\Temp\\ipykernel_824\\2494931097.py:5: UserWarning: Unable to sort modes: '<' not supported between instances of 'str' and 'int'\n",
      "  MostAbnormalFlags=('AbnormalFlags', lambda x: x.mode().iloc[0] if not x.mode().empty else None),\n",
      "C:\\Users\\svkar\\AppData\\Local\\Temp\\ipykernel_824\\2494931097.py:5: UserWarning: Unable to sort modes: '<' not supported between instances of 'str' and 'int'\n",
      "  MostAbnormalFlags=('AbnormalFlags', lambda x: x.mode().iloc[0] if not x.mode().empty else None),\n",
      "C:\\Users\\svkar\\AppData\\Local\\Temp\\ipykernel_824\\2494931097.py:5: UserWarning: Unable to sort modes: '<' not supported between instances of 'int' and 'str'\n",
      "  MostAbnormalFlags=('AbnormalFlags', lambda x: x.mode().iloc[0] if not x.mode().empty else None),\n",
      "C:\\Users\\svkar\\AppData\\Local\\Temp\\ipykernel_824\\2494931097.py:5: UserWarning: Unable to sort modes: '<' not supported between instances of 'int' and 'str'\n",
      "  MostAbnormalFlags=('AbnormalFlags', lambda x: x.mode().iloc[0] if not x.mode().empty else None),\n",
      "C:\\Users\\svkar\\AppData\\Local\\Temp\\ipykernel_824\\2494931097.py:5: UserWarning: Unable to sort modes: '<' not supported between instances of 'str' and 'int'\n",
      "  MostAbnormalFlags=('AbnormalFlags', lambda x: x.mode().iloc[0] if not x.mode().empty else None),\n",
      "C:\\Users\\svkar\\AppData\\Local\\Temp\\ipykernel_824\\2494931097.py:5: UserWarning: Unable to sort modes: '<' not supported between instances of 'str' and 'int'\n",
      "  MostAbnormalFlags=('AbnormalFlags', lambda x: x.mode().iloc[0] if not x.mode().empty else None),\n",
      "C:\\Users\\svkar\\AppData\\Local\\Temp\\ipykernel_824\\2494931097.py:5: UserWarning: Unable to sort modes: '<' not supported between instances of 'str' and 'int'\n",
      "  MostAbnormalFlags=('AbnormalFlags', lambda x: x.mode().iloc[0] if not x.mode().empty else None),\n",
      "C:\\Users\\svkar\\AppData\\Local\\Temp\\ipykernel_824\\2494931097.py:5: UserWarning: Unable to sort modes: '<' not supported between instances of 'str' and 'int'\n",
      "  MostAbnormalFlags=('AbnormalFlags', lambda x: x.mode().iloc[0] if not x.mode().empty else None),\n",
      "C:\\Users\\svkar\\AppData\\Local\\Temp\\ipykernel_824\\2494931097.py:5: UserWarning: Unable to sort modes: '<' not supported between instances of 'int' and 'str'\n",
      "  MostAbnormalFlags=('AbnormalFlags', lambda x: x.mode().iloc[0] if not x.mode().empty else None),\n",
      "C:\\Users\\svkar\\AppData\\Local\\Temp\\ipykernel_824\\2494931097.py:5: UserWarning: Unable to sort modes: '<' not supported between instances of 'int' and 'str'\n",
      "  MostAbnormalFlags=('AbnormalFlags', lambda x: x.mode().iloc[0] if not x.mode().empty else None),\n",
      "C:\\Users\\svkar\\AppData\\Local\\Temp\\ipykernel_824\\2494931097.py:5: UserWarning: Unable to sort modes: '<' not supported between instances of 'str' and 'int'\n",
      "  MostAbnormalFlags=('AbnormalFlags', lambda x: x.mode().iloc[0] if not x.mode().empty else None),\n",
      "C:\\Users\\svkar\\AppData\\Local\\Temp\\ipykernel_824\\2494931097.py:5: UserWarning: Unable to sort modes: '<' not supported between instances of 'str' and 'int'\n",
      "  MostAbnormalFlags=('AbnormalFlags', lambda x: x.mode().iloc[0] if not x.mode().empty else None),\n",
      "C:\\Users\\svkar\\AppData\\Local\\Temp\\ipykernel_824\\2494931097.py:5: UserWarning: Unable to sort modes: '<' not supported between instances of 'str' and 'int'\n",
      "  MostAbnormalFlags=('AbnormalFlags', lambda x: x.mode().iloc[0] if not x.mode().empty else None),\n",
      "C:\\Users\\svkar\\AppData\\Local\\Temp\\ipykernel_824\\2494931097.py:5: UserWarning: Unable to sort modes: '<' not supported between instances of 'str' and 'int'\n",
      "  MostAbnormalFlags=('AbnormalFlags', lambda x: x.mode().iloc[0] if not x.mode().empty else None),\n",
      "C:\\Users\\svkar\\AppData\\Local\\Temp\\ipykernel_824\\2494931097.py:5: UserWarning: Unable to sort modes: '<' not supported between instances of 'str' and 'int'\n",
      "  MostAbnormalFlags=('AbnormalFlags', lambda x: x.mode().iloc[0] if not x.mode().empty else None),\n",
      "C:\\Users\\svkar\\AppData\\Local\\Temp\\ipykernel_824\\2494931097.py:5: UserWarning: Unable to sort modes: '<' not supported between instances of 'str' and 'int'\n",
      "  MostAbnormalFlags=('AbnormalFlags', lambda x: x.mode().iloc[0] if not x.mode().empty else None),\n",
      "C:\\Users\\svkar\\AppData\\Local\\Temp\\ipykernel_824\\2494931097.py:5: UserWarning: Unable to sort modes: '<' not supported between instances of 'int' and 'str'\n",
      "  MostAbnormalFlags=('AbnormalFlags', lambda x: x.mode().iloc[0] if not x.mode().empty else None),\n",
      "C:\\Users\\svkar\\AppData\\Local\\Temp\\ipykernel_824\\2494931097.py:5: UserWarning: Unable to sort modes: '<' not supported between instances of 'int' and 'str'\n",
      "  MostAbnormalFlags=('AbnormalFlags', lambda x: x.mode().iloc[0] if not x.mode().empty else None),\n",
      "C:\\Users\\svkar\\AppData\\Local\\Temp\\ipykernel_824\\2494931097.py:5: UserWarning: Unable to sort modes: '<' not supported between instances of 'str' and 'int'\n",
      "  MostAbnormalFlags=('AbnormalFlags', lambda x: x.mode().iloc[0] if not x.mode().empty else None),\n",
      "C:\\Users\\svkar\\AppData\\Local\\Temp\\ipykernel_824\\2494931097.py:5: UserWarning: Unable to sort modes: '<' not supported between instances of 'str' and 'int'\n",
      "  MostAbnormalFlags=('AbnormalFlags', lambda x: x.mode().iloc[0] if not x.mode().empty else None),\n",
      "C:\\Users\\svkar\\AppData\\Local\\Temp\\ipykernel_824\\2494931097.py:5: UserWarning: Unable to sort modes: '<' not supported between instances of 'str' and 'int'\n",
      "  MostAbnormalFlags=('AbnormalFlags', lambda x: x.mode().iloc[0] if not x.mode().empty else None),\n",
      "C:\\Users\\svkar\\AppData\\Local\\Temp\\ipykernel_824\\2494931097.py:5: UserWarning: Unable to sort modes: '<' not supported between instances of 'str' and 'int'\n",
      "  MostAbnormalFlags=('AbnormalFlags', lambda x: x.mode().iloc[0] if not x.mode().empty else None),\n",
      "C:\\Users\\svkar\\AppData\\Local\\Temp\\ipykernel_824\\2494931097.py:5: UserWarning: Unable to sort modes: '<' not supported between instances of 'int' and 'str'\n",
      "  MostAbnormalFlags=('AbnormalFlags', lambda x: x.mode().iloc[0] if not x.mode().empty else None),\n",
      "C:\\Users\\svkar\\AppData\\Local\\Temp\\ipykernel_824\\2494931097.py:5: UserWarning: Unable to sort modes: '<' not supported between instances of 'int' and 'str'\n",
      "  MostAbnormalFlags=('AbnormalFlags', lambda x: x.mode().iloc[0] if not x.mode().empty else None),\n",
      "C:\\Users\\svkar\\AppData\\Local\\Temp\\ipykernel_824\\2494931097.py:5: UserWarning: Unable to sort modes: '<' not supported between instances of 'int' and 'str'\n",
      "  MostAbnormalFlags=('AbnormalFlags', lambda x: x.mode().iloc[0] if not x.mode().empty else None),\n",
      "C:\\Users\\svkar\\AppData\\Local\\Temp\\ipykernel_824\\2494931097.py:5: UserWarning: Unable to sort modes: '<' not supported between instances of 'int' and 'str'\n",
      "  MostAbnormalFlags=('AbnormalFlags', lambda x: x.mode().iloc[0] if not x.mode().empty else None),\n",
      "C:\\Users\\svkar\\AppData\\Local\\Temp\\ipykernel_824\\2494931097.py:5: UserWarning: Unable to sort modes: '<' not supported between instances of 'str' and 'int'\n",
      "  MostAbnormalFlags=('AbnormalFlags', lambda x: x.mode().iloc[0] if not x.mode().empty else None),\n",
      "C:\\Users\\svkar\\AppData\\Local\\Temp\\ipykernel_824\\2494931097.py:5: UserWarning: Unable to sort modes: '<' not supported between instances of 'str' and 'int'\n",
      "  MostAbnormalFlags=('AbnormalFlags', lambda x: x.mode().iloc[0] if not x.mode().empty else None),\n",
      "C:\\Users\\svkar\\AppData\\Local\\Temp\\ipykernel_824\\2494931097.py:5: UserWarning: Unable to sort modes: '<' not supported between instances of 'int' and 'str'\n",
      "  MostAbnormalFlags=('AbnormalFlags', lambda x: x.mode().iloc[0] if not x.mode().empty else None),\n",
      "C:\\Users\\svkar\\AppData\\Local\\Temp\\ipykernel_824\\2494931097.py:5: UserWarning: Unable to sort modes: '<' not supported between instances of 'int' and 'str'\n",
      "  MostAbnormalFlags=('AbnormalFlags', lambda x: x.mode().iloc[0] if not x.mode().empty else None),\n",
      "C:\\Users\\svkar\\AppData\\Local\\Temp\\ipykernel_824\\2494931097.py:5: UserWarning: Unable to sort modes: '<' not supported between instances of 'str' and 'int'\n",
      "  MostAbnormalFlags=('AbnormalFlags', lambda x: x.mode().iloc[0] if not x.mode().empty else None),\n",
      "C:\\Users\\svkar\\AppData\\Local\\Temp\\ipykernel_824\\2494931097.py:5: UserWarning: Unable to sort modes: '<' not supported between instances of 'str' and 'int'\n",
      "  MostAbnormalFlags=('AbnormalFlags', lambda x: x.mode().iloc[0] if not x.mode().empty else None),\n",
      "C:\\Users\\svkar\\AppData\\Local\\Temp\\ipykernel_824\\2494931097.py:5: UserWarning: Unable to sort modes: '<' not supported between instances of 'str' and 'int'\n",
      "  MostAbnormalFlags=('AbnormalFlags', lambda x: x.mode().iloc[0] if not x.mode().empty else None),\n",
      "C:\\Users\\svkar\\AppData\\Local\\Temp\\ipykernel_824\\2494931097.py:5: UserWarning: Unable to sort modes: '<' not supported between instances of 'str' and 'int'\n",
      "  MostAbnormalFlags=('AbnormalFlags', lambda x: x.mode().iloc[0] if not x.mode().empty else None),\n",
      "C:\\Users\\svkar\\AppData\\Local\\Temp\\ipykernel_824\\2494931097.py:5: UserWarning: Unable to sort modes: '<' not supported between instances of 'int' and 'str'\n",
      "  MostAbnormalFlags=('AbnormalFlags', lambda x: x.mode().iloc[0] if not x.mode().empty else None),\n",
      "C:\\Users\\svkar\\AppData\\Local\\Temp\\ipykernel_824\\2494931097.py:5: UserWarning: Unable to sort modes: '<' not supported between instances of 'int' and 'str'\n",
      "  MostAbnormalFlags=('AbnormalFlags', lambda x: x.mode().iloc[0] if not x.mode().empty else None),\n",
      "C:\\Users\\svkar\\AppData\\Local\\Temp\\ipykernel_824\\2494931097.py:5: UserWarning: Unable to sort modes: '<' not supported between instances of 'int' and 'str'\n",
      "  MostAbnormalFlags=('AbnormalFlags', lambda x: x.mode().iloc[0] if not x.mode().empty else None),\n",
      "C:\\Users\\svkar\\AppData\\Local\\Temp\\ipykernel_824\\2494931097.py:5: UserWarning: Unable to sort modes: '<' not supported between instances of 'int' and 'str'\n",
      "  MostAbnormalFlags=('AbnormalFlags', lambda x: x.mode().iloc[0] if not x.mode().empty else None),\n",
      "C:\\Users\\svkar\\AppData\\Local\\Temp\\ipykernel_824\\2494931097.py:5: UserWarning: Unable to sort modes: '<' not supported between instances of 'int' and 'str'\n",
      "  MostAbnormalFlags=('AbnormalFlags', lambda x: x.mode().iloc[0] if not x.mode().empty else None),\n",
      "C:\\Users\\svkar\\AppData\\Local\\Temp\\ipykernel_824\\2494931097.py:5: UserWarning: Unable to sort modes: '<' not supported between instances of 'int' and 'str'\n",
      "  MostAbnormalFlags=('AbnormalFlags', lambda x: x.mode().iloc[0] if not x.mode().empty else None),\n",
      "C:\\Users\\svkar\\AppData\\Local\\Temp\\ipykernel_824\\2494931097.py:5: UserWarning: Unable to sort modes: '<' not supported between instances of 'int' and 'str'\n",
      "  MostAbnormalFlags=('AbnormalFlags', lambda x: x.mode().iloc[0] if not x.mode().empty else None),\n",
      "C:\\Users\\svkar\\AppData\\Local\\Temp\\ipykernel_824\\2494931097.py:5: UserWarning: Unable to sort modes: '<' not supported between instances of 'int' and 'str'\n",
      "  MostAbnormalFlags=('AbnormalFlags', lambda x: x.mode().iloc[0] if not x.mode().empty else None),\n",
      "C:\\Users\\svkar\\AppData\\Local\\Temp\\ipykernel_824\\2494931097.py:5: UserWarning: Unable to sort modes: '<' not supported between instances of 'str' and 'int'\n",
      "  MostAbnormalFlags=('AbnormalFlags', lambda x: x.mode().iloc[0] if not x.mode().empty else None),\n",
      "C:\\Users\\svkar\\AppData\\Local\\Temp\\ipykernel_824\\2494931097.py:5: UserWarning: Unable to sort modes: '<' not supported between instances of 'str' and 'int'\n",
      "  MostAbnormalFlags=('AbnormalFlags', lambda x: x.mode().iloc[0] if not x.mode().empty else None),\n",
      "C:\\Users\\svkar\\AppData\\Local\\Temp\\ipykernel_824\\2494931097.py:5: UserWarning: Unable to sort modes: '<' not supported between instances of 'str' and 'int'\n",
      "  MostAbnormalFlags=('AbnormalFlags', lambda x: x.mode().iloc[0] if not x.mode().empty else None),\n",
      "C:\\Users\\svkar\\AppData\\Local\\Temp\\ipykernel_824\\2494931097.py:5: UserWarning: Unable to sort modes: '<' not supported between instances of 'str' and 'int'\n",
      "  MostAbnormalFlags=('AbnormalFlags', lambda x: x.mode().iloc[0] if not x.mode().empty else None),\n",
      "C:\\Users\\svkar\\AppData\\Local\\Temp\\ipykernel_824\\2494931097.py:5: UserWarning: Unable to sort modes: '<' not supported between instances of 'str' and 'int'\n",
      "  MostAbnormalFlags=('AbnormalFlags', lambda x: x.mode().iloc[0] if not x.mode().empty else None),\n",
      "C:\\Users\\svkar\\AppData\\Local\\Temp\\ipykernel_824\\2494931097.py:5: UserWarning: Unable to sort modes: '<' not supported between instances of 'str' and 'int'\n",
      "  MostAbnormalFlags=('AbnormalFlags', lambda x: x.mode().iloc[0] if not x.mode().empty else None),\n",
      "C:\\Users\\svkar\\AppData\\Local\\Temp\\ipykernel_824\\2494931097.py:5: UserWarning: Unable to sort modes: '<' not supported between instances of 'str' and 'int'\n",
      "  MostAbnormalFlags=('AbnormalFlags', lambda x: x.mode().iloc[0] if not x.mode().empty else None),\n",
      "C:\\Users\\svkar\\AppData\\Local\\Temp\\ipykernel_824\\2494931097.py:5: UserWarning: Unable to sort modes: '<' not supported between instances of 'str' and 'int'\n",
      "  MostAbnormalFlags=('AbnormalFlags', lambda x: x.mode().iloc[0] if not x.mode().empty else None),\n",
      "C:\\Users\\svkar\\AppData\\Local\\Temp\\ipykernel_824\\2494931097.py:5: UserWarning: Unable to sort modes: '<' not supported between instances of 'str' and 'int'\n",
      "  MostAbnormalFlags=('AbnormalFlags', lambda x: x.mode().iloc[0] if not x.mode().empty else None),\n",
      "C:\\Users\\svkar\\AppData\\Local\\Temp\\ipykernel_824\\2494931097.py:5: UserWarning: Unable to sort modes: '<' not supported between instances of 'str' and 'int'\n",
      "  MostAbnormalFlags=('AbnormalFlags', lambda x: x.mode().iloc[0] if not x.mode().empty else None),\n",
      "C:\\Users\\svkar\\AppData\\Local\\Temp\\ipykernel_824\\2494931097.py:5: UserWarning: Unable to sort modes: '<' not supported between instances of 'str' and 'int'\n",
      "  MostAbnormalFlags=('AbnormalFlags', lambda x: x.mode().iloc[0] if not x.mode().empty else None),\n",
      "C:\\Users\\svkar\\AppData\\Local\\Temp\\ipykernel_824\\2494931097.py:5: UserWarning: Unable to sort modes: '<' not supported between instances of 'str' and 'int'\n",
      "  MostAbnormalFlags=('AbnormalFlags', lambda x: x.mode().iloc[0] if not x.mode().empty else None),\n",
      "C:\\Users\\svkar\\AppData\\Local\\Temp\\ipykernel_824\\2494931097.py:5: UserWarning: Unable to sort modes: '<' not supported between instances of 'int' and 'str'\n",
      "  MostAbnormalFlags=('AbnormalFlags', lambda x: x.mode().iloc[0] if not x.mode().empty else None),\n",
      "C:\\Users\\svkar\\AppData\\Local\\Temp\\ipykernel_824\\2494931097.py:5: UserWarning: Unable to sort modes: '<' not supported between instances of 'int' and 'str'\n",
      "  MostAbnormalFlags=('AbnormalFlags', lambda x: x.mode().iloc[0] if not x.mode().empty else None),\n",
      "C:\\Users\\svkar\\AppData\\Local\\Temp\\ipykernel_824\\2494931097.py:5: UserWarning: Unable to sort modes: '<' not supported between instances of 'int' and 'str'\n",
      "  MostAbnormalFlags=('AbnormalFlags', lambda x: x.mode().iloc[0] if not x.mode().empty else None),\n",
      "C:\\Users\\svkar\\AppData\\Local\\Temp\\ipykernel_824\\2494931097.py:5: UserWarning: Unable to sort modes: '<' not supported between instances of 'int' and 'str'\n",
      "  MostAbnormalFlags=('AbnormalFlags', lambda x: x.mode().iloc[0] if not x.mode().empty else None),\n",
      "C:\\Users\\svkar\\AppData\\Local\\Temp\\ipykernel_824\\2494931097.py:5: UserWarning: Unable to sort modes: '<' not supported between instances of 'str' and 'int'\n",
      "  MostAbnormalFlags=('AbnormalFlags', lambda x: x.mode().iloc[0] if not x.mode().empty else None),\n",
      "C:\\Users\\svkar\\AppData\\Local\\Temp\\ipykernel_824\\2494931097.py:5: UserWarning: Unable to sort modes: '<' not supported between instances of 'str' and 'int'\n",
      "  MostAbnormalFlags=('AbnormalFlags', lambda x: x.mode().iloc[0] if not x.mode().empty else None),\n",
      "C:\\Users\\svkar\\AppData\\Local\\Temp\\ipykernel_824\\2494931097.py:5: UserWarning: Unable to sort modes: '<' not supported between instances of 'str' and 'int'\n",
      "  MostAbnormalFlags=('AbnormalFlags', lambda x: x.mode().iloc[0] if not x.mode().empty else None),\n",
      "C:\\Users\\svkar\\AppData\\Local\\Temp\\ipykernel_824\\2494931097.py:5: UserWarning: Unable to sort modes: '<' not supported between instances of 'str' and 'int'\n",
      "  MostAbnormalFlags=('AbnormalFlags', lambda x: x.mode().iloc[0] if not x.mode().empty else None),\n",
      "C:\\Users\\svkar\\AppData\\Local\\Temp\\ipykernel_824\\2494931097.py:5: UserWarning: Unable to sort modes: '<' not supported between instances of 'str' and 'int'\n",
      "  MostAbnormalFlags=('AbnormalFlags', lambda x: x.mode().iloc[0] if not x.mode().empty else None),\n",
      "C:\\Users\\svkar\\AppData\\Local\\Temp\\ipykernel_824\\2494931097.py:5: UserWarning: Unable to sort modes: '<' not supported between instances of 'str' and 'int'\n",
      "  MostAbnormalFlags=('AbnormalFlags', lambda x: x.mode().iloc[0] if not x.mode().empty else None),\n",
      "C:\\Users\\svkar\\AppData\\Local\\Temp\\ipykernel_824\\2494931097.py:5: UserWarning: Unable to sort modes: '<' not supported between instances of 'int' and 'str'\n",
      "  MostAbnormalFlags=('AbnormalFlags', lambda x: x.mode().iloc[0] if not x.mode().empty else None),\n",
      "C:\\Users\\svkar\\AppData\\Local\\Temp\\ipykernel_824\\2494931097.py:5: UserWarning: Unable to sort modes: '<' not supported between instances of 'int' and 'str'\n",
      "  MostAbnormalFlags=('AbnormalFlags', lambda x: x.mode().iloc[0] if not x.mode().empty else None),\n",
      "C:\\Users\\svkar\\AppData\\Local\\Temp\\ipykernel_824\\2494931097.py:5: UserWarning: Unable to sort modes: '<' not supported between instances of 'str' and 'int'\n",
      "  MostAbnormalFlags=('AbnormalFlags', lambda x: x.mode().iloc[0] if not x.mode().empty else None),\n",
      "C:\\Users\\svkar\\AppData\\Local\\Temp\\ipykernel_824\\2494931097.py:5: UserWarning: Unable to sort modes: '<' not supported between instances of 'str' and 'int'\n",
      "  MostAbnormalFlags=('AbnormalFlags', lambda x: x.mode().iloc[0] if not x.mode().empty else None),\n",
      "C:\\Users\\svkar\\AppData\\Local\\Temp\\ipykernel_824\\2494931097.py:5: UserWarning: Unable to sort modes: '<' not supported between instances of 'int' and 'str'\n",
      "  MostAbnormalFlags=('AbnormalFlags', lambda x: x.mode().iloc[0] if not x.mode().empty else None),\n",
      "C:\\Users\\svkar\\AppData\\Local\\Temp\\ipykernel_824\\2494931097.py:5: UserWarning: Unable to sort modes: '<' not supported between instances of 'int' and 'str'\n",
      "  MostAbnormalFlags=('AbnormalFlags', lambda x: x.mode().iloc[0] if not x.mode().empty else None),\n",
      "C:\\Users\\svkar\\AppData\\Local\\Temp\\ipykernel_824\\2494931097.py:5: UserWarning: Unable to sort modes: '<' not supported between instances of 'str' and 'int'\n",
      "  MostAbnormalFlags=('AbnormalFlags', lambda x: x.mode().iloc[0] if not x.mode().empty else None),\n",
      "C:\\Users\\svkar\\AppData\\Local\\Temp\\ipykernel_824\\2494931097.py:5: UserWarning: Unable to sort modes: '<' not supported between instances of 'str' and 'int'\n",
      "  MostAbnormalFlags=('AbnormalFlags', lambda x: x.mode().iloc[0] if not x.mode().empty else None),\n",
      "C:\\Users\\svkar\\AppData\\Local\\Temp\\ipykernel_824\\2494931097.py:5: UserWarning: Unable to sort modes: '<' not supported between instances of 'int' and 'str'\n",
      "  MostAbnormalFlags=('AbnormalFlags', lambda x: x.mode().iloc[0] if not x.mode().empty else None),\n",
      "C:\\Users\\svkar\\AppData\\Local\\Temp\\ipykernel_824\\2494931097.py:5: UserWarning: Unable to sort modes: '<' not supported between instances of 'int' and 'str'\n",
      "  MostAbnormalFlags=('AbnormalFlags', lambda x: x.mode().iloc[0] if not x.mode().empty else None),\n",
      "C:\\Users\\svkar\\AppData\\Local\\Temp\\ipykernel_824\\2494931097.py:5: UserWarning: Unable to sort modes: '<' not supported between instances of 'str' and 'int'\n",
      "  MostAbnormalFlags=('AbnormalFlags', lambda x: x.mode().iloc[0] if not x.mode().empty else None),\n",
      "C:\\Users\\svkar\\AppData\\Local\\Temp\\ipykernel_824\\2494931097.py:5: UserWarning: Unable to sort modes: '<' not supported between instances of 'str' and 'int'\n",
      "  MostAbnormalFlags=('AbnormalFlags', lambda x: x.mode().iloc[0] if not x.mode().empty else None),\n",
      "C:\\Users\\svkar\\AppData\\Local\\Temp\\ipykernel_824\\2494931097.py:5: UserWarning: Unable to sort modes: '<' not supported between instances of 'int' and 'str'\n",
      "  MostAbnormalFlags=('AbnormalFlags', lambda x: x.mode().iloc[0] if not x.mode().empty else None),\n",
      "C:\\Users\\svkar\\AppData\\Local\\Temp\\ipykernel_824\\2494931097.py:5: UserWarning: Unable to sort modes: '<' not supported between instances of 'int' and 'str'\n",
      "  MostAbnormalFlags=('AbnormalFlags', lambda x: x.mode().iloc[0] if not x.mode().empty else None),\n",
      "C:\\Users\\svkar\\AppData\\Local\\Temp\\ipykernel_824\\2494931097.py:5: UserWarning: Unable to sort modes: '<' not supported between instances of 'int' and 'str'\n",
      "  MostAbnormalFlags=('AbnormalFlags', lambda x: x.mode().iloc[0] if not x.mode().empty else None),\n",
      "C:\\Users\\svkar\\AppData\\Local\\Temp\\ipykernel_824\\2494931097.py:5: UserWarning: Unable to sort modes: '<' not supported between instances of 'int' and 'str'\n",
      "  MostAbnormalFlags=('AbnormalFlags', lambda x: x.mode().iloc[0] if not x.mode().empty else None),\n",
      "C:\\Users\\svkar\\AppData\\Local\\Temp\\ipykernel_824\\2494931097.py:5: UserWarning: Unable to sort modes: '<' not supported between instances of 'int' and 'str'\n",
      "  MostAbnormalFlags=('AbnormalFlags', lambda x: x.mode().iloc[0] if not x.mode().empty else None),\n",
      "C:\\Users\\svkar\\AppData\\Local\\Temp\\ipykernel_824\\2494931097.py:5: UserWarning: Unable to sort modes: '<' not supported between instances of 'int' and 'str'\n",
      "  MostAbnormalFlags=('AbnormalFlags', lambda x: x.mode().iloc[0] if not x.mode().empty else None),\n",
      "C:\\Users\\svkar\\AppData\\Local\\Temp\\ipykernel_824\\2494931097.py:5: UserWarning: Unable to sort modes: '<' not supported between instances of 'int' and 'str'\n",
      "  MostAbnormalFlags=('AbnormalFlags', lambda x: x.mode().iloc[0] if not x.mode().empty else None),\n",
      "C:\\Users\\svkar\\AppData\\Local\\Temp\\ipykernel_824\\2494931097.py:5: UserWarning: Unable to sort modes: '<' not supported between instances of 'int' and 'str'\n",
      "  MostAbnormalFlags=('AbnormalFlags', lambda x: x.mode().iloc[0] if not x.mode().empty else None),\n",
      "C:\\Users\\svkar\\AppData\\Local\\Temp\\ipykernel_824\\2494931097.py:5: UserWarning: Unable to sort modes: '<' not supported between instances of 'int' and 'str'\n",
      "  MostAbnormalFlags=('AbnormalFlags', lambda x: x.mode().iloc[0] if not x.mode().empty else None),\n",
      "C:\\Users\\svkar\\AppData\\Local\\Temp\\ipykernel_824\\2494931097.py:5: UserWarning: Unable to sort modes: '<' not supported between instances of 'int' and 'str'\n",
      "  MostAbnormalFlags=('AbnormalFlags', lambda x: x.mode().iloc[0] if not x.mode().empty else None),\n",
      "C:\\Users\\svkar\\AppData\\Local\\Temp\\ipykernel_824\\2494931097.py:5: UserWarning: Unable to sort modes: '<' not supported between instances of 'str' and 'int'\n",
      "  MostAbnormalFlags=('AbnormalFlags', lambda x: x.mode().iloc[0] if not x.mode().empty else None),\n",
      "C:\\Users\\svkar\\AppData\\Local\\Temp\\ipykernel_824\\2494931097.py:5: UserWarning: Unable to sort modes: '<' not supported between instances of 'str' and 'int'\n",
      "  MostAbnormalFlags=('AbnormalFlags', lambda x: x.mode().iloc[0] if not x.mode().empty else None),\n"
     ]
    }
   ],
   "source": [
    "df_lo_tot = df_slo_new.groupby('LabPanelGuid').agg(\n",
    "    T2D_Lab_Observation_Mode=('T2D_Lab_Observation_Flag', lambda x: x.mode().iloc[0] if not x.mode().empty else None),\n",
    "    MostHL7Identifier=('HL7Identifier', lambda x: x.mode().iloc[0] if not x.mode().empty else None),\n",
    "    AvgObservationValue=(\"ObservationValue\", \"mean\"),\n",
    "    MostAbnormalFlags=('AbnormalFlags', lambda x: x.mode().iloc[0] if not x.mode().empty else None),\n",
    "    MostIsAbnormalValue=('IsAbnormalValue', lambda x: x.mode().iloc[0] if not x.mode().empty else None),\n",
    ").reset_index()"
   ]
  },
  {
   "cell_type": "code",
   "execution_count": 51,
   "id": "c618c298-394f-42cd-90e2-c3c9434374d7",
   "metadata": {
    "tags": []
   },
   "outputs": [
    {
     "data": {
      "text/plain": [
       "(29014, 9)"
      ]
     },
     "execution_count": 51,
     "metadata": {},
     "output_type": "execute_result"
    }
   ],
   "source": [
    "df_slo_new.shape"
   ]
  },
  {
   "cell_type": "code",
   "execution_count": 52,
   "id": "ae0c5d9c-65af-457b-a531-6307df8d809d",
   "metadata": {
    "tags": []
   },
   "outputs": [
    {
     "data": {
      "text/plain": [
       "(6579, 6)"
      ]
     },
     "execution_count": 52,
     "metadata": {},
     "output_type": "execute_result"
    }
   ],
   "source": [
    "df_lo_tot.shape"
   ]
  },
  {
   "cell_type": "markdown",
   "id": "b34e9f6e-1c09-4592-9ce7-bf0c3d0bebef",
   "metadata": {},
   "source": [
    "#### Lab Panel"
   ]
  },
  {
   "cell_type": "code",
   "execution_count": 53,
   "id": "f2b7e46a-42b2-4597-b6a2-d89ab20dfaa7",
   "metadata": {
    "tags": []
   },
   "outputs": [
    {
     "data": {
      "text/plain": [
       "Index(['PanelName', 'LabPanelGuid', 'LabResultGuid', 'ObservationYear',\n",
       "       'Status'],\n",
       "      dtype='object')"
      ]
     },
     "execution_count": 53,
     "metadata": {},
     "output_type": "execute_result"
    }
   ],
   "source": [
    "df_train_slp.columns"
   ]
  },
  {
   "cell_type": "code",
   "execution_count": 54,
   "id": "aac0cd21-7896-43aa-9125-faf05f4bc9ab",
   "metadata": {
    "tags": []
   },
   "outputs": [
    {
     "name": "stdout",
     "output_type": "stream",
     "text": [
      "Unique Panel Name Values:\n",
      "['083824+CBC/D/Plt+RPR+Rh+ABO...' '726778 7+Alc-Unbund'\n",
      " '764888 10+Oxyco+Alc+Crt-Bund' '794388 7 Drug-Bund'\n",
      " 'Actin (Smooth Muscle) Antibody' 'Aerobic Bacterial Culture' 'AFP Tetra'\n",
      " 'AFP, Serum, Tumor Marker' 'Albumin, Serum' 'Aldolase'\n",
      " 'Aldosterone LCMS, Serum' 'Alkaline Phosphatase'\n",
      " 'Alkaline Phosphatase, S' 'Allergen Profile, Food-Basic'\n",
      " 'Allergen, Alder Tree' 'Allergen, Alternaria tenuis'\n",
      " 'Allergen, Aspergillus fumigatus' 'Allergen, Bermuda Grass'\n",
      " 'Allergen, Birch' 'Allergen, Cat Dander and epithelium'\n",
      " 'Allergen, Cladosporium herba.' 'Allergen, Clam'\n",
      " 'Allergen, Codfish/Whitefish' 'Allergen, Common ragweed' 'Allergen, Corn'\n",
      " 'Allergen, D. farinae' 'Allergen, D. pteronyssinus'\n",
      " 'Allergen, Dog Dander' 'Allergen, Egg White' 'Allergen, Elm Tree'\n",
      " 'Allergen, German Cockroach' 'Allergen, Milk(Cow)'\n",
      " 'Allergen, Mountain Cedar/Juniper' 'Allergen, Mugwort'\n",
      " 'Allergen, Mulberry Tree' 'Allergen, Oak Tree' 'Allergen, Olive Tree'\n",
      " 'Allergen, Peanut' 'Allergen, Penicillium notatum'\n",
      " 'Allergen, Rough Pigweed' 'Allergen, Russian Thistle' 'Allergen, Scallop'\n",
      " 'Allergen, Sesame Seed' 'Allergen, Shrimp' 'Allergen, Soybean'\n",
      " 'Allergen, Sycamore Tree' 'Allergen, Timothy Grass'\n",
      " 'Allergen, Walnut/Black Walnut' 'Allergen, Wheat'\n",
      " 'Allergy panel IgE Total' 'ALT (SGPT)' 'Ambig Abbrev BMP8 Default'\n",
      " 'Ambig Abbrev CMP14 Default' 'Ambig Abbrev HFP7 Default'\n",
      " 'Ambig Abbrev LP Default' 'Ambiguous Test Order' 'Ammonia, Plasma'\n",
      " 'Amy+Lipase' 'Amylase' 'Amylase, Serum' 'ANA Comprehensive Panel'\n",
      " 'ANA w/Reflex' 'ANA w/Reflex if Positive' 'Androstenedione LCMS'\n",
      " 'Anemia Profile A' 'Anemia Profile B' 'Anti-dsDNA Antibodies'\n",
      " 'Antibody Screen' 'Antinuclear Antibodies Direct' 'Antithyroglobulin Ab'\n",
      " 'AST (SGOT)' 'B-Type Natriuretic Peptide'\n",
      " 'Basic Metabolic Panel - Chem 7' 'Basic Metabolic Panel (8)'\n",
      " 'Benzodiazepines Conf GC/MS' 'Beta Strep Gp A Culture' 'Bilirubin Direct'\n",
      " 'Bilirubin, Direct' 'Bilirubin, Total' 'Bilirubin, Total/Direct, Serum'\n",
      " 'BUN' 'C-Peptide, Serum' 'C-Reactive Protein, Cardiac'\n",
      " 'C-Reactive Protein, Quant' 'C difficile Toxins A+B, EIA'\n",
      " 'CA 125, Serum (Serial)' 'Calcitriol(1,25 di-OH Vit D)' 'Calcium Total'\n",
      " 'Calcium, 24Hr Urine' 'Calcium, Ionized, Serum' 'Calcium, Serum'\n",
      " 'Calculi, Urinary' 'Cancer Antigen (CA) 125' 'Carbamazepine(Tegretol), S'\n",
      " 'Catecholamines,Ur.,Free,24 Hr' 'CBC NO Diff (Complete Blood Count)'\n",
      " 'CBC w/ Differential and Platelet' 'CBC W/DIFF' 'CBC w/Diff and PLT'\n",
      " 'CBC With Differential/Platelet' 'CBC With Platelet And Differential'\n",
      " 'CBC, No Differential/Platelet' 'CBC, Platelet; No Differential'\n",
      " 'CBC/D/Plt+RPR+Rh+ABO+Rub Ab...' 'CBC/Diff Ambiguous Default'\n",
      " 'CBC/Differential (No Platelet)' 'CCP Antibodies IgG/IgA'\n",
      " 'CD4/CD8 Ratio Profile' 'CEA' 'Celiac Disease Complete Panel'\n",
      " 'Celiac Disease Comprehensive' 'Celiac Disease Panel'\n",
      " 'Cell Ct, Synovial w/Crystals' 'Ceruloplasmin'\n",
      " 'Chlamydia trachomatis, NAA' 'Chlamydia/GC Amplification'\n",
      " 'Chlamydia/GC, DNA Probe w/Rflx' 'Cholesterol, Total' 'CMP'\n",
      " 'CMP/ LIPID PANEL' 'CMP12+LP+6AC' 'CMP14+2AC+CBC/D/Plt+TSH+T4F...'\n",
      " 'CMP14+CBC/D/Plt+TSH' 'CMP14+LP+CBC/D/Plt+T4+TSH'\n",
      " 'CMP14+LP+CBC/D/Plt+UA+TSH' 'Comment:' 'Comp Metabolic Panel'\n",
      " 'Comp. Metabolic Panel (12)' 'Comp. Metabolic Panel (14)'\n",
      " 'COMPLETE BLOOD COUNT' 'COMPLETE BLOOD COUNT W/O DIFF'\n",
      " 'Comprehensive Metabolic Panel' 'Cortisol' 'Cortisol - AM'\n",
      " 'Cortisol - PM' 'Creatine Kinase (CK), MB/Total'\n",
      " 'Creatine Kinase,Total,Serum' 'Creatinine, 24-Hour Urine'\n",
      " 'Creatinine, Serum' 'Creatinine, Urine' 'CRP(Inflammation)'\n",
      " 'Culture, Urine' 'Cystic Fibrosis Profile'\n",
      " 'Cytomegalovirus (CMV) Ab, IgG' 'Cytomegalovirus (CMV) Ab, IgM' 'D-Dimer'\n",
      " 'DHEA-Sulfate' 'DHEA, Serum' 'Differential-Manual(Peripheral Smear)'\n",
      " 'Digoxin, Serum' 'Dihydrotestosterone' 'Drug Profile 799031'\n",
      " 'Drug Profile, Ur, 9 Drugs' 'Drug Screen 9, Urine'\n",
      " 'EBV Acute Infection Antibodies' 'Electrolyte Panel' 'Electrolytes'\n",
      " \"ENA+DNA/DS+Sjorgen's\" 'ERYTHROCYTE SEDIMENTATION RATE' 'Estradiol'\n",
      " 'Estrogens, Total' 'EXTRA TUBE' 'Ferritin' 'Ferritin, Serum' 'Fibrinogen'\n",
      " 'FLUORESCENT ANTINUCLEAR ANTIBODY' 'Folate (Folic Acid)'\n",
      " 'Folate (Folic Acid), Serum' 'FOLLICLE STIM. HORMONE (FSH)' 'Free T3'\n",
      " 'FSH' 'FSH and LH' 'Fungus (Mycology) Culture'\n",
      " 'G-6-PD, Quant, Blood and RBC' 'Gastrin, Serum'\n",
      " 'GC and Chlamydia DNA Amplified' 'Genital Culture, Routine'\n",
      " 'Gest. Diabetes 1-Hr Screen' 'Gestational 2 hour GTT'\n",
      " 'Gestational Glucose Tolerance' 'GGT' 'Giardia lamblia Ag, EIA'\n",
      " 'Glomerular Filtration Rate' 'Glucose Tolerance (3 Sp Blood)'\n",
      " 'Glucose, Plasma' 'Glucose, Serum' 'Gram Stain/Body Fluid Culture'\n",
      " 'H pylori, IgM, IgG, IgA Ab' 'H. pylori Breath Test' 'H. pylori IgG, Abs'\n",
      " 'HBsAg Screen' 'hCG,Beta Subunit, Qnt, Serum'\n",
      " 'hCG,Beta Subunit,Qual,Serum' 'HCV Ab w/Rflx to RIBA'\n",
      " 'HCV Ab w/Rflx to Verification' 'HCV Antibody' 'HCV FibroSURE'\n",
      " 'HCV Genotyping Non Reflex' 'HCV RNA (International Units)'\n",
      " 'HCV RNA by PCR, Qn Rfx Geno' 'Helper T-Lymph-CD4'\n",
      " 'Hematopath Consultation, Smear' 'Hemoglobin' 'Hemoglobin A1c' 'Hemogram'\n",
      " 'Hep A Ab, IgM' 'Hep A Ab, Total' 'Hep B Core Ab, Tot' 'Hep B Surface Ab'\n",
      " 'Hepatic (Liver) Function Panel' 'Hepatic Function Panel (6)'\n",
      " 'Hepatic Function Panel (7)' 'HEPATIC FUNCTION PANEL A'\n",
      " 'Hepatitis B Surface Ab' 'Hepatitis C Antibody' 'Hepatitis Panel (4)'\n",
      " 'Hered.Hemochromatosis, DNA' 'Herpes Simplex Virus I/II, IgG'\n",
      " 'Hgb A1c with eAG Estimation' 'Hgb Frac. w/o Solubility'\n",
      " 'HIV 1/2 Screen with Reflex to WB' 'HLA B 27 Disease Association'\n",
      " 'Homocyst(e)ine, Plasma' 'Homocysteine' 'HPV ASR' 'HPV, high-risk'\n",
      " 'HSV 1 and 2-Specific Ab, IgG' 'HSV 1 and 2 IgM Abs, Indirect'\n",
      " 'HSV I/II IgG Rflx I-II Type Sp' 'HSV NAA' 'HSV Type 2-Specific Ab, IgG'\n",
      " 'HSV, IgM I/II Combination' 'HUNTERHEART' 'IGF-1' 'IgG, Subclasses(1-4)'\n",
      " 'Immature Cells' 'Immunoglobulin A, Qn, Serum'\n",
      " 'Immunoglobulins A/G/M, Qn, Ser' 'INFECTIOUS MONO SCREEN' 'Insulin'\n",
      " 'Intrinsic Factor Abs, Serum' 'Iron and TIBC' 'Iron, Serum' 'LDH'\n",
      " 'LDL Cholesterol (Direct)' 'Levetiracetam (Keppra), S' 'LH' 'Lipase'\n",
      " 'Lipase, Serum' 'Lipid Cascade' 'Lipid Panel'\n",
      " 'Lipid Panel w/ Chol/HDL Ratio' 'Lipid Panel With LDL/HDL Ratio'\n",
      " 'Lipid Profile' 'Lipoprotein Analysis, by NMR'\n",
      " 'Lithium (Eskalith), Serum' 'Litholink CKD Program' 'LP+Chol/HDL+LDL/HDL'\n",
      " 'LP+Non-HDL Cholesterol' 'LUTEINIZING HORMONE (LH)'\n",
      " 'Lyme Ab/Western Blot Reflex' 'Lyme IgG/IgM Ab'\n",
      " 'Lyme, Western Blot, Serum' 'Magnesium, RBC' 'Magnesium, Serum'\n",
      " 'Measles/Mumps/Rubella Immunity' 'Metanephrines, Frac, Qn, 24-Hr'\n",
      " 'Methylmalonic Acid, Serum' 'Microalb/Creat Ratio, Randm Ur'\n",
      " 'Microalbumin Creatinine Ratio' 'Microalbumin Random Urine'\n",
      " 'Microalbumin, Random Urine' 'Microalbumin/Creatinine Ratio'\n",
      " 'Microscopic Examination' 'Mitochondrial (M2) Antibody'\n",
      " 'Mono Qual W/Rflx Qn' 'Mononucleosis Test, Qual' 'MTHFR'\n",
      " 'NGI HCV QuantaSure' 'NMR LipoProfile' 'No Frozen Received'\n",
      " 'No Lavender Received' 'No Test Indicated' 'Occult Blood, Fecal, IA'\n",
      " 'One Specimen Identifier' 'Opiates Conf (GC/MS)' 'Osmolality'\n",
      " 'Osmolality, Urine' 'Ova + Parasite Exam' 'Oxcarbazepine (Trileptal),S'\n",
      " 'Oxycodone/Oxymorphone (GC/MS)' 'Panel 005465' 'Panel 083824'\n",
      " 'Panel 795144' 'Pap IG (Image Guided)' 'Pap IG, Ct-Ng, HPV-hr'\n",
      " 'Pap IG, Ct-Ng, rfx HPV all' 'Pap IG, Ct-Ng, rfx HPV ASCU'\n",
      " 'Pap IG, HPV-hr' 'Pap IG, rfx HPV ASCU' 'Pap Lb (Liquid-based)'\n",
      " 'Parvovirus B19, Human, IgG/IgM' 'Path Review, Per Protocol'\n",
      " 'Pathology Report' 'PDF Report' 'Phenobarbital, Serum'\n",
      " 'PhenoSense GT (TM)' 'Phenytoin (Dilantin), Serum' 'Phosphorus, Serum'\n",
      " 'Platelet Count' 'Please note' 'Please Note:' 'Potassium, Serum'\n",
      " 'Prealbumin' 'Pregnancy Test, Urine' 'Progesterone' 'Prolactin'\n",
      " 'Prostate-Specific Ag, Serum' 'PROSTATE SPECIFIC ANTIGEN (PSA)'\n",
      " 'Protein Elec + Interp, Serum' 'Protein Electro, Random Urine'\n",
      " 'Protein Electro.,S' 'Protein Electrophoresis, Serum' 'Protein Total'\n",
      " 'Prothrombin Time (PT)' 'PSA' 'PSA - DIAGNOSTIC' 'PSA (Ultrasensitive)'\n",
      " 'PSA Diagnostic' 'PSA Total (Reflex To Free)' 'PSA Total+% Free'\n",
      " 'PSA, Serum (Serial Monitor)' 'PSA,SCREEN' 'PT + INR' 'PT and PTT'\n",
      " 'PTH, Intact' 'PTT' 'PTT, Activated' 'RBC Morphology' 'Renal Panel (10)'\n",
      " 'Renin Activity, Plasma' 'Request Problem' 'Result' 'Reticulocyte Count'\n",
      " 'Reverse T3' 'Reverse T3, Serum' 'Rheumatoid Arthritis Factor'\n",
      " 'Rheumatoid Factor' 'RNA, Real Time PCR (Graph)'\n",
      " 'RNA, Real Time PCR (Non-Graph)' 'Rocky Mtn Spotted Fev, IgG, Qn'\n",
      " 'Rocky Mtn Spotted Fever, IgM' 'RPR' 'RPR with reflex to Titer'\n",
      " 'RPR, Quant.' 'RPR, Reflex to TP-PA' 'RPR, Rfx Qn RPR/Confirm TP'\n",
      " 'Rubella IgG Ab' 'Sedimentation Rate' 'Sedimentation Rate-Westergren'\n",
      " 'Sex Horm Binding Glob, Serum' 'Sodium, 24 hr Urine' 'Stool Culture'\n",
      " 'Strep Gp B Cult/DNA Probe' 'SUREPATH PAP' 't-Transglutaminase (tTG) IgA'\n",
      " 'T-UPTAKE' 'T pallidum Screening Cascade' 'T3 Total' 'T3 Uptake'\n",
      " 'T3, Free' 'T4-THYROXINE' 'T4 and TSH' 'T4 Free' 'T4, Free' 'T4F'\n",
      " 'Testosterone' 'Testosterone Total'\n",
      " 'Testosterone, Free and Total (includes SHBG)' 'Testosterone, Serum'\n",
      " 'Testosterone, Total, LC/MS' 'Testosterone,Free and Total'\n",
      " 'Throat Culture' 'Thyroid Antibodies' 'Thyroid Cascade Profile'\n",
      " 'Thyroid Panel' 'Thyroid Panel With TSH' 'Thyroid Peroxidase (TPO) Ab'\n",
      " 'Thyroid Profile II' 'THYROID STIMULATING HORMONE' 'Thyroxine (T4)'\n",
      " 'Thyroxine (T4) Free, Direct, S' 'Thyroxine Free' 'TIBC with Iron'\n",
      " 'TOTAL T3' 'Toxoplasma gondii Ab, IgG, Qn' 'Toxoplasma gondii Ab,IgM,Qn'\n",
      " 'TP+T3+ThyAbs' 'Transferrin' 'Triiodothyronine (T3)'\n",
      " 'Triiodothyronine,Free,Serum' 'Troponin I' 'TSH'\n",
      " 'TSH (Thyroid Stimulating Hormone)' 'TSH (Ultrasensitive)'\n",
      " 'TSH 3RD GENERATION' 'TSH reflex to T4F' 'TSH Rfx on Abnormal to Free T4'\n",
      " 'TSH+Free T4' 'UA w/Micro Reflex UA Culture' 'UA with Culture Reflex'\n",
      " 'UA/M w/rflx Culture, Routine' 'Unable to Void'\n",
      " 'Upper Respiratory Culture' 'Uric Acid' 'Uric Acid, Serum'\n",
      " 'URINALYSIS W/MICROSCOPIC' 'Urinalysis, Complete' 'Urinalysis, Routine'\n",
      " 'Urine Culture' 'Urine Culture, Routine' 'Urine Culture,Comprehensive'\n",
      " 'Urine Cytology' 'Valproic Acid (Depakote),S'\n",
      " 'Vanillylmandelic Acid, 24-Hr U' 'VAP Cholesterol Profile'\n",
      " 'Varicella-Zoster V Ab, IgG' 'Verbal Add-on' 'Verbal Order'\n",
      " 'Vitamin B-12' 'Vitamin B1 (Thiamine), Blood' 'Vitamin B12'\n",
      " 'Vitamin B12 and Folate' 'VITAMIN D (25-OH)' 'Vitamin D 25-Hydroxy'\n",
      " 'VITAMIN D 25OH, TOTAL' 'Vitamin D, 1,25 + 25-Hydroxy'\n",
      " 'Vitamin D, 25-Hydroxy' 'VITAMIN D, 25-OH' 'Vitamin D, 25 Hydroxy'\n",
      " 'White Blood Cells (WBC), Stool' 'Written Authorization'\n",
      " 'Zinc, Plasma or Serum' 'Zinc, RBC']\n",
      "Unique Lab Result ID Values:\n",
      "['E2E9F32D-4277-4078-A466-CF9714718D56'\n",
      " '938556AC-E98D-4386-A94A-C89A83FA570C'\n",
      " '34CE5F46-0ED5-44B7-B004-771EFA0EDE81' ...\n",
      " '7B2962EC-F204-4AC6-84C3-629B6B746852'\n",
      " 'B436CF5B-FAEA-45EB-AA69-E3F49965D0DF'\n",
      " '2B0671B1-2957-4B30-AB54-8283F18BC32B']\n",
      "Unique ObservationYear Values:\n",
      "[2011 2012 2010]\n"
     ]
    }
   ],
   "source": [
    "unique_pn = df_train_slp['PanelName'].unique()\n",
    "print(\"Unique Panel Name Values:\")\n",
    "print(unique_pn)\n",
    "\n",
    "unique_lr = df_train_slp['LabResultGuid'].unique()\n",
    "print(\"Unique Lab Result ID Values:\")\n",
    "print(unique_lr)\n",
    "\n",
    "unique_os = df_train_slp['ObservationYear'].unique()\n",
    "print(\"Unique ObservationYear Values:\")\n",
    "print(unique_os)"
   ]
  },
  {
   "cell_type": "code",
   "execution_count": 55,
   "id": "0706d74e-6f55-4688-b302-f42b72c863f9",
   "metadata": {
    "tags": []
   },
   "outputs": [],
   "source": [
    "t2d_tests = [\n",
    "    'Hemoglobin A1c', 'Glucose Tolerance (3 Sp Blood)', 'Glucose, Plasma', 'Glucose, Serum', 'Insulin',\n",
    "    'C-Peptide, Serum', 'Gest. Diabetes 1-Hr Screen', 'Gestational 2 hour GTT', 'Gestational Glucose Tolerance'\n",
    "]"
   ]
  },
  {
   "cell_type": "code",
   "execution_count": 56,
   "id": "4b019a32-968f-4076-b124-6b67534a9a24",
   "metadata": {
    "tags": []
   },
   "outputs": [],
   "source": [
    "df_train_slp_new=df_train_slp"
   ]
  },
  {
   "cell_type": "code",
   "execution_count": 57,
   "id": "f660cb73-36d3-4ba6-b9ad-2c498da6db4a",
   "metadata": {
    "tags": []
   },
   "outputs": [],
   "source": [
    "df_train_slp_new.loc[:, 'T2D_Test_Flag'] = df_train_slp['PanelName'].apply(\n",
    "    lambda x: 1 if any(test in str(x) for test in t2d_tests) else 0\n",
    ")"
   ]
  },
  {
   "cell_type": "code",
   "execution_count": 58,
   "id": "1c9c62c0-0306-49ba-ac4d-fb4973a1eadd",
   "metadata": {
    "tags": []
   },
   "outputs": [
    {
     "data": {
      "text/html": [
       "<div>\n",
       "<style scoped>\n",
       "    .dataframe tbody tr th:only-of-type {\n",
       "        vertical-align: middle;\n",
       "    }\n",
       "\n",
       "    .dataframe tbody tr th {\n",
       "        vertical-align: top;\n",
       "    }\n",
       "\n",
       "    .dataframe thead th {\n",
       "        text-align: right;\n",
       "    }\n",
       "</style>\n",
       "<table border=\"1\" class=\"dataframe\">\n",
       "  <thead>\n",
       "    <tr style=\"text-align: right;\">\n",
       "      <th></th>\n",
       "      <th>PanelName</th>\n",
       "      <th>LabPanelGuid</th>\n",
       "      <th>LabResultGuid</th>\n",
       "      <th>ObservationYear</th>\n",
       "      <th>Status</th>\n",
       "      <th>T2D_Test_Flag</th>\n",
       "    </tr>\n",
       "  </thead>\n",
       "  <tbody>\n",
       "    <tr>\n",
       "      <th>0</th>\n",
       "      <td>083824+CBC/D/Plt+RPR+Rh+ABO...</td>\n",
       "      <td>356133F9-70AD-4C03-9FC2-5B134C84D3D2</td>\n",
       "      <td>E2E9F32D-4277-4078-A466-CF9714718D56</td>\n",
       "      <td>2011</td>\n",
       "      <td>Final</td>\n",
       "      <td>0</td>\n",
       "    </tr>\n",
       "    <tr>\n",
       "      <th>1</th>\n",
       "      <td>083824+CBC/D/Plt+RPR+Rh+ABO...</td>\n",
       "      <td>3B90AE78-024D-4183-90D4-9592B638554A</td>\n",
       "      <td>938556AC-E98D-4386-A94A-C89A83FA570C</td>\n",
       "      <td>2012</td>\n",
       "      <td>Final</td>\n",
       "      <td>0</td>\n",
       "    </tr>\n",
       "    <tr>\n",
       "      <th>2</th>\n",
       "      <td>083824+CBC/D/Plt+RPR+Rh+ABO...</td>\n",
       "      <td>A7ED264E-A0A9-41E0-8D1D-0A65CC1BF927</td>\n",
       "      <td>34CE5F46-0ED5-44B7-B004-771EFA0EDE81</td>\n",
       "      <td>2011</td>\n",
       "      <td>Final</td>\n",
       "      <td>0</td>\n",
       "    </tr>\n",
       "    <tr>\n",
       "      <th>3</th>\n",
       "      <td>083824+CBC/D/Plt+RPR+Rh+ABO...</td>\n",
       "      <td>7958A75D-A5AF-4C10-AC2D-9F1AFD5758B9</td>\n",
       "      <td>840ED500-8FC6-468A-B7AF-B429CC3FDD7C</td>\n",
       "      <td>2011</td>\n",
       "      <td>Final</td>\n",
       "      <td>0</td>\n",
       "    </tr>\n",
       "    <tr>\n",
       "      <th>4</th>\n",
       "      <td>083824+CBC/D/Plt+RPR+Rh+ABO...</td>\n",
       "      <td>EA8BA390-2454-4905-8437-121FD48DF555</td>\n",
       "      <td>642AEA75-D604-45B3-94DF-9AC4F1C1AEEA</td>\n",
       "      <td>2012</td>\n",
       "      <td>Final</td>\n",
       "      <td>0</td>\n",
       "    </tr>\n",
       "  </tbody>\n",
       "</table>\n",
       "</div>"
      ],
      "text/plain": [
       "                        PanelName                          LabPanelGuid  \\\n",
       "0  083824+CBC/D/Plt+RPR+Rh+ABO...  356133F9-70AD-4C03-9FC2-5B134C84D3D2   \n",
       "1  083824+CBC/D/Plt+RPR+Rh+ABO...  3B90AE78-024D-4183-90D4-9592B638554A   \n",
       "2  083824+CBC/D/Plt+RPR+Rh+ABO...  A7ED264E-A0A9-41E0-8D1D-0A65CC1BF927   \n",
       "3  083824+CBC/D/Plt+RPR+Rh+ABO...  7958A75D-A5AF-4C10-AC2D-9F1AFD5758B9   \n",
       "4  083824+CBC/D/Plt+RPR+Rh+ABO...  EA8BA390-2454-4905-8437-121FD48DF555   \n",
       "\n",
       "                          LabResultGuid  ObservationYear Status  T2D_Test_Flag  \n",
       "0  E2E9F32D-4277-4078-A466-CF9714718D56             2011  Final              0  \n",
       "1  938556AC-E98D-4386-A94A-C89A83FA570C             2012  Final              0  \n",
       "2  34CE5F46-0ED5-44B7-B004-771EFA0EDE81             2011  Final              0  \n",
       "3  840ED500-8FC6-468A-B7AF-B429CC3FDD7C             2011  Final              0  \n",
       "4  642AEA75-D604-45B3-94DF-9AC4F1C1AEEA             2012  Final              0  "
      ]
     },
     "execution_count": 58,
     "metadata": {},
     "output_type": "execute_result"
    }
   ],
   "source": [
    "df_train_slp_new.head()"
   ]
  },
  {
   "cell_type": "code",
   "execution_count": 59,
   "id": "d182c044-401c-4a88-9f90-c8f75c72c468",
   "metadata": {
    "tags": []
   },
   "outputs": [],
   "source": [
    "df_slp_tot = df_train_slp_new.groupby('LabPanelGuid').agg(\n",
    "    T2D_Test_Mode=('T2D_Test_Flag', lambda x: x.mode().iloc[0] if not x.mode().empty else None),\n",
    "    MostLabResultGuid=('LabResultGuid', lambda x: x.mode().iloc[0] if not x.mode().empty else None),\n",
    "    MostObservationYear=('ObservationYear', lambda x: x.mode().iloc[0] if not x.mode().empty else None),\n",
    "    MostStatus=('Status', lambda x: x.mode().iloc[0] if not x.mode().empty else None),\n",
    ").reset_index()"
   ]
  },
  {
   "cell_type": "code",
   "execution_count": 60,
   "id": "4e173cd8-21f1-4573-aaf8-baa227bd0b22",
   "metadata": {
    "tags": []
   },
   "outputs": [
    {
     "data": {
      "text/plain": [
       "(11139, 6)"
      ]
     },
     "execution_count": 60,
     "metadata": {},
     "output_type": "execute_result"
    }
   ],
   "source": [
    "df_train_slp_new.shape"
   ]
  },
  {
   "cell_type": "code",
   "execution_count": 61,
   "id": "9b27103c-7533-4c5e-96d7-dbf5fc868b22",
   "metadata": {
    "tags": []
   },
   "outputs": [
    {
     "data": {
      "text/plain": [
       "(11139, 5)"
      ]
     },
     "execution_count": 61,
     "metadata": {},
     "output_type": "execute_result"
    }
   ],
   "source": [
    "df_slp_tot.shape"
   ]
  },
  {
   "cell_type": "markdown",
   "id": "cf50fe49-c8fc-43c6-8217-f84b5ffff0e6",
   "metadata": {},
   "source": [
    "#### **Merging Lab Observation & Panel**"
   ]
  },
  {
   "cell_type": "code",
   "execution_count": 62,
   "id": "3c053ff0-ddcf-4310-b4ae-06e37eb0395b",
   "metadata": {
    "tags": []
   },
   "outputs": [],
   "source": [
    "df_lo_lp = df_lo_tot.merge(df_slp_tot, how='left')"
   ]
  },
  {
   "cell_type": "code",
   "execution_count": 63,
   "id": "5f50622f-655f-4fc9-a9a3-fa6439f6527f",
   "metadata": {
    "tags": []
   },
   "outputs": [
    {
     "data": {
      "text/plain": [
       "(6579, 10)"
      ]
     },
     "execution_count": 63,
     "metadata": {},
     "output_type": "execute_result"
    }
   ],
   "source": [
    "df_lo_lp.shape"
   ]
  },
  {
   "cell_type": "code",
   "execution_count": 64,
   "id": "c79b120f-6952-48ef-9bea-16b201f6a8bf",
   "metadata": {
    "tags": []
   },
   "outputs": [
    {
     "data": {
      "text/html": [
       "<div>\n",
       "<style scoped>\n",
       "    .dataframe tbody tr th:only-of-type {\n",
       "        vertical-align: middle;\n",
       "    }\n",
       "\n",
       "    .dataframe tbody tr th {\n",
       "        vertical-align: top;\n",
       "    }\n",
       "\n",
       "    .dataframe thead th {\n",
       "        text-align: right;\n",
       "    }\n",
       "</style>\n",
       "<table border=\"1\" class=\"dataframe\">\n",
       "  <thead>\n",
       "    <tr style=\"text-align: right;\">\n",
       "      <th></th>\n",
       "      <th>LabPanelGuid</th>\n",
       "      <th>T2D_Lab_Observation_Mode</th>\n",
       "      <th>MostHL7Identifier</th>\n",
       "      <th>AvgObservationValue</th>\n",
       "      <th>MostAbnormalFlags</th>\n",
       "      <th>MostIsAbnormalValue</th>\n",
       "      <th>T2D_Test_Mode</th>\n",
       "      <th>MostLabResultGuid</th>\n",
       "      <th>MostObservationYear</th>\n",
       "      <th>MostStatus</th>\n",
       "    </tr>\n",
       "  </thead>\n",
       "  <tbody>\n",
       "    <tr>\n",
       "      <th>0</th>\n",
       "      <td>00085E99-3253-43B3-A94B-CFD4AADF7EB7</td>\n",
       "      <td>0</td>\n",
       "      <td>2571-8</td>\n",
       "      <td>122.000000</td>\n",
       "      <td>0</td>\n",
       "      <td>0</td>\n",
       "      <td>0</td>\n",
       "      <td>194AB2E4-440E-49B6-92D2-E86244173BBF</td>\n",
       "      <td>2011</td>\n",
       "      <td>Final</td>\n",
       "    </tr>\n",
       "    <tr>\n",
       "      <th>1</th>\n",
       "      <td>000DF53B-2A3F-4C39-A273-BB06D7FCFA60</td>\n",
       "      <td>0</td>\n",
       "      <td>10834-0</td>\n",
       "      <td>19.883333</td>\n",
       "      <td>0</td>\n",
       "      <td>0</td>\n",
       "      <td>0</td>\n",
       "      <td>54614552-1387-4F31-BE20-6FD707B13D48</td>\n",
       "      <td>2011</td>\n",
       "      <td>Final</td>\n",
       "    </tr>\n",
       "    <tr>\n",
       "      <th>2</th>\n",
       "      <td>00133D23-40D0-4CAF-8C0C-65408711E733</td>\n",
       "      <td>0</td>\n",
       "      <td>2571-8</td>\n",
       "      <td>91.000000</td>\n",
       "      <td>0</td>\n",
       "      <td>0</td>\n",
       "      <td>0</td>\n",
       "      <td>6E6B3457-BAE8-46E8-B47B-5529AC2BC8E1</td>\n",
       "      <td>2012</td>\n",
       "      <td>Final</td>\n",
       "    </tr>\n",
       "    <tr>\n",
       "      <th>3</th>\n",
       "      <td>00135BF6-35B3-4800-929C-E5D34DAA9A37</td>\n",
       "      <td>0</td>\n",
       "      <td>2571-8</td>\n",
       "      <td>121.000000</td>\n",
       "      <td>0</td>\n",
       "      <td>0</td>\n",
       "      <td>0</td>\n",
       "      <td>C793E33C-AECE-4BA6-BF17-D8A885DB842B</td>\n",
       "      <td>2012</td>\n",
       "      <td>Final</td>\n",
       "    </tr>\n",
       "    <tr>\n",
       "      <th>4</th>\n",
       "      <td>0013DE1C-22D2-4918-9089-C0D18781BCAA</td>\n",
       "      <td>0</td>\n",
       "      <td>20405-7</td>\n",
       "      <td>0.944444</td>\n",
       "      <td>0</td>\n",
       "      <td>0</td>\n",
       "      <td>0</td>\n",
       "      <td>D101D296-BA02-4C9E-AC19-DE2D0BDB719E</td>\n",
       "      <td>2011</td>\n",
       "      <td>Final</td>\n",
       "    </tr>\n",
       "  </tbody>\n",
       "</table>\n",
       "</div>"
      ],
      "text/plain": [
       "                           LabPanelGuid  T2D_Lab_Observation_Mode  \\\n",
       "0  00085E99-3253-43B3-A94B-CFD4AADF7EB7                         0   \n",
       "1  000DF53B-2A3F-4C39-A273-BB06D7FCFA60                         0   \n",
       "2  00133D23-40D0-4CAF-8C0C-65408711E733                         0   \n",
       "3  00135BF6-35B3-4800-929C-E5D34DAA9A37                         0   \n",
       "4  0013DE1C-22D2-4918-9089-C0D18781BCAA                         0   \n",
       "\n",
       "  MostHL7Identifier  AvgObservationValue MostAbnormalFlags  \\\n",
       "0            2571-8           122.000000                 0   \n",
       "1           10834-0            19.883333                 0   \n",
       "2            2571-8            91.000000                 0   \n",
       "3            2571-8           121.000000                 0   \n",
       "4           20405-7             0.944444                 0   \n",
       "\n",
       "   MostIsAbnormalValue  T2D_Test_Mode                     MostLabResultGuid  \\\n",
       "0                    0              0  194AB2E4-440E-49B6-92D2-E86244173BBF   \n",
       "1                    0              0  54614552-1387-4F31-BE20-6FD707B13D48   \n",
       "2                    0              0  6E6B3457-BAE8-46E8-B47B-5529AC2BC8E1   \n",
       "3                    0              0  C793E33C-AECE-4BA6-BF17-D8A885DB842B   \n",
       "4                    0              0  D101D296-BA02-4C9E-AC19-DE2D0BDB719E   \n",
       "\n",
       "   MostObservationYear MostStatus  \n",
       "0                 2011      Final  \n",
       "1                 2011      Final  \n",
       "2                 2012      Final  \n",
       "3                 2012      Final  \n",
       "4                 2011      Final  "
      ]
     },
     "execution_count": 64,
     "metadata": {},
     "output_type": "execute_result"
    }
   ],
   "source": [
    "df_lo_lp.head()"
   ]
  },
  {
   "cell_type": "markdown",
   "id": "425c2c0c-527c-4588-926e-86379fcb6c17",
   "metadata": {},
   "source": [
    "#### Lab Result"
   ]
  },
  {
   "cell_type": "code",
   "execution_count": 65,
   "id": "fadbe6b0-4c4f-409f-96cc-de5d017ee505",
   "metadata": {
    "tags": []
   },
   "outputs": [
    {
     "data": {
      "text/plain": [
       "Index(['LabResultGuid', 'UserGuid', 'PatientGuid', 'TranscriptGuid',\n",
       "       'PracticeGuid', 'FacilityGuid', 'ReportYear', 'AncestorLabResultGuid'],\n",
       "      dtype='object')"
      ]
     },
     "execution_count": 65,
     "metadata": {},
     "output_type": "execute_result"
    }
   ],
   "source": [
    "df_train_slr.columns"
   ]
  },
  {
   "cell_type": "code",
   "execution_count": 66,
   "id": "4ec5403f-e0f8-40a1-beb6-6bccbc8b688b",
   "metadata": {
    "tags": []
   },
   "outputs": [
    {
     "data": {
      "text/html": [
       "<div>\n",
       "<style scoped>\n",
       "    .dataframe tbody tr th:only-of-type {\n",
       "        vertical-align: middle;\n",
       "    }\n",
       "\n",
       "    .dataframe tbody tr th {\n",
       "        vertical-align: top;\n",
       "    }\n",
       "\n",
       "    .dataframe thead th {\n",
       "        text-align: right;\n",
       "    }\n",
       "</style>\n",
       "<table border=\"1\" class=\"dataframe\">\n",
       "  <thead>\n",
       "    <tr style=\"text-align: right;\">\n",
       "      <th></th>\n",
       "      <th>LabResultGuid</th>\n",
       "      <th>PatientGuid</th>\n",
       "      <th>TranscriptGuid</th>\n",
       "      <th>ReportYear</th>\n",
       "      <th>AncestorLabResultGuid</th>\n",
       "    </tr>\n",
       "  </thead>\n",
       "  <tbody>\n",
       "    <tr>\n",
       "      <th>0</th>\n",
       "      <td>9B66DC54-51BA-4851-BE1F-007E994839B9</td>\n",
       "      <td>ECD01885-2FB6-41D2-9220-286F67F57282</td>\n",
       "      <td>00000000-0000-0000-0000-000000000000</td>\n",
       "      <td>2011</td>\n",
       "      <td>00000000-0000-0000-0000-000000000000</td>\n",
       "    </tr>\n",
       "    <tr>\n",
       "      <th>1</th>\n",
       "      <td>E2206C79-B879-4BD7-BE8F-00A00A29751F</td>\n",
       "      <td>ED48DCBA-1B6A-4A99-B17E-15537EFB137A</td>\n",
       "      <td>00000000-0000-0000-0000-000000000000</td>\n",
       "      <td>2011</td>\n",
       "      <td>00000000-0000-0000-0000-000000000000</td>\n",
       "    </tr>\n",
       "    <tr>\n",
       "      <th>2</th>\n",
       "      <td>F7078302-BCBF-4626-B0B7-00B105577727</td>\n",
       "      <td>D6F957FF-C1F4-4B52-8481-A543C5C20E58</td>\n",
       "      <td>00000000-0000-0000-0000-000000000000</td>\n",
       "      <td>2012</td>\n",
       "      <td>00000000-0000-0000-0000-000000000000</td>\n",
       "    </tr>\n",
       "    <tr>\n",
       "      <th>3</th>\n",
       "      <td>F9099B02-ACE7-4943-A586-00D5EEBA196A</td>\n",
       "      <td>FF1059B3-2B7A-4161-AF23-C3B07FB8BB92</td>\n",
       "      <td>00000000-0000-0000-0000-000000000000</td>\n",
       "      <td>2011</td>\n",
       "      <td>00000000-0000-0000-0000-000000000000</td>\n",
       "    </tr>\n",
       "    <tr>\n",
       "      <th>4</th>\n",
       "      <td>7A8AD63C-200E-4AE5-93AE-0108498EE481</td>\n",
       "      <td>4651E19F-9DDE-4AF6-90C4-FEEDFAF10643</td>\n",
       "      <td>00000000-0000-0000-0000-000000000000</td>\n",
       "      <td>2011</td>\n",
       "      <td>00000000-0000-0000-0000-000000000000</td>\n",
       "    </tr>\n",
       "  </tbody>\n",
       "</table>\n",
       "</div>"
      ],
      "text/plain": [
       "                          LabResultGuid                           PatientGuid  \\\n",
       "0  9B66DC54-51BA-4851-BE1F-007E994839B9  ECD01885-2FB6-41D2-9220-286F67F57282   \n",
       "1  E2206C79-B879-4BD7-BE8F-00A00A29751F  ED48DCBA-1B6A-4A99-B17E-15537EFB137A   \n",
       "2  F7078302-BCBF-4626-B0B7-00B105577727  D6F957FF-C1F4-4B52-8481-A543C5C20E58   \n",
       "3  F9099B02-ACE7-4943-A586-00D5EEBA196A  FF1059B3-2B7A-4161-AF23-C3B07FB8BB92   \n",
       "4  7A8AD63C-200E-4AE5-93AE-0108498EE481  4651E19F-9DDE-4AF6-90C4-FEEDFAF10643   \n",
       "\n",
       "                         TranscriptGuid  ReportYear  \\\n",
       "0  00000000-0000-0000-0000-000000000000        2011   \n",
       "1  00000000-0000-0000-0000-000000000000        2011   \n",
       "2  00000000-0000-0000-0000-000000000000        2012   \n",
       "3  00000000-0000-0000-0000-000000000000        2011   \n",
       "4  00000000-0000-0000-0000-000000000000        2011   \n",
       "\n",
       "                  AncestorLabResultGuid  \n",
       "0  00000000-0000-0000-0000-000000000000  \n",
       "1  00000000-0000-0000-0000-000000000000  \n",
       "2  00000000-0000-0000-0000-000000000000  \n",
       "3  00000000-0000-0000-0000-000000000000  \n",
       "4  00000000-0000-0000-0000-000000000000  "
      ]
     },
     "execution_count": 66,
     "metadata": {},
     "output_type": "execute_result"
    }
   ],
   "source": [
    "keep_columns_lr = [\n",
    "    'LabResultGuid',\n",
    "    'PatientGuid',\n",
    "    'TranscriptGuid',\n",
    "    'ReportYear',\n",
    "    'AncestorLabResultGuid',\n",
    "]\n",
    "\n",
    "df_train_slr_new = df_train_slr[keep_columns_lr]\n",
    "df_train_slr_new.head()"
   ]
  },
  {
   "cell_type": "code",
   "execution_count": 67,
   "id": "bafeae0d-2d6c-4f1f-9149-0c14ce03b629",
   "metadata": {
    "tags": []
   },
   "outputs": [
    {
     "name": "stdout",
     "output_type": "stream",
     "text": [
      "Unique Lab Result Values:\n",
      "['9B66DC54-51BA-4851-BE1F-007E994839B9'\n",
      " 'E2206C79-B879-4BD7-BE8F-00A00A29751F'\n",
      " 'F7078302-BCBF-4626-B0B7-00B105577727' ...\n",
      " '4DACA8EE-FB9D-4AA4-AD15-FF211254323C'\n",
      " '59FD913A-2D24-4910-AE8F-FFC7AC6AB1A8'\n",
      " 'DA63D9B2-4B88-4912-B16A-FFD6E712CAD5']\n"
     ]
    }
   ],
   "source": [
    "unique_lr = df_train_slr_new['LabResultGuid'].unique()\n",
    "print(\"Unique Lab Result Values:\")\n",
    "print(unique_lr)"
   ]
  },
  {
   "cell_type": "code",
   "execution_count": 68,
   "id": "e7795ca2-30b3-4796-b4a1-ffb4f9ac276d",
   "metadata": {
    "tags": []
   },
   "outputs": [],
   "source": [
    "df_slr_tot = df_train_slr_new.groupby('LabResultGuid').agg(\n",
    "    MostPatientGuid=('PatientGuid', lambda x: x.mode().iloc[0] if not x.mode().empty else None),\n",
    "    MostReportYear=('ReportYear', lambda x: x.mode().iloc[0] if not x.mode().empty else None),\n",
    "    MostAncestorLabResultGuid=('AncestorLabResultGuid', lambda x: x.mode().iloc[0] if not x.mode().empty else None),\n",
    ").reset_index()"
   ]
  },
  {
   "cell_type": "code",
   "execution_count": 69,
   "id": "999fc4ae-7362-48b5-bb68-d38dc93fba17",
   "metadata": {
    "tags": []
   },
   "outputs": [
    {
     "data": {
      "text/plain": [
       "(1952, 5)"
      ]
     },
     "execution_count": 69,
     "metadata": {},
     "output_type": "execute_result"
    }
   ],
   "source": [
    "df_train_slr_new.shape"
   ]
  },
  {
   "cell_type": "code",
   "execution_count": 70,
   "id": "71e07c8b-026c-42a1-a271-5b72993f0349",
   "metadata": {
    "tags": []
   },
   "outputs": [
    {
     "data": {
      "text/plain": [
       "(1952, 4)"
      ]
     },
     "execution_count": 70,
     "metadata": {},
     "output_type": "execute_result"
    }
   ],
   "source": [
    "df_slr_tot.shape"
   ]
  },
  {
   "cell_type": "markdown",
   "id": "a0269ef3-dfb9-4439-90b3-f35da37e36ac",
   "metadata": {},
   "source": [
    "#### **Merging Lab Observation & Panel & Result**"
   ]
  },
  {
   "cell_type": "code",
   "execution_count": 71,
   "id": "65c4a60c-5c62-4525-baed-155e59252219",
   "metadata": {
    "tags": []
   },
   "outputs": [],
   "source": [
    "df_lo_lp_lr = df_lo_lp.merge(df_slr_tot, how='left',left_on='MostLabResultGuid', right_on='LabResultGuid')"
   ]
  },
  {
   "cell_type": "code",
   "execution_count": 72,
   "id": "bc85ab63-3c1d-4f4d-98dc-e4c2a7344984",
   "metadata": {
    "tags": []
   },
   "outputs": [
    {
     "data": {
      "text/plain": [
       "(6579, 14)"
      ]
     },
     "execution_count": 72,
     "metadata": {},
     "output_type": "execute_result"
    }
   ],
   "source": [
    "df_lo_lp_lr.shape"
   ]
  },
  {
   "cell_type": "code",
   "execution_count": 73,
   "id": "27d349eb-5996-4d04-ac69-3c5e0e496dd2",
   "metadata": {
    "tags": []
   },
   "outputs": [],
   "source": [
    "df_lo_lp_lr.rename(columns={'MostPatientGuid': 'PatientGuid'}, inplace=True)"
   ]
  },
  {
   "cell_type": "code",
   "execution_count": 74,
   "id": "621918de-051b-4ad5-af03-6324e3f8a4fe",
   "metadata": {
    "tags": []
   },
   "outputs": [
    {
     "name": "stderr",
     "output_type": "stream",
     "text": [
      "C:\\Users\\svkar\\AppData\\Local\\Temp\\ipykernel_824\\3484641597.py:4: UserWarning: Unable to sort modes: '<' not supported between instances of 'str' and 'int'\n",
      "  MostHL7Identifier=('MostHL7Identifier', lambda x: x.mode().iloc[0] if not x.mode().empty else None),\n",
      "C:\\Users\\svkar\\AppData\\Local\\Temp\\ipykernel_824\\3484641597.py:4: UserWarning: Unable to sort modes: '<' not supported between instances of 'str' and 'int'\n",
      "  MostHL7Identifier=('MostHL7Identifier', lambda x: x.mode().iloc[0] if not x.mode().empty else None),\n",
      "C:\\Users\\svkar\\AppData\\Local\\Temp\\ipykernel_824\\3484641597.py:4: UserWarning: Unable to sort modes: '<' not supported between instances of 'int' and 'str'\n",
      "  MostHL7Identifier=('MostHL7Identifier', lambda x: x.mode().iloc[0] if not x.mode().empty else None),\n",
      "C:\\Users\\svkar\\AppData\\Local\\Temp\\ipykernel_824\\3484641597.py:4: UserWarning: Unable to sort modes: '<' not supported between instances of 'int' and 'str'\n",
      "  MostHL7Identifier=('MostHL7Identifier', lambda x: x.mode().iloc[0] if not x.mode().empty else None),\n",
      "C:\\Users\\svkar\\AppData\\Local\\Temp\\ipykernel_824\\3484641597.py:4: UserWarning: Unable to sort modes: '<' not supported between instances of 'int' and 'str'\n",
      "  MostHL7Identifier=('MostHL7Identifier', lambda x: x.mode().iloc[0] if not x.mode().empty else None),\n",
      "C:\\Users\\svkar\\AppData\\Local\\Temp\\ipykernel_824\\3484641597.py:4: UserWarning: Unable to sort modes: '<' not supported between instances of 'int' and 'str'\n",
      "  MostHL7Identifier=('MostHL7Identifier', lambda x: x.mode().iloc[0] if not x.mode().empty else None),\n",
      "C:\\Users\\svkar\\AppData\\Local\\Temp\\ipykernel_824\\3484641597.py:4: UserWarning: Unable to sort modes: '<' not supported between instances of 'str' and 'int'\n",
      "  MostHL7Identifier=('MostHL7Identifier', lambda x: x.mode().iloc[0] if not x.mode().empty else None),\n",
      "C:\\Users\\svkar\\AppData\\Local\\Temp\\ipykernel_824\\3484641597.py:4: UserWarning: Unable to sort modes: '<' not supported between instances of 'str' and 'int'\n",
      "  MostHL7Identifier=('MostHL7Identifier', lambda x: x.mode().iloc[0] if not x.mode().empty else None),\n",
      "C:\\Users\\svkar\\AppData\\Local\\Temp\\ipykernel_824\\3484641597.py:4: UserWarning: Unable to sort modes: '<' not supported between instances of 'int' and 'str'\n",
      "  MostHL7Identifier=('MostHL7Identifier', lambda x: x.mode().iloc[0] if not x.mode().empty else None),\n",
      "C:\\Users\\svkar\\AppData\\Local\\Temp\\ipykernel_824\\3484641597.py:4: UserWarning: Unable to sort modes: '<' not supported between instances of 'int' and 'str'\n",
      "  MostHL7Identifier=('MostHL7Identifier', lambda x: x.mode().iloc[0] if not x.mode().empty else None),\n",
      "C:\\Users\\svkar\\AppData\\Local\\Temp\\ipykernel_824\\3484641597.py:4: UserWarning: Unable to sort modes: '<' not supported between instances of 'str' and 'int'\n",
      "  MostHL7Identifier=('MostHL7Identifier', lambda x: x.mode().iloc[0] if not x.mode().empty else None),\n",
      "C:\\Users\\svkar\\AppData\\Local\\Temp\\ipykernel_824\\3484641597.py:4: UserWarning: Unable to sort modes: '<' not supported between instances of 'str' and 'int'\n",
      "  MostHL7Identifier=('MostHL7Identifier', lambda x: x.mode().iloc[0] if not x.mode().empty else None),\n",
      "C:\\Users\\svkar\\AppData\\Local\\Temp\\ipykernel_824\\3484641597.py:4: UserWarning: Unable to sort modes: '<' not supported between instances of 'int' and 'str'\n",
      "  MostHL7Identifier=('MostHL7Identifier', lambda x: x.mode().iloc[0] if not x.mode().empty else None),\n",
      "C:\\Users\\svkar\\AppData\\Local\\Temp\\ipykernel_824\\3484641597.py:4: UserWarning: Unable to sort modes: '<' not supported between instances of 'int' and 'str'\n",
      "  MostHL7Identifier=('MostHL7Identifier', lambda x: x.mode().iloc[0] if not x.mode().empty else None),\n",
      "C:\\Users\\svkar\\AppData\\Local\\Temp\\ipykernel_824\\3484641597.py:4: UserWarning: Unable to sort modes: '<' not supported between instances of 'str' and 'int'\n",
      "  MostHL7Identifier=('MostHL7Identifier', lambda x: x.mode().iloc[0] if not x.mode().empty else None),\n",
      "C:\\Users\\svkar\\AppData\\Local\\Temp\\ipykernel_824\\3484641597.py:4: UserWarning: Unable to sort modes: '<' not supported between instances of 'str' and 'int'\n",
      "  MostHL7Identifier=('MostHL7Identifier', lambda x: x.mode().iloc[0] if not x.mode().empty else None),\n",
      "C:\\Users\\svkar\\AppData\\Local\\Temp\\ipykernel_824\\3484641597.py:4: UserWarning: Unable to sort modes: '<' not supported between instances of 'int' and 'str'\n",
      "  MostHL7Identifier=('MostHL7Identifier', lambda x: x.mode().iloc[0] if not x.mode().empty else None),\n",
      "C:\\Users\\svkar\\AppData\\Local\\Temp\\ipykernel_824\\3484641597.py:4: UserWarning: Unable to sort modes: '<' not supported between instances of 'int' and 'str'\n",
      "  MostHL7Identifier=('MostHL7Identifier', lambda x: x.mode().iloc[0] if not x.mode().empty else None),\n",
      "C:\\Users\\svkar\\AppData\\Local\\Temp\\ipykernel_824\\3484641597.py:4: UserWarning: Unable to sort modes: '<' not supported between instances of 'str' and 'int'\n",
      "  MostHL7Identifier=('MostHL7Identifier', lambda x: x.mode().iloc[0] if not x.mode().empty else None),\n",
      "C:\\Users\\svkar\\AppData\\Local\\Temp\\ipykernel_824\\3484641597.py:4: UserWarning: Unable to sort modes: '<' not supported between instances of 'str' and 'int'\n",
      "  MostHL7Identifier=('MostHL7Identifier', lambda x: x.mode().iloc[0] if not x.mode().empty else None),\n",
      "C:\\Users\\svkar\\AppData\\Local\\Temp\\ipykernel_824\\3484641597.py:4: UserWarning: Unable to sort modes: '<' not supported between instances of 'str' and 'int'\n",
      "  MostHL7Identifier=('MostHL7Identifier', lambda x: x.mode().iloc[0] if not x.mode().empty else None),\n",
      "C:\\Users\\svkar\\AppData\\Local\\Temp\\ipykernel_824\\3484641597.py:4: UserWarning: Unable to sort modes: '<' not supported between instances of 'str' and 'int'\n",
      "  MostHL7Identifier=('MostHL7Identifier', lambda x: x.mode().iloc[0] if not x.mode().empty else None),\n",
      "C:\\Users\\svkar\\AppData\\Local\\Temp\\ipykernel_824\\3484641597.py:4: UserWarning: Unable to sort modes: '<' not supported between instances of 'str' and 'int'\n",
      "  MostHL7Identifier=('MostHL7Identifier', lambda x: x.mode().iloc[0] if not x.mode().empty else None),\n",
      "C:\\Users\\svkar\\AppData\\Local\\Temp\\ipykernel_824\\3484641597.py:4: UserWarning: Unable to sort modes: '<' not supported between instances of 'str' and 'int'\n",
      "  MostHL7Identifier=('MostHL7Identifier', lambda x: x.mode().iloc[0] if not x.mode().empty else None),\n",
      "C:\\Users\\svkar\\AppData\\Local\\Temp\\ipykernel_824\\3484641597.py:4: UserWarning: Unable to sort modes: '<' not supported between instances of 'int' and 'str'\n",
      "  MostHL7Identifier=('MostHL7Identifier', lambda x: x.mode().iloc[0] if not x.mode().empty else None),\n",
      "C:\\Users\\svkar\\AppData\\Local\\Temp\\ipykernel_824\\3484641597.py:4: UserWarning: Unable to sort modes: '<' not supported between instances of 'int' and 'str'\n",
      "  MostHL7Identifier=('MostHL7Identifier', lambda x: x.mode().iloc[0] if not x.mode().empty else None),\n",
      "C:\\Users\\svkar\\AppData\\Local\\Temp\\ipykernel_824\\3484641597.py:4: UserWarning: Unable to sort modes: '<' not supported between instances of 'int' and 'str'\n",
      "  MostHL7Identifier=('MostHL7Identifier', lambda x: x.mode().iloc[0] if not x.mode().empty else None),\n",
      "C:\\Users\\svkar\\AppData\\Local\\Temp\\ipykernel_824\\3484641597.py:4: UserWarning: Unable to sort modes: '<' not supported between instances of 'int' and 'str'\n",
      "  MostHL7Identifier=('MostHL7Identifier', lambda x: x.mode().iloc[0] if not x.mode().empty else None),\n",
      "C:\\Users\\svkar\\AppData\\Local\\Temp\\ipykernel_824\\3484641597.py:4: UserWarning: Unable to sort modes: '<' not supported between instances of 'str' and 'int'\n",
      "  MostHL7Identifier=('MostHL7Identifier', lambda x: x.mode().iloc[0] if not x.mode().empty else None),\n",
      "C:\\Users\\svkar\\AppData\\Local\\Temp\\ipykernel_824\\3484641597.py:4: UserWarning: Unable to sort modes: '<' not supported between instances of 'str' and 'int'\n",
      "  MostHL7Identifier=('MostHL7Identifier', lambda x: x.mode().iloc[0] if not x.mode().empty else None),\n",
      "C:\\Users\\svkar\\AppData\\Local\\Temp\\ipykernel_824\\3484641597.py:4: UserWarning: Unable to sort modes: '<' not supported between instances of 'int' and 'str'\n",
      "  MostHL7Identifier=('MostHL7Identifier', lambda x: x.mode().iloc[0] if not x.mode().empty else None),\n",
      "C:\\Users\\svkar\\AppData\\Local\\Temp\\ipykernel_824\\3484641597.py:4: UserWarning: Unable to sort modes: '<' not supported between instances of 'int' and 'str'\n",
      "  MostHL7Identifier=('MostHL7Identifier', lambda x: x.mode().iloc[0] if not x.mode().empty else None),\n",
      "C:\\Users\\svkar\\AppData\\Local\\Temp\\ipykernel_824\\3484641597.py:4: UserWarning: Unable to sort modes: '<' not supported between instances of 'int' and 'str'\n",
      "  MostHL7Identifier=('MostHL7Identifier', lambda x: x.mode().iloc[0] if not x.mode().empty else None),\n",
      "C:\\Users\\svkar\\AppData\\Local\\Temp\\ipykernel_824\\3484641597.py:4: UserWarning: Unable to sort modes: '<' not supported between instances of 'int' and 'str'\n",
      "  MostHL7Identifier=('MostHL7Identifier', lambda x: x.mode().iloc[0] if not x.mode().empty else None),\n",
      "C:\\Users\\svkar\\AppData\\Local\\Temp\\ipykernel_824\\3484641597.py:4: UserWarning: Unable to sort modes: '<' not supported between instances of 'str' and 'int'\n",
      "  MostHL7Identifier=('MostHL7Identifier', lambda x: x.mode().iloc[0] if not x.mode().empty else None),\n",
      "C:\\Users\\svkar\\AppData\\Local\\Temp\\ipykernel_824\\3484641597.py:4: UserWarning: Unable to sort modes: '<' not supported between instances of 'str' and 'int'\n",
      "  MostHL7Identifier=('MostHL7Identifier', lambda x: x.mode().iloc[0] if not x.mode().empty else None),\n",
      "C:\\Users\\svkar\\AppData\\Local\\Temp\\ipykernel_824\\3484641597.py:4: UserWarning: Unable to sort modes: '<' not supported between instances of 'int' and 'str'\n",
      "  MostHL7Identifier=('MostHL7Identifier', lambda x: x.mode().iloc[0] if not x.mode().empty else None),\n",
      "C:\\Users\\svkar\\AppData\\Local\\Temp\\ipykernel_824\\3484641597.py:4: UserWarning: Unable to sort modes: '<' not supported between instances of 'int' and 'str'\n",
      "  MostHL7Identifier=('MostHL7Identifier', lambda x: x.mode().iloc[0] if not x.mode().empty else None),\n",
      "C:\\Users\\svkar\\AppData\\Local\\Temp\\ipykernel_824\\3484641597.py:4: UserWarning: Unable to sort modes: '<' not supported between instances of 'int' and 'str'\n",
      "  MostHL7Identifier=('MostHL7Identifier', lambda x: x.mode().iloc[0] if not x.mode().empty else None),\n",
      "C:\\Users\\svkar\\AppData\\Local\\Temp\\ipykernel_824\\3484641597.py:4: UserWarning: Unable to sort modes: '<' not supported between instances of 'int' and 'str'\n",
      "  MostHL7Identifier=('MostHL7Identifier', lambda x: x.mode().iloc[0] if not x.mode().empty else None),\n",
      "C:\\Users\\svkar\\AppData\\Local\\Temp\\ipykernel_824\\3484641597.py:4: UserWarning: Unable to sort modes: '<' not supported between instances of 'str' and 'int'\n",
      "  MostHL7Identifier=('MostHL7Identifier', lambda x: x.mode().iloc[0] if not x.mode().empty else None),\n",
      "C:\\Users\\svkar\\AppData\\Local\\Temp\\ipykernel_824\\3484641597.py:4: UserWarning: Unable to sort modes: '<' not supported between instances of 'str' and 'int'\n",
      "  MostHL7Identifier=('MostHL7Identifier', lambda x: x.mode().iloc[0] if not x.mode().empty else None),\n",
      "C:\\Users\\svkar\\AppData\\Local\\Temp\\ipykernel_824\\3484641597.py:4: UserWarning: Unable to sort modes: '<' not supported between instances of 'str' and 'int'\n",
      "  MostHL7Identifier=('MostHL7Identifier', lambda x: x.mode().iloc[0] if not x.mode().empty else None),\n",
      "C:\\Users\\svkar\\AppData\\Local\\Temp\\ipykernel_824\\3484641597.py:4: UserWarning: Unable to sort modes: '<' not supported between instances of 'str' and 'int'\n",
      "  MostHL7Identifier=('MostHL7Identifier', lambda x: x.mode().iloc[0] if not x.mode().empty else None),\n",
      "C:\\Users\\svkar\\AppData\\Local\\Temp\\ipykernel_824\\3484641597.py:4: UserWarning: Unable to sort modes: '<' not supported between instances of 'int' and 'str'\n",
      "  MostHL7Identifier=('MostHL7Identifier', lambda x: x.mode().iloc[0] if not x.mode().empty else None),\n",
      "C:\\Users\\svkar\\AppData\\Local\\Temp\\ipykernel_824\\3484641597.py:4: UserWarning: Unable to sort modes: '<' not supported between instances of 'int' and 'str'\n",
      "  MostHL7Identifier=('MostHL7Identifier', lambda x: x.mode().iloc[0] if not x.mode().empty else None),\n",
      "C:\\Users\\svkar\\AppData\\Local\\Temp\\ipykernel_824\\3484641597.py:4: UserWarning: Unable to sort modes: '<' not supported between instances of 'str' and 'int'\n",
      "  MostHL7Identifier=('MostHL7Identifier', lambda x: x.mode().iloc[0] if not x.mode().empty else None),\n",
      "C:\\Users\\svkar\\AppData\\Local\\Temp\\ipykernel_824\\3484641597.py:4: UserWarning: Unable to sort modes: '<' not supported between instances of 'str' and 'int'\n",
      "  MostHL7Identifier=('MostHL7Identifier', lambda x: x.mode().iloc[0] if not x.mode().empty else None),\n",
      "C:\\Users\\svkar\\AppData\\Local\\Temp\\ipykernel_824\\3484641597.py:4: UserWarning: Unable to sort modes: '<' not supported between instances of 'int' and 'str'\n",
      "  MostHL7Identifier=('MostHL7Identifier', lambda x: x.mode().iloc[0] if not x.mode().empty else None),\n",
      "C:\\Users\\svkar\\AppData\\Local\\Temp\\ipykernel_824\\3484641597.py:4: UserWarning: Unable to sort modes: '<' not supported between instances of 'int' and 'str'\n",
      "  MostHL7Identifier=('MostHL7Identifier', lambda x: x.mode().iloc[0] if not x.mode().empty else None),\n",
      "C:\\Users\\svkar\\AppData\\Local\\Temp\\ipykernel_824\\3484641597.py:4: UserWarning: Unable to sort modes: '<' not supported between instances of 'int' and 'str'\n",
      "  MostHL7Identifier=('MostHL7Identifier', lambda x: x.mode().iloc[0] if not x.mode().empty else None),\n",
      "C:\\Users\\svkar\\AppData\\Local\\Temp\\ipykernel_824\\3484641597.py:4: UserWarning: Unable to sort modes: '<' not supported between instances of 'int' and 'str'\n",
      "  MostHL7Identifier=('MostHL7Identifier', lambda x: x.mode().iloc[0] if not x.mode().empty else None),\n",
      "C:\\Users\\svkar\\AppData\\Local\\Temp\\ipykernel_824\\3484641597.py:4: UserWarning: Unable to sort modes: '<' not supported between instances of 'int' and 'str'\n",
      "  MostHL7Identifier=('MostHL7Identifier', lambda x: x.mode().iloc[0] if not x.mode().empty else None),\n",
      "C:\\Users\\svkar\\AppData\\Local\\Temp\\ipykernel_824\\3484641597.py:4: UserWarning: Unable to sort modes: '<' not supported between instances of 'int' and 'str'\n",
      "  MostHL7Identifier=('MostHL7Identifier', lambda x: x.mode().iloc[0] if not x.mode().empty else None),\n",
      "C:\\Users\\svkar\\AppData\\Local\\Temp\\ipykernel_824\\3484641597.py:4: UserWarning: Unable to sort modes: '<' not supported between instances of 'str' and 'int'\n",
      "  MostHL7Identifier=('MostHL7Identifier', lambda x: x.mode().iloc[0] if not x.mode().empty else None),\n",
      "C:\\Users\\svkar\\AppData\\Local\\Temp\\ipykernel_824\\3484641597.py:4: UserWarning: Unable to sort modes: '<' not supported between instances of 'str' and 'int'\n",
      "  MostHL7Identifier=('MostHL7Identifier', lambda x: x.mode().iloc[0] if not x.mode().empty else None),\n",
      "C:\\Users\\svkar\\AppData\\Local\\Temp\\ipykernel_824\\3484641597.py:4: UserWarning: Unable to sort modes: '<' not supported between instances of 'str' and 'int'\n",
      "  MostHL7Identifier=('MostHL7Identifier', lambda x: x.mode().iloc[0] if not x.mode().empty else None),\n",
      "C:\\Users\\svkar\\AppData\\Local\\Temp\\ipykernel_824\\3484641597.py:4: UserWarning: Unable to sort modes: '<' not supported between instances of 'str' and 'int'\n",
      "  MostHL7Identifier=('MostHL7Identifier', lambda x: x.mode().iloc[0] if not x.mode().empty else None),\n",
      "C:\\Users\\svkar\\AppData\\Local\\Temp\\ipykernel_824\\3484641597.py:4: UserWarning: Unable to sort modes: '<' not supported between instances of 'int' and 'str'\n",
      "  MostHL7Identifier=('MostHL7Identifier', lambda x: x.mode().iloc[0] if not x.mode().empty else None),\n",
      "C:\\Users\\svkar\\AppData\\Local\\Temp\\ipykernel_824\\3484641597.py:4: UserWarning: Unable to sort modes: '<' not supported between instances of 'int' and 'str'\n",
      "  MostHL7Identifier=('MostHL7Identifier', lambda x: x.mode().iloc[0] if not x.mode().empty else None),\n",
      "C:\\Users\\svkar\\AppData\\Local\\Temp\\ipykernel_824\\3484641597.py:4: UserWarning: Unable to sort modes: '<' not supported between instances of 'str' and 'int'\n",
      "  MostHL7Identifier=('MostHL7Identifier', lambda x: x.mode().iloc[0] if not x.mode().empty else None),\n",
      "C:\\Users\\svkar\\AppData\\Local\\Temp\\ipykernel_824\\3484641597.py:4: UserWarning: Unable to sort modes: '<' not supported between instances of 'str' and 'int'\n",
      "  MostHL7Identifier=('MostHL7Identifier', lambda x: x.mode().iloc[0] if not x.mode().empty else None),\n",
      "C:\\Users\\svkar\\AppData\\Local\\Temp\\ipykernel_824\\3484641597.py:4: UserWarning: Unable to sort modes: '<' not supported between instances of 'int' and 'str'\n",
      "  MostHL7Identifier=('MostHL7Identifier', lambda x: x.mode().iloc[0] if not x.mode().empty else None),\n",
      "C:\\Users\\svkar\\AppData\\Local\\Temp\\ipykernel_824\\3484641597.py:4: UserWarning: Unable to sort modes: '<' not supported between instances of 'int' and 'str'\n",
      "  MostHL7Identifier=('MostHL7Identifier', lambda x: x.mode().iloc[0] if not x.mode().empty else None),\n",
      "C:\\Users\\svkar\\AppData\\Local\\Temp\\ipykernel_824\\3484641597.py:4: UserWarning: Unable to sort modes: '<' not supported between instances of 'int' and 'str'\n",
      "  MostHL7Identifier=('MostHL7Identifier', lambda x: x.mode().iloc[0] if not x.mode().empty else None),\n",
      "C:\\Users\\svkar\\AppData\\Local\\Temp\\ipykernel_824\\3484641597.py:4: UserWarning: Unable to sort modes: '<' not supported between instances of 'int' and 'str'\n",
      "  MostHL7Identifier=('MostHL7Identifier', lambda x: x.mode().iloc[0] if not x.mode().empty else None),\n",
      "C:\\Users\\svkar\\AppData\\Local\\Temp\\ipykernel_824\\3484641597.py:4: UserWarning: Unable to sort modes: '<' not supported between instances of 'str' and 'int'\n",
      "  MostHL7Identifier=('MostHL7Identifier', lambda x: x.mode().iloc[0] if not x.mode().empty else None),\n",
      "C:\\Users\\svkar\\AppData\\Local\\Temp\\ipykernel_824\\3484641597.py:4: UserWarning: Unable to sort modes: '<' not supported between instances of 'str' and 'int'\n",
      "  MostHL7Identifier=('MostHL7Identifier', lambda x: x.mode().iloc[0] if not x.mode().empty else None),\n",
      "C:\\Users\\svkar\\AppData\\Local\\Temp\\ipykernel_824\\3484641597.py:4: UserWarning: Unable to sort modes: '<' not supported between instances of 'int' and 'str'\n",
      "  MostHL7Identifier=('MostHL7Identifier', lambda x: x.mode().iloc[0] if not x.mode().empty else None),\n",
      "C:\\Users\\svkar\\AppData\\Local\\Temp\\ipykernel_824\\3484641597.py:4: UserWarning: Unable to sort modes: '<' not supported between instances of 'int' and 'str'\n",
      "  MostHL7Identifier=('MostHL7Identifier', lambda x: x.mode().iloc[0] if not x.mode().empty else None),\n",
      "C:\\Users\\svkar\\AppData\\Local\\Temp\\ipykernel_824\\3484641597.py:4: UserWarning: Unable to sort modes: '<' not supported between instances of 'int' and 'str'\n",
      "  MostHL7Identifier=('MostHL7Identifier', lambda x: x.mode().iloc[0] if not x.mode().empty else None),\n",
      "C:\\Users\\svkar\\AppData\\Local\\Temp\\ipykernel_824\\3484641597.py:4: UserWarning: Unable to sort modes: '<' not supported between instances of 'int' and 'str'\n",
      "  MostHL7Identifier=('MostHL7Identifier', lambda x: x.mode().iloc[0] if not x.mode().empty else None),\n",
      "C:\\Users\\svkar\\AppData\\Local\\Temp\\ipykernel_824\\3484641597.py:4: UserWarning: Unable to sort modes: '<' not supported between instances of 'int' and 'str'\n",
      "  MostHL7Identifier=('MostHL7Identifier', lambda x: x.mode().iloc[0] if not x.mode().empty else None),\n",
      "C:\\Users\\svkar\\AppData\\Local\\Temp\\ipykernel_824\\3484641597.py:4: UserWarning: Unable to sort modes: '<' not supported between instances of 'int' and 'str'\n",
      "  MostHL7Identifier=('MostHL7Identifier', lambda x: x.mode().iloc[0] if not x.mode().empty else None),\n",
      "C:\\Users\\svkar\\AppData\\Local\\Temp\\ipykernel_824\\3484641597.py:4: UserWarning: Unable to sort modes: '<' not supported between instances of 'int' and 'str'\n",
      "  MostHL7Identifier=('MostHL7Identifier', lambda x: x.mode().iloc[0] if not x.mode().empty else None),\n",
      "C:\\Users\\svkar\\AppData\\Local\\Temp\\ipykernel_824\\3484641597.py:4: UserWarning: Unable to sort modes: '<' not supported between instances of 'int' and 'str'\n",
      "  MostHL7Identifier=('MostHL7Identifier', lambda x: x.mode().iloc[0] if not x.mode().empty else None),\n",
      "C:\\Users\\svkar\\AppData\\Local\\Temp\\ipykernel_824\\3484641597.py:4: UserWarning: Unable to sort modes: '<' not supported between instances of 'int' and 'str'\n",
      "  MostHL7Identifier=('MostHL7Identifier', lambda x: x.mode().iloc[0] if not x.mode().empty else None),\n",
      "C:\\Users\\svkar\\AppData\\Local\\Temp\\ipykernel_824\\3484641597.py:4: UserWarning: Unable to sort modes: '<' not supported between instances of 'int' and 'str'\n",
      "  MostHL7Identifier=('MostHL7Identifier', lambda x: x.mode().iloc[0] if not x.mode().empty else None),\n",
      "C:\\Users\\svkar\\AppData\\Local\\Temp\\ipykernel_824\\3484641597.py:4: UserWarning: Unable to sort modes: '<' not supported between instances of 'str' and 'int'\n",
      "  MostHL7Identifier=('MostHL7Identifier', lambda x: x.mode().iloc[0] if not x.mode().empty else None),\n",
      "C:\\Users\\svkar\\AppData\\Local\\Temp\\ipykernel_824\\3484641597.py:4: UserWarning: Unable to sort modes: '<' not supported between instances of 'str' and 'int'\n",
      "  MostHL7Identifier=('MostHL7Identifier', lambda x: x.mode().iloc[0] if not x.mode().empty else None),\n",
      "C:\\Users\\svkar\\AppData\\Local\\Temp\\ipykernel_824\\3484641597.py:4: UserWarning: Unable to sort modes: '<' not supported between instances of 'int' and 'str'\n",
      "  MostHL7Identifier=('MostHL7Identifier', lambda x: x.mode().iloc[0] if not x.mode().empty else None),\n",
      "C:\\Users\\svkar\\AppData\\Local\\Temp\\ipykernel_824\\3484641597.py:4: UserWarning: Unable to sort modes: '<' not supported between instances of 'int' and 'str'\n",
      "  MostHL7Identifier=('MostHL7Identifier', lambda x: x.mode().iloc[0] if not x.mode().empty else None),\n",
      "C:\\Users\\svkar\\AppData\\Local\\Temp\\ipykernel_824\\3484641597.py:4: UserWarning: Unable to sort modes: '<' not supported between instances of 'int' and 'str'\n",
      "  MostHL7Identifier=('MostHL7Identifier', lambda x: x.mode().iloc[0] if not x.mode().empty else None),\n",
      "C:\\Users\\svkar\\AppData\\Local\\Temp\\ipykernel_824\\3484641597.py:4: UserWarning: Unable to sort modes: '<' not supported between instances of 'int' and 'str'\n",
      "  MostHL7Identifier=('MostHL7Identifier', lambda x: x.mode().iloc[0] if not x.mode().empty else None),\n",
      "C:\\Users\\svkar\\AppData\\Local\\Temp\\ipykernel_824\\3484641597.py:4: UserWarning: Unable to sort modes: '<' not supported between instances of 'int' and 'str'\n",
      "  MostHL7Identifier=('MostHL7Identifier', lambda x: x.mode().iloc[0] if not x.mode().empty else None),\n",
      "C:\\Users\\svkar\\AppData\\Local\\Temp\\ipykernel_824\\3484641597.py:4: UserWarning: Unable to sort modes: '<' not supported between instances of 'int' and 'str'\n",
      "  MostHL7Identifier=('MostHL7Identifier', lambda x: x.mode().iloc[0] if not x.mode().empty else None),\n",
      "C:\\Users\\svkar\\AppData\\Local\\Temp\\ipykernel_824\\3484641597.py:4: UserWarning: Unable to sort modes: '<' not supported between instances of 'int' and 'str'\n",
      "  MostHL7Identifier=('MostHL7Identifier', lambda x: x.mode().iloc[0] if not x.mode().empty else None),\n",
      "C:\\Users\\svkar\\AppData\\Local\\Temp\\ipykernel_824\\3484641597.py:4: UserWarning: Unable to sort modes: '<' not supported between instances of 'int' and 'str'\n",
      "  MostHL7Identifier=('MostHL7Identifier', lambda x: x.mode().iloc[0] if not x.mode().empty else None),\n",
      "C:\\Users\\svkar\\AppData\\Local\\Temp\\ipykernel_824\\3484641597.py:4: UserWarning: Unable to sort modes: '<' not supported between instances of 'str' and 'int'\n",
      "  MostHL7Identifier=('MostHL7Identifier', lambda x: x.mode().iloc[0] if not x.mode().empty else None),\n",
      "C:\\Users\\svkar\\AppData\\Local\\Temp\\ipykernel_824\\3484641597.py:4: UserWarning: Unable to sort modes: '<' not supported between instances of 'str' and 'int'\n",
      "  MostHL7Identifier=('MostHL7Identifier', lambda x: x.mode().iloc[0] if not x.mode().empty else None),\n",
      "C:\\Users\\svkar\\AppData\\Local\\Temp\\ipykernel_824\\3484641597.py:4: UserWarning: Unable to sort modes: '<' not supported between instances of 'int' and 'str'\n",
      "  MostHL7Identifier=('MostHL7Identifier', lambda x: x.mode().iloc[0] if not x.mode().empty else None),\n",
      "C:\\Users\\svkar\\AppData\\Local\\Temp\\ipykernel_824\\3484641597.py:4: UserWarning: Unable to sort modes: '<' not supported between instances of 'int' and 'str'\n",
      "  MostHL7Identifier=('MostHL7Identifier', lambda x: x.mode().iloc[0] if not x.mode().empty else None),\n",
      "C:\\Users\\svkar\\AppData\\Local\\Temp\\ipykernel_824\\3484641597.py:4: UserWarning: Unable to sort modes: '<' not supported between instances of 'int' and 'str'\n",
      "  MostHL7Identifier=('MostHL7Identifier', lambda x: x.mode().iloc[0] if not x.mode().empty else None),\n",
      "C:\\Users\\svkar\\AppData\\Local\\Temp\\ipykernel_824\\3484641597.py:4: UserWarning: Unable to sort modes: '<' not supported between instances of 'int' and 'str'\n",
      "  MostHL7Identifier=('MostHL7Identifier', lambda x: x.mode().iloc[0] if not x.mode().empty else None),\n",
      "C:\\Users\\svkar\\AppData\\Local\\Temp\\ipykernel_824\\3484641597.py:4: UserWarning: Unable to sort modes: '<' not supported between instances of 'int' and 'str'\n",
      "  MostHL7Identifier=('MostHL7Identifier', lambda x: x.mode().iloc[0] if not x.mode().empty else None),\n",
      "C:\\Users\\svkar\\AppData\\Local\\Temp\\ipykernel_824\\3484641597.py:4: UserWarning: Unable to sort modes: '<' not supported between instances of 'int' and 'str'\n",
      "  MostHL7Identifier=('MostHL7Identifier', lambda x: x.mode().iloc[0] if not x.mode().empty else None),\n",
      "C:\\Users\\svkar\\AppData\\Local\\Temp\\ipykernel_824\\3484641597.py:4: UserWarning: Unable to sort modes: '<' not supported between instances of 'int' and 'str'\n",
      "  MostHL7Identifier=('MostHL7Identifier', lambda x: x.mode().iloc[0] if not x.mode().empty else None),\n",
      "C:\\Users\\svkar\\AppData\\Local\\Temp\\ipykernel_824\\3484641597.py:4: UserWarning: Unable to sort modes: '<' not supported between instances of 'int' and 'str'\n",
      "  MostHL7Identifier=('MostHL7Identifier', lambda x: x.mode().iloc[0] if not x.mode().empty else None),\n",
      "C:\\Users\\svkar\\AppData\\Local\\Temp\\ipykernel_824\\3484641597.py:4: UserWarning: Unable to sort modes: '<' not supported between instances of 'int' and 'str'\n",
      "  MostHL7Identifier=('MostHL7Identifier', lambda x: x.mode().iloc[0] if not x.mode().empty else None),\n",
      "C:\\Users\\svkar\\AppData\\Local\\Temp\\ipykernel_824\\3484641597.py:4: UserWarning: Unable to sort modes: '<' not supported between instances of 'int' and 'str'\n",
      "  MostHL7Identifier=('MostHL7Identifier', lambda x: x.mode().iloc[0] if not x.mode().empty else None),\n",
      "C:\\Users\\svkar\\AppData\\Local\\Temp\\ipykernel_824\\3484641597.py:4: UserWarning: Unable to sort modes: '<' not supported between instances of 'int' and 'str'\n",
      "  MostHL7Identifier=('MostHL7Identifier', lambda x: x.mode().iloc[0] if not x.mode().empty else None),\n",
      "C:\\Users\\svkar\\AppData\\Local\\Temp\\ipykernel_824\\3484641597.py:4: UserWarning: Unable to sort modes: '<' not supported between instances of 'int' and 'str'\n",
      "  MostHL7Identifier=('MostHL7Identifier', lambda x: x.mode().iloc[0] if not x.mode().empty else None),\n",
      "C:\\Users\\svkar\\AppData\\Local\\Temp\\ipykernel_824\\3484641597.py:4: UserWarning: Unable to sort modes: '<' not supported between instances of 'int' and 'str'\n",
      "  MostHL7Identifier=('MostHL7Identifier', lambda x: x.mode().iloc[0] if not x.mode().empty else None),\n",
      "C:\\Users\\svkar\\AppData\\Local\\Temp\\ipykernel_824\\3484641597.py:4: UserWarning: Unable to sort modes: '<' not supported between instances of 'int' and 'str'\n",
      "  MostHL7Identifier=('MostHL7Identifier', lambda x: x.mode().iloc[0] if not x.mode().empty else None),\n",
      "C:\\Users\\svkar\\AppData\\Local\\Temp\\ipykernel_824\\3484641597.py:4: UserWarning: Unable to sort modes: '<' not supported between instances of 'int' and 'str'\n",
      "  MostHL7Identifier=('MostHL7Identifier', lambda x: x.mode().iloc[0] if not x.mode().empty else None),\n",
      "C:\\Users\\svkar\\AppData\\Local\\Temp\\ipykernel_824\\3484641597.py:4: UserWarning: Unable to sort modes: '<' not supported between instances of 'int' and 'str'\n",
      "  MostHL7Identifier=('MostHL7Identifier', lambda x: x.mode().iloc[0] if not x.mode().empty else None),\n",
      "C:\\Users\\svkar\\AppData\\Local\\Temp\\ipykernel_824\\3484641597.py:4: UserWarning: Unable to sort modes: '<' not supported between instances of 'str' and 'int'\n",
      "  MostHL7Identifier=('MostHL7Identifier', lambda x: x.mode().iloc[0] if not x.mode().empty else None),\n",
      "C:\\Users\\svkar\\AppData\\Local\\Temp\\ipykernel_824\\3484641597.py:4: UserWarning: Unable to sort modes: '<' not supported between instances of 'str' and 'int'\n",
      "  MostHL7Identifier=('MostHL7Identifier', lambda x: x.mode().iloc[0] if not x.mode().empty else None),\n",
      "C:\\Users\\svkar\\AppData\\Local\\Temp\\ipykernel_824\\3484641597.py:4: UserWarning: Unable to sort modes: '<' not supported between instances of 'str' and 'int'\n",
      "  MostHL7Identifier=('MostHL7Identifier', lambda x: x.mode().iloc[0] if not x.mode().empty else None),\n",
      "C:\\Users\\svkar\\AppData\\Local\\Temp\\ipykernel_824\\3484641597.py:4: UserWarning: Unable to sort modes: '<' not supported between instances of 'str' and 'int'\n",
      "  MostHL7Identifier=('MostHL7Identifier', lambda x: x.mode().iloc[0] if not x.mode().empty else None),\n",
      "C:\\Users\\svkar\\AppData\\Local\\Temp\\ipykernel_824\\3484641597.py:4: UserWarning: Unable to sort modes: '<' not supported between instances of 'str' and 'int'\n",
      "  MostHL7Identifier=('MostHL7Identifier', lambda x: x.mode().iloc[0] if not x.mode().empty else None),\n",
      "C:\\Users\\svkar\\AppData\\Local\\Temp\\ipykernel_824\\3484641597.py:4: UserWarning: Unable to sort modes: '<' not supported between instances of 'str' and 'int'\n",
      "  MostHL7Identifier=('MostHL7Identifier', lambda x: x.mode().iloc[0] if not x.mode().empty else None),\n",
      "C:\\Users\\svkar\\AppData\\Local\\Temp\\ipykernel_824\\3484641597.py:4: UserWarning: Unable to sort modes: '<' not supported between instances of 'int' and 'str'\n",
      "  MostHL7Identifier=('MostHL7Identifier', lambda x: x.mode().iloc[0] if not x.mode().empty else None),\n",
      "C:\\Users\\svkar\\AppData\\Local\\Temp\\ipykernel_824\\3484641597.py:4: UserWarning: Unable to sort modes: '<' not supported between instances of 'int' and 'str'\n",
      "  MostHL7Identifier=('MostHL7Identifier', lambda x: x.mode().iloc[0] if not x.mode().empty else None),\n",
      "C:\\Users\\svkar\\AppData\\Local\\Temp\\ipykernel_824\\3484641597.py:4: UserWarning: Unable to sort modes: '<' not supported between instances of 'str' and 'int'\n",
      "  MostHL7Identifier=('MostHL7Identifier', lambda x: x.mode().iloc[0] if not x.mode().empty else None),\n",
      "C:\\Users\\svkar\\AppData\\Local\\Temp\\ipykernel_824\\3484641597.py:4: UserWarning: Unable to sort modes: '<' not supported between instances of 'str' and 'int'\n",
      "  MostHL7Identifier=('MostHL7Identifier', lambda x: x.mode().iloc[0] if not x.mode().empty else None),\n",
      "C:\\Users\\svkar\\AppData\\Local\\Temp\\ipykernel_824\\3484641597.py:4: UserWarning: Unable to sort modes: '<' not supported between instances of 'int' and 'str'\n",
      "  MostHL7Identifier=('MostHL7Identifier', lambda x: x.mode().iloc[0] if not x.mode().empty else None),\n",
      "C:\\Users\\svkar\\AppData\\Local\\Temp\\ipykernel_824\\3484641597.py:4: UserWarning: Unable to sort modes: '<' not supported between instances of 'int' and 'str'\n",
      "  MostHL7Identifier=('MostHL7Identifier', lambda x: x.mode().iloc[0] if not x.mode().empty else None),\n",
      "C:\\Users\\svkar\\AppData\\Local\\Temp\\ipykernel_824\\3484641597.py:4: UserWarning: Unable to sort modes: '<' not supported between instances of 'str' and 'int'\n",
      "  MostHL7Identifier=('MostHL7Identifier', lambda x: x.mode().iloc[0] if not x.mode().empty else None),\n",
      "C:\\Users\\svkar\\AppData\\Local\\Temp\\ipykernel_824\\3484641597.py:4: UserWarning: Unable to sort modes: '<' not supported between instances of 'str' and 'int'\n",
      "  MostHL7Identifier=('MostHL7Identifier', lambda x: x.mode().iloc[0] if not x.mode().empty else None),\n",
      "C:\\Users\\svkar\\AppData\\Local\\Temp\\ipykernel_824\\3484641597.py:4: UserWarning: Unable to sort modes: '<' not supported between instances of 'int' and 'str'\n",
      "  MostHL7Identifier=('MostHL7Identifier', lambda x: x.mode().iloc[0] if not x.mode().empty else None),\n",
      "C:\\Users\\svkar\\AppData\\Local\\Temp\\ipykernel_824\\3484641597.py:4: UserWarning: Unable to sort modes: '<' not supported between instances of 'int' and 'str'\n",
      "  MostHL7Identifier=('MostHL7Identifier', lambda x: x.mode().iloc[0] if not x.mode().empty else None),\n",
      "C:\\Users\\svkar\\AppData\\Local\\Temp\\ipykernel_824\\3484641597.py:4: UserWarning: Unable to sort modes: '<' not supported between instances of 'int' and 'str'\n",
      "  MostHL7Identifier=('MostHL7Identifier', lambda x: x.mode().iloc[0] if not x.mode().empty else None),\n",
      "C:\\Users\\svkar\\AppData\\Local\\Temp\\ipykernel_824\\3484641597.py:4: UserWarning: Unable to sort modes: '<' not supported between instances of 'int' and 'str'\n",
      "  MostHL7Identifier=('MostHL7Identifier', lambda x: x.mode().iloc[0] if not x.mode().empty else None),\n",
      "C:\\Users\\svkar\\AppData\\Local\\Temp\\ipykernel_824\\3484641597.py:4: UserWarning: Unable to sort modes: '<' not supported between instances of 'int' and 'str'\n",
      "  MostHL7Identifier=('MostHL7Identifier', lambda x: x.mode().iloc[0] if not x.mode().empty else None),\n",
      "C:\\Users\\svkar\\AppData\\Local\\Temp\\ipykernel_824\\3484641597.py:4: UserWarning: Unable to sort modes: '<' not supported between instances of 'int' and 'str'\n",
      "  MostHL7Identifier=('MostHL7Identifier', lambda x: x.mode().iloc[0] if not x.mode().empty else None),\n",
      "C:\\Users\\svkar\\AppData\\Local\\Temp\\ipykernel_824\\3484641597.py:4: UserWarning: Unable to sort modes: '<' not supported between instances of 'str' and 'int'\n",
      "  MostHL7Identifier=('MostHL7Identifier', lambda x: x.mode().iloc[0] if not x.mode().empty else None),\n",
      "C:\\Users\\svkar\\AppData\\Local\\Temp\\ipykernel_824\\3484641597.py:4: UserWarning: Unable to sort modes: '<' not supported between instances of 'str' and 'int'\n",
      "  MostHL7Identifier=('MostHL7Identifier', lambda x: x.mode().iloc[0] if not x.mode().empty else None),\n",
      "C:\\Users\\svkar\\AppData\\Local\\Temp\\ipykernel_824\\3484641597.py:4: UserWarning: Unable to sort modes: '<' not supported between instances of 'int' and 'str'\n",
      "  MostHL7Identifier=('MostHL7Identifier', lambda x: x.mode().iloc[0] if not x.mode().empty else None),\n",
      "C:\\Users\\svkar\\AppData\\Local\\Temp\\ipykernel_824\\3484641597.py:4: UserWarning: Unable to sort modes: '<' not supported between instances of 'int' and 'str'\n",
      "  MostHL7Identifier=('MostHL7Identifier', lambda x: x.mode().iloc[0] if not x.mode().empty else None),\n",
      "C:\\Users\\svkar\\AppData\\Local\\Temp\\ipykernel_824\\3484641597.py:4: UserWarning: Unable to sort modes: '<' not supported between instances of 'str' and 'int'\n",
      "  MostHL7Identifier=('MostHL7Identifier', lambda x: x.mode().iloc[0] if not x.mode().empty else None),\n",
      "C:\\Users\\svkar\\AppData\\Local\\Temp\\ipykernel_824\\3484641597.py:4: UserWarning: Unable to sort modes: '<' not supported between instances of 'str' and 'int'\n",
      "  MostHL7Identifier=('MostHL7Identifier', lambda x: x.mode().iloc[0] if not x.mode().empty else None),\n",
      "C:\\Users\\svkar\\AppData\\Local\\Temp\\ipykernel_824\\3484641597.py:4: UserWarning: Unable to sort modes: '<' not supported between instances of 'int' and 'str'\n",
      "  MostHL7Identifier=('MostHL7Identifier', lambda x: x.mode().iloc[0] if not x.mode().empty else None),\n",
      "C:\\Users\\svkar\\AppData\\Local\\Temp\\ipykernel_824\\3484641597.py:4: UserWarning: Unable to sort modes: '<' not supported between instances of 'int' and 'str'\n",
      "  MostHL7Identifier=('MostHL7Identifier', lambda x: x.mode().iloc[0] if not x.mode().empty else None),\n",
      "C:\\Users\\svkar\\AppData\\Local\\Temp\\ipykernel_824\\3484641597.py:4: UserWarning: Unable to sort modes: '<' not supported between instances of 'str' and 'int'\n",
      "  MostHL7Identifier=('MostHL7Identifier', lambda x: x.mode().iloc[0] if not x.mode().empty else None),\n",
      "C:\\Users\\svkar\\AppData\\Local\\Temp\\ipykernel_824\\3484641597.py:4: UserWarning: Unable to sort modes: '<' not supported between instances of 'str' and 'int'\n",
      "  MostHL7Identifier=('MostHL7Identifier', lambda x: x.mode().iloc[0] if not x.mode().empty else None),\n",
      "C:\\Users\\svkar\\AppData\\Local\\Temp\\ipykernel_824\\3484641597.py:4: UserWarning: Unable to sort modes: '<' not supported between instances of 'str' and 'int'\n",
      "  MostHL7Identifier=('MostHL7Identifier', lambda x: x.mode().iloc[0] if not x.mode().empty else None),\n",
      "C:\\Users\\svkar\\AppData\\Local\\Temp\\ipykernel_824\\3484641597.py:4: UserWarning: Unable to sort modes: '<' not supported between instances of 'str' and 'int'\n",
      "  MostHL7Identifier=('MostHL7Identifier', lambda x: x.mode().iloc[0] if not x.mode().empty else None),\n",
      "C:\\Users\\svkar\\AppData\\Local\\Temp\\ipykernel_824\\3484641597.py:4: UserWarning: Unable to sort modes: '<' not supported between instances of 'int' and 'str'\n",
      "  MostHL7Identifier=('MostHL7Identifier', lambda x: x.mode().iloc[0] if not x.mode().empty else None),\n",
      "C:\\Users\\svkar\\AppData\\Local\\Temp\\ipykernel_824\\3484641597.py:4: UserWarning: Unable to sort modes: '<' not supported between instances of 'int' and 'str'\n",
      "  MostHL7Identifier=('MostHL7Identifier', lambda x: x.mode().iloc[0] if not x.mode().empty else None),\n",
      "C:\\Users\\svkar\\AppData\\Local\\Temp\\ipykernel_824\\3484641597.py:4: UserWarning: Unable to sort modes: '<' not supported between instances of 'int' and 'str'\n",
      "  MostHL7Identifier=('MostHL7Identifier', lambda x: x.mode().iloc[0] if not x.mode().empty else None),\n",
      "C:\\Users\\svkar\\AppData\\Local\\Temp\\ipykernel_824\\3484641597.py:4: UserWarning: Unable to sort modes: '<' not supported between instances of 'int' and 'str'\n",
      "  MostHL7Identifier=('MostHL7Identifier', lambda x: x.mode().iloc[0] if not x.mode().empty else None),\n",
      "C:\\Users\\svkar\\AppData\\Local\\Temp\\ipykernel_824\\3484641597.py:4: UserWarning: Unable to sort modes: '<' not supported between instances of 'str' and 'int'\n",
      "  MostHL7Identifier=('MostHL7Identifier', lambda x: x.mode().iloc[0] if not x.mode().empty else None),\n",
      "C:\\Users\\svkar\\AppData\\Local\\Temp\\ipykernel_824\\3484641597.py:4: UserWarning: Unable to sort modes: '<' not supported between instances of 'str' and 'int'\n",
      "  MostHL7Identifier=('MostHL7Identifier', lambda x: x.mode().iloc[0] if not x.mode().empty else None),\n",
      "C:\\Users\\svkar\\AppData\\Local\\Temp\\ipykernel_824\\3484641597.py:4: UserWarning: Unable to sort modes: '<' not supported between instances of 'int' and 'str'\n",
      "  MostHL7Identifier=('MostHL7Identifier', lambda x: x.mode().iloc[0] if not x.mode().empty else None),\n",
      "C:\\Users\\svkar\\AppData\\Local\\Temp\\ipykernel_824\\3484641597.py:4: UserWarning: Unable to sort modes: '<' not supported between instances of 'int' and 'str'\n",
      "  MostHL7Identifier=('MostHL7Identifier', lambda x: x.mode().iloc[0] if not x.mode().empty else None),\n",
      "C:\\Users\\svkar\\AppData\\Local\\Temp\\ipykernel_824\\3484641597.py:4: UserWarning: Unable to sort modes: '<' not supported between instances of 'int' and 'str'\n",
      "  MostHL7Identifier=('MostHL7Identifier', lambda x: x.mode().iloc[0] if not x.mode().empty else None),\n",
      "C:\\Users\\svkar\\AppData\\Local\\Temp\\ipykernel_824\\3484641597.py:4: UserWarning: Unable to sort modes: '<' not supported between instances of 'int' and 'str'\n",
      "  MostHL7Identifier=('MostHL7Identifier', lambda x: x.mode().iloc[0] if not x.mode().empty else None),\n",
      "C:\\Users\\svkar\\AppData\\Local\\Temp\\ipykernel_824\\3484641597.py:4: UserWarning: Unable to sort modes: '<' not supported between instances of 'str' and 'int'\n",
      "  MostHL7Identifier=('MostHL7Identifier', lambda x: x.mode().iloc[0] if not x.mode().empty else None),\n",
      "C:\\Users\\svkar\\AppData\\Local\\Temp\\ipykernel_824\\3484641597.py:4: UserWarning: Unable to sort modes: '<' not supported between instances of 'str' and 'int'\n",
      "  MostHL7Identifier=('MostHL7Identifier', lambda x: x.mode().iloc[0] if not x.mode().empty else None),\n",
      "C:\\Users\\svkar\\AppData\\Local\\Temp\\ipykernel_824\\3484641597.py:4: UserWarning: Unable to sort modes: '<' not supported between instances of 'int' and 'str'\n",
      "  MostHL7Identifier=('MostHL7Identifier', lambda x: x.mode().iloc[0] if not x.mode().empty else None),\n",
      "C:\\Users\\svkar\\AppData\\Local\\Temp\\ipykernel_824\\3484641597.py:4: UserWarning: Unable to sort modes: '<' not supported between instances of 'int' and 'str'\n",
      "  MostHL7Identifier=('MostHL7Identifier', lambda x: x.mode().iloc[0] if not x.mode().empty else None),\n",
      "C:\\Users\\svkar\\AppData\\Local\\Temp\\ipykernel_824\\3484641597.py:4: UserWarning: Unable to sort modes: '<' not supported between instances of 'str' and 'int'\n",
      "  MostHL7Identifier=('MostHL7Identifier', lambda x: x.mode().iloc[0] if not x.mode().empty else None),\n",
      "C:\\Users\\svkar\\AppData\\Local\\Temp\\ipykernel_824\\3484641597.py:4: UserWarning: Unable to sort modes: '<' not supported between instances of 'str' and 'int'\n",
      "  MostHL7Identifier=('MostHL7Identifier', lambda x: x.mode().iloc[0] if not x.mode().empty else None),\n",
      "C:\\Users\\svkar\\AppData\\Local\\Temp\\ipykernel_824\\3484641597.py:4: UserWarning: Unable to sort modes: '<' not supported between instances of 'int' and 'str'\n",
      "  MostHL7Identifier=('MostHL7Identifier', lambda x: x.mode().iloc[0] if not x.mode().empty else None),\n",
      "C:\\Users\\svkar\\AppData\\Local\\Temp\\ipykernel_824\\3484641597.py:4: UserWarning: Unable to sort modes: '<' not supported between instances of 'int' and 'str'\n",
      "  MostHL7Identifier=('MostHL7Identifier', lambda x: x.mode().iloc[0] if not x.mode().empty else None),\n",
      "C:\\Users\\svkar\\AppData\\Local\\Temp\\ipykernel_824\\3484641597.py:4: UserWarning: Unable to sort modes: '<' not supported between instances of 'str' and 'int'\n",
      "  MostHL7Identifier=('MostHL7Identifier', lambda x: x.mode().iloc[0] if not x.mode().empty else None),\n",
      "C:\\Users\\svkar\\AppData\\Local\\Temp\\ipykernel_824\\3484641597.py:4: UserWarning: Unable to sort modes: '<' not supported between instances of 'str' and 'int'\n",
      "  MostHL7Identifier=('MostHL7Identifier', lambda x: x.mode().iloc[0] if not x.mode().empty else None),\n",
      "C:\\Users\\svkar\\AppData\\Local\\Temp\\ipykernel_824\\3484641597.py:4: UserWarning: Unable to sort modes: '<' not supported between instances of 'int' and 'str'\n",
      "  MostHL7Identifier=('MostHL7Identifier', lambda x: x.mode().iloc[0] if not x.mode().empty else None),\n",
      "C:\\Users\\svkar\\AppData\\Local\\Temp\\ipykernel_824\\3484641597.py:4: UserWarning: Unable to sort modes: '<' not supported between instances of 'int' and 'str'\n",
      "  MostHL7Identifier=('MostHL7Identifier', lambda x: x.mode().iloc[0] if not x.mode().empty else None),\n",
      "C:\\Users\\svkar\\AppData\\Local\\Temp\\ipykernel_824\\3484641597.py:4: UserWarning: Unable to sort modes: '<' not supported between instances of 'int' and 'str'\n",
      "  MostHL7Identifier=('MostHL7Identifier', lambda x: x.mode().iloc[0] if not x.mode().empty else None),\n",
      "C:\\Users\\svkar\\AppData\\Local\\Temp\\ipykernel_824\\3484641597.py:4: UserWarning: Unable to sort modes: '<' not supported between instances of 'int' and 'str'\n",
      "  MostHL7Identifier=('MostHL7Identifier', lambda x: x.mode().iloc[0] if not x.mode().empty else None),\n",
      "C:\\Users\\svkar\\AppData\\Local\\Temp\\ipykernel_824\\3484641597.py:4: UserWarning: Unable to sort modes: '<' not supported between instances of 'str' and 'int'\n",
      "  MostHL7Identifier=('MostHL7Identifier', lambda x: x.mode().iloc[0] if not x.mode().empty else None),\n",
      "C:\\Users\\svkar\\AppData\\Local\\Temp\\ipykernel_824\\3484641597.py:4: UserWarning: Unable to sort modes: '<' not supported between instances of 'str' and 'int'\n",
      "  MostHL7Identifier=('MostHL7Identifier', lambda x: x.mode().iloc[0] if not x.mode().empty else None),\n",
      "C:\\Users\\svkar\\AppData\\Local\\Temp\\ipykernel_824\\3484641597.py:4: UserWarning: Unable to sort modes: '<' not supported between instances of 'int' and 'str'\n",
      "  MostHL7Identifier=('MostHL7Identifier', lambda x: x.mode().iloc[0] if not x.mode().empty else None),\n",
      "C:\\Users\\svkar\\AppData\\Local\\Temp\\ipykernel_824\\3484641597.py:4: UserWarning: Unable to sort modes: '<' not supported between instances of 'int' and 'str'\n",
      "  MostHL7Identifier=('MostHL7Identifier', lambda x: x.mode().iloc[0] if not x.mode().empty else None),\n",
      "C:\\Users\\svkar\\AppData\\Local\\Temp\\ipykernel_824\\3484641597.py:4: UserWarning: Unable to sort modes: '<' not supported between instances of 'int' and 'str'\n",
      "  MostHL7Identifier=('MostHL7Identifier', lambda x: x.mode().iloc[0] if not x.mode().empty else None),\n",
      "C:\\Users\\svkar\\AppData\\Local\\Temp\\ipykernel_824\\3484641597.py:4: UserWarning: Unable to sort modes: '<' not supported between instances of 'int' and 'str'\n",
      "  MostHL7Identifier=('MostHL7Identifier', lambda x: x.mode().iloc[0] if not x.mode().empty else None),\n",
      "C:\\Users\\svkar\\AppData\\Local\\Temp\\ipykernel_824\\3484641597.py:4: UserWarning: Unable to sort modes: '<' not supported between instances of 'int' and 'str'\n",
      "  MostHL7Identifier=('MostHL7Identifier', lambda x: x.mode().iloc[0] if not x.mode().empty else None),\n",
      "C:\\Users\\svkar\\AppData\\Local\\Temp\\ipykernel_824\\3484641597.py:4: UserWarning: Unable to sort modes: '<' not supported between instances of 'int' and 'str'\n",
      "  MostHL7Identifier=('MostHL7Identifier', lambda x: x.mode().iloc[0] if not x.mode().empty else None),\n",
      "C:\\Users\\svkar\\AppData\\Local\\Temp\\ipykernel_824\\3484641597.py:4: UserWarning: Unable to sort modes: '<' not supported between instances of 'int' and 'str'\n",
      "  MostHL7Identifier=('MostHL7Identifier', lambda x: x.mode().iloc[0] if not x.mode().empty else None),\n",
      "C:\\Users\\svkar\\AppData\\Local\\Temp\\ipykernel_824\\3484641597.py:4: UserWarning: Unable to sort modes: '<' not supported between instances of 'int' and 'str'\n",
      "  MostHL7Identifier=('MostHL7Identifier', lambda x: x.mode().iloc[0] if not x.mode().empty else None),\n",
      "C:\\Users\\svkar\\AppData\\Local\\Temp\\ipykernel_824\\3484641597.py:4: UserWarning: Unable to sort modes: '<' not supported between instances of 'int' and 'str'\n",
      "  MostHL7Identifier=('MostHL7Identifier', lambda x: x.mode().iloc[0] if not x.mode().empty else None),\n",
      "C:\\Users\\svkar\\AppData\\Local\\Temp\\ipykernel_824\\3484641597.py:4: UserWarning: Unable to sort modes: '<' not supported between instances of 'int' and 'str'\n",
      "  MostHL7Identifier=('MostHL7Identifier', lambda x: x.mode().iloc[0] if not x.mode().empty else None),\n",
      "C:\\Users\\svkar\\AppData\\Local\\Temp\\ipykernel_824\\3484641597.py:4: UserWarning: Unable to sort modes: '<' not supported between instances of 'int' and 'str'\n",
      "  MostHL7Identifier=('MostHL7Identifier', lambda x: x.mode().iloc[0] if not x.mode().empty else None),\n",
      "C:\\Users\\svkar\\AppData\\Local\\Temp\\ipykernel_824\\3484641597.py:4: UserWarning: Unable to sort modes: '<' not supported between instances of 'int' and 'str'\n",
      "  MostHL7Identifier=('MostHL7Identifier', lambda x: x.mode().iloc[0] if not x.mode().empty else None),\n",
      "C:\\Users\\svkar\\AppData\\Local\\Temp\\ipykernel_824\\3484641597.py:4: UserWarning: Unable to sort modes: '<' not supported between instances of 'int' and 'str'\n",
      "  MostHL7Identifier=('MostHL7Identifier', lambda x: x.mode().iloc[0] if not x.mode().empty else None),\n",
      "C:\\Users\\svkar\\AppData\\Local\\Temp\\ipykernel_824\\3484641597.py:4: UserWarning: Unable to sort modes: '<' not supported between instances of 'int' and 'str'\n",
      "  MostHL7Identifier=('MostHL7Identifier', lambda x: x.mode().iloc[0] if not x.mode().empty else None),\n",
      "C:\\Users\\svkar\\AppData\\Local\\Temp\\ipykernel_824\\3484641597.py:4: UserWarning: Unable to sort modes: '<' not supported between instances of 'int' and 'str'\n",
      "  MostHL7Identifier=('MostHL7Identifier', lambda x: x.mode().iloc[0] if not x.mode().empty else None),\n",
      "C:\\Users\\svkar\\AppData\\Local\\Temp\\ipykernel_824\\3484641597.py:4: UserWarning: Unable to sort modes: '<' not supported between instances of 'int' and 'str'\n",
      "  MostHL7Identifier=('MostHL7Identifier', lambda x: x.mode().iloc[0] if not x.mode().empty else None),\n",
      "C:\\Users\\svkar\\AppData\\Local\\Temp\\ipykernel_824\\3484641597.py:4: UserWarning: Unable to sort modes: '<' not supported between instances of 'int' and 'str'\n",
      "  MostHL7Identifier=('MostHL7Identifier', lambda x: x.mode().iloc[0] if not x.mode().empty else None),\n",
      "C:\\Users\\svkar\\AppData\\Local\\Temp\\ipykernel_824\\3484641597.py:4: UserWarning: Unable to sort modes: '<' not supported between instances of 'int' and 'str'\n",
      "  MostHL7Identifier=('MostHL7Identifier', lambda x: x.mode().iloc[0] if not x.mode().empty else None),\n",
      "C:\\Users\\svkar\\AppData\\Local\\Temp\\ipykernel_824\\3484641597.py:4: UserWarning: Unable to sort modes: '<' not supported between instances of 'int' and 'str'\n",
      "  MostHL7Identifier=('MostHL7Identifier', lambda x: x.mode().iloc[0] if not x.mode().empty else None),\n",
      "C:\\Users\\svkar\\AppData\\Local\\Temp\\ipykernel_824\\3484641597.py:4: UserWarning: Unable to sort modes: '<' not supported between instances of 'int' and 'str'\n",
      "  MostHL7Identifier=('MostHL7Identifier', lambda x: x.mode().iloc[0] if not x.mode().empty else None),\n",
      "C:\\Users\\svkar\\AppData\\Local\\Temp\\ipykernel_824\\3484641597.py:4: UserWarning: Unable to sort modes: '<' not supported between instances of 'int' and 'str'\n",
      "  MostHL7Identifier=('MostHL7Identifier', lambda x: x.mode().iloc[0] if not x.mode().empty else None),\n",
      "C:\\Users\\svkar\\AppData\\Local\\Temp\\ipykernel_824\\3484641597.py:4: UserWarning: Unable to sort modes: '<' not supported between instances of 'int' and 'str'\n",
      "  MostHL7Identifier=('MostHL7Identifier', lambda x: x.mode().iloc[0] if not x.mode().empty else None),\n",
      "C:\\Users\\svkar\\AppData\\Local\\Temp\\ipykernel_824\\3484641597.py:4: UserWarning: Unable to sort modes: '<' not supported between instances of 'int' and 'str'\n",
      "  MostHL7Identifier=('MostHL7Identifier', lambda x: x.mode().iloc[0] if not x.mode().empty else None),\n",
      "C:\\Users\\svkar\\AppData\\Local\\Temp\\ipykernel_824\\3484641597.py:4: UserWarning: Unable to sort modes: '<' not supported between instances of 'int' and 'str'\n",
      "  MostHL7Identifier=('MostHL7Identifier', lambda x: x.mode().iloc[0] if not x.mode().empty else None),\n",
      "C:\\Users\\svkar\\AppData\\Local\\Temp\\ipykernel_824\\3484641597.py:4: UserWarning: Unable to sort modes: '<' not supported between instances of 'int' and 'str'\n",
      "  MostHL7Identifier=('MostHL7Identifier', lambda x: x.mode().iloc[0] if not x.mode().empty else None),\n",
      "C:\\Users\\svkar\\AppData\\Local\\Temp\\ipykernel_824\\3484641597.py:4: UserWarning: Unable to sort modes: '<' not supported between instances of 'int' and 'str'\n",
      "  MostHL7Identifier=('MostHL7Identifier', lambda x: x.mode().iloc[0] if not x.mode().empty else None),\n",
      "C:\\Users\\svkar\\AppData\\Local\\Temp\\ipykernel_824\\3484641597.py:4: UserWarning: Unable to sort modes: '<' not supported between instances of 'str' and 'int'\n",
      "  MostHL7Identifier=('MostHL7Identifier', lambda x: x.mode().iloc[0] if not x.mode().empty else None),\n",
      "C:\\Users\\svkar\\AppData\\Local\\Temp\\ipykernel_824\\3484641597.py:4: UserWarning: Unable to sort modes: '<' not supported between instances of 'str' and 'int'\n",
      "  MostHL7Identifier=('MostHL7Identifier', lambda x: x.mode().iloc[0] if not x.mode().empty else None),\n",
      "C:\\Users\\svkar\\AppData\\Local\\Temp\\ipykernel_824\\3484641597.py:4: UserWarning: Unable to sort modes: '<' not supported between instances of 'int' and 'str'\n",
      "  MostHL7Identifier=('MostHL7Identifier', lambda x: x.mode().iloc[0] if not x.mode().empty else None),\n",
      "C:\\Users\\svkar\\AppData\\Local\\Temp\\ipykernel_824\\3484641597.py:4: UserWarning: Unable to sort modes: '<' not supported between instances of 'int' and 'str'\n",
      "  MostHL7Identifier=('MostHL7Identifier', lambda x: x.mode().iloc[0] if not x.mode().empty else None),\n",
      "C:\\Users\\svkar\\AppData\\Local\\Temp\\ipykernel_824\\3484641597.py:4: UserWarning: Unable to sort modes: '<' not supported between instances of 'str' and 'int'\n",
      "  MostHL7Identifier=('MostHL7Identifier', lambda x: x.mode().iloc[0] if not x.mode().empty else None),\n",
      "C:\\Users\\svkar\\AppData\\Local\\Temp\\ipykernel_824\\3484641597.py:4: UserWarning: Unable to sort modes: '<' not supported between instances of 'str' and 'int'\n",
      "  MostHL7Identifier=('MostHL7Identifier', lambda x: x.mode().iloc[0] if not x.mode().empty else None),\n",
      "C:\\Users\\svkar\\AppData\\Local\\Temp\\ipykernel_824\\3484641597.py:4: UserWarning: Unable to sort modes: '<' not supported between instances of 'str' and 'int'\n",
      "  MostHL7Identifier=('MostHL7Identifier', lambda x: x.mode().iloc[0] if not x.mode().empty else None),\n",
      "C:\\Users\\svkar\\AppData\\Local\\Temp\\ipykernel_824\\3484641597.py:4: UserWarning: Unable to sort modes: '<' not supported between instances of 'str' and 'int'\n",
      "  MostHL7Identifier=('MostHL7Identifier', lambda x: x.mode().iloc[0] if not x.mode().empty else None),\n",
      "C:\\Users\\svkar\\AppData\\Local\\Temp\\ipykernel_824\\3484641597.py:4: UserWarning: Unable to sort modes: '<' not supported between instances of 'int' and 'str'\n",
      "  MostHL7Identifier=('MostHL7Identifier', lambda x: x.mode().iloc[0] if not x.mode().empty else None),\n",
      "C:\\Users\\svkar\\AppData\\Local\\Temp\\ipykernel_824\\3484641597.py:4: UserWarning: Unable to sort modes: '<' not supported between instances of 'int' and 'str'\n",
      "  MostHL7Identifier=('MostHL7Identifier', lambda x: x.mode().iloc[0] if not x.mode().empty else None),\n",
      "C:\\Users\\svkar\\AppData\\Local\\Temp\\ipykernel_824\\3484641597.py:4: UserWarning: Unable to sort modes: '<' not supported between instances of 'str' and 'int'\n",
      "  MostHL7Identifier=('MostHL7Identifier', lambda x: x.mode().iloc[0] if not x.mode().empty else None),\n",
      "C:\\Users\\svkar\\AppData\\Local\\Temp\\ipykernel_824\\3484641597.py:4: UserWarning: Unable to sort modes: '<' not supported between instances of 'str' and 'int'\n",
      "  MostHL7Identifier=('MostHL7Identifier', lambda x: x.mode().iloc[0] if not x.mode().empty else None),\n",
      "C:\\Users\\svkar\\AppData\\Local\\Temp\\ipykernel_824\\3484641597.py:4: UserWarning: Unable to sort modes: '<' not supported between instances of 'int' and 'str'\n",
      "  MostHL7Identifier=('MostHL7Identifier', lambda x: x.mode().iloc[0] if not x.mode().empty else None),\n",
      "C:\\Users\\svkar\\AppData\\Local\\Temp\\ipykernel_824\\3484641597.py:4: UserWarning: Unable to sort modes: '<' not supported between instances of 'int' and 'str'\n",
      "  MostHL7Identifier=('MostHL7Identifier', lambda x: x.mode().iloc[0] if not x.mode().empty else None),\n",
      "C:\\Users\\svkar\\AppData\\Local\\Temp\\ipykernel_824\\3484641597.py:4: UserWarning: Unable to sort modes: '<' not supported between instances of 'int' and 'str'\n",
      "  MostHL7Identifier=('MostHL7Identifier', lambda x: x.mode().iloc[0] if not x.mode().empty else None),\n",
      "C:\\Users\\svkar\\AppData\\Local\\Temp\\ipykernel_824\\3484641597.py:4: UserWarning: Unable to sort modes: '<' not supported between instances of 'int' and 'str'\n",
      "  MostHL7Identifier=('MostHL7Identifier', lambda x: x.mode().iloc[0] if not x.mode().empty else None),\n",
      "C:\\Users\\svkar\\AppData\\Local\\Temp\\ipykernel_824\\3484641597.py:4: UserWarning: Unable to sort modes: '<' not supported between instances of 'int' and 'str'\n",
      "  MostHL7Identifier=('MostHL7Identifier', lambda x: x.mode().iloc[0] if not x.mode().empty else None),\n",
      "C:\\Users\\svkar\\AppData\\Local\\Temp\\ipykernel_824\\3484641597.py:4: UserWarning: Unable to sort modes: '<' not supported between instances of 'int' and 'str'\n",
      "  MostHL7Identifier=('MostHL7Identifier', lambda x: x.mode().iloc[0] if not x.mode().empty else None),\n",
      "C:\\Users\\svkar\\AppData\\Local\\Temp\\ipykernel_824\\3484641597.py:4: UserWarning: Unable to sort modes: '<' not supported between instances of 'str' and 'int'\n",
      "  MostHL7Identifier=('MostHL7Identifier', lambda x: x.mode().iloc[0] if not x.mode().empty else None),\n",
      "C:\\Users\\svkar\\AppData\\Local\\Temp\\ipykernel_824\\3484641597.py:4: UserWarning: Unable to sort modes: '<' not supported between instances of 'str' and 'int'\n",
      "  MostHL7Identifier=('MostHL7Identifier', lambda x: x.mode().iloc[0] if not x.mode().empty else None),\n",
      "C:\\Users\\svkar\\AppData\\Local\\Temp\\ipykernel_824\\3484641597.py:4: UserWarning: Unable to sort modes: '<' not supported between instances of 'int' and 'str'\n",
      "  MostHL7Identifier=('MostHL7Identifier', lambda x: x.mode().iloc[0] if not x.mode().empty else None),\n",
      "C:\\Users\\svkar\\AppData\\Local\\Temp\\ipykernel_824\\3484641597.py:4: UserWarning: Unable to sort modes: '<' not supported between instances of 'int' and 'str'\n",
      "  MostHL7Identifier=('MostHL7Identifier', lambda x: x.mode().iloc[0] if not x.mode().empty else None),\n",
      "C:\\Users\\svkar\\AppData\\Local\\Temp\\ipykernel_824\\3484641597.py:4: UserWarning: Unable to sort modes: '<' not supported between instances of 'int' and 'str'\n",
      "  MostHL7Identifier=('MostHL7Identifier', lambda x: x.mode().iloc[0] if not x.mode().empty else None),\n",
      "C:\\Users\\svkar\\AppData\\Local\\Temp\\ipykernel_824\\3484641597.py:4: UserWarning: Unable to sort modes: '<' not supported between instances of 'int' and 'str'\n",
      "  MostHL7Identifier=('MostHL7Identifier', lambda x: x.mode().iloc[0] if not x.mode().empty else None),\n",
      "C:\\Users\\svkar\\AppData\\Local\\Temp\\ipykernel_824\\3484641597.py:4: UserWarning: Unable to sort modes: '<' not supported between instances of 'int' and 'str'\n",
      "  MostHL7Identifier=('MostHL7Identifier', lambda x: x.mode().iloc[0] if not x.mode().empty else None),\n",
      "C:\\Users\\svkar\\AppData\\Local\\Temp\\ipykernel_824\\3484641597.py:4: UserWarning: Unable to sort modes: '<' not supported between instances of 'int' and 'str'\n",
      "  MostHL7Identifier=('MostHL7Identifier', lambda x: x.mode().iloc[0] if not x.mode().empty else None),\n",
      "C:\\Users\\svkar\\AppData\\Local\\Temp\\ipykernel_824\\3484641597.py:4: UserWarning: Unable to sort modes: '<' not supported between instances of 'int' and 'str'\n",
      "  MostHL7Identifier=('MostHL7Identifier', lambda x: x.mode().iloc[0] if not x.mode().empty else None),\n",
      "C:\\Users\\svkar\\AppData\\Local\\Temp\\ipykernel_824\\3484641597.py:4: UserWarning: Unable to sort modes: '<' not supported between instances of 'int' and 'str'\n",
      "  MostHL7Identifier=('MostHL7Identifier', lambda x: x.mode().iloc[0] if not x.mode().empty else None),\n",
      "C:\\Users\\svkar\\AppData\\Local\\Temp\\ipykernel_824\\3484641597.py:5: UserWarning: Unable to sort modes: '<' not supported between instances of 'str' and 'int'\n",
      "  MostAbnormalFlags=('MostAbnormalFlags', lambda x: x.mode().iloc[0] if not x.mode().empty else None),\n",
      "C:\\Users\\svkar\\AppData\\Local\\Temp\\ipykernel_824\\3484641597.py:5: UserWarning: Unable to sort modes: '<' not supported between instances of 'str' and 'int'\n",
      "  MostAbnormalFlags=('MostAbnormalFlags', lambda x: x.mode().iloc[0] if not x.mode().empty else None),\n",
      "C:\\Users\\svkar\\AppData\\Local\\Temp\\ipykernel_824\\3484641597.py:5: UserWarning: Unable to sort modes: '<' not supported between instances of 'int' and 'str'\n",
      "  MostAbnormalFlags=('MostAbnormalFlags', lambda x: x.mode().iloc[0] if not x.mode().empty else None),\n",
      "C:\\Users\\svkar\\AppData\\Local\\Temp\\ipykernel_824\\3484641597.py:5: UserWarning: Unable to sort modes: '<' not supported between instances of 'int' and 'str'\n",
      "  MostAbnormalFlags=('MostAbnormalFlags', lambda x: x.mode().iloc[0] if not x.mode().empty else None),\n",
      "C:\\Users\\svkar\\AppData\\Local\\Temp\\ipykernel_824\\3484641597.py:5: UserWarning: Unable to sort modes: '<' not supported between instances of 'str' and 'int'\n",
      "  MostAbnormalFlags=('MostAbnormalFlags', lambda x: x.mode().iloc[0] if not x.mode().empty else None),\n",
      "C:\\Users\\svkar\\AppData\\Local\\Temp\\ipykernel_824\\3484641597.py:5: UserWarning: Unable to sort modes: '<' not supported between instances of 'str' and 'int'\n",
      "  MostAbnormalFlags=('MostAbnormalFlags', lambda x: x.mode().iloc[0] if not x.mode().empty else None),\n",
      "C:\\Users\\svkar\\AppData\\Local\\Temp\\ipykernel_824\\3484641597.py:5: UserWarning: Unable to sort modes: '<' not supported between instances of 'str' and 'int'\n",
      "  MostAbnormalFlags=('MostAbnormalFlags', lambda x: x.mode().iloc[0] if not x.mode().empty else None),\n",
      "C:\\Users\\svkar\\AppData\\Local\\Temp\\ipykernel_824\\3484641597.py:5: UserWarning: Unable to sort modes: '<' not supported between instances of 'str' and 'int'\n",
      "  MostAbnormalFlags=('MostAbnormalFlags', lambda x: x.mode().iloc[0] if not x.mode().empty else None),\n",
      "C:\\Users\\svkar\\AppData\\Local\\Temp\\ipykernel_824\\3484641597.py:5: UserWarning: Unable to sort modes: '<' not supported between instances of 'str' and 'int'\n",
      "  MostAbnormalFlags=('MostAbnormalFlags', lambda x: x.mode().iloc[0] if not x.mode().empty else None),\n",
      "C:\\Users\\svkar\\AppData\\Local\\Temp\\ipykernel_824\\3484641597.py:5: UserWarning: Unable to sort modes: '<' not supported between instances of 'str' and 'int'\n",
      "  MostAbnormalFlags=('MostAbnormalFlags', lambda x: x.mode().iloc[0] if not x.mode().empty else None),\n",
      "C:\\Users\\svkar\\AppData\\Local\\Temp\\ipykernel_824\\3484641597.py:5: UserWarning: Unable to sort modes: '<' not supported between instances of 'str' and 'int'\n",
      "  MostAbnormalFlags=('MostAbnormalFlags', lambda x: x.mode().iloc[0] if not x.mode().empty else None),\n",
      "C:\\Users\\svkar\\AppData\\Local\\Temp\\ipykernel_824\\3484641597.py:5: UserWarning: Unable to sort modes: '<' not supported between instances of 'str' and 'int'\n",
      "  MostAbnormalFlags=('MostAbnormalFlags', lambda x: x.mode().iloc[0] if not x.mode().empty else None),\n",
      "C:\\Users\\svkar\\AppData\\Local\\Temp\\ipykernel_824\\3484641597.py:5: UserWarning: Unable to sort modes: '<' not supported between instances of 'int' and 'str'\n",
      "  MostAbnormalFlags=('MostAbnormalFlags', lambda x: x.mode().iloc[0] if not x.mode().empty else None),\n",
      "C:\\Users\\svkar\\AppData\\Local\\Temp\\ipykernel_824\\3484641597.py:5: UserWarning: Unable to sort modes: '<' not supported between instances of 'int' and 'str'\n",
      "  MostAbnormalFlags=('MostAbnormalFlags', lambda x: x.mode().iloc[0] if not x.mode().empty else None),\n",
      "C:\\Users\\svkar\\AppData\\Local\\Temp\\ipykernel_824\\3484641597.py:5: UserWarning: Unable to sort modes: '<' not supported between instances of 'int' and 'str'\n",
      "  MostAbnormalFlags=('MostAbnormalFlags', lambda x: x.mode().iloc[0] if not x.mode().empty else None),\n",
      "C:\\Users\\svkar\\AppData\\Local\\Temp\\ipykernel_824\\3484641597.py:5: UserWarning: Unable to sort modes: '<' not supported between instances of 'int' and 'str'\n",
      "  MostAbnormalFlags=('MostAbnormalFlags', lambda x: x.mode().iloc[0] if not x.mode().empty else None),\n",
      "C:\\Users\\svkar\\AppData\\Local\\Temp\\ipykernel_824\\3484641597.py:5: UserWarning: Unable to sort modes: '<' not supported between instances of 'int' and 'str'\n",
      "  MostAbnormalFlags=('MostAbnormalFlags', lambda x: x.mode().iloc[0] if not x.mode().empty else None),\n",
      "C:\\Users\\svkar\\AppData\\Local\\Temp\\ipykernel_824\\3484641597.py:5: UserWarning: Unable to sort modes: '<' not supported between instances of 'int' and 'str'\n",
      "  MostAbnormalFlags=('MostAbnormalFlags', lambda x: x.mode().iloc[0] if not x.mode().empty else None),\n",
      "C:\\Users\\svkar\\AppData\\Local\\Temp\\ipykernel_824\\3484641597.py:5: UserWarning: Unable to sort modes: '<' not supported between instances of 'int' and 'str'\n",
      "  MostAbnormalFlags=('MostAbnormalFlags', lambda x: x.mode().iloc[0] if not x.mode().empty else None),\n",
      "C:\\Users\\svkar\\AppData\\Local\\Temp\\ipykernel_824\\3484641597.py:5: UserWarning: Unable to sort modes: '<' not supported between instances of 'int' and 'str'\n",
      "  MostAbnormalFlags=('MostAbnormalFlags', lambda x: x.mode().iloc[0] if not x.mode().empty else None),\n",
      "C:\\Users\\svkar\\AppData\\Local\\Temp\\ipykernel_824\\3484641597.py:5: UserWarning: Unable to sort modes: '<' not supported between instances of 'int' and 'str'\n",
      "  MostAbnormalFlags=('MostAbnormalFlags', lambda x: x.mode().iloc[0] if not x.mode().empty else None),\n",
      "C:\\Users\\svkar\\AppData\\Local\\Temp\\ipykernel_824\\3484641597.py:5: UserWarning: Unable to sort modes: '<' not supported between instances of 'int' and 'str'\n",
      "  MostAbnormalFlags=('MostAbnormalFlags', lambda x: x.mode().iloc[0] if not x.mode().empty else None),\n",
      "C:\\Users\\svkar\\AppData\\Local\\Temp\\ipykernel_824\\3484641597.py:5: UserWarning: Unable to sort modes: '<' not supported between instances of 'str' and 'int'\n",
      "  MostAbnormalFlags=('MostAbnormalFlags', lambda x: x.mode().iloc[0] if not x.mode().empty else None),\n",
      "C:\\Users\\svkar\\AppData\\Local\\Temp\\ipykernel_824\\3484641597.py:5: UserWarning: Unable to sort modes: '<' not supported between instances of 'str' and 'int'\n",
      "  MostAbnormalFlags=('MostAbnormalFlags', lambda x: x.mode().iloc[0] if not x.mode().empty else None),\n",
      "C:\\Users\\svkar\\AppData\\Local\\Temp\\ipykernel_824\\3484641597.py:5: UserWarning: Unable to sort modes: '<' not supported between instances of 'int' and 'str'\n",
      "  MostAbnormalFlags=('MostAbnormalFlags', lambda x: x.mode().iloc[0] if not x.mode().empty else None),\n",
      "C:\\Users\\svkar\\AppData\\Local\\Temp\\ipykernel_824\\3484641597.py:5: UserWarning: Unable to sort modes: '<' not supported between instances of 'int' and 'str'\n",
      "  MostAbnormalFlags=('MostAbnormalFlags', lambda x: x.mode().iloc[0] if not x.mode().empty else None),\n",
      "C:\\Users\\svkar\\AppData\\Local\\Temp\\ipykernel_824\\3484641597.py:5: UserWarning: Unable to sort modes: '<' not supported between instances of 'str' and 'int'\n",
      "  MostAbnormalFlags=('MostAbnormalFlags', lambda x: x.mode().iloc[0] if not x.mode().empty else None),\n",
      "C:\\Users\\svkar\\AppData\\Local\\Temp\\ipykernel_824\\3484641597.py:5: UserWarning: Unable to sort modes: '<' not supported between instances of 'str' and 'int'\n",
      "  MostAbnormalFlags=('MostAbnormalFlags', lambda x: x.mode().iloc[0] if not x.mode().empty else None),\n",
      "C:\\Users\\svkar\\AppData\\Local\\Temp\\ipykernel_824\\3484641597.py:5: UserWarning: Unable to sort modes: '<' not supported between instances of 'int' and 'str'\n",
      "  MostAbnormalFlags=('MostAbnormalFlags', lambda x: x.mode().iloc[0] if not x.mode().empty else None),\n",
      "C:\\Users\\svkar\\AppData\\Local\\Temp\\ipykernel_824\\3484641597.py:5: UserWarning: Unable to sort modes: '<' not supported between instances of 'int' and 'str'\n",
      "  MostAbnormalFlags=('MostAbnormalFlags', lambda x: x.mode().iloc[0] if not x.mode().empty else None),\n"
     ]
    }
   ],
   "source": [
    "df_lab_tot = df_lo_lp_lr.groupby('PatientGuid').agg(\n",
    "    MostPanelID=('LabPanelGuid', lambda x: x.mode().iloc[0] if not x.mode().empty else None),\n",
    "    MostLabObservation=('T2D_Lab_Observation_Mode', lambda x: x.mode().iloc[0] if not x.mode().empty else None),\n",
    "    MostHL7Identifier=('MostHL7Identifier', lambda x: x.mode().iloc[0] if not x.mode().empty else None),\n",
    "    MostAbnormalFlags=('MostAbnormalFlags', lambda x: x.mode().iloc[0] if not x.mode().empty else None),\n",
    "    MostIsAbnormalValue=('MostIsAbnormalValue', lambda x: x.mode().iloc[0] if not x.mode().empty else None),\n",
    "    MostStatus=('MostStatus', lambda x: x.mode().iloc[0] if not x.mode().empty else None),\n",
    "    MostLabTest=('T2D_Test_Mode', lambda x: x.mode().iloc[0] if not x.mode().empty else None),\n",
    "    MostLabResultGuid=('MostLabResultGuid', lambda x: x.mode().iloc[0] if not x.mode().empty else None),\n",
    "    MostReportYear=('MostReportYear', lambda x: x.mode().iloc[0] if not x.mode().empty else None),\n",
    "    MostAncestorLabResultGuid=('MostAncestorLabResultGuid', lambda x: x.mode().iloc[0] if not x.mode().empty else None),\n",
    ").reset_index()"
   ]
  },
  {
   "cell_type": "code",
   "execution_count": 75,
   "id": "c0e2805d-b46b-475e-b802-4c96703f7812",
   "metadata": {
    "tags": []
   },
   "outputs": [
    {
     "data": {
      "text/plain": [
       "(791, 11)"
      ]
     },
     "execution_count": 75,
     "metadata": {},
     "output_type": "execute_result"
    }
   ],
   "source": [
    "df_lab_tot.shape"
   ]
  },
  {
   "cell_type": "markdown",
   "id": "7d0df92f-3182-4e82-8b30-cda2141d7907",
   "metadata": {},
   "source": [
    "Merging with train and checking shape."
   ]
  },
  {
   "cell_type": "code",
   "execution_count": 76,
   "id": "72b6ad6f-1f71-4f4d-b6bc-134f26e73c6c",
   "metadata": {
    "tags": []
   },
   "outputs": [
    {
     "data": {
      "text/plain": [
       "(6600, 24)"
      ]
     },
     "execution_count": 76,
     "metadata": {},
     "output_type": "execute_result"
    }
   ],
   "source": [
    "df_train_sp_tot=pd.merge(df_train_sp_tot,df_lab_tot,how='left')\n",
    "df_train_sp_tot.shape"
   ]
  },
  {
   "cell_type": "markdown",
   "id": "e6ba4f95-3a76-4751-b543-6a29fb4b74a4",
   "metadata": {},
   "source": [
    "### ***Condition***"
   ]
  },
  {
   "cell_type": "markdown",
   "id": "9dbd2293-2eac-4f09-b558-a095d651cc08",
   "metadata": {},
   "source": [
    "#### Condition"
   ]
  },
  {
   "cell_type": "code",
   "execution_count": 77,
   "id": "1dc0afb3-5a27-4a9f-89ee-d10dcb319bc1",
   "metadata": {
    "tags": []
   },
   "outputs": [
    {
     "data": {
      "text/plain": [
       "Index(['ConditionGuid', 'Code', 'Name'], dtype='object')"
      ]
     },
     "execution_count": 77,
     "metadata": {},
     "output_type": "execute_result"
    }
   ],
   "source": [
    "df_sc.columns"
   ]
  },
  {
   "cell_type": "code",
   "execution_count": 78,
   "id": "793d54e8-eca1-4f68-8b85-836b3f792c87",
   "metadata": {
    "tags": []
   },
   "outputs": [
    {
     "name": "stdout",
     "output_type": "stream",
     "text": [
      "['No Known Diagnoses' 'No Known Allergies' 'No Known Medications']\n",
      "['NOKNOWNDIAGNOSES' 'NOKNOWNALLERGIES' 'NOKNOWNMEDICATIONS']\n",
      "['D4FF24EA-658D-4500-A71F-821F9776FB27'\n",
      " '4BF4503F-4EA7-4E63-BBA6-B6A4A8C273F8'\n",
      " '2AE517F6-5029-4BC4-9353-FB8E0CC3A822']\n"
     ]
    }
   ],
   "source": [
    "print(df_sc['Name'].unique())\n",
    "print(df_sc['Code'].unique())\n",
    "print(df_sc['ConditionGuid'].unique())"
   ]
  },
  {
   "cell_type": "code",
   "execution_count": 79,
   "id": "d8225e47-7a9e-46a5-9ca3-39b8106644a5",
   "metadata": {
    "tags": []
   },
   "outputs": [
    {
     "data": {
      "text/html": [
       "<div>\n",
       "<style scoped>\n",
       "    .dataframe tbody tr th:only-of-type {\n",
       "        vertical-align: middle;\n",
       "    }\n",
       "\n",
       "    .dataframe tbody tr th {\n",
       "        vertical-align: top;\n",
       "    }\n",
       "\n",
       "    .dataframe thead th {\n",
       "        text-align: right;\n",
       "    }\n",
       "</style>\n",
       "<table border=\"1\" class=\"dataframe\">\n",
       "  <thead>\n",
       "    <tr style=\"text-align: right;\">\n",
       "      <th></th>\n",
       "      <th>ConditionGuid</th>\n",
       "      <th>Code</th>\n",
       "      <th>Name</th>\n",
       "    </tr>\n",
       "  </thead>\n",
       "  <tbody>\n",
       "    <tr>\n",
       "      <th>0</th>\n",
       "      <td>D4FF24EA-658D-4500-A71F-821F9776FB27</td>\n",
       "      <td>NOKNOWNDIAGNOSES</td>\n",
       "      <td>No Known Diagnoses</td>\n",
       "    </tr>\n",
       "    <tr>\n",
       "      <th>1</th>\n",
       "      <td>4BF4503F-4EA7-4E63-BBA6-B6A4A8C273F8</td>\n",
       "      <td>NOKNOWNALLERGIES</td>\n",
       "      <td>No Known Allergies</td>\n",
       "    </tr>\n",
       "    <tr>\n",
       "      <th>2</th>\n",
       "      <td>2AE517F6-5029-4BC4-9353-FB8E0CC3A822</td>\n",
       "      <td>NOKNOWNMEDICATIONS</td>\n",
       "      <td>No Known Medications</td>\n",
       "    </tr>\n",
       "  </tbody>\n",
       "</table>\n",
       "</div>"
      ],
      "text/plain": [
       "                          ConditionGuid                Code  \\\n",
       "0  D4FF24EA-658D-4500-A71F-821F9776FB27    NOKNOWNDIAGNOSES   \n",
       "1  4BF4503F-4EA7-4E63-BBA6-B6A4A8C273F8    NOKNOWNALLERGIES   \n",
       "2  2AE517F6-5029-4BC4-9353-FB8E0CC3A822  NOKNOWNMEDICATIONS   \n",
       "\n",
       "                   Name  \n",
       "0    No Known Diagnoses  \n",
       "1    No Known Allergies  \n",
       "2  No Known Medications  "
      ]
     },
     "execution_count": 79,
     "metadata": {},
     "output_type": "execute_result"
    }
   ],
   "source": [
    "df_sc.head()"
   ]
  },
  {
   "cell_type": "markdown",
   "id": "325b1ccc-08c8-4b4a-b9d6-3adc9838b763",
   "metadata": {},
   "source": [
    "#### Patient Condition"
   ]
  },
  {
   "cell_type": "code",
   "execution_count": 80,
   "id": "f4e681df-91f4-4a36-a16f-67e79239442f",
   "metadata": {
    "tags": []
   },
   "outputs": [
    {
     "data": {
      "text/plain": [
       "Index(['PatientConditionGuid', 'PatientGuid', 'ConditionGuid', 'CreatedYear'], dtype='object')"
      ]
     },
     "execution_count": 80,
     "metadata": {},
     "output_type": "execute_result"
    }
   ],
   "source": [
    "df_train_spc.columns"
   ]
  },
  {
   "cell_type": "code",
   "execution_count": 81,
   "id": "761a520b-78b8-448c-b4d6-13972868b387",
   "metadata": {
    "tags": []
   },
   "outputs": [
    {
     "data": {
      "text/plain": [
       "(2836, 4)"
      ]
     },
     "execution_count": 81,
     "metadata": {},
     "output_type": "execute_result"
    }
   ],
   "source": [
    "df_train_spc.shape"
   ]
  },
  {
   "cell_type": "code",
   "execution_count": 82,
   "id": "cfc94528-2db1-4cc7-8806-ac9a4a7cd810",
   "metadata": {
    "tags": []
   },
   "outputs": [
    {
     "name": "stdout",
     "output_type": "stream",
     "text": [
      "Unique Patient Condition Values:\n",
      "['22A5A7B5-FF9F-4FE6-86B2-00314970CF94'\n",
      " 'F9BE2F6F-87DD-4816-9ADE-00423A35C7DB'\n",
      " '61A844C2-01B0-4DBF-B4AE-0062C30CD9B0' ...\n",
      " '5A4D233B-774E-4A89-A351-FFA62BF8DA52'\n",
      " '4BF94ED3-DA4D-4DA4-9C18-FFA7C031743B'\n",
      " 'C0FD40F3-25CD-44FD-8570-FFEB0341FEA2']\n",
      "Unique Condition Values:\n",
      "['4BF4503F-4EA7-4E63-BBA6-B6A4A8C273F8'\n",
      " '2AE517F6-5029-4BC4-9353-FB8E0CC3A822']\n"
     ]
    }
   ],
   "source": [
    "unique_pc = df_train_spc['PatientConditionGuid'].unique()\n",
    "print(\"Unique Patient Condition Values:\")\n",
    "print(unique_pc)\n",
    "\n",
    "unique_cg = df_train_spc['ConditionGuid'].unique()\n",
    "print(\"Unique Condition Values:\")\n",
    "print(unique_cg)"
   ]
  },
  {
   "cell_type": "markdown",
   "id": "3b92f267-06ec-4198-8545-7599f1ff3dc6",
   "metadata": {},
   "source": [
    "#### **Merging Condition & Patient Condition**"
   ]
  },
  {
   "cell_type": "code",
   "execution_count": 83,
   "id": "5fd78be4-3262-453d-bf8f-4f499382e661",
   "metadata": {
    "tags": []
   },
   "outputs": [],
   "source": [
    "df_sc_spc = df_sc.merge(df_train_spc, how='left')"
   ]
  },
  {
   "cell_type": "code",
   "execution_count": 84,
   "id": "398d7826-a6e1-48e9-8c39-451e2577bad1",
   "metadata": {
    "tags": []
   },
   "outputs": [
    {
     "data": {
      "text/plain": [
       "(2837, 6)"
      ]
     },
     "execution_count": 84,
     "metadata": {},
     "output_type": "execute_result"
    }
   ],
   "source": [
    "df_sc_spc.shape"
   ]
  },
  {
   "cell_type": "code",
   "execution_count": 85,
   "id": "80a2542a-a271-4737-9ceb-ddedb46533a2",
   "metadata": {
    "tags": []
   },
   "outputs": [],
   "source": [
    "df_sc_spc_tot = df_sc_spc.groupby('ConditionGuid').agg(\n",
    "    MostPatientGuid=('PatientGuid', lambda x: x.mode().iloc[0] if not x.mode().empty else None),\n",
    "    MostPatientConditionGuid=('PatientConditionGuid', lambda x: x.mode().iloc[0] if not x.mode().empty else None),\n",
    "    MostCreatedYear=('CreatedYear', lambda x: x.mode().iloc[0] if not x.mode().empty else None),\n",
    ").reset_index()"
   ]
  },
  {
   "cell_type": "code",
   "execution_count": 86,
   "id": "e1886afc-15c6-4446-b3bd-a2fea61ba56d",
   "metadata": {
    "tags": []
   },
   "outputs": [
    {
     "data": {
      "text/plain": [
       "(3, 4)"
      ]
     },
     "execution_count": 86,
     "metadata": {},
     "output_type": "execute_result"
    }
   ],
   "source": [
    "df_sc_spc_tot.shape"
   ]
  },
  {
   "cell_type": "code",
   "execution_count": 87,
   "id": "701807d3-188a-4f71-bc94-9ef17bf9f498",
   "metadata": {
    "tags": []
   },
   "outputs": [],
   "source": [
    "df_sc_spc_tot.rename(columns={'MostPatientGuid': 'PatientGuid'}, inplace=True)"
   ]
  },
  {
   "cell_type": "markdown",
   "id": "803ec623-51d4-4ac8-9f6a-a344e6625d7a",
   "metadata": {},
   "source": [
    "Merging with train and checking shape."
   ]
  },
  {
   "cell_type": "code",
   "execution_count": 88,
   "id": "6a61cc24-ccef-4b57-9cce-437059ae40cf",
   "metadata": {
    "tags": []
   },
   "outputs": [
    {
     "data": {
      "text/plain": [
       "(6600, 27)"
      ]
     },
     "execution_count": 88,
     "metadata": {},
     "output_type": "execute_result"
    }
   ],
   "source": [
    "df_train_sp_tot=pd.merge(df_train_sp_tot,df_sc_spc_tot,how='left')\n",
    "df_train_sp_tot.shape"
   ]
  },
  {
   "cell_type": "markdown",
   "id": "7d5ab470-6634-4ee7-a78e-7517229781ab",
   "metadata": {},
   "source": [
    "***Medication***"
   ]
  },
  {
   "cell_type": "code",
   "execution_count": 89,
   "id": "7001b8d9-b832-4229-9bbb-00322f3bc5d4",
   "metadata": {
    "tags": []
   },
   "outputs": [
    {
     "data": {
      "text/plain": [
       "Index(['MedicationGuid', 'PatientGuid', 'NdcCode', 'MedicationName',\n",
       "       'MedicationStrength', 'Schedule', 'DiagnosisGuid', 'UserGuid'],\n",
       "      dtype='object')"
      ]
     },
     "execution_count": 89,
     "metadata": {},
     "output_type": "execute_result"
    }
   ],
   "source": [
    "df_train_sm.columns"
   ]
  },
  {
   "cell_type": "code",
   "execution_count": 90,
   "id": "d5943cf6-0584-4a62-92e1-7d618030b85d",
   "metadata": {
    "tags": []
   },
   "outputs": [
    {
     "data": {
      "text/html": [
       "<div>\n",
       "<style scoped>\n",
       "    .dataframe tbody tr th:only-of-type {\n",
       "        vertical-align: middle;\n",
       "    }\n",
       "\n",
       "    .dataframe tbody tr th {\n",
       "        vertical-align: top;\n",
       "    }\n",
       "\n",
       "    .dataframe thead th {\n",
       "        text-align: right;\n",
       "    }\n",
       "</style>\n",
       "<table border=\"1\" class=\"dataframe\">\n",
       "  <thead>\n",
       "    <tr style=\"text-align: right;\">\n",
       "      <th></th>\n",
       "      <th>PatientGuid</th>\n",
       "      <th>MedicationGuid</th>\n",
       "      <th>DiagnosisGuid</th>\n",
       "      <th>NdcCode</th>\n",
       "      <th>MedicationName</th>\n",
       "    </tr>\n",
       "  </thead>\n",
       "  <tbody>\n",
       "    <tr>\n",
       "      <th>0</th>\n",
       "      <td>A7F1591C-9DB8-4F12-A0B8-15AC12C2B801</td>\n",
       "      <td>0D6B339C-AB1F-4FF1-B231-000026C414C9</td>\n",
       "      <td>DA833B28-CE04-4547-A94F-8A4E6C187A3B</td>\n",
       "      <td>23490544301</td>\n",
       "      <td>Digoxin oral tablet</td>\n",
       "    </tr>\n",
       "    <tr>\n",
       "      <th>1</th>\n",
       "      <td>7A88D55F-22A9-4126-861D-92F0DA2ED701</td>\n",
       "      <td>72ADD073-CDA0-4F85-B6CB-00008B645E90</td>\n",
       "      <td>3ED5B90C-22A1-46EE-9CF5-027E684627D8</td>\n",
       "      <td>143126730</td>\n",
       "      <td>Lisinopril oral tablet</td>\n",
       "    </tr>\n",
       "    <tr>\n",
       "      <th>2</th>\n",
       "      <td>F0B80C93-D371-44BE-B464-530C97FE6C02</td>\n",
       "      <td>D35E505A-02F8-4EFD-A460-00042F85EF3E</td>\n",
       "      <td>0B6C3285-1D8C-4C0F-9928-95EC226CB2FE</td>\n",
       "      <td>456069801</td>\n",
       "      <td>Tessalon (benzonatate) oral capsule</td>\n",
       "    </tr>\n",
       "    <tr>\n",
       "      <th>3</th>\n",
       "      <td>FF32CBDA-DDB1-4730-81C5-ACB0F321C2C5</td>\n",
       "      <td>FFB036B9-A636-48F2-967C-0005F8D78574</td>\n",
       "      <td>DE2E15A5-5080-4141-A061-C81EC739C0A4</td>\n",
       "      <td>60432060504</td>\n",
       "      <td>Promethazine VC Plain (phenylephrine-promethaz...</td>\n",
       "    </tr>\n",
       "    <tr>\n",
       "      <th>4</th>\n",
       "      <td>1ECD93C8-75BD-4D3C-8D15-E2A3D0373090</td>\n",
       "      <td>AB095685-A703-4D81-8678-0009396BF105</td>\n",
       "      <td>16B189A4-359C-41E1-BAA3-3E081EA24C41</td>\n",
       "      <td>247211730</td>\n",
       "      <td>Lexapro (escitalopram) oral tablet</td>\n",
       "    </tr>\n",
       "  </tbody>\n",
       "</table>\n",
       "</div>"
      ],
      "text/plain": [
       "                            PatientGuid                        MedicationGuid  \\\n",
       "0  A7F1591C-9DB8-4F12-A0B8-15AC12C2B801  0D6B339C-AB1F-4FF1-B231-000026C414C9   \n",
       "1  7A88D55F-22A9-4126-861D-92F0DA2ED701  72ADD073-CDA0-4F85-B6CB-00008B645E90   \n",
       "2  F0B80C93-D371-44BE-B464-530C97FE6C02  D35E505A-02F8-4EFD-A460-00042F85EF3E   \n",
       "3  FF32CBDA-DDB1-4730-81C5-ACB0F321C2C5  FFB036B9-A636-48F2-967C-0005F8D78574   \n",
       "4  1ECD93C8-75BD-4D3C-8D15-E2A3D0373090  AB095685-A703-4D81-8678-0009396BF105   \n",
       "\n",
       "                          DiagnosisGuid      NdcCode  \\\n",
       "0  DA833B28-CE04-4547-A94F-8A4E6C187A3B  23490544301   \n",
       "1  3ED5B90C-22A1-46EE-9CF5-027E684627D8    143126730   \n",
       "2  0B6C3285-1D8C-4C0F-9928-95EC226CB2FE    456069801   \n",
       "3  DE2E15A5-5080-4141-A061-C81EC739C0A4  60432060504   \n",
       "4  16B189A4-359C-41E1-BAA3-3E081EA24C41    247211730   \n",
       "\n",
       "                                      MedicationName  \n",
       "0                                Digoxin oral tablet  \n",
       "1                             Lisinopril oral tablet  \n",
       "2                Tessalon (benzonatate) oral capsule  \n",
       "3  Promethazine VC Plain (phenylephrine-promethaz...  \n",
       "4                 Lexapro (escitalopram) oral tablet  "
      ]
     },
     "execution_count": 90,
     "metadata": {},
     "output_type": "execute_result"
    }
   ],
   "source": [
    "keep_columns_sm = [\n",
    "    'PatientGuid',         # Patient identifier \n",
    "    'MedicationGuid',      \n",
    "    'DiagnosisGuid',           # Diagnosis code (comorbid conditions)\n",
    "    'NdcCode',\n",
    "    'MedicationName',           # Year the diagnosis was made (tracking chronic conditions)\n",
    "]\n",
    "\n",
    "df_train_sm_new = df_train_sm[keep_columns_sm]\n",
    "df_train_sm_new.head()"
   ]
  },
  {
   "cell_type": "code",
   "execution_count": 91,
   "id": "b715416b-d10c-417f-b50d-47355e15fab9",
   "metadata": {
    "tags": []
   },
   "outputs": [
    {
     "name": "stdout",
     "output_type": "stream",
     "text": [
      "['Digoxin oral tablet' 'Lisinopril oral tablet'\n",
      " 'Tessalon (benzonatate) oral capsule' ...\n",
      " 'Benzac W (benzoyl peroxide topical) topical liquid'\n",
      " 'Allegra (fexofenadine) oral suspension'\n",
      " 'Metryl (metroNIDAZOLE) oral tablet']\n"
     ]
    }
   ],
   "source": [
    "print(df_train_sm_new['MedicationName'].unique())"
   ]
  },
  {
   "cell_type": "code",
   "execution_count": 92,
   "id": "6e428e34-b2db-45a3-84c7-8eb33e15dac0",
   "metadata": {
    "tags": []
   },
   "outputs": [
    {
     "name": "stderr",
     "output_type": "stream",
     "text": [
      "C:\\Users\\svkar\\AppData\\Local\\Temp\\ipykernel_824\\1189344984.py:5: UserWarning: Unable to sort modes: '<' not supported between instances of 'int' and 'str'\n",
      "  MostCommonMedication=('MedicationName', lambda x: x.mode().iloc[0] if not x.mode().empty else None),\n",
      "C:\\Users\\svkar\\AppData\\Local\\Temp\\ipykernel_824\\1189344984.py:5: UserWarning: Unable to sort modes: '<' not supported between instances of 'int' and 'str'\n",
      "  MostCommonMedication=('MedicationName', lambda x: x.mode().iloc[0] if not x.mode().empty else None),\n",
      "C:\\Users\\svkar\\AppData\\Local\\Temp\\ipykernel_824\\1189344984.py:5: UserWarning: Unable to sort modes: '<' not supported between instances of 'int' and 'str'\n",
      "  MostCommonMedication=('MedicationName', lambda x: x.mode().iloc[0] if not x.mode().empty else None),\n",
      "C:\\Users\\svkar\\AppData\\Local\\Temp\\ipykernel_824\\1189344984.py:5: UserWarning: Unable to sort modes: '<' not supported between instances of 'int' and 'str'\n",
      "  MostCommonMedication=('MedicationName', lambda x: x.mode().iloc[0] if not x.mode().empty else None),\n",
      "C:\\Users\\svkar\\AppData\\Local\\Temp\\ipykernel_824\\1189344984.py:5: UserWarning: Unable to sort modes: '<' not supported between instances of 'str' and 'int'\n",
      "  MostCommonMedication=('MedicationName', lambda x: x.mode().iloc[0] if not x.mode().empty else None),\n",
      "C:\\Users\\svkar\\AppData\\Local\\Temp\\ipykernel_824\\1189344984.py:5: UserWarning: Unable to sort modes: '<' not supported between instances of 'str' and 'int'\n",
      "  MostCommonMedication=('MedicationName', lambda x: x.mode().iloc[0] if not x.mode().empty else None),\n",
      "C:\\Users\\svkar\\AppData\\Local\\Temp\\ipykernel_824\\1189344984.py:5: UserWarning: Unable to sort modes: '<' not supported between instances of 'int' and 'str'\n",
      "  MostCommonMedication=('MedicationName', lambda x: x.mode().iloc[0] if not x.mode().empty else None),\n",
      "C:\\Users\\svkar\\AppData\\Local\\Temp\\ipykernel_824\\1189344984.py:5: UserWarning: Unable to sort modes: '<' not supported between instances of 'int' and 'str'\n",
      "  MostCommonMedication=('MedicationName', lambda x: x.mode().iloc[0] if not x.mode().empty else None),\n",
      "C:\\Users\\svkar\\AppData\\Local\\Temp\\ipykernel_824\\1189344984.py:5: UserWarning: Unable to sort modes: '<' not supported between instances of 'int' and 'str'\n",
      "  MostCommonMedication=('MedicationName', lambda x: x.mode().iloc[0] if not x.mode().empty else None),\n",
      "C:\\Users\\svkar\\AppData\\Local\\Temp\\ipykernel_824\\1189344984.py:5: UserWarning: Unable to sort modes: '<' not supported between instances of 'int' and 'str'\n",
      "  MostCommonMedication=('MedicationName', lambda x: x.mode().iloc[0] if not x.mode().empty else None),\n",
      "C:\\Users\\svkar\\AppData\\Local\\Temp\\ipykernel_824\\1189344984.py:5: UserWarning: Unable to sort modes: '<' not supported between instances of 'int' and 'str'\n",
      "  MostCommonMedication=('MedicationName', lambda x: x.mode().iloc[0] if not x.mode().empty else None),\n",
      "C:\\Users\\svkar\\AppData\\Local\\Temp\\ipykernel_824\\1189344984.py:5: UserWarning: Unable to sort modes: '<' not supported between instances of 'int' and 'str'\n",
      "  MostCommonMedication=('MedicationName', lambda x: x.mode().iloc[0] if not x.mode().empty else None),\n",
      "C:\\Users\\svkar\\AppData\\Local\\Temp\\ipykernel_824\\1189344984.py:5: UserWarning: Unable to sort modes: '<' not supported between instances of 'str' and 'int'\n",
      "  MostCommonMedication=('MedicationName', lambda x: x.mode().iloc[0] if not x.mode().empty else None),\n",
      "C:\\Users\\svkar\\AppData\\Local\\Temp\\ipykernel_824\\1189344984.py:5: UserWarning: Unable to sort modes: '<' not supported between instances of 'str' and 'int'\n",
      "  MostCommonMedication=('MedicationName', lambda x: x.mode().iloc[0] if not x.mode().empty else None),\n",
      "C:\\Users\\svkar\\AppData\\Local\\Temp\\ipykernel_824\\1189344984.py:5: UserWarning: Unable to sort modes: '<' not supported between instances of 'int' and 'str'\n",
      "  MostCommonMedication=('MedicationName', lambda x: x.mode().iloc[0] if not x.mode().empty else None),\n",
      "C:\\Users\\svkar\\AppData\\Local\\Temp\\ipykernel_824\\1189344984.py:5: UserWarning: Unable to sort modes: '<' not supported between instances of 'int' and 'str'\n",
      "  MostCommonMedication=('MedicationName', lambda x: x.mode().iloc[0] if not x.mode().empty else None),\n",
      "C:\\Users\\svkar\\AppData\\Local\\Temp\\ipykernel_824\\1189344984.py:5: UserWarning: Unable to sort modes: '<' not supported between instances of 'int' and 'str'\n",
      "  MostCommonMedication=('MedicationName', lambda x: x.mode().iloc[0] if not x.mode().empty else None),\n",
      "C:\\Users\\svkar\\AppData\\Local\\Temp\\ipykernel_824\\1189344984.py:5: UserWarning: Unable to sort modes: '<' not supported between instances of 'int' and 'str'\n",
      "  MostCommonMedication=('MedicationName', lambda x: x.mode().iloc[0] if not x.mode().empty else None),\n",
      "C:\\Users\\svkar\\AppData\\Local\\Temp\\ipykernel_824\\1189344984.py:5: UserWarning: Unable to sort modes: '<' not supported between instances of 'str' and 'int'\n",
      "  MostCommonMedication=('MedicationName', lambda x: x.mode().iloc[0] if not x.mode().empty else None),\n",
      "C:\\Users\\svkar\\AppData\\Local\\Temp\\ipykernel_824\\1189344984.py:5: UserWarning: Unable to sort modes: '<' not supported between instances of 'str' and 'int'\n",
      "  MostCommonMedication=('MedicationName', lambda x: x.mode().iloc[0] if not x.mode().empty else None),\n",
      "C:\\Users\\svkar\\AppData\\Local\\Temp\\ipykernel_824\\1189344984.py:5: UserWarning: Unable to sort modes: '<' not supported between instances of 'int' and 'str'\n",
      "  MostCommonMedication=('MedicationName', lambda x: x.mode().iloc[0] if not x.mode().empty else None),\n",
      "C:\\Users\\svkar\\AppData\\Local\\Temp\\ipykernel_824\\1189344984.py:5: UserWarning: Unable to sort modes: '<' not supported between instances of 'int' and 'str'\n",
      "  MostCommonMedication=('MedicationName', lambda x: x.mode().iloc[0] if not x.mode().empty else None),\n",
      "C:\\Users\\svkar\\AppData\\Local\\Temp\\ipykernel_824\\1189344984.py:5: UserWarning: Unable to sort modes: '<' not supported between instances of 'int' and 'str'\n",
      "  MostCommonMedication=('MedicationName', lambda x: x.mode().iloc[0] if not x.mode().empty else None),\n",
      "C:\\Users\\svkar\\AppData\\Local\\Temp\\ipykernel_824\\1189344984.py:5: UserWarning: Unable to sort modes: '<' not supported between instances of 'int' and 'str'\n",
      "  MostCommonMedication=('MedicationName', lambda x: x.mode().iloc[0] if not x.mode().empty else None),\n",
      "C:\\Users\\svkar\\AppData\\Local\\Temp\\ipykernel_824\\1189344984.py:5: UserWarning: Unable to sort modes: '<' not supported between instances of 'int' and 'str'\n",
      "  MostCommonMedication=('MedicationName', lambda x: x.mode().iloc[0] if not x.mode().empty else None),\n",
      "C:\\Users\\svkar\\AppData\\Local\\Temp\\ipykernel_824\\1189344984.py:5: UserWarning: Unable to sort modes: '<' not supported between instances of 'int' and 'str'\n",
      "  MostCommonMedication=('MedicationName', lambda x: x.mode().iloc[0] if not x.mode().empty else None),\n",
      "C:\\Users\\svkar\\AppData\\Local\\Temp\\ipykernel_824\\1189344984.py:5: UserWarning: Unable to sort modes: '<' not supported between instances of 'int' and 'str'\n",
      "  MostCommonMedication=('MedicationName', lambda x: x.mode().iloc[0] if not x.mode().empty else None),\n",
      "C:\\Users\\svkar\\AppData\\Local\\Temp\\ipykernel_824\\1189344984.py:5: UserWarning: Unable to sort modes: '<' not supported between instances of 'int' and 'str'\n",
      "  MostCommonMedication=('MedicationName', lambda x: x.mode().iloc[0] if not x.mode().empty else None),\n",
      "C:\\Users\\svkar\\AppData\\Local\\Temp\\ipykernel_824\\1189344984.py:5: UserWarning: Unable to sort modes: '<' not supported between instances of 'int' and 'str'\n",
      "  MostCommonMedication=('MedicationName', lambda x: x.mode().iloc[0] if not x.mode().empty else None),\n",
      "C:\\Users\\svkar\\AppData\\Local\\Temp\\ipykernel_824\\1189344984.py:5: UserWarning: Unable to sort modes: '<' not supported between instances of 'int' and 'str'\n",
      "  MostCommonMedication=('MedicationName', lambda x: x.mode().iloc[0] if not x.mode().empty else None),\n",
      "C:\\Users\\svkar\\AppData\\Local\\Temp\\ipykernel_824\\1189344984.py:5: UserWarning: Unable to sort modes: '<' not supported between instances of 'str' and 'int'\n",
      "  MostCommonMedication=('MedicationName', lambda x: x.mode().iloc[0] if not x.mode().empty else None),\n",
      "C:\\Users\\svkar\\AppData\\Local\\Temp\\ipykernel_824\\1189344984.py:5: UserWarning: Unable to sort modes: '<' not supported between instances of 'str' and 'int'\n",
      "  MostCommonMedication=('MedicationName', lambda x: x.mode().iloc[0] if not x.mode().empty else None),\n",
      "C:\\Users\\svkar\\AppData\\Local\\Temp\\ipykernel_824\\1189344984.py:5: UserWarning: Unable to sort modes: '<' not supported between instances of 'str' and 'int'\n",
      "  MostCommonMedication=('MedicationName', lambda x: x.mode().iloc[0] if not x.mode().empty else None),\n",
      "C:\\Users\\svkar\\AppData\\Local\\Temp\\ipykernel_824\\1189344984.py:5: UserWarning: Unable to sort modes: '<' not supported between instances of 'str' and 'int'\n",
      "  MostCommonMedication=('MedicationName', lambda x: x.mode().iloc[0] if not x.mode().empty else None),\n",
      "C:\\Users\\svkar\\AppData\\Local\\Temp\\ipykernel_824\\1189344984.py:5: UserWarning: Unable to sort modes: '<' not supported between instances of 'int' and 'str'\n",
      "  MostCommonMedication=('MedicationName', lambda x: x.mode().iloc[0] if not x.mode().empty else None),\n",
      "C:\\Users\\svkar\\AppData\\Local\\Temp\\ipykernel_824\\1189344984.py:5: UserWarning: Unable to sort modes: '<' not supported between instances of 'int' and 'str'\n",
      "  MostCommonMedication=('MedicationName', lambda x: x.mode().iloc[0] if not x.mode().empty else None),\n",
      "C:\\Users\\svkar\\AppData\\Local\\Temp\\ipykernel_824\\1189344984.py:5: UserWarning: Unable to sort modes: '<' not supported between instances of 'str' and 'int'\n",
      "  MostCommonMedication=('MedicationName', lambda x: x.mode().iloc[0] if not x.mode().empty else None),\n",
      "C:\\Users\\svkar\\AppData\\Local\\Temp\\ipykernel_824\\1189344984.py:5: UserWarning: Unable to sort modes: '<' not supported between instances of 'str' and 'int'\n",
      "  MostCommonMedication=('MedicationName', lambda x: x.mode().iloc[0] if not x.mode().empty else None),\n",
      "C:\\Users\\svkar\\AppData\\Local\\Temp\\ipykernel_824\\1189344984.py:5: UserWarning: Unable to sort modes: '<' not supported between instances of 'str' and 'int'\n",
      "  MostCommonMedication=('MedicationName', lambda x: x.mode().iloc[0] if not x.mode().empty else None),\n",
      "C:\\Users\\svkar\\AppData\\Local\\Temp\\ipykernel_824\\1189344984.py:5: UserWarning: Unable to sort modes: '<' not supported between instances of 'str' and 'int'\n",
      "  MostCommonMedication=('MedicationName', lambda x: x.mode().iloc[0] if not x.mode().empty else None),\n",
      "C:\\Users\\svkar\\AppData\\Local\\Temp\\ipykernel_824\\1189344984.py:5: UserWarning: Unable to sort modes: '<' not supported between instances of 'int' and 'str'\n",
      "  MostCommonMedication=('MedicationName', lambda x: x.mode().iloc[0] if not x.mode().empty else None),\n",
      "C:\\Users\\svkar\\AppData\\Local\\Temp\\ipykernel_824\\1189344984.py:5: UserWarning: Unable to sort modes: '<' not supported between instances of 'int' and 'str'\n",
      "  MostCommonMedication=('MedicationName', lambda x: x.mode().iloc[0] if not x.mode().empty else None),\n",
      "C:\\Users\\svkar\\AppData\\Local\\Temp\\ipykernel_824\\1189344984.py:5: UserWarning: Unable to sort modes: '<' not supported between instances of 'str' and 'int'\n",
      "  MostCommonMedication=('MedicationName', lambda x: x.mode().iloc[0] if not x.mode().empty else None),\n",
      "C:\\Users\\svkar\\AppData\\Local\\Temp\\ipykernel_824\\1189344984.py:5: UserWarning: Unable to sort modes: '<' not supported between instances of 'str' and 'int'\n",
      "  MostCommonMedication=('MedicationName', lambda x: x.mode().iloc[0] if not x.mode().empty else None),\n",
      "C:\\Users\\svkar\\AppData\\Local\\Temp\\ipykernel_824\\1189344984.py:5: UserWarning: Unable to sort modes: '<' not supported between instances of 'int' and 'str'\n",
      "  MostCommonMedication=('MedicationName', lambda x: x.mode().iloc[0] if not x.mode().empty else None),\n",
      "C:\\Users\\svkar\\AppData\\Local\\Temp\\ipykernel_824\\1189344984.py:5: UserWarning: Unable to sort modes: '<' not supported between instances of 'int' and 'str'\n",
      "  MostCommonMedication=('MedicationName', lambda x: x.mode().iloc[0] if not x.mode().empty else None),\n",
      "C:\\Users\\svkar\\AppData\\Local\\Temp\\ipykernel_824\\1189344984.py:5: UserWarning: Unable to sort modes: '<' not supported between instances of 'str' and 'int'\n",
      "  MostCommonMedication=('MedicationName', lambda x: x.mode().iloc[0] if not x.mode().empty else None),\n",
      "C:\\Users\\svkar\\AppData\\Local\\Temp\\ipykernel_824\\1189344984.py:5: UserWarning: Unable to sort modes: '<' not supported between instances of 'str' and 'int'\n",
      "  MostCommonMedication=('MedicationName', lambda x: x.mode().iloc[0] if not x.mode().empty else None),\n",
      "C:\\Users\\svkar\\AppData\\Local\\Temp\\ipykernel_824\\1189344984.py:5: UserWarning: Unable to sort modes: '<' not supported between instances of 'int' and 'str'\n",
      "  MostCommonMedication=('MedicationName', lambda x: x.mode().iloc[0] if not x.mode().empty else None),\n",
      "C:\\Users\\svkar\\AppData\\Local\\Temp\\ipykernel_824\\1189344984.py:5: UserWarning: Unable to sort modes: '<' not supported between instances of 'int' and 'str'\n",
      "  MostCommonMedication=('MedicationName', lambda x: x.mode().iloc[0] if not x.mode().empty else None),\n",
      "C:\\Users\\svkar\\AppData\\Local\\Temp\\ipykernel_824\\1189344984.py:5: UserWarning: Unable to sort modes: '<' not supported between instances of 'str' and 'int'\n",
      "  MostCommonMedication=('MedicationName', lambda x: x.mode().iloc[0] if not x.mode().empty else None),\n",
      "C:\\Users\\svkar\\AppData\\Local\\Temp\\ipykernel_824\\1189344984.py:5: UserWarning: Unable to sort modes: '<' not supported between instances of 'str' and 'int'\n",
      "  MostCommonMedication=('MedicationName', lambda x: x.mode().iloc[0] if not x.mode().empty else None),\n",
      "C:\\Users\\svkar\\AppData\\Local\\Temp\\ipykernel_824\\1189344984.py:5: UserWarning: Unable to sort modes: '<' not supported between instances of 'int' and 'str'\n",
      "  MostCommonMedication=('MedicationName', lambda x: x.mode().iloc[0] if not x.mode().empty else None),\n",
      "C:\\Users\\svkar\\AppData\\Local\\Temp\\ipykernel_824\\1189344984.py:5: UserWarning: Unable to sort modes: '<' not supported between instances of 'int' and 'str'\n",
      "  MostCommonMedication=('MedicationName', lambda x: x.mode().iloc[0] if not x.mode().empty else None),\n",
      "C:\\Users\\svkar\\AppData\\Local\\Temp\\ipykernel_824\\1189344984.py:5: UserWarning: Unable to sort modes: '<' not supported between instances of 'int' and 'str'\n",
      "  MostCommonMedication=('MedicationName', lambda x: x.mode().iloc[0] if not x.mode().empty else None),\n",
      "C:\\Users\\svkar\\AppData\\Local\\Temp\\ipykernel_824\\1189344984.py:5: UserWarning: Unable to sort modes: '<' not supported between instances of 'int' and 'str'\n",
      "  MostCommonMedication=('MedicationName', lambda x: x.mode().iloc[0] if not x.mode().empty else None),\n",
      "C:\\Users\\svkar\\AppData\\Local\\Temp\\ipykernel_824\\1189344984.py:5: UserWarning: Unable to sort modes: '<' not supported between instances of 'int' and 'str'\n",
      "  MostCommonMedication=('MedicationName', lambda x: x.mode().iloc[0] if not x.mode().empty else None),\n",
      "C:\\Users\\svkar\\AppData\\Local\\Temp\\ipykernel_824\\1189344984.py:5: UserWarning: Unable to sort modes: '<' not supported between instances of 'int' and 'str'\n",
      "  MostCommonMedication=('MedicationName', lambda x: x.mode().iloc[0] if not x.mode().empty else None),\n",
      "C:\\Users\\svkar\\AppData\\Local\\Temp\\ipykernel_824\\1189344984.py:5: UserWarning: Unable to sort modes: '<' not supported between instances of 'int' and 'str'\n",
      "  MostCommonMedication=('MedicationName', lambda x: x.mode().iloc[0] if not x.mode().empty else None),\n",
      "C:\\Users\\svkar\\AppData\\Local\\Temp\\ipykernel_824\\1189344984.py:5: UserWarning: Unable to sort modes: '<' not supported between instances of 'int' and 'str'\n",
      "  MostCommonMedication=('MedicationName', lambda x: x.mode().iloc[0] if not x.mode().empty else None),\n",
      "C:\\Users\\svkar\\AppData\\Local\\Temp\\ipykernel_824\\1189344984.py:5: UserWarning: Unable to sort modes: '<' not supported between instances of 'str' and 'int'\n",
      "  MostCommonMedication=('MedicationName', lambda x: x.mode().iloc[0] if not x.mode().empty else None),\n",
      "C:\\Users\\svkar\\AppData\\Local\\Temp\\ipykernel_824\\1189344984.py:5: UserWarning: Unable to sort modes: '<' not supported between instances of 'str' and 'int'\n",
      "  MostCommonMedication=('MedicationName', lambda x: x.mode().iloc[0] if not x.mode().empty else None),\n",
      "C:\\Users\\svkar\\AppData\\Local\\Temp\\ipykernel_824\\1189344984.py:5: UserWarning: Unable to sort modes: '<' not supported between instances of 'str' and 'int'\n",
      "  MostCommonMedication=('MedicationName', lambda x: x.mode().iloc[0] if not x.mode().empty else None),\n",
      "C:\\Users\\svkar\\AppData\\Local\\Temp\\ipykernel_824\\1189344984.py:5: UserWarning: Unable to sort modes: '<' not supported between instances of 'str' and 'int'\n",
      "  MostCommonMedication=('MedicationName', lambda x: x.mode().iloc[0] if not x.mode().empty else None),\n",
      "C:\\Users\\svkar\\AppData\\Local\\Temp\\ipykernel_824\\1189344984.py:5: UserWarning: Unable to sort modes: '<' not supported between instances of 'int' and 'str'\n",
      "  MostCommonMedication=('MedicationName', lambda x: x.mode().iloc[0] if not x.mode().empty else None),\n",
      "C:\\Users\\svkar\\AppData\\Local\\Temp\\ipykernel_824\\1189344984.py:5: UserWarning: Unable to sort modes: '<' not supported between instances of 'int' and 'str'\n",
      "  MostCommonMedication=('MedicationName', lambda x: x.mode().iloc[0] if not x.mode().empty else None),\n",
      "C:\\Users\\svkar\\AppData\\Local\\Temp\\ipykernel_824\\1189344984.py:5: UserWarning: Unable to sort modes: '<' not supported between instances of 'int' and 'str'\n",
      "  MostCommonMedication=('MedicationName', lambda x: x.mode().iloc[0] if not x.mode().empty else None),\n",
      "C:\\Users\\svkar\\AppData\\Local\\Temp\\ipykernel_824\\1189344984.py:5: UserWarning: Unable to sort modes: '<' not supported between instances of 'int' and 'str'\n",
      "  MostCommonMedication=('MedicationName', lambda x: x.mode().iloc[0] if not x.mode().empty else None),\n",
      "C:\\Users\\svkar\\AppData\\Local\\Temp\\ipykernel_824\\1189344984.py:5: UserWarning: Unable to sort modes: '<' not supported between instances of 'int' and 'str'\n",
      "  MostCommonMedication=('MedicationName', lambda x: x.mode().iloc[0] if not x.mode().empty else None),\n",
      "C:\\Users\\svkar\\AppData\\Local\\Temp\\ipykernel_824\\1189344984.py:5: UserWarning: Unable to sort modes: '<' not supported between instances of 'int' and 'str'\n",
      "  MostCommonMedication=('MedicationName', lambda x: x.mode().iloc[0] if not x.mode().empty else None),\n",
      "C:\\Users\\svkar\\AppData\\Local\\Temp\\ipykernel_824\\1189344984.py:5: UserWarning: Unable to sort modes: '<' not supported between instances of 'int' and 'str'\n",
      "  MostCommonMedication=('MedicationName', lambda x: x.mode().iloc[0] if not x.mode().empty else None),\n",
      "C:\\Users\\svkar\\AppData\\Local\\Temp\\ipykernel_824\\1189344984.py:5: UserWarning: Unable to sort modes: '<' not supported between instances of 'int' and 'str'\n",
      "  MostCommonMedication=('MedicationName', lambda x: x.mode().iloc[0] if not x.mode().empty else None),\n",
      "C:\\Users\\svkar\\AppData\\Local\\Temp\\ipykernel_824\\1189344984.py:5: UserWarning: Unable to sort modes: '<' not supported between instances of 'int' and 'str'\n",
      "  MostCommonMedication=('MedicationName', lambda x: x.mode().iloc[0] if not x.mode().empty else None),\n",
      "C:\\Users\\svkar\\AppData\\Local\\Temp\\ipykernel_824\\1189344984.py:5: UserWarning: Unable to sort modes: '<' not supported between instances of 'int' and 'str'\n",
      "  MostCommonMedication=('MedicationName', lambda x: x.mode().iloc[0] if not x.mode().empty else None),\n",
      "C:\\Users\\svkar\\AppData\\Local\\Temp\\ipykernel_824\\1189344984.py:5: UserWarning: Unable to sort modes: '<' not supported between instances of 'int' and 'str'\n",
      "  MostCommonMedication=('MedicationName', lambda x: x.mode().iloc[0] if not x.mode().empty else None),\n",
      "C:\\Users\\svkar\\AppData\\Local\\Temp\\ipykernel_824\\1189344984.py:5: UserWarning: Unable to sort modes: '<' not supported between instances of 'int' and 'str'\n",
      "  MostCommonMedication=('MedicationName', lambda x: x.mode().iloc[0] if not x.mode().empty else None),\n",
      "C:\\Users\\svkar\\AppData\\Local\\Temp\\ipykernel_824\\1189344984.py:5: UserWarning: Unable to sort modes: '<' not supported between instances of 'int' and 'str'\n",
      "  MostCommonMedication=('MedicationName', lambda x: x.mode().iloc[0] if not x.mode().empty else None),\n",
      "C:\\Users\\svkar\\AppData\\Local\\Temp\\ipykernel_824\\1189344984.py:5: UserWarning: Unable to sort modes: '<' not supported between instances of 'int' and 'str'\n",
      "  MostCommonMedication=('MedicationName', lambda x: x.mode().iloc[0] if not x.mode().empty else None),\n",
      "C:\\Users\\svkar\\AppData\\Local\\Temp\\ipykernel_824\\1189344984.py:5: UserWarning: Unable to sort modes: '<' not supported between instances of 'str' and 'int'\n",
      "  MostCommonMedication=('MedicationName', lambda x: x.mode().iloc[0] if not x.mode().empty else None),\n",
      "C:\\Users\\svkar\\AppData\\Local\\Temp\\ipykernel_824\\1189344984.py:5: UserWarning: Unable to sort modes: '<' not supported between instances of 'str' and 'int'\n",
      "  MostCommonMedication=('MedicationName', lambda x: x.mode().iloc[0] if not x.mode().empty else None),\n",
      "C:\\Users\\svkar\\AppData\\Local\\Temp\\ipykernel_824\\1189344984.py:5: UserWarning: Unable to sort modes: '<' not supported between instances of 'int' and 'str'\n",
      "  MostCommonMedication=('MedicationName', lambda x: x.mode().iloc[0] if not x.mode().empty else None),\n",
      "C:\\Users\\svkar\\AppData\\Local\\Temp\\ipykernel_824\\1189344984.py:5: UserWarning: Unable to sort modes: '<' not supported between instances of 'int' and 'str'\n",
      "  MostCommonMedication=('MedicationName', lambda x: x.mode().iloc[0] if not x.mode().empty else None),\n",
      "C:\\Users\\svkar\\AppData\\Local\\Temp\\ipykernel_824\\1189344984.py:5: UserWarning: Unable to sort modes: '<' not supported between instances of 'str' and 'int'\n",
      "  MostCommonMedication=('MedicationName', lambda x: x.mode().iloc[0] if not x.mode().empty else None),\n",
      "C:\\Users\\svkar\\AppData\\Local\\Temp\\ipykernel_824\\1189344984.py:5: UserWarning: Unable to sort modes: '<' not supported between instances of 'str' and 'int'\n",
      "  MostCommonMedication=('MedicationName', lambda x: x.mode().iloc[0] if not x.mode().empty else None),\n",
      "C:\\Users\\svkar\\AppData\\Local\\Temp\\ipykernel_824\\1189344984.py:5: UserWarning: Unable to sort modes: '<' not supported between instances of 'int' and 'str'\n",
      "  MostCommonMedication=('MedicationName', lambda x: x.mode().iloc[0] if not x.mode().empty else None),\n",
      "C:\\Users\\svkar\\AppData\\Local\\Temp\\ipykernel_824\\1189344984.py:5: UserWarning: Unable to sort modes: '<' not supported between instances of 'int' and 'str'\n",
      "  MostCommonMedication=('MedicationName', lambda x: x.mode().iloc[0] if not x.mode().empty else None),\n",
      "C:\\Users\\svkar\\AppData\\Local\\Temp\\ipykernel_824\\1189344984.py:5: UserWarning: Unable to sort modes: '<' not supported between instances of 'int' and 'str'\n",
      "  MostCommonMedication=('MedicationName', lambda x: x.mode().iloc[0] if not x.mode().empty else None),\n",
      "C:\\Users\\svkar\\AppData\\Local\\Temp\\ipykernel_824\\1189344984.py:5: UserWarning: Unable to sort modes: '<' not supported between instances of 'int' and 'str'\n",
      "  MostCommonMedication=('MedicationName', lambda x: x.mode().iloc[0] if not x.mode().empty else None),\n",
      "C:\\Users\\svkar\\AppData\\Local\\Temp\\ipykernel_824\\1189344984.py:5: UserWarning: Unable to sort modes: '<' not supported between instances of 'int' and 'str'\n",
      "  MostCommonMedication=('MedicationName', lambda x: x.mode().iloc[0] if not x.mode().empty else None),\n",
      "C:\\Users\\svkar\\AppData\\Local\\Temp\\ipykernel_824\\1189344984.py:5: UserWarning: Unable to sort modes: '<' not supported between instances of 'int' and 'str'\n",
      "  MostCommonMedication=('MedicationName', lambda x: x.mode().iloc[0] if not x.mode().empty else None),\n",
      "C:\\Users\\svkar\\AppData\\Local\\Temp\\ipykernel_824\\1189344984.py:5: UserWarning: Unable to sort modes: '<' not supported between instances of 'int' and 'str'\n",
      "  MostCommonMedication=('MedicationName', lambda x: x.mode().iloc[0] if not x.mode().empty else None),\n",
      "C:\\Users\\svkar\\AppData\\Local\\Temp\\ipykernel_824\\1189344984.py:5: UserWarning: Unable to sort modes: '<' not supported between instances of 'int' and 'str'\n",
      "  MostCommonMedication=('MedicationName', lambda x: x.mode().iloc[0] if not x.mode().empty else None),\n",
      "C:\\Users\\svkar\\AppData\\Local\\Temp\\ipykernel_824\\1189344984.py:5: UserWarning: Unable to sort modes: '<' not supported between instances of 'int' and 'str'\n",
      "  MostCommonMedication=('MedicationName', lambda x: x.mode().iloc[0] if not x.mode().empty else None),\n",
      "C:\\Users\\svkar\\AppData\\Local\\Temp\\ipykernel_824\\1189344984.py:5: UserWarning: Unable to sort modes: '<' not supported between instances of 'int' and 'str'\n",
      "  MostCommonMedication=('MedicationName', lambda x: x.mode().iloc[0] if not x.mode().empty else None),\n",
      "C:\\Users\\svkar\\AppData\\Local\\Temp\\ipykernel_824\\1189344984.py:5: UserWarning: Unable to sort modes: '<' not supported between instances of 'int' and 'str'\n",
      "  MostCommonMedication=('MedicationName', lambda x: x.mode().iloc[0] if not x.mode().empty else None),\n",
      "C:\\Users\\svkar\\AppData\\Local\\Temp\\ipykernel_824\\1189344984.py:5: UserWarning: Unable to sort modes: '<' not supported between instances of 'int' and 'str'\n",
      "  MostCommonMedication=('MedicationName', lambda x: x.mode().iloc[0] if not x.mode().empty else None),\n",
      "C:\\Users\\svkar\\AppData\\Local\\Temp\\ipykernel_824\\1189344984.py:5: UserWarning: Unable to sort modes: '<' not supported between instances of 'str' and 'int'\n",
      "  MostCommonMedication=('MedicationName', lambda x: x.mode().iloc[0] if not x.mode().empty else None),\n",
      "C:\\Users\\svkar\\AppData\\Local\\Temp\\ipykernel_824\\1189344984.py:5: UserWarning: Unable to sort modes: '<' not supported between instances of 'str' and 'int'\n",
      "  MostCommonMedication=('MedicationName', lambda x: x.mode().iloc[0] if not x.mode().empty else None),\n",
      "C:\\Users\\svkar\\AppData\\Local\\Temp\\ipykernel_824\\1189344984.py:5: UserWarning: Unable to sort modes: '<' not supported between instances of 'int' and 'str'\n",
      "  MostCommonMedication=('MedicationName', lambda x: x.mode().iloc[0] if not x.mode().empty else None),\n",
      "C:\\Users\\svkar\\AppData\\Local\\Temp\\ipykernel_824\\1189344984.py:5: UserWarning: Unable to sort modes: '<' not supported between instances of 'int' and 'str'\n",
      "  MostCommonMedication=('MedicationName', lambda x: x.mode().iloc[0] if not x.mode().empty else None),\n",
      "C:\\Users\\svkar\\AppData\\Local\\Temp\\ipykernel_824\\1189344984.py:5: UserWarning: Unable to sort modes: '<' not supported between instances of 'str' and 'int'\n",
      "  MostCommonMedication=('MedicationName', lambda x: x.mode().iloc[0] if not x.mode().empty else None),\n",
      "C:\\Users\\svkar\\AppData\\Local\\Temp\\ipykernel_824\\1189344984.py:5: UserWarning: Unable to sort modes: '<' not supported between instances of 'str' and 'int'\n",
      "  MostCommonMedication=('MedicationName', lambda x: x.mode().iloc[0] if not x.mode().empty else None),\n",
      "C:\\Users\\svkar\\AppData\\Local\\Temp\\ipykernel_824\\1189344984.py:5: UserWarning: Unable to sort modes: '<' not supported between instances of 'int' and 'str'\n",
      "  MostCommonMedication=('MedicationName', lambda x: x.mode().iloc[0] if not x.mode().empty else None),\n",
      "C:\\Users\\svkar\\AppData\\Local\\Temp\\ipykernel_824\\1189344984.py:5: UserWarning: Unable to sort modes: '<' not supported between instances of 'int' and 'str'\n",
      "  MostCommonMedication=('MedicationName', lambda x: x.mode().iloc[0] if not x.mode().empty else None),\n",
      "C:\\Users\\svkar\\AppData\\Local\\Temp\\ipykernel_824\\1189344984.py:5: UserWarning: Unable to sort modes: '<' not supported between instances of 'str' and 'int'\n",
      "  MostCommonMedication=('MedicationName', lambda x: x.mode().iloc[0] if not x.mode().empty else None),\n",
      "C:\\Users\\svkar\\AppData\\Local\\Temp\\ipykernel_824\\1189344984.py:5: UserWarning: Unable to sort modes: '<' not supported between instances of 'str' and 'int'\n",
      "  MostCommonMedication=('MedicationName', lambda x: x.mode().iloc[0] if not x.mode().empty else None),\n",
      "C:\\Users\\svkar\\AppData\\Local\\Temp\\ipykernel_824\\1189344984.py:5: UserWarning: Unable to sort modes: '<' not supported between instances of 'int' and 'str'\n",
      "  MostCommonMedication=('MedicationName', lambda x: x.mode().iloc[0] if not x.mode().empty else None),\n",
      "C:\\Users\\svkar\\AppData\\Local\\Temp\\ipykernel_824\\1189344984.py:5: UserWarning: Unable to sort modes: '<' not supported between instances of 'int' and 'str'\n",
      "  MostCommonMedication=('MedicationName', lambda x: x.mode().iloc[0] if not x.mode().empty else None),\n"
     ]
    }
   ],
   "source": [
    "df_med_tot = df_train_sm_new.groupby('PatientGuid').agg(\n",
    "    MostMedicationGuid=('MedicationGuid', lambda x: x.mode().iloc[0] if not x.mode().empty else None),\n",
    "    MedicationNDCCount=(\"NdcCode\", \"count\"), \n",
    "    MostDiagnosisGuid=('DiagnosisGuid', lambda x: x.mode().iloc[0] if not x.mode().empty else None),\n",
    "    MostCommonMedication=('MedicationName', lambda x: x.mode().iloc[0] if not x.mode().empty else None),\n",
    ").reset_index()"
   ]
  },
  {
   "cell_type": "code",
   "execution_count": 93,
   "id": "f722be8c-1211-49af-a94f-c64c745f9058",
   "metadata": {
    "tags": []
   },
   "outputs": [
    {
     "data": {
      "text/plain": [
       "(9846, 5)"
      ]
     },
     "execution_count": 93,
     "metadata": {},
     "output_type": "execute_result"
    }
   ],
   "source": [
    "df_med_tot.shape"
   ]
  },
  {
   "cell_type": "markdown",
   "id": "70f2bb82-c5d8-40b4-8403-f3842b653083",
   "metadata": {},
   "source": [
    "Merging with train and checking shape."
   ]
  },
  {
   "cell_type": "code",
   "execution_count": 94,
   "id": "afb4319c-f3ce-4867-a828-80ec12d76709",
   "metadata": {
    "tags": []
   },
   "outputs": [
    {
     "data": {
      "text/plain": [
       "(6600, 28)"
      ]
     },
     "execution_count": 94,
     "metadata": {},
     "output_type": "execute_result"
    }
   ],
   "source": [
    "df_train_sp_tot=pd.merge(df_train_sp_tot,df_med_tot,how='left')\n",
    "df_train_sp_tot.shape"
   ]
  },
  {
   "cell_type": "markdown",
   "id": "9ec8dea7-7270-49e0-bd94-f375e93d583a",
   "metadata": {},
   "source": [
    "***Prescription***"
   ]
  },
  {
   "cell_type": "code",
   "execution_count": 95,
   "id": "4fec7215-3b69-499b-84b7-6561fdf3ae17",
   "metadata": {
    "tags": []
   },
   "outputs": [
    {
     "data": {
      "text/plain": [
       "Index(['PrescriptionGuid', 'PatientGuid', 'MedicationGuid', 'PrescriptionYear',\n",
       "       'Quantity', 'NumberOfRefills', 'RefillAsNeeded', 'GenericAllowed',\n",
       "       'UserGuid'],\n",
       "      dtype='object')"
      ]
     },
     "execution_count": 95,
     "metadata": {},
     "output_type": "execute_result"
    }
   ],
   "source": [
    "df_train_spr.columns"
   ]
  },
  {
   "cell_type": "code",
   "execution_count": 96,
   "id": "12095c73-4def-4507-bba5-87641d1e2a8b",
   "metadata": {
    "tags": []
   },
   "outputs": [
    {
     "data": {
      "text/html": [
       "<div>\n",
       "<style scoped>\n",
       "    .dataframe tbody tr th:only-of-type {\n",
       "        vertical-align: middle;\n",
       "    }\n",
       "\n",
       "    .dataframe tbody tr th {\n",
       "        vertical-align: top;\n",
       "    }\n",
       "\n",
       "    .dataframe thead th {\n",
       "        text-align: right;\n",
       "    }\n",
       "</style>\n",
       "<table border=\"1\" class=\"dataframe\">\n",
       "  <thead>\n",
       "    <tr style=\"text-align: right;\">\n",
       "      <th></th>\n",
       "      <th>PatientGuid</th>\n",
       "      <th>PrescriptionGuid</th>\n",
       "      <th>MedicationGuid</th>\n",
       "      <th>PrescriptionYear</th>\n",
       "    </tr>\n",
       "  </thead>\n",
       "  <tbody>\n",
       "    <tr>\n",
       "      <th>0</th>\n",
       "      <td>C907DB37-6FFE-4102-B12D-CCE965A91AB6</td>\n",
       "      <td>DD22B641-A6BA-4B0C-957A-00012731F571</td>\n",
       "      <td>81378082-ED3B-4FB4-AADC-E16F96E3FABA</td>\n",
       "      <td>2010</td>\n",
       "    </tr>\n",
       "    <tr>\n",
       "      <th>1</th>\n",
       "      <td>35F5194C-22FE-4960-BAF6-15E616D67B66</td>\n",
       "      <td>736B99DB-34A2-4A08-9760-000201B2D7C7</td>\n",
       "      <td>0873ABE3-E104-4BB3-8416-8C9E1C8912C1</td>\n",
       "      <td>2009</td>\n",
       "    </tr>\n",
       "    <tr>\n",
       "      <th>2</th>\n",
       "      <td>A45C5F8F-030A-421A-BC07-669FDE202D30</td>\n",
       "      <td>2008B573-370C-443E-8486-000201BCFAA6</td>\n",
       "      <td>A0AD4801-7601-4D18-A623-A906DCF42C7E</td>\n",
       "      <td>2010</td>\n",
       "    </tr>\n",
       "    <tr>\n",
       "      <th>3</th>\n",
       "      <td>DC5B1E3B-E789-4BF2-AE36-71465165EF56</td>\n",
       "      <td>C7D62A47-B33B-48CE-9C5A-00022DB765C5</td>\n",
       "      <td>BAC517F0-03E3-4E03-BD7F-0B626E496437</td>\n",
       "      <td>2011</td>\n",
       "    </tr>\n",
       "    <tr>\n",
       "      <th>4</th>\n",
       "      <td>24E8D498-65BE-4F9E-A9FE-6BACD50E5C57</td>\n",
       "      <td>274181D8-7927-4D64-B137-0002E45116CD</td>\n",
       "      <td>C73551FD-A00E-406B-BDE0-4491802954CC</td>\n",
       "      <td>2010</td>\n",
       "    </tr>\n",
       "  </tbody>\n",
       "</table>\n",
       "</div>"
      ],
      "text/plain": [
       "                            PatientGuid                      PrescriptionGuid  \\\n",
       "0  C907DB37-6FFE-4102-B12D-CCE965A91AB6  DD22B641-A6BA-4B0C-957A-00012731F571   \n",
       "1  35F5194C-22FE-4960-BAF6-15E616D67B66  736B99DB-34A2-4A08-9760-000201B2D7C7   \n",
       "2  A45C5F8F-030A-421A-BC07-669FDE202D30  2008B573-370C-443E-8486-000201BCFAA6   \n",
       "3  DC5B1E3B-E789-4BF2-AE36-71465165EF56  C7D62A47-B33B-48CE-9C5A-00022DB765C5   \n",
       "4  24E8D498-65BE-4F9E-A9FE-6BACD50E5C57  274181D8-7927-4D64-B137-0002E45116CD   \n",
       "\n",
       "                         MedicationGuid  PrescriptionYear  \n",
       "0  81378082-ED3B-4FB4-AADC-E16F96E3FABA              2010  \n",
       "1  0873ABE3-E104-4BB3-8416-8C9E1C8912C1              2009  \n",
       "2  A0AD4801-7601-4D18-A623-A906DCF42C7E              2010  \n",
       "3  BAC517F0-03E3-4E03-BD7F-0B626E496437              2011  \n",
       "4  C73551FD-A00E-406B-BDE0-4491802954CC              2010  "
      ]
     },
     "execution_count": 96,
     "metadata": {},
     "output_type": "execute_result"
    }
   ],
   "source": [
    "keep_columns_spr = [\n",
    "    'PatientGuid',         \n",
    "    'PrescriptionGuid',      \n",
    "    'MedicationGuid',          \n",
    "    'PrescriptionYear',       \n",
    "]\n",
    "\n",
    "df_train_spr_new = df_train_spr[keep_columns_spr]\n",
    "df_train_spr_new.head()"
   ]
  },
  {
   "cell_type": "code",
   "execution_count": 97,
   "id": "2823045e-a7bf-4ebd-a126-774778865646",
   "metadata": {
    "tags": []
   },
   "outputs": [],
   "source": [
    "df_prescription_tot = df_train_spr_new.groupby('PatientGuid').agg(\n",
    "    MostPrescriptionGuid=('PrescriptionGuid', lambda x: x.mode().iloc[0] if not x.mode().empty else None),\n",
    "    MostMedicationGuid=('MedicationGuid', lambda x: x.mode().iloc[0] if not x.mode().empty else None),\n",
    "    MostPrescriptionYear=('PrescriptionYear', lambda x: x.mode().iloc[0] if not x.mode().empty else None),\n",
    ").reset_index()"
   ]
  },
  {
   "cell_type": "code",
   "execution_count": 98,
   "id": "9a89a1ba-8dab-4052-9ed2-f4ee7b29c1a8",
   "metadata": {
    "tags": []
   },
   "outputs": [
    {
     "data": {
      "text/plain": [
       "(8953, 4)"
      ]
     },
     "execution_count": 98,
     "metadata": {},
     "output_type": "execute_result"
    }
   ],
   "source": [
    "df_prescription_tot.shape"
   ]
  },
  {
   "cell_type": "markdown",
   "id": "f9c75e80-20b8-4ec9-9aad-301e54eb7e14",
   "metadata": {},
   "source": [
    "Merging with train and checking shape."
   ]
  },
  {
   "cell_type": "code",
   "execution_count": 99,
   "id": "f2cf2992-f81f-4c52-9139-0a7adba185b2",
   "metadata": {
    "tags": []
   },
   "outputs": [
    {
     "data": {
      "text/plain": [
       "(6600, 30)"
      ]
     },
     "execution_count": 99,
     "metadata": {},
     "output_type": "execute_result"
    }
   ],
   "source": [
    "df_train_sp_tot=pd.merge(df_train_sp_tot,df_prescription_tot,how='left')\n",
    "df_train_sp_tot.shape"
   ]
  },
  {
   "cell_type": "markdown",
   "id": "ed542c44-bd67-44c3-ac58-17135ae272cf",
   "metadata": {},
   "source": [
    "### ***Smoking***"
   ]
  },
  {
   "cell_type": "markdown",
   "id": "4736f9a6-a217-4af5-87a2-86c75d5b3e74",
   "metadata": {},
   "source": [
    "#### Smoking Status"
   ]
  },
  {
   "cell_type": "code",
   "execution_count": 100,
   "id": "7f60d6de-ebfe-4c4c-a194-1ef0278b1b41",
   "metadata": {
    "tags": []
   },
   "outputs": [
    {
     "data": {
      "text/plain": [
       "Index(['SmokingStatusGuid', 'Description', 'NISTcode'], dtype='object')"
      ]
     },
     "execution_count": 100,
     "metadata": {},
     "output_type": "execute_result"
    }
   ],
   "source": [
    "df_sss.columns"
   ]
  },
  {
   "cell_type": "code",
   "execution_count": 101,
   "id": "4833f041-b39e-4ec5-afe3-428dccceb4a1",
   "metadata": {
    "tags": []
   },
   "outputs": [
    {
     "data": {
      "text/html": [
       "<div>\n",
       "<style scoped>\n",
       "    .dataframe tbody tr th:only-of-type {\n",
       "        vertical-align: middle;\n",
       "    }\n",
       "\n",
       "    .dataframe tbody tr th {\n",
       "        vertical-align: top;\n",
       "    }\n",
       "\n",
       "    .dataframe thead th {\n",
       "        text-align: right;\n",
       "    }\n",
       "</style>\n",
       "<table border=\"1\" class=\"dataframe\">\n",
       "  <thead>\n",
       "    <tr style=\"text-align: right;\">\n",
       "      <th></th>\n",
       "      <th>SmokingStatusGuid</th>\n",
       "      <th>Description</th>\n",
       "      <th>NISTcode</th>\n",
       "    </tr>\n",
       "  </thead>\n",
       "  <tbody>\n",
       "    <tr>\n",
       "      <th>0</th>\n",
       "      <td>E86CA3A8-E35B-4BBF-80E2-0375AB4A1460</td>\n",
       "      <td>Current status unknown</td>\n",
       "      <td>9</td>\n",
       "    </tr>\n",
       "    <tr>\n",
       "      <th>1</th>\n",
       "      <td>1F3BFBBF-AB76-481B-B1E0-08A3689A54BC</td>\n",
       "      <td>Not a current tobacco user</td>\n",
       "      <td>0</td>\n",
       "    </tr>\n",
       "    <tr>\n",
       "      <th>2</th>\n",
       "      <td>C12C2DB7-D31A-4514-88C0-42CBD339F764</td>\n",
       "      <td>0 cigarettes per day (previous smoker)</td>\n",
       "      <td>3</td>\n",
       "    </tr>\n",
       "    <tr>\n",
       "      <th>3</th>\n",
       "      <td>FA2B7AE4-4D14-4768-A8C7-55B5F0CDF4AF</td>\n",
       "      <td>Few (1-3) cigarettes per day</td>\n",
       "      <td>2</td>\n",
       "    </tr>\n",
       "    <tr>\n",
       "      <th>4</th>\n",
       "      <td>0815F240-3DD3-43C6-8618-613CA9E41F9F</td>\n",
       "      <td>Current status unknown</td>\n",
       "      <td>5</td>\n",
       "    </tr>\n",
       "  </tbody>\n",
       "</table>\n",
       "</div>"
      ],
      "text/plain": [
       "                      SmokingStatusGuid  \\\n",
       "0  E86CA3A8-E35B-4BBF-80E2-0375AB4A1460   \n",
       "1  1F3BFBBF-AB76-481B-B1E0-08A3689A54BC   \n",
       "2  C12C2DB7-D31A-4514-88C0-42CBD339F764   \n",
       "3  FA2B7AE4-4D14-4768-A8C7-55B5F0CDF4AF   \n",
       "4  0815F240-3DD3-43C6-8618-613CA9E41F9F   \n",
       "\n",
       "                              Description  NISTcode  \n",
       "0                  Current status unknown         9  \n",
       "1              Not a current tobacco user         0  \n",
       "2  0 cigarettes per day (previous smoker)         3  \n",
       "3            Few (1-3) cigarettes per day         2  \n",
       "4                  Current status unknown         5  "
      ]
     },
     "execution_count": 101,
     "metadata": {},
     "output_type": "execute_result"
    }
   ],
   "source": [
    "df_sss.head()"
   ]
  },
  {
   "cell_type": "code",
   "execution_count": 102,
   "id": "b646d93f-6d96-4b0a-b647-49db7a923973",
   "metadata": {
    "tags": []
   },
   "outputs": [
    {
     "name": "stdout",
     "output_type": "stream",
     "text": [
      "[9 0 3 2 5 1 4]\n",
      "['Current status unknown' 'Not a current tobacco user'\n",
      " '0 cigarettes per day (previous smoker)' 'Few (1-3) cigarettes per day'\n",
      " '2 or more packs per day' 'Up to 1 pack per day' '1-2 packs per day'\n",
      " '0 cigarettes per day (non-smoker or less than 100 in lifetime)'\n",
      " 'Current Tobacco user']\n"
     ]
    }
   ],
   "source": [
    "unique_NIST = df_sss['NISTcode'].unique()\n",
    "print(unique_NIST)\n",
    "\n",
    "unique_description = df_sss['Description'].unique()\n",
    "print(unique_description)"
   ]
  },
  {
   "cell_type": "code",
   "execution_count": 103,
   "id": "ba285ae3-9ef2-4b8a-82e4-56f9e4495fe0",
   "metadata": {
    "tags": []
   },
   "outputs": [],
   "source": [
    "df_sss.loc[:, 'T2D_Smoking_Flag'] = df_sss.apply(\n",
    "    lambda row: 1 if row['Description'] in ['Current Tobacco user', 'Few (1-3) cigarettes per day', 'Up to 1 pack per day', \n",
    "                                              '1-2 packs per day', '2 or more packs per day'] else 0,\n",
    "    axis=1\n",
    ")"
   ]
  },
  {
   "cell_type": "code",
   "execution_count": 104,
   "id": "4be1a33c-9333-4cee-8894-68433d47209c",
   "metadata": {
    "tags": []
   },
   "outputs": [
    {
     "data": {
      "text/html": [
       "<div>\n",
       "<style scoped>\n",
       "    .dataframe tbody tr th:only-of-type {\n",
       "        vertical-align: middle;\n",
       "    }\n",
       "\n",
       "    .dataframe tbody tr th {\n",
       "        vertical-align: top;\n",
       "    }\n",
       "\n",
       "    .dataframe thead th {\n",
       "        text-align: right;\n",
       "    }\n",
       "</style>\n",
       "<table border=\"1\" class=\"dataframe\">\n",
       "  <thead>\n",
       "    <tr style=\"text-align: right;\">\n",
       "      <th></th>\n",
       "      <th>SmokingStatusGuid</th>\n",
       "      <th>Description</th>\n",
       "      <th>NISTcode</th>\n",
       "      <th>T2D_Smoking_Flag</th>\n",
       "    </tr>\n",
       "  </thead>\n",
       "  <tbody>\n",
       "    <tr>\n",
       "      <th>0</th>\n",
       "      <td>E86CA3A8-E35B-4BBF-80E2-0375AB4A1460</td>\n",
       "      <td>Current status unknown</td>\n",
       "      <td>9</td>\n",
       "      <td>0</td>\n",
       "    </tr>\n",
       "    <tr>\n",
       "      <th>1</th>\n",
       "      <td>1F3BFBBF-AB76-481B-B1E0-08A3689A54BC</td>\n",
       "      <td>Not a current tobacco user</td>\n",
       "      <td>0</td>\n",
       "      <td>0</td>\n",
       "    </tr>\n",
       "    <tr>\n",
       "      <th>2</th>\n",
       "      <td>C12C2DB7-D31A-4514-88C0-42CBD339F764</td>\n",
       "      <td>0 cigarettes per day (previous smoker)</td>\n",
       "      <td>3</td>\n",
       "      <td>0</td>\n",
       "    </tr>\n",
       "    <tr>\n",
       "      <th>3</th>\n",
       "      <td>FA2B7AE4-4D14-4768-A8C7-55B5F0CDF4AF</td>\n",
       "      <td>Few (1-3) cigarettes per day</td>\n",
       "      <td>2</td>\n",
       "      <td>1</td>\n",
       "    </tr>\n",
       "    <tr>\n",
       "      <th>4</th>\n",
       "      <td>0815F240-3DD3-43C6-8618-613CA9E41F9F</td>\n",
       "      <td>Current status unknown</td>\n",
       "      <td>5</td>\n",
       "      <td>0</td>\n",
       "    </tr>\n",
       "  </tbody>\n",
       "</table>\n",
       "</div>"
      ],
      "text/plain": [
       "                      SmokingStatusGuid  \\\n",
       "0  E86CA3A8-E35B-4BBF-80E2-0375AB4A1460   \n",
       "1  1F3BFBBF-AB76-481B-B1E0-08A3689A54BC   \n",
       "2  C12C2DB7-D31A-4514-88C0-42CBD339F764   \n",
       "3  FA2B7AE4-4D14-4768-A8C7-55B5F0CDF4AF   \n",
       "4  0815F240-3DD3-43C6-8618-613CA9E41F9F   \n",
       "\n",
       "                              Description  NISTcode  T2D_Smoking_Flag  \n",
       "0                  Current status unknown         9                 0  \n",
       "1              Not a current tobacco user         0                 0  \n",
       "2  0 cigarettes per day (previous smoker)         3                 0  \n",
       "3            Few (1-3) cigarettes per day         2                 1  \n",
       "4                  Current status unknown         5                 0  "
      ]
     },
     "execution_count": 104,
     "metadata": {},
     "output_type": "execute_result"
    }
   ],
   "source": [
    "df_sss.head()"
   ]
  },
  {
   "cell_type": "code",
   "execution_count": 105,
   "id": "526b4274-790b-4524-a479-e24fde3cd223",
   "metadata": {
    "tags": []
   },
   "outputs": [],
   "source": [
    "df_sss_tot = df_sss.groupby('SmokingStatusGuid').agg(\n",
    "    MostDescription=('Description', lambda x: x.mode().iloc[0] if not x.mode().empty else None),\n",
    "    MostNISTCode=('NISTcode', lambda x: x.mode().iloc[0] if not x.mode().empty else None),\n",
    "    MostT2DSmokingFlag=('T2D_Smoking_Flag', lambda x: x.mode().iloc[0] if not x.mode().empty else None),\n",
    ").reset_index()"
   ]
  },
  {
   "cell_type": "code",
   "execution_count": 106,
   "id": "fb3d210e-ee02-40b4-89d0-f62007e59188",
   "metadata": {
    "tags": []
   },
   "outputs": [
    {
     "data": {
      "text/plain": [
       "(10, 4)"
      ]
     },
     "execution_count": 106,
     "metadata": {},
     "output_type": "execute_result"
    }
   ],
   "source": [
    "df_sss_tot.shape"
   ]
  },
  {
   "cell_type": "markdown",
   "id": "86e7b164-1386-435c-ab09-6f47957fc7c9",
   "metadata": {},
   "source": [
    "#### Patient Smoking Status"
   ]
  },
  {
   "cell_type": "code",
   "execution_count": 107,
   "id": "98c94238-9ffb-4ff2-a5b7-032d779093b2",
   "metadata": {
    "tags": []
   },
   "outputs": [
    {
     "data": {
      "text/plain": [
       "Index(['PatientSmokingStatusGuid', 'PatientGuid', 'SmokingStatusGuid',\n",
       "       'EffectiveYear'],\n",
       "      dtype='object')"
      ]
     },
     "execution_count": 107,
     "metadata": {},
     "output_type": "execute_result"
    }
   ],
   "source": [
    "df_train_spss.columns"
   ]
  },
  {
   "cell_type": "code",
   "execution_count": 108,
   "id": "ffc2e898-7669-4252-a7a7-447f616be8ec",
   "metadata": {
    "tags": []
   },
   "outputs": [
    {
     "data": {
      "text/html": [
       "<div>\n",
       "<style scoped>\n",
       "    .dataframe tbody tr th:only-of-type {\n",
       "        vertical-align: middle;\n",
       "    }\n",
       "\n",
       "    .dataframe tbody tr th {\n",
       "        vertical-align: top;\n",
       "    }\n",
       "\n",
       "    .dataframe thead th {\n",
       "        text-align: right;\n",
       "    }\n",
       "</style>\n",
       "<table border=\"1\" class=\"dataframe\">\n",
       "  <thead>\n",
       "    <tr style=\"text-align: right;\">\n",
       "      <th></th>\n",
       "      <th>PatientGuid</th>\n",
       "      <th>SmokingStatusGuid</th>\n",
       "    </tr>\n",
       "  </thead>\n",
       "  <tbody>\n",
       "    <tr>\n",
       "      <th>0</th>\n",
       "      <td>418B3B82-D178-47D3-A6D4-B9F92A37D7DC</td>\n",
       "      <td>FCD437AA-0451-4D8A-9396-B6F19D8B25E8</td>\n",
       "    </tr>\n",
       "    <tr>\n",
       "      <th>1</th>\n",
       "      <td>53183B47-C9F6-46D4-ACD1-D2B44B6263B0</td>\n",
       "      <td>DD01E545-D7AF-4F00-B248-9FD40010D81D</td>\n",
       "    </tr>\n",
       "    <tr>\n",
       "      <th>2</th>\n",
       "      <td>4E01E2C2-387D-485E-8AFA-312AAB7B5026</td>\n",
       "      <td>1F3BFBBF-AB76-481B-B1E0-08A3689A54BC</td>\n",
       "    </tr>\n",
       "    <tr>\n",
       "      <th>3</th>\n",
       "      <td>B732CBF8-E855-4CA3-9548-7C0A1660CC52</td>\n",
       "      <td>5ABBAB35-836F-4F3E-8632-CE063828DA15</td>\n",
       "    </tr>\n",
       "    <tr>\n",
       "      <th>4</th>\n",
       "      <td>4AE52DF5-AB5B-4272-AF6C-789EFE0B58B3</td>\n",
       "      <td>5ABBAB35-836F-4F3E-8632-CE063828DA15</td>\n",
       "    </tr>\n",
       "  </tbody>\n",
       "</table>\n",
       "</div>"
      ],
      "text/plain": [
       "                            PatientGuid                     SmokingStatusGuid\n",
       "0  418B3B82-D178-47D3-A6D4-B9F92A37D7DC  FCD437AA-0451-4D8A-9396-B6F19D8B25E8\n",
       "1  53183B47-C9F6-46D4-ACD1-D2B44B6263B0  DD01E545-D7AF-4F00-B248-9FD40010D81D\n",
       "2  4E01E2C2-387D-485E-8AFA-312AAB7B5026  1F3BFBBF-AB76-481B-B1E0-08A3689A54BC\n",
       "3  B732CBF8-E855-4CA3-9548-7C0A1660CC52  5ABBAB35-836F-4F3E-8632-CE063828DA15\n",
       "4  4AE52DF5-AB5B-4272-AF6C-789EFE0B58B3  5ABBAB35-836F-4F3E-8632-CE063828DA15"
      ]
     },
     "execution_count": 108,
     "metadata": {},
     "output_type": "execute_result"
    }
   ],
   "source": [
    "keep_columns_spss = [\n",
    "    'PatientGuid',         \n",
    "    'SmokingStatusGuid',            \n",
    "]\n",
    "\n",
    "df_train_spss_new = df_train_spss[keep_columns_spss]\n",
    "df_train_spss_new.head()"
   ]
  },
  {
   "cell_type": "markdown",
   "id": "da977546-3ad2-46ec-a485-276d3f7740e1",
   "metadata": {},
   "source": [
    "#### **Merging Smoking Status & Patient Smoking Status**"
   ]
  },
  {
   "cell_type": "code",
   "execution_count": 109,
   "id": "905ca1d7-19d9-4594-a1d4-d922d7ccf978",
   "metadata": {
    "tags": []
   },
   "outputs": [],
   "source": [
    "df_sss_spss=df_sss_tot.merge(df_train_spss_new,how='left')"
   ]
  },
  {
   "cell_type": "code",
   "execution_count": 110,
   "id": "9e2368a5-c6a0-448d-a9db-7c9448adc519",
   "metadata": {
    "tags": []
   },
   "outputs": [
    {
     "data": {
      "text/plain": [
       "(4940, 5)"
      ]
     },
     "execution_count": 110,
     "metadata": {},
     "output_type": "execute_result"
    }
   ],
   "source": [
    "df_sss_spss.shape"
   ]
  },
  {
   "cell_type": "code",
   "execution_count": 111,
   "id": "c88d930b-ff5f-43ee-80f4-4890d2e14385",
   "metadata": {
    "tags": []
   },
   "outputs": [],
   "source": [
    "df_sss_spss_tot = df_sss_spss.groupby('SmokingStatusGuid').agg(\n",
    "    MostPatientGuid=('PatientGuid', lambda x: x.mode().iloc[0] if not x.mode().empty else None),\n",
    "    MostT2DSmokingFlag=('MostT2DSmokingFlag', lambda x: x.mode().iloc[0] if not x.mode().empty else None),\n",
    "    MostDescription=('MostDescription', lambda x: x.mode().iloc[0] if not x.mode().empty else None),\n",
    "    MostNISTCode=('MostNISTCode', lambda x: x.mode().iloc[0] if not x.mode().empty else None),\n",
    ").reset_index()"
   ]
  },
  {
   "cell_type": "code",
   "execution_count": 112,
   "id": "e0769bb0-9d09-4262-960f-b55765241ca8",
   "metadata": {
    "tags": []
   },
   "outputs": [
    {
     "data": {
      "text/plain": [
       "(10, 5)"
      ]
     },
     "execution_count": 112,
     "metadata": {},
     "output_type": "execute_result"
    }
   ],
   "source": [
    "df_sss_spss_tot.shape"
   ]
  },
  {
   "cell_type": "code",
   "execution_count": 113,
   "id": "75ab7625-23c4-4b6e-b8d0-26c5eb6cc439",
   "metadata": {
    "tags": []
   },
   "outputs": [],
   "source": [
    "df_sss_spss_tot.rename(columns={'MostPatientGuid': 'PatientGuid'}, inplace=True)"
   ]
  },
  {
   "cell_type": "markdown",
   "id": "4e1248bb-1ea1-4c14-8b13-a8f33e25b517",
   "metadata": {},
   "source": [
    "Merging with train and checking shape."
   ]
  },
  {
   "cell_type": "code",
   "execution_count": 114,
   "id": "6fca9ac0-b9c5-4ba9-a278-9d14d24fe857",
   "metadata": {
    "tags": []
   },
   "outputs": [
    {
     "data": {
      "text/plain": [
       "(6600, 34)"
      ]
     },
     "execution_count": 114,
     "metadata": {},
     "output_type": "execute_result"
    }
   ],
   "source": [
    "df_train_sp_tot=pd.merge(df_train_sp_tot,df_sss_spss_tot,how='left')\n",
    "df_train_sp_tot.shape"
   ]
  },
  {
   "cell_type": "markdown",
   "id": "43d56ff2-eb51-426e-9032-79e4ecb981a4",
   "metadata": {},
   "source": [
    "### ***Transcript***"
   ]
  },
  {
   "cell_type": "markdown",
   "id": "f99ad2b4-1ebd-463e-b30d-bb34bb943369",
   "metadata": {},
   "source": [
    "#### Transcript"
   ]
  },
  {
   "cell_type": "code",
   "execution_count": 115,
   "id": "62017cfd-8c6c-4138-847a-a36fab399532",
   "metadata": {
    "tags": []
   },
   "outputs": [
    {
     "data": {
      "text/plain": [
       "Index(['TranscriptGuid', 'PatientGuid', 'VisitYear', 'Height', 'Weight', 'BMI',\n",
       "       'SystolicBP', 'DiastolicBP', 'RespiratoryRate', 'HeartRate',\n",
       "       'Temperature', 'PhysicianSpecialty', 'UserGuid'],\n",
       "      dtype='object')"
      ]
     },
     "execution_count": 115,
     "metadata": {},
     "output_type": "execute_result"
    }
   ],
   "source": [
    "df_train_st.columns"
   ]
  },
  {
   "cell_type": "code",
   "execution_count": 116,
   "id": "4c3d741e-2244-4376-98a7-2b32ccbf88b1",
   "metadata": {
    "tags": []
   },
   "outputs": [
    {
     "data": {
      "text/html": [
       "<div>\n",
       "<style scoped>\n",
       "    .dataframe tbody tr th:only-of-type {\n",
       "        vertical-align: middle;\n",
       "    }\n",
       "\n",
       "    .dataframe tbody tr th {\n",
       "        vertical-align: top;\n",
       "    }\n",
       "\n",
       "    .dataframe thead th {\n",
       "        text-align: right;\n",
       "    }\n",
       "</style>\n",
       "<table border=\"1\" class=\"dataframe\">\n",
       "  <thead>\n",
       "    <tr style=\"text-align: right;\">\n",
       "      <th></th>\n",
       "      <th>TranscriptGuid</th>\n",
       "      <th>PatientGuid</th>\n",
       "      <th>VisitYear</th>\n",
       "      <th>Height</th>\n",
       "      <th>Weight</th>\n",
       "      <th>BMI</th>\n",
       "      <th>SystolicBP</th>\n",
       "      <th>DiastolicBP</th>\n",
       "      <th>RespiratoryRate</th>\n",
       "      <th>HeartRate</th>\n",
       "    </tr>\n",
       "  </thead>\n",
       "  <tbody>\n",
       "    <tr>\n",
       "      <th>0</th>\n",
       "      <td>4E74D809-F0C6-4A4D-8F6F-0000042B3AEA</td>\n",
       "      <td>7F78C9FD-8A95-48DC-B074-FA41F5B41826</td>\n",
       "      <td>2009</td>\n",
       "      <td>63.0</td>\n",
       "      <td>145.8</td>\n",
       "      <td>25.824</td>\n",
       "      <td>0.0</td>\n",
       "      <td>0.0</td>\n",
       "      <td>0.0</td>\n",
       "      <td>0.0</td>\n",
       "    </tr>\n",
       "    <tr>\n",
       "      <th>1</th>\n",
       "      <td>84A5F60E-49F6-4437-BAE1-00004F4D15EE</td>\n",
       "      <td>EE1E2D06-8846-4BF5-9C82-E08BC8798DAE</td>\n",
       "      <td>2011</td>\n",
       "      <td>0.0</td>\n",
       "      <td>0.0</td>\n",
       "      <td>0.000</td>\n",
       "      <td>0.0</td>\n",
       "      <td>0.0</td>\n",
       "      <td>0.0</td>\n",
       "      <td>0.0</td>\n",
       "    </tr>\n",
       "    <tr>\n",
       "      <th>2</th>\n",
       "      <td>7C45CC93-4799-42A1-B6D6-00008D1B3579</td>\n",
       "      <td>1FF23603-B9D4-42B0-B450-BCD5EA46A025</td>\n",
       "      <td>2010</td>\n",
       "      <td>64.5</td>\n",
       "      <td>133.0</td>\n",
       "      <td>22.474</td>\n",
       "      <td>106.0</td>\n",
       "      <td>66.0</td>\n",
       "      <td>0.0</td>\n",
       "      <td>0.0</td>\n",
       "    </tr>\n",
       "    <tr>\n",
       "      <th>3</th>\n",
       "      <td>375F3C1C-0058-4872-B96E-00009FE9328A</td>\n",
       "      <td>16C2D99F-1494-4DF9-82E6-0FA0F0EB1B63</td>\n",
       "      <td>2011</td>\n",
       "      <td>68.0</td>\n",
       "      <td>125.4</td>\n",
       "      <td>19.065</td>\n",
       "      <td>119.0</td>\n",
       "      <td>64.0</td>\n",
       "      <td>0.0</td>\n",
       "      <td>0.0</td>\n",
       "    </tr>\n",
       "    <tr>\n",
       "      <th>4</th>\n",
       "      <td>66439EEB-2FFB-4711-87F2-0001690835A6</td>\n",
       "      <td>18256C20-BAC8-4F57-A03C-2C7152CE1813</td>\n",
       "      <td>2011</td>\n",
       "      <td>0.0</td>\n",
       "      <td>0.0</td>\n",
       "      <td>0.000</td>\n",
       "      <td>0.0</td>\n",
       "      <td>0.0</td>\n",
       "      <td>0.0</td>\n",
       "      <td>0.0</td>\n",
       "    </tr>\n",
       "  </tbody>\n",
       "</table>\n",
       "</div>"
      ],
      "text/plain": [
       "                         TranscriptGuid                           PatientGuid  \\\n",
       "0  4E74D809-F0C6-4A4D-8F6F-0000042B3AEA  7F78C9FD-8A95-48DC-B074-FA41F5B41826   \n",
       "1  84A5F60E-49F6-4437-BAE1-00004F4D15EE  EE1E2D06-8846-4BF5-9C82-E08BC8798DAE   \n",
       "2  7C45CC93-4799-42A1-B6D6-00008D1B3579  1FF23603-B9D4-42B0-B450-BCD5EA46A025   \n",
       "3  375F3C1C-0058-4872-B96E-00009FE9328A  16C2D99F-1494-4DF9-82E6-0FA0F0EB1B63   \n",
       "4  66439EEB-2FFB-4711-87F2-0001690835A6  18256C20-BAC8-4F57-A03C-2C7152CE1813   \n",
       "\n",
       "   VisitYear  Height  Weight     BMI  SystolicBP  DiastolicBP  \\\n",
       "0       2009    63.0   145.8  25.824         0.0          0.0   \n",
       "1       2011     0.0     0.0   0.000         0.0          0.0   \n",
       "2       2010    64.5   133.0  22.474       106.0         66.0   \n",
       "3       2011    68.0   125.4  19.065       119.0         64.0   \n",
       "4       2011     0.0     0.0   0.000         0.0          0.0   \n",
       "\n",
       "   RespiratoryRate  HeartRate  \n",
       "0              0.0        0.0  \n",
       "1              0.0        0.0  \n",
       "2              0.0        0.0  \n",
       "3              0.0        0.0  \n",
       "4              0.0        0.0  "
      ]
     },
     "execution_count": 116,
     "metadata": {},
     "output_type": "execute_result"
    }
   ],
   "source": [
    "keep_columns_st = [\n",
    "    'TranscriptGuid',         \n",
    "    'PatientGuid',      \n",
    "    'VisitYear',          \n",
    "    'Height',\n",
    "    'Weight',\n",
    "    'BMI',\n",
    "    'SystolicBP',\n",
    "    'DiastolicBP',\n",
    "    'RespiratoryRate',\n",
    "    'HeartRate'\n",
    "]\n",
    "\n",
    "df_train_st_new = df_train_st[keep_columns_st]\n",
    "df_train_st_new.head()"
   ]
  },
  {
   "cell_type": "code",
   "execution_count": 117,
   "id": "71f3fd17-c5b6-44a8-aef5-a796a71ff6fb",
   "metadata": {
    "tags": []
   },
   "outputs": [],
   "source": [
    "df_st_tot = df_train_st_new.groupby('PatientGuid').agg(\n",
    "    MostVisitYear=('VisitYear', lambda x: x.mode().iloc[0] if not x.mode().empty else None),\n",
    "    MostTranscriptGuid=('TranscriptGuid', lambda x: x.mode().iloc[0] if not x.mode().empty else None),\n",
    "    AvgHeight=('Height', \"mean\"),\n",
    "    AvgWeight=('Weight', \"mean\"),\n",
    "    AvgBMI=('BMI', \"mean\"),\n",
    "    AvgSystolicBP=('SystolicBP', \"mean\"),\n",
    "    AvgDiastolicBP=('DiastolicBP', \"mean\"),\n",
    "    AvgRespiratoryRate=('RespiratoryRate', \"mean\"),\n",
    "    AvgHeartRate=('HeartRate', \"mean\"),\n",
    ").reset_index()"
   ]
  },
  {
   "cell_type": "code",
   "execution_count": 118,
   "id": "dbcea9af-c6ae-4f39-abac-92e203c006c0",
   "metadata": {
    "tags": []
   },
   "outputs": [
    {
     "data": {
      "text/plain": [
       "(9948, 10)"
      ]
     },
     "execution_count": 118,
     "metadata": {},
     "output_type": "execute_result"
    }
   ],
   "source": [
    "df_st_tot.shape"
   ]
  },
  {
   "cell_type": "markdown",
   "id": "dc50219a-bf7e-4304-a9f8-c043a8fe4416",
   "metadata": {},
   "source": [
    "Merging with train and checking shape."
   ]
  },
  {
   "cell_type": "code",
   "execution_count": 119,
   "id": "40149652-dc98-45cc-9fac-786121efbff0",
   "metadata": {
    "tags": []
   },
   "outputs": [
    {
     "data": {
      "text/plain": [
       "(6600, 43)"
      ]
     },
     "execution_count": 119,
     "metadata": {},
     "output_type": "execute_result"
    }
   ],
   "source": [
    "df_train_sp_tot=pd.merge(df_train_sp_tot,df_st_tot,how='left')\n",
    "df_train_sp_tot.shape"
   ]
  },
  {
   "cell_type": "markdown",
   "id": "f46355c9-00ad-4ad2-809d-7f906ddd61df",
   "metadata": {},
   "source": [
    "#### Transcript Allergy"
   ]
  },
  {
   "cell_type": "code",
   "execution_count": 120,
   "id": "701c4fc6-1f54-4036-b50c-b0293d6d8971",
   "metadata": {
    "tags": []
   },
   "outputs": [
    {
     "data": {
      "text/plain": [
       "Index(['TranscriptAllergyGuid', 'TranscriptGuid', 'AllergyGuid'], dtype='object')"
      ]
     },
     "execution_count": 120,
     "metadata": {},
     "output_type": "execute_result"
    }
   ],
   "source": [
    "df_train_sta.columns"
   ]
  },
  {
   "cell_type": "code",
   "execution_count": 121,
   "id": "a03cf2db-d3b0-4f1d-ab0f-d11f1bdcbc60",
   "metadata": {
    "tags": []
   },
   "outputs": [
    {
     "data": {
      "text/plain": [
       "(801, 3)"
      ]
     },
     "execution_count": 121,
     "metadata": {},
     "output_type": "execute_result"
    }
   ],
   "source": [
    "df_train_sta.shape"
   ]
  },
  {
   "cell_type": "code",
   "execution_count": 122,
   "id": "3c3fd58c-7c71-418a-8219-9f31fbf3642d",
   "metadata": {
    "tags": []
   },
   "outputs": [
    {
     "data": {
      "text/html": [
       "<div>\n",
       "<style scoped>\n",
       "    .dataframe tbody tr th:only-of-type {\n",
       "        vertical-align: middle;\n",
       "    }\n",
       "\n",
       "    .dataframe tbody tr th {\n",
       "        vertical-align: top;\n",
       "    }\n",
       "\n",
       "    .dataframe thead th {\n",
       "        text-align: right;\n",
       "    }\n",
       "</style>\n",
       "<table border=\"1\" class=\"dataframe\">\n",
       "  <thead>\n",
       "    <tr style=\"text-align: right;\">\n",
       "      <th></th>\n",
       "      <th>TranscriptAllergyGuid</th>\n",
       "      <th>TranscriptGuid</th>\n",
       "      <th>AllergyGuid</th>\n",
       "    </tr>\n",
       "  </thead>\n",
       "  <tbody>\n",
       "    <tr>\n",
       "      <th>0</th>\n",
       "      <td>7871260D-D525-4FBC-B747-00BF63BF565F</td>\n",
       "      <td>9994BCA5-70A2-4AA1-AD74-70C76D2E0ED1</td>\n",
       "      <td>496E9CDC-D811-470A-BBC3-11944A1F33D6</td>\n",
       "    </tr>\n",
       "    <tr>\n",
       "      <th>1</th>\n",
       "      <td>17BA575D-8A8C-46E8-B67A-00C9A388D667</td>\n",
       "      <td>FC989B9E-5378-4C32-A7AC-5B65B3743082</td>\n",
       "      <td>51C60FE1-F9E9-4ACA-8C14-CB2342E59E3B</td>\n",
       "    </tr>\n",
       "    <tr>\n",
       "      <th>2</th>\n",
       "      <td>0BC7D70E-1566-4E32-8CEE-010CB8AE06FE</td>\n",
       "      <td>B6B7069D-4D4F-42B8-8DD8-2437D90E6ADA</td>\n",
       "      <td>1A14A7C4-7A7D-4D3F-809C-FBEEFCB9A232</td>\n",
       "    </tr>\n",
       "    <tr>\n",
       "      <th>3</th>\n",
       "      <td>FD726AA1-8E2E-48D3-A6A5-021E8845B483</td>\n",
       "      <td>AA2E21E0-CBB3-4034-9436-AFEF808F7E1B</td>\n",
       "      <td>D998FA81-9D68-409C-BA72-0BAB54197749</td>\n",
       "    </tr>\n",
       "    <tr>\n",
       "      <th>4</th>\n",
       "      <td>6026AB5A-55A0-4294-8C7F-021F7C0D9DFF</td>\n",
       "      <td>0B0898F6-52B3-4E46-948F-6E88A96E427E</td>\n",
       "      <td>B590A7F7-B7A8-475C-9CAC-C5B353B31267</td>\n",
       "    </tr>\n",
       "  </tbody>\n",
       "</table>\n",
       "</div>"
      ],
      "text/plain": [
       "                  TranscriptAllergyGuid                        TranscriptGuid  \\\n",
       "0  7871260D-D525-4FBC-B747-00BF63BF565F  9994BCA5-70A2-4AA1-AD74-70C76D2E0ED1   \n",
       "1  17BA575D-8A8C-46E8-B67A-00C9A388D667  FC989B9E-5378-4C32-A7AC-5B65B3743082   \n",
       "2  0BC7D70E-1566-4E32-8CEE-010CB8AE06FE  B6B7069D-4D4F-42B8-8DD8-2437D90E6ADA   \n",
       "3  FD726AA1-8E2E-48D3-A6A5-021E8845B483  AA2E21E0-CBB3-4034-9436-AFEF808F7E1B   \n",
       "4  6026AB5A-55A0-4294-8C7F-021F7C0D9DFF  0B0898F6-52B3-4E46-948F-6E88A96E427E   \n",
       "\n",
       "                            AllergyGuid  \n",
       "0  496E9CDC-D811-470A-BBC3-11944A1F33D6  \n",
       "1  51C60FE1-F9E9-4ACA-8C14-CB2342E59E3B  \n",
       "2  1A14A7C4-7A7D-4D3F-809C-FBEEFCB9A232  \n",
       "3  D998FA81-9D68-409C-BA72-0BAB54197749  \n",
       "4  B590A7F7-B7A8-475C-9CAC-C5B353B31267  "
      ]
     },
     "execution_count": 122,
     "metadata": {},
     "output_type": "execute_result"
    }
   ],
   "source": [
    "df_train_sta.head()"
   ]
  },
  {
   "cell_type": "code",
   "execution_count": 123,
   "id": "fffb215e-919b-4bbd-8275-5cf00d2043bf",
   "metadata": {
    "tags": []
   },
   "outputs": [],
   "source": [
    "df_st_tot.rename(columns={'MostTranscriptGuid': 'TranscriptGuid'}, inplace=True)"
   ]
  },
  {
   "cell_type": "code",
   "execution_count": 124,
   "id": "bd1ba402-e60b-4025-9804-ed3ab5c7ef1e",
   "metadata": {
    "tags": []
   },
   "outputs": [],
   "source": [
    "df_st_ta = df_st_tot.merge(df_train_sta, how='left')"
   ]
  },
  {
   "cell_type": "code",
   "execution_count": 125,
   "id": "32b86f16-57dd-4411-a285-653090d56972",
   "metadata": {
    "tags": []
   },
   "outputs": [
    {
     "data": {
      "text/plain": [
       "(9957, 12)"
      ]
     },
     "execution_count": 125,
     "metadata": {},
     "output_type": "execute_result"
    }
   ],
   "source": [
    "df_st_ta.shape"
   ]
  },
  {
   "cell_type": "markdown",
   "id": "ad3ca793-7297-4754-a01c-ab13c17156d5",
   "metadata": {},
   "source": [
    "#### Transcript Diagnosis"
   ]
  },
  {
   "cell_type": "code",
   "execution_count": 126,
   "id": "d7ec418e-fd91-4f49-87ef-4d6df195882e",
   "metadata": {
    "tags": []
   },
   "outputs": [
    {
     "data": {
      "text/plain": [
       "Index(['TranscriptDiagnosisGuid', 'TranscriptGuid', 'DiagnosisGuid'], dtype='object')"
      ]
     },
     "execution_count": 126,
     "metadata": {},
     "output_type": "execute_result"
    }
   ],
   "source": [
    "df_train_std.columns"
   ]
  },
  {
   "cell_type": "code",
   "execution_count": 127,
   "id": "915d03be-bfbd-445b-beae-a0b91511da6c",
   "metadata": {
    "tags": []
   },
   "outputs": [
    {
     "data": {
      "text/plain": [
       "(267938, 3)"
      ]
     },
     "execution_count": 127,
     "metadata": {},
     "output_type": "execute_result"
    }
   ],
   "source": [
    "df_train_std.shape"
   ]
  },
  {
   "cell_type": "code",
   "execution_count": 128,
   "id": "2403df2e-dbb5-4cc1-a3a8-8cb6ef84b17c",
   "metadata": {
    "tags": []
   },
   "outputs": [],
   "source": [
    "df_st_ta_td = df_st_ta.merge(df_train_std, how='left')"
   ]
  },
  {
   "cell_type": "code",
   "execution_count": 129,
   "id": "22de97b8-2a2d-4480-9f14-1a9ade14ed0e",
   "metadata": {
    "tags": []
   },
   "outputs": [
    {
     "data": {
      "text/plain": [
       "(24445, 14)"
      ]
     },
     "execution_count": 129,
     "metadata": {},
     "output_type": "execute_result"
    }
   ],
   "source": [
    "df_st_ta_td.shape"
   ]
  },
  {
   "cell_type": "markdown",
   "id": "fced5671-94cd-4d6c-9671-4b3ebb61ebde",
   "metadata": {},
   "source": [
    "#### Transcript Medication"
   ]
  },
  {
   "cell_type": "code",
   "execution_count": 130,
   "id": "ab4dc606-cf61-4f92-aef3-e61c3426fe6f",
   "metadata": {
    "tags": []
   },
   "outputs": [
    {
     "data": {
      "text/plain": [
       "Index(['TranscriptMedicationGuid', 'TranscriptGuid', 'MedicationGuid'], dtype='object')"
      ]
     },
     "execution_count": 130,
     "metadata": {},
     "output_type": "execute_result"
    }
   ],
   "source": [
    "df_train_stm.columns"
   ]
  },
  {
   "cell_type": "code",
   "execution_count": 131,
   "id": "daeeea32-5052-48fb-bad8-33940bdf9a74",
   "metadata": {
    "tags": []
   },
   "outputs": [],
   "source": [
    "df_st_ta_td_tm = df_st_ta_td.merge(df_train_stm, how='left')"
   ]
  },
  {
   "cell_type": "code",
   "execution_count": 132,
   "id": "270291c4-7bfb-4aeb-b40e-813abd12c389",
   "metadata": {
    "tags": []
   },
   "outputs": [
    {
     "data": {
      "text/plain": [
       "(46390, 16)"
      ]
     },
     "execution_count": 132,
     "metadata": {},
     "output_type": "execute_result"
    }
   ],
   "source": [
    "df_st_ta_td_tm.shape"
   ]
  },
  {
   "cell_type": "code",
   "execution_count": 133,
   "id": "33cf1bd7-4952-4baf-b9f7-4578ad317215",
   "metadata": {
    "tags": []
   },
   "outputs": [],
   "source": [
    "df_st_ta_td_tm_tot = df_st_ta_td_tm.groupby('TranscriptGuid').agg(\n",
    "    MostPatientGuid=('PatientGuid', lambda x: x.mode().iloc[0] if not x.mode().empty else None),\n",
    "    MostVisitYear=('MostVisitYear', lambda x: x.mode().iloc[0] if not x.mode().empty else None),\n",
    "    MostTranscriptGuid=('TranscriptGuid', lambda x: x.mode().iloc[0] if not x.mode().empty else None),\n",
    "    MostTranscriptAllergyGuid=('TranscriptAllergyGuid', lambda x: x.mode().iloc[0] if not x.mode().empty else None),\n",
    "    MostTranscriptDiagnosisGuid=('TranscriptDiagnosisGuid', lambda x: x.mode().iloc[0] if not x.mode().empty else None),\n",
    "    MostDiagnosisGuid=('DiagnosisGuid', lambda x: x.mode().iloc[0] if not x.mode().empty else None),\n",
    "    MostTranscriptMedicationGuid=('TranscriptMedicationGuid', lambda x: x.mode().iloc[0] if not x.mode().empty else None),\n",
    "    MostAllergyGuid=('AllergyGuid', lambda x: x.mode().iloc[0] if not x.mode().empty else None),\n",
    "    MostMedicationGuid=('MedicationGuid', lambda x: x.mode().iloc[0] if not x.mode().empty else None),\n",
    "    AvgHeight=('AvgHeight', \"mean\"),\n",
    "    AvgWeight=('AvgWeight', \"mean\"),\n",
    "    AvgBMI=('AvgBMI', \"mean\"),\n",
    "    AvgSystolicBP=('AvgSystolicBP', \"mean\"),\n",
    "    AvgDiastolicBP=('AvgDiastolicBP', \"mean\"),\n",
    "    AvgRespiratoryRate=('AvgRespiratoryRate', \"mean\"),\n",
    "    AvgHeartRate=('AvgHeartRate', \"mean\"),\n",
    ").reset_index()"
   ]
  },
  {
   "cell_type": "code",
   "execution_count": 134,
   "id": "13603ba9-bfa7-4f35-9a9d-fc58e3dfca98",
   "metadata": {
    "tags": []
   },
   "outputs": [
    {
     "data": {
      "text/plain": [
       "(9948, 17)"
      ]
     },
     "execution_count": 134,
     "metadata": {},
     "output_type": "execute_result"
    }
   ],
   "source": [
    "df_st_ta_td_tm_tot.shape"
   ]
  },
  {
   "cell_type": "code",
   "execution_count": 135,
   "id": "672f9e54-7d1d-4c7e-9a43-e6c50ff34f1f",
   "metadata": {
    "tags": []
   },
   "outputs": [],
   "source": [
    "df_st_ta_td_tm_tot.rename(columns={'MostPatientGuid': 'PatientGuid'}, inplace=True)"
   ]
  },
  {
   "cell_type": "markdown",
   "id": "7c981374-5ff2-4236-82bf-042510057fb0",
   "metadata": {},
   "source": [
    "Merging with train and checking shape."
   ]
  },
  {
   "cell_type": "code",
   "execution_count": 136,
   "id": "717458a5-4d68-4c59-9243-f25779a7fabc",
   "metadata": {
    "tags": []
   },
   "outputs": [
    {
     "data": {
      "text/plain": [
       "(6600, 48)"
      ]
     },
     "execution_count": 136,
     "metadata": {},
     "output_type": "execute_result"
    }
   ],
   "source": [
    "df_train_sp_tot=pd.merge(df_train_sp_tot,df_st_ta_td_tm_tot,how='left')\n",
    "df_train_sp_tot.shape"
   ]
  },
  {
   "cell_type": "markdown",
   "id": "17106f67-d675-4d13-a42f-ad3b6fe038e2",
   "metadata": {},
   "source": [
    "### **FINAL TRAINING SET**"
   ]
  },
  {
   "cell_type": "code",
   "execution_count": 137,
   "id": "0d35a097-efb1-4c89-a498-5da6869197b6",
   "metadata": {
    "tags": []
   },
   "outputs": [
    {
     "data": {
      "text/plain": [
       "Index(['PatientGuid', 'DMIndicator', 'Gender', 'YearOfBirth', 'State',\n",
       "       'PracticeGuid', 'MostCommonMedication', 'MedicationNDCCount',\n",
       "       'MostAllergyTypes', 'T2D_Diagnosis_Flag_Mode',\n",
       "       'MostDiagnosisDescription', 'MostCommonICD9', 'MostStartYear',\n",
       "       'MostDiagnosisGuid', 'MostPanelID', 'MostLabObservation',\n",
       "       'MostHL7Identifier', 'MostAbnormalFlags', 'MostIsAbnormalValue',\n",
       "       'MostStatus', 'MostLabTest', 'MostLabResultGuid', 'MostReportYear',\n",
       "       'MostAncestorLabResultGuid', 'ConditionGuid',\n",
       "       'MostPatientConditionGuid', 'MostCreatedYear', 'MostMedicationGuid',\n",
       "       'MostPrescriptionGuid', 'MostPrescriptionYear', 'SmokingStatusGuid',\n",
       "       'MostT2DSmokingFlag', 'MostDescription', 'MostNISTCode',\n",
       "       'MostVisitYear', 'MostTranscriptGuid', 'AvgHeight', 'AvgWeight',\n",
       "       'AvgBMI', 'AvgSystolicBP', 'AvgDiastolicBP', 'AvgRespiratoryRate',\n",
       "       'AvgHeartRate', 'TranscriptGuid', 'MostTranscriptAllergyGuid',\n",
       "       'MostTranscriptDiagnosisGuid', 'MostTranscriptMedicationGuid',\n",
       "       'MostAllergyGuid'],\n",
       "      dtype='object')"
      ]
     },
     "execution_count": 137,
     "metadata": {},
     "output_type": "execute_result"
    }
   ],
   "source": [
    "df_train_sp_tot.columns"
   ]
  },
  {
   "cell_type": "code",
   "execution_count": 138,
   "id": "ce60d9ef-8d97-48c6-a75c-ce5cd6681c7c",
   "metadata": {
    "tags": []
   },
   "outputs": [],
   "source": [
    "df_train_sp_tot.columns = df_train_sp_tot.columns.str.replace(r\"^Most\", \"\", regex=True)"
   ]
  },
  {
   "cell_type": "code",
   "execution_count": 139,
   "id": "9f1f8d11-570d-4b1b-b078-49dae57253e5",
   "metadata": {
    "tags": []
   },
   "outputs": [
    {
     "data": {
      "text/plain": [
       "Index(['PatientGuid', 'DMIndicator', 'Gender', 'YearOfBirth', 'State',\n",
       "       'PracticeGuid', 'CommonMedication', 'MedicationNDCCount',\n",
       "       'AllergyTypes', 'T2D_Diagnosis_Flag_Mode', 'DiagnosisDescription',\n",
       "       'CommonICD9', 'StartYear', 'DiagnosisGuid', 'PanelID', 'LabObservation',\n",
       "       'HL7Identifier', 'AbnormalFlags', 'IsAbnormalValue', 'Status',\n",
       "       'LabTest', 'LabResultGuid', 'ReportYear', 'AncestorLabResultGuid',\n",
       "       'ConditionGuid', 'PatientConditionGuid', 'CreatedYear',\n",
       "       'MedicationGuid', 'PrescriptionGuid', 'PrescriptionYear',\n",
       "       'SmokingStatusGuid', 'T2DSmokingFlag', 'Description', 'NISTCode',\n",
       "       'VisitYear', 'TranscriptGuid', 'AvgHeight', 'AvgWeight', 'AvgBMI',\n",
       "       'AvgSystolicBP', 'AvgDiastolicBP', 'AvgRespiratoryRate', 'AvgHeartRate',\n",
       "       'TranscriptGuid', 'TranscriptAllergyGuid', 'TranscriptDiagnosisGuid',\n",
       "       'TranscriptMedicationGuid', 'AllergyGuid'],\n",
       "      dtype='object')"
      ]
     },
     "execution_count": 139,
     "metadata": {},
     "output_type": "execute_result"
    }
   ],
   "source": [
    "df_train_sp_tot.columns"
   ]
  },
  {
   "cell_type": "markdown",
   "id": "b09ab8db-b11b-4df2-94bd-07331cccae14",
   "metadata": {},
   "source": [
    "Checking shape."
   ]
  },
  {
   "cell_type": "code",
   "execution_count": 140,
   "id": "70665957-c1e8-48da-a63d-544814bda3bd",
   "metadata": {
    "tags": []
   },
   "outputs": [
    {
     "data": {
      "text/plain": [
       "(6600, 48)"
      ]
     },
     "execution_count": 140,
     "metadata": {},
     "output_type": "execute_result"
    }
   ],
   "source": [
    "df_train_sp_tot.shape"
   ]
  },
  {
   "cell_type": "code",
   "execution_count": 141,
   "id": "0ec17812-8aa7-477e-ad2b-a8826cf529d1",
   "metadata": {
    "tags": []
   },
   "outputs": [],
   "source": [
    "relevant_columns = [\n",
    "    'PatientGuid', 'DMIndicator', 'Gender', 'YearOfBirth','State','PracticeGuid'\n",
    "]\n",
    "\n",
    "df_train_final_filtered = df_train_sp_tot[relevant_columns]"
   ]
  },
  {
   "cell_type": "code",
   "execution_count": 142,
   "id": "8f0380cb-e536-47a4-a577-9c75a3acc878",
   "metadata": {
    "tags": []
   },
   "outputs": [],
   "source": [
    "from sklearn.preprocessing import StandardScaler\n",
    "from sklearn.metrics import brier_score_loss\n",
    "from sklearn.preprocessing import LabelEncoder\n",
    "from sklearn.impute import SimpleImputer"
   ]
  },
  {
   "cell_type": "code",
   "execution_count": 143,
   "id": "5adec2b7-e3b0-4ff8-afd3-a8703d4b637a",
   "metadata": {
    "tags": []
   },
   "outputs": [
    {
     "name": "stderr",
     "output_type": "stream",
     "text": [
      "C:\\Users\\svkar\\AppData\\Local\\Temp\\ipykernel_824\\2250894760.py:2: SettingWithCopyWarning: \n",
      "A value is trying to be set on a copy of a slice from a DataFrame.\n",
      "Try using .loc[row_indexer,col_indexer] = value instead\n",
      "\n",
      "See the caveats in the documentation: https://pandas.pydata.org/pandas-docs/stable/user_guide/indexing.html#returning-a-view-versus-a-copy\n",
      "  df_train_final_filtered['Gender'] = df_train_final_filtered['Gender'].astype(str)\n",
      "C:\\Users\\svkar\\AppData\\Local\\Temp\\ipykernel_824\\2250894760.py:3: SettingWithCopyWarning: \n",
      "A value is trying to be set on a copy of a slice from a DataFrame.\n",
      "Try using .loc[row_indexer,col_indexer] = value instead\n",
      "\n",
      "See the caveats in the documentation: https://pandas.pydata.org/pandas-docs/stable/user_guide/indexing.html#returning-a-view-versus-a-copy\n",
      "  df_train_final_filtered['State'] = df_train_final_filtered['State'].astype(str)\n",
      "C:\\Users\\svkar\\AppData\\Local\\Temp\\ipykernel_824\\2250894760.py:4: SettingWithCopyWarning: \n",
      "A value is trying to be set on a copy of a slice from a DataFrame.\n",
      "Try using .loc[row_indexer,col_indexer] = value instead\n",
      "\n",
      "See the caveats in the documentation: https://pandas.pydata.org/pandas-docs/stable/user_guide/indexing.html#returning-a-view-versus-a-copy\n",
      "  df_train_final_filtered['YearOfBirth'] = df_train_final_filtered['YearOfBirth'].astype(str)\n",
      "C:\\Users\\svkar\\AppData\\Local\\Temp\\ipykernel_824\\2250894760.py:5: SettingWithCopyWarning: \n",
      "A value is trying to be set on a copy of a slice from a DataFrame.\n",
      "Try using .loc[row_indexer,col_indexer] = value instead\n",
      "\n",
      "See the caveats in the documentation: https://pandas.pydata.org/pandas-docs/stable/user_guide/indexing.html#returning-a-view-versus-a-copy\n",
      "  df_train_final_filtered['PracticeGuid'] = df_train_final_filtered['PracticeGuid'].astype(str)\n"
     ]
    }
   ],
   "source": [
    "label_encoder = LabelEncoder()\n",
    "df_train_final_filtered['Gender'] = df_train_final_filtered['Gender'].astype(str)\n",
    "df_train_final_filtered['State'] = df_train_final_filtered['State'].astype(str)\n",
    "df_train_final_filtered['YearOfBirth'] = df_train_final_filtered['YearOfBirth'].astype(str)\n",
    "df_train_final_filtered['PracticeGuid'] = df_train_final_filtered['PracticeGuid'].astype(str)"
   ]
  },
  {
   "cell_type": "code",
   "execution_count": 144,
   "id": "0bd15cfc-f39b-4e4a-a61b-eba532bb4e99",
   "metadata": {
    "tags": []
   },
   "outputs": [
    {
     "name": "stderr",
     "output_type": "stream",
     "text": [
      "C:\\Users\\svkar\\AppData\\Local\\Temp\\ipykernel_824\\4194480410.py:1: SettingWithCopyWarning: \n",
      "A value is trying to be set on a copy of a slice from a DataFrame.\n",
      "Try using .loc[row_indexer,col_indexer] = value instead\n",
      "\n",
      "See the caveats in the documentation: https://pandas.pydata.org/pandas-docs/stable/user_guide/indexing.html#returning-a-view-versus-a-copy\n",
      "  df_train_final_filtered['Gender'] = label_encoder.fit_transform(df_train_final_filtered['Gender'])\n",
      "C:\\Users\\svkar\\AppData\\Local\\Temp\\ipykernel_824\\4194480410.py:2: SettingWithCopyWarning: \n",
      "A value is trying to be set on a copy of a slice from a DataFrame.\n",
      "Try using .loc[row_indexer,col_indexer] = value instead\n",
      "\n",
      "See the caveats in the documentation: https://pandas.pydata.org/pandas-docs/stable/user_guide/indexing.html#returning-a-view-versus-a-copy\n",
      "  df_train_final_filtered['State'] = label_encoder.fit_transform(df_train_final_filtered['State'])\n",
      "C:\\Users\\svkar\\AppData\\Local\\Temp\\ipykernel_824\\4194480410.py:3: SettingWithCopyWarning: \n",
      "A value is trying to be set on a copy of a slice from a DataFrame.\n",
      "Try using .loc[row_indexer,col_indexer] = value instead\n",
      "\n",
      "See the caveats in the documentation: https://pandas.pydata.org/pandas-docs/stable/user_guide/indexing.html#returning-a-view-versus-a-copy\n",
      "  df_train_final_filtered['YearOfBirth'] = label_encoder.fit_transform(df_train_final_filtered['YearOfBirth'])\n",
      "C:\\Users\\svkar\\AppData\\Local\\Temp\\ipykernel_824\\4194480410.py:4: SettingWithCopyWarning: \n",
      "A value is trying to be set on a copy of a slice from a DataFrame.\n",
      "Try using .loc[row_indexer,col_indexer] = value instead\n",
      "\n",
      "See the caveats in the documentation: https://pandas.pydata.org/pandas-docs/stable/user_guide/indexing.html#returning-a-view-versus-a-copy\n",
      "  df_train_final_filtered['PracticeGuid'] = label_encoder.fit_transform(df_train_final_filtered['PracticeGuid'])\n"
     ]
    }
   ],
   "source": [
    "df_train_final_filtered['Gender'] = label_encoder.fit_transform(df_train_final_filtered['Gender'])\n",
    "df_train_final_filtered['State'] = label_encoder.fit_transform(df_train_final_filtered['State'])\n",
    "df_train_final_filtered['YearOfBirth'] = label_encoder.fit_transform(df_train_final_filtered['YearOfBirth'])\n",
    "df_train_final_filtered['PracticeGuid'] = label_encoder.fit_transform(df_train_final_filtered['PracticeGuid'])"
   ]
  },
  {
   "cell_type": "code",
   "execution_count": 145,
   "id": "63d32723-53f6-4c33-91fd-fe30c935fc1d",
   "metadata": {
    "tags": []
   },
   "outputs": [
    {
     "name": "stdout",
     "output_type": "stream",
     "text": [
      "Unique values in PatientGuid: ['00023761-9D8D-445B-874C-2424CC7CF620'\n",
      " '0005D9BD-0247-4F02-B7EE-7C1B44825FA1'\n",
      " '00110ABC-DAB9-49E3-A1C8-88BBF8D58109' ...\n",
      " 'FFEF293B-6147-47F0-8F0B-76180C124205'\n",
      " 'FFF2B406-9C3F-4A8B-8B27-7179B7D7FBC6'\n",
      " 'FFF5C634-1CF7-40D5-BDF1-4FA2D62D9C63']\n"
     ]
    },
    {
     "name": "stderr",
     "output_type": "stream",
     "text": [
      "C:\\Users\\svkar\\AppData\\Local\\Temp\\ipykernel_824\\198973311.py:5: SettingWithCopyWarning: \n",
      "A value is trying to be set on a copy of a slice from a DataFrame.\n",
      "Try using .loc[row_indexer,col_indexer] = value instead\n",
      "\n",
      "See the caveats in the documentation: https://pandas.pydata.org/pandas-docs/stable/user_guide/indexing.html#returning-a-view-versus-a-copy\n",
      "  df_train_final_filtered[column] = label_encoder.fit_transform(df_train_final_filtered[column].astype(str))\n"
     ]
    }
   ],
   "source": [
    "non_numeric_columns = df_train_final_filtered.select_dtypes(include=['object']).columns\n",
    "for column in non_numeric_columns:\n",
    "    print(f\"Unique values in {column}: {df_train_final_filtered[column].unique()}\")\n",
    "    label_encoder = LabelEncoder()\n",
    "    df_train_final_filtered[column] = label_encoder.fit_transform(df_train_final_filtered[column].astype(str))"
   ]
  },
  {
   "cell_type": "code",
   "execution_count": 146,
   "id": "12ca49aa-62ee-4669-b486-5a4252d359fe",
   "metadata": {
    "tags": []
   },
   "outputs": [],
   "source": [
    "df_train_final_filtered_imputed = df_train_final_filtered.fillna(0)"
   ]
  },
  {
   "cell_type": "code",
   "execution_count": 147,
   "id": "be56b2f9-fc63-4095-bb3b-318af4ef109b",
   "metadata": {
    "tags": []
   },
   "outputs": [
    {
     "data": {
      "text/plain": [
       "(6600, 6)"
      ]
     },
     "execution_count": 147,
     "metadata": {},
     "output_type": "execute_result"
    }
   ],
   "source": [
    "df_train_final_filtered_imputed.shape"
   ]
  },
  {
   "cell_type": "code",
   "execution_count": 148,
   "id": "7b2234d6-7580-4e30-916a-4fbad4b55c15",
   "metadata": {
    "tags": []
   },
   "outputs": [],
   "source": [
    "from scipy.stats import zscore\n",
    "def remove_outliers(df, z_threshold=3):\n",
    "    for column in df.select_dtypes(include=['float64', 'int64']).columns:\n",
    "        z_scores = pd.Series(zscore(df[column]), index=df.index)\n",
    "        df = df[(z_scores.abs() < z_threshold) | z_scores.isna()]  # Retain NaNs as valid rows\n",
    "    return df"
   ]
  },
  {
   "cell_type": "code",
   "execution_count": 149,
   "id": "247746f4-9a88-452b-a982-bfb6e19d2445",
   "metadata": {
    "tags": []
   },
   "outputs": [],
   "source": [
    "df_train_cleaned = remove_outliers(df_train_final_filtered_imputed)"
   ]
  },
  {
   "cell_type": "code",
   "execution_count": 150,
   "id": "61965d30-bc0c-4926-b622-ce8a695f6f8b",
   "metadata": {
    "tags": []
   },
   "outputs": [
    {
     "data": {
      "text/plain": [
       "(6600, 6)"
      ]
     },
     "execution_count": 150,
     "metadata": {},
     "output_type": "execute_result"
    }
   ],
   "source": [
    "df_train_cleaned.shape"
   ]
  },
  {
   "cell_type": "markdown",
   "id": "860cd775-0d39-4694-9ada-d2730acb7789",
   "metadata": {},
   "source": [
    "### **Test Prediction**"
   ]
  },
  {
   "cell_type": "code",
   "execution_count": 151,
   "id": "7869340e-872b-4429-a08e-2c14453967ab",
   "metadata": {
    "tags": []
   },
   "outputs": [
    {
     "data": {
      "text/plain": [
       "Index(['PatientGuid', 'Gender', 'YearOfBirth', 'State', 'PracticeGuid'], dtype='object')"
      ]
     },
     "execution_count": 151,
     "metadata": {},
     "output_type": "execute_result"
    }
   ],
   "source": [
    "df_test_sp.columns"
   ]
  },
  {
   "cell_type": "code",
   "execution_count": 152,
   "id": "fbb5d538-5ec1-4174-a94c-c3dda9dfd85d",
   "metadata": {
    "tags": []
   },
   "outputs": [],
   "source": [
    "df_test_sp_tot = df_test_sp.groupby(\"PatientGuid\").agg( \n",
    "    Gender=(\"Gender\", lambda x: x.mode().iloc[0] if not x.mode().empty else None),\n",
    "    YearOfBirth=(\"YearOfBirth\", lambda x: x.mode().iloc[0] if not x.mode().empty else None), \n",
    "    State=(\"State\", lambda x: x.mode().iloc[0] if not x.mode().empty else None),\n",
    "    PracticeGuid=(\"PracticeGuid\", lambda x: x.mode().iloc[0] if not x.mode().empty else None),\n",
    ").reset_index()"
   ]
  },
  {
   "cell_type": "code",
   "execution_count": 153,
   "id": "07108fb3-006d-4e35-9fdd-048b23b8588d",
   "metadata": {
    "tags": []
   },
   "outputs": [
    {
     "data": {
      "text/plain": [
       "(3348, 5)"
      ]
     },
     "execution_count": 153,
     "metadata": {},
     "output_type": "execute_result"
    }
   ],
   "source": [
    "df_test_sp_tot.shape"
   ]
  },
  {
   "cell_type": "code",
   "execution_count": 154,
   "id": "7988bb03-12b8-43c1-89e1-e90ad65fb169",
   "metadata": {
    "tags": []
   },
   "outputs": [
    {
     "data": {
      "text/plain": [
       "(6600, 6)"
      ]
     },
     "execution_count": 154,
     "metadata": {},
     "output_type": "execute_result"
    }
   ],
   "source": [
    "df_train_cleaned.shape"
   ]
  },
  {
   "cell_type": "code",
   "execution_count": 155,
   "id": "2d2ef5ed-e95e-425b-9e1b-4302cb044845",
   "metadata": {
    "tags": []
   },
   "outputs": [],
   "source": [
    "X = df_train_cleaned.drop(columns=['PatientGuid', 'DMIndicator'])\n",
    "y = df_train_cleaned['DMIndicator']"
   ]
  },
  {
   "cell_type": "code",
   "execution_count": 156,
   "id": "691daeb1-6293-45a6-a3bc-e2abe3f96c05",
   "metadata": {
    "tags": []
   },
   "outputs": [
    {
     "data": {
      "text/plain": [
       "(6600, 4)"
      ]
     },
     "execution_count": 156,
     "metadata": {},
     "output_type": "execute_result"
    }
   ],
   "source": [
    "X.shape"
   ]
  },
  {
   "cell_type": "code",
   "execution_count": 157,
   "id": "e35ad57b-9b5c-4276-882f-5e6ea96e7549",
   "metadata": {
    "tags": []
   },
   "outputs": [
    {
     "data": {
      "text/plain": [
       "(6600,)"
      ]
     },
     "execution_count": 157,
     "metadata": {},
     "output_type": "execute_result"
    }
   ],
   "source": [
    "y.shape"
   ]
  },
  {
   "cell_type": "code",
   "execution_count": 158,
   "id": "15def78a-ae81-4c41-b827-ebee0f41d58e",
   "metadata": {
    "tags": []
   },
   "outputs": [],
   "source": [
    "test_size = 3348 / 6601"
   ]
  },
  {
   "cell_type": "code",
   "execution_count": 159,
   "id": "bb2ad06a-d5a2-4f61-bd86-9293bb6fbcaa",
   "metadata": {
    "tags": []
   },
   "outputs": [],
   "source": [
    "X_train, X_test, y_train, y_test = train_test_split(X, y, test_size=test_size, random_state=42, stratify=y)"
   ]
  },
  {
   "cell_type": "code",
   "execution_count": 160,
   "id": "2459d83e-a636-454b-9a2d-371a2ce478df",
   "metadata": {
    "tags": []
   },
   "outputs": [
    {
     "data": {
      "text/plain": [
       "(3348, 5)"
      ]
     },
     "execution_count": 160,
     "metadata": {},
     "output_type": "execute_result"
    }
   ],
   "source": [
    "df_test_sp_tot.shape"
   ]
  },
  {
   "cell_type": "code",
   "execution_count": 161,
   "id": "dffcf54b-955d-4e60-9126-9d8a0b2fa3f1",
   "metadata": {
    "tags": []
   },
   "outputs": [
    {
     "data": {
      "text/plain": [
       "(3348, 4)"
      ]
     },
     "execution_count": 161,
     "metadata": {},
     "output_type": "execute_result"
    }
   ],
   "source": [
    "X_test.shape"
   ]
  },
  {
   "cell_type": "code",
   "execution_count": 162,
   "id": "f8724704-b536-4250-8b92-236a64c7069c",
   "metadata": {
    "tags": []
   },
   "outputs": [
    {
     "data": {
      "text/plain": [
       "(3252, 4)"
      ]
     },
     "execution_count": 162,
     "metadata": {},
     "output_type": "execute_result"
    }
   ],
   "source": [
    "X_train.shape"
   ]
  },
  {
   "cell_type": "code",
   "execution_count": 163,
   "id": "5801b79e-2b3b-4ca0-8f6d-ee1b72be0d81",
   "metadata": {
    "tags": []
   },
   "outputs": [
    {
     "data": {
      "text/plain": [
       "(3252,)"
      ]
     },
     "execution_count": 163,
     "metadata": {},
     "output_type": "execute_result"
    }
   ],
   "source": [
    "y_train.shape"
   ]
  },
  {
   "cell_type": "code",
   "execution_count": 164,
   "id": "c2b925ab-e213-4e39-8fdd-a69156b694e3",
   "metadata": {
    "tags": []
   },
   "outputs": [
    {
     "data": {
      "text/plain": [
       "(3348, 4)"
      ]
     },
     "execution_count": 164,
     "metadata": {},
     "output_type": "execute_result"
    }
   ],
   "source": [
    "X_test.shape"
   ]
  },
  {
   "cell_type": "code",
   "execution_count": 165,
   "id": "c726b72a-3570-4f00-bafa-29ac2e29ac56",
   "metadata": {
    "tags": []
   },
   "outputs": [
    {
     "data": {
      "text/plain": [
       "(3348,)"
      ]
     },
     "execution_count": 165,
     "metadata": {},
     "output_type": "execute_result"
    }
   ],
   "source": [
    "y_test.shape"
   ]
  },
  {
   "cell_type": "code",
   "execution_count": 166,
   "id": "3650aae6-e06f-4150-88f7-f42e5bd06584",
   "metadata": {
    "tags": []
   },
   "outputs": [],
   "source": [
    "scaler = StandardScaler()\n",
    "X_train_scaled = scaler.fit_transform(X_train)\n",
    "X_test_scaled = scaler.transform(X_test)"
   ]
  },
  {
   "cell_type": "code",
   "execution_count": 167,
   "id": "2b5362f0-bf37-4401-9a46-0e62af4a5907",
   "metadata": {
    "tags": []
   },
   "outputs": [
    {
     "name": "stdout",
     "output_type": "stream",
     "text": [
      "Before scaling:\n",
      "X_train shape: (3252, 4)\n",
      "y_train shape: (3252,)\n",
      "X_test shape: (3348, 4)\n",
      "y_test shape: (3348,)\n",
      "After scaling:\n",
      "X_train_scaled shape: (3252, 4)\n",
      "X_test_scaled shape: (3348, 4)\n"
     ]
    }
   ],
   "source": [
    "print(\"Before scaling:\")\n",
    "print(\"X_train shape:\", X_train.shape)\n",
    "print(\"y_train shape:\", y_train.shape)\n",
    "print(\"X_test shape:\", X_test.shape)\n",
    "print(\"y_test shape:\", y_test.shape)\n",
    "\n",
    "# After scaling:\n",
    "print(\"After scaling:\")\n",
    "print(\"X_train_scaled shape:\", X_train_scaled.shape)\n",
    "print(\"X_test_scaled shape:\", X_test_scaled.shape)"
   ]
  },
  {
   "cell_type": "code",
   "execution_count": 168,
   "id": "161733ef-cfa0-4ed9-b8f9-b63660d89e67",
   "metadata": {
    "tags": []
   },
   "outputs": [],
   "source": [
    "from sklearn.ensemble import GradientBoostingClassifier\n",
    "from sklearn.model_selection import RandomizedSearchCV, train_test_split, cross_val_predict\n",
    "from sklearn.calibration import CalibratedClassifierCV\n",
    "from sklearn.metrics import brier_score_loss"
   ]
  },
  {
   "cell_type": "code",
   "execution_count": 169,
   "id": "15e298fb-c5b3-4d46-9dbf-8940e2695d0a",
   "metadata": {
    "tags": []
   },
   "outputs": [
    {
     "data": {
      "text/html": [
       "<style>#sk-container-id-1 {color: black;}#sk-container-id-1 pre{padding: 0;}#sk-container-id-1 div.sk-toggleable {background-color: white;}#sk-container-id-1 label.sk-toggleable__label {cursor: pointer;display: block;width: 100%;margin-bottom: 0;padding: 0.3em;box-sizing: border-box;text-align: center;}#sk-container-id-1 label.sk-toggleable__label-arrow:before {content: \"▸\";float: left;margin-right: 0.25em;color: #696969;}#sk-container-id-1 label.sk-toggleable__label-arrow:hover:before {color: black;}#sk-container-id-1 div.sk-estimator:hover label.sk-toggleable__label-arrow:before {color: black;}#sk-container-id-1 div.sk-toggleable__content {max-height: 0;max-width: 0;overflow: hidden;text-align: left;background-color: #f0f8ff;}#sk-container-id-1 div.sk-toggleable__content pre {margin: 0.2em;color: black;border-radius: 0.25em;background-color: #f0f8ff;}#sk-container-id-1 input.sk-toggleable__control:checked~div.sk-toggleable__content {max-height: 200px;max-width: 100%;overflow: auto;}#sk-container-id-1 input.sk-toggleable__control:checked~label.sk-toggleable__label-arrow:before {content: \"▾\";}#sk-container-id-1 div.sk-estimator input.sk-toggleable__control:checked~label.sk-toggleable__label {background-color: #d4ebff;}#sk-container-id-1 div.sk-label input.sk-toggleable__control:checked~label.sk-toggleable__label {background-color: #d4ebff;}#sk-container-id-1 input.sk-hidden--visually {border: 0;clip: rect(1px 1px 1px 1px);clip: rect(1px, 1px, 1px, 1px);height: 1px;margin: -1px;overflow: hidden;padding: 0;position: absolute;width: 1px;}#sk-container-id-1 div.sk-estimator {font-family: monospace;background-color: #f0f8ff;border: 1px dotted black;border-radius: 0.25em;box-sizing: border-box;margin-bottom: 0.5em;}#sk-container-id-1 div.sk-estimator:hover {background-color: #d4ebff;}#sk-container-id-1 div.sk-parallel-item::after {content: \"\";width: 100%;border-bottom: 1px solid gray;flex-grow: 1;}#sk-container-id-1 div.sk-label:hover label.sk-toggleable__label {background-color: #d4ebff;}#sk-container-id-1 div.sk-serial::before {content: \"\";position: absolute;border-left: 1px solid gray;box-sizing: border-box;top: 0;bottom: 0;left: 50%;z-index: 0;}#sk-container-id-1 div.sk-serial {display: flex;flex-direction: column;align-items: center;background-color: white;padding-right: 0.2em;padding-left: 0.2em;position: relative;}#sk-container-id-1 div.sk-item {position: relative;z-index: 1;}#sk-container-id-1 div.sk-parallel {display: flex;align-items: stretch;justify-content: center;background-color: white;position: relative;}#sk-container-id-1 div.sk-item::before, #sk-container-id-1 div.sk-parallel-item::before {content: \"\";position: absolute;border-left: 1px solid gray;box-sizing: border-box;top: 0;bottom: 0;left: 50%;z-index: -1;}#sk-container-id-1 div.sk-parallel-item {display: flex;flex-direction: column;z-index: 1;position: relative;background-color: white;}#sk-container-id-1 div.sk-parallel-item:first-child::after {align-self: flex-end;width: 50%;}#sk-container-id-1 div.sk-parallel-item:last-child::after {align-self: flex-start;width: 50%;}#sk-container-id-1 div.sk-parallel-item:only-child::after {width: 0;}#sk-container-id-1 div.sk-dashed-wrapped {border: 1px dashed gray;margin: 0 0.4em 0.5em 0.4em;box-sizing: border-box;padding-bottom: 0.4em;background-color: white;}#sk-container-id-1 div.sk-label label {font-family: monospace;font-weight: bold;display: inline-block;line-height: 1.2em;}#sk-container-id-1 div.sk-label-container {text-align: center;}#sk-container-id-1 div.sk-container {/* jupyter's `normalize.less` sets `[hidden] { display: none; }` but bootstrap.min.css set `[hidden] { display: none !important; }` so we also need the `!important` here to be able to override the default hidden behavior on the sphinx rendered scikit-learn.org. See: https://github.com/scikit-learn/scikit-learn/issues/21755 */display: inline-block !important;position: relative;}#sk-container-id-1 div.sk-text-repr-fallback {display: none;}</style><div id=\"sk-container-id-1\" class=\"sk-top-container\"><div class=\"sk-text-repr-fallback\"><pre>GradientBoostingClassifier(random_state=42)</pre><b>In a Jupyter environment, please rerun this cell to show the HTML representation or trust the notebook. <br />On GitHub, the HTML representation is unable to render, please try loading this page with nbviewer.org.</b></div><div class=\"sk-container\" hidden><div class=\"sk-item\"><div class=\"sk-estimator sk-toggleable\"><input class=\"sk-toggleable__control sk-hidden--visually\" id=\"sk-estimator-id-1\" type=\"checkbox\" checked><label for=\"sk-estimator-id-1\" class=\"sk-toggleable__label sk-toggleable__label-arrow\">GradientBoostingClassifier</label><div class=\"sk-toggleable__content\"><pre>GradientBoostingClassifier(random_state=42)</pre></div></div></div></div></div>"
      ],
      "text/plain": [
       "GradientBoostingClassifier(random_state=42)"
      ]
     },
     "execution_count": 169,
     "metadata": {},
     "output_type": "execute_result"
    }
   ],
   "source": [
    "base_model = GradientBoostingClassifier(n_estimators=100, random_state=42)\n",
    "base_model.fit(X_train_scaled, y_train)"
   ]
  },
  {
   "cell_type": "code",
   "execution_count": 170,
   "id": "694e7511-0cf3-4677-bfeb-ab6bde5ff9c7",
   "metadata": {
    "tags": []
   },
   "outputs": [
    {
     "name": "stdout",
     "output_type": "stream",
     "text": [
      "Fitting 5 folds for each of 20 candidates, totalling 100 fits\n",
      "[CV] END learning_rate=0.1, max_depth=8, max_features=None, min_samples_leaf=4, min_samples_split=5, n_estimators=200, subsample=0.8; total time=   1.8s\n",
      "[CV] END learning_rate=0.1, max_depth=8, max_features=None, min_samples_leaf=4, min_samples_split=5, n_estimators=200, subsample=0.8; total time=   1.8s\n",
      "[CV] END learning_rate=0.1, max_depth=8, max_features=None, min_samples_leaf=4, min_samples_split=5, n_estimators=200, subsample=0.8; total time=   2.0s\n",
      "[CV] END learning_rate=0.1, max_depth=8, max_features=None, min_samples_leaf=4, min_samples_split=5, n_estimators=200, subsample=0.8; total time=   1.8s\n",
      "[CV] END learning_rate=0.1, max_depth=8, max_features=None, min_samples_leaf=4, min_samples_split=5, n_estimators=200, subsample=0.8; total time=   1.7s\n",
      "[CV] END learning_rate=0.01, max_depth=5, max_features=sqrt, min_samples_leaf=2, min_samples_split=2, n_estimators=100, subsample=1.0; total time=   0.3s\n",
      "[CV] END learning_rate=0.01, max_depth=5, max_features=sqrt, min_samples_leaf=2, min_samples_split=2, n_estimators=100, subsample=1.0; total time=   0.3s\n",
      "[CV] END learning_rate=0.01, max_depth=5, max_features=sqrt, min_samples_leaf=2, min_samples_split=2, n_estimators=100, subsample=1.0; total time=   0.3s\n",
      "[CV] END learning_rate=0.01, max_depth=5, max_features=sqrt, min_samples_leaf=2, min_samples_split=2, n_estimators=100, subsample=1.0; total time=   0.3s\n",
      "[CV] END learning_rate=0.01, max_depth=5, max_features=sqrt, min_samples_leaf=2, min_samples_split=2, n_estimators=100, subsample=1.0; total time=   0.3s\n",
      "[CV] END learning_rate=0.1, max_depth=4, max_features=sqrt, min_samples_leaf=4, min_samples_split=10, n_estimators=100, subsample=1.0; total time=   0.2s\n",
      "[CV] END learning_rate=0.1, max_depth=4, max_features=sqrt, min_samples_leaf=4, min_samples_split=10, n_estimators=100, subsample=1.0; total time=   0.2s\n",
      "[CV] END learning_rate=0.1, max_depth=4, max_features=sqrt, min_samples_leaf=4, min_samples_split=10, n_estimators=100, subsample=1.0; total time=   0.2s\n",
      "[CV] END learning_rate=0.1, max_depth=4, max_features=sqrt, min_samples_leaf=4, min_samples_split=10, n_estimators=100, subsample=1.0; total time=   0.2s\n",
      "[CV] END learning_rate=0.1, max_depth=4, max_features=sqrt, min_samples_leaf=4, min_samples_split=10, n_estimators=100, subsample=1.0; total time=   0.2s\n",
      "[CV] END learning_rate=0.1, max_depth=3, max_features=None, min_samples_leaf=2, min_samples_split=5, n_estimators=50, subsample=0.8; total time=   0.1s\n",
      "[CV] END learning_rate=0.1, max_depth=3, max_features=None, min_samples_leaf=2, min_samples_split=5, n_estimators=50, subsample=0.8; total time=   0.1s\n",
      "[CV] END learning_rate=0.1, max_depth=3, max_features=None, min_samples_leaf=2, min_samples_split=5, n_estimators=50, subsample=0.8; total time=   0.1s\n",
      "[CV] END learning_rate=0.1, max_depth=3, max_features=None, min_samples_leaf=2, min_samples_split=5, n_estimators=50, subsample=0.8; total time=   0.0s\n",
      "[CV] END learning_rate=0.1, max_depth=3, max_features=None, min_samples_leaf=2, min_samples_split=5, n_estimators=50, subsample=0.8; total time=   0.1s\n",
      "[CV] END learning_rate=0.3, max_depth=8, max_features=log2, min_samples_leaf=2, min_samples_split=10, n_estimators=200, subsample=0.7; total time=   1.4s\n",
      "[CV] END learning_rate=0.3, max_depth=8, max_features=log2, min_samples_leaf=2, min_samples_split=10, n_estimators=200, subsample=0.7; total time=   1.3s\n",
      "[CV] END learning_rate=0.3, max_depth=8, max_features=log2, min_samples_leaf=2, min_samples_split=10, n_estimators=200, subsample=0.7; total time=   1.3s\n",
      "[CV] END learning_rate=0.3, max_depth=8, max_features=log2, min_samples_leaf=2, min_samples_split=10, n_estimators=200, subsample=0.7; total time=   1.3s\n",
      "[CV] END learning_rate=0.3, max_depth=8, max_features=log2, min_samples_leaf=2, min_samples_split=10, n_estimators=200, subsample=0.7; total time=   1.4s\n",
      "[CV] END learning_rate=0.3, max_depth=6, max_features=None, min_samples_leaf=2, min_samples_split=10, n_estimators=100, subsample=0.8; total time=   0.5s\n",
      "[CV] END learning_rate=0.3, max_depth=6, max_features=None, min_samples_leaf=2, min_samples_split=10, n_estimators=100, subsample=0.8; total time=   0.5s\n",
      "[CV] END learning_rate=0.3, max_depth=6, max_features=None, min_samples_leaf=2, min_samples_split=10, n_estimators=100, subsample=0.8; total time=   0.5s\n",
      "[CV] END learning_rate=0.3, max_depth=6, max_features=None, min_samples_leaf=2, min_samples_split=10, n_estimators=100, subsample=0.8; total time=   0.5s\n",
      "[CV] END learning_rate=0.3, max_depth=6, max_features=None, min_samples_leaf=2, min_samples_split=10, n_estimators=100, subsample=0.8; total time=   0.6s\n",
      "[CV] END learning_rate=0.1, max_depth=5, max_features=sqrt, min_samples_leaf=2, min_samples_split=5, n_estimators=100, subsample=0.8; total time=   0.3s\n",
      "[CV] END learning_rate=0.1, max_depth=5, max_features=sqrt, min_samples_leaf=2, min_samples_split=5, n_estimators=100, subsample=0.8; total time=   0.3s\n",
      "[CV] END learning_rate=0.1, max_depth=5, max_features=sqrt, min_samples_leaf=2, min_samples_split=5, n_estimators=100, subsample=0.8; total time=   0.3s\n",
      "[CV] END learning_rate=0.1, max_depth=5, max_features=sqrt, min_samples_leaf=2, min_samples_split=5, n_estimators=100, subsample=0.8; total time=   0.3s\n",
      "[CV] END learning_rate=0.1, max_depth=5, max_features=sqrt, min_samples_leaf=2, min_samples_split=5, n_estimators=100, subsample=0.8; total time=   0.3s\n",
      "[CV] END learning_rate=0.1, max_depth=6, max_features=log2, min_samples_leaf=2, min_samples_split=2, n_estimators=200, subsample=0.8; total time=   0.8s\n",
      "[CV] END learning_rate=0.1, max_depth=6, max_features=log2, min_samples_leaf=2, min_samples_split=2, n_estimators=200, subsample=0.8; total time=   0.9s\n",
      "[CV] END learning_rate=0.1, max_depth=6, max_features=log2, min_samples_leaf=2, min_samples_split=2, n_estimators=200, subsample=0.8; total time=   0.9s\n",
      "[CV] END learning_rate=0.1, max_depth=6, max_features=log2, min_samples_leaf=2, min_samples_split=2, n_estimators=200, subsample=0.8; total time=   0.8s\n",
      "[CV] END learning_rate=0.1, max_depth=6, max_features=log2, min_samples_leaf=2, min_samples_split=2, n_estimators=200, subsample=0.8; total time=   0.9s\n",
      "[CV] END learning_rate=0.01, max_depth=4, max_features=sqrt, min_samples_leaf=2, min_samples_split=5, n_estimators=50, subsample=0.8; total time=   0.1s\n",
      "[CV] END learning_rate=0.01, max_depth=4, max_features=sqrt, min_samples_leaf=2, min_samples_split=5, n_estimators=50, subsample=0.8; total time=   0.1s\n",
      "[CV] END learning_rate=0.01, max_depth=4, max_features=sqrt, min_samples_leaf=2, min_samples_split=5, n_estimators=50, subsample=0.8; total time=   0.1s\n",
      "[CV] END learning_rate=0.01, max_depth=4, max_features=sqrt, min_samples_leaf=2, min_samples_split=5, n_estimators=50, subsample=0.8; total time=   0.1s\n",
      "[CV] END learning_rate=0.01, max_depth=4, max_features=sqrt, min_samples_leaf=2, min_samples_split=5, n_estimators=50, subsample=0.8; total time=   0.1s\n",
      "[CV] END learning_rate=0.05, max_depth=7, max_features=None, min_samples_leaf=4, min_samples_split=5, n_estimators=50, subsample=0.8; total time=   0.3s\n",
      "[CV] END learning_rate=0.05, max_depth=7, max_features=None, min_samples_leaf=4, min_samples_split=5, n_estimators=50, subsample=0.8; total time=   0.3s\n",
      "[CV] END learning_rate=0.05, max_depth=7, max_features=None, min_samples_leaf=4, min_samples_split=5, n_estimators=50, subsample=0.8; total time=   0.3s\n",
      "[CV] END learning_rate=0.05, max_depth=7, max_features=None, min_samples_leaf=4, min_samples_split=5, n_estimators=50, subsample=0.8; total time=   0.3s\n",
      "[CV] END learning_rate=0.05, max_depth=7, max_features=None, min_samples_leaf=4, min_samples_split=5, n_estimators=50, subsample=0.8; total time=   0.3s\n",
      "[CV] END learning_rate=0.1, max_depth=4, max_features=None, min_samples_leaf=1, min_samples_split=10, n_estimators=250, subsample=0.8; total time=   0.9s\n",
      "[CV] END learning_rate=0.1, max_depth=4, max_features=None, min_samples_leaf=1, min_samples_split=10, n_estimators=250, subsample=0.8; total time=   0.9s\n",
      "[CV] END learning_rate=0.1, max_depth=4, max_features=None, min_samples_leaf=1, min_samples_split=10, n_estimators=250, subsample=0.8; total time=   0.9s\n",
      "[CV] END learning_rate=0.1, max_depth=4, max_features=None, min_samples_leaf=1, min_samples_split=10, n_estimators=250, subsample=0.8; total time=   0.9s\n",
      "[CV] END learning_rate=0.1, max_depth=4, max_features=None, min_samples_leaf=1, min_samples_split=10, n_estimators=250, subsample=0.8; total time=   0.9s\n",
      "[CV] END learning_rate=0.3, max_depth=7, max_features=None, min_samples_leaf=1, min_samples_split=5, n_estimators=200, subsample=1.0; total time=   1.7s\n",
      "[CV] END learning_rate=0.3, max_depth=7, max_features=None, min_samples_leaf=1, min_samples_split=5, n_estimators=200, subsample=1.0; total time=   1.6s\n",
      "[CV] END learning_rate=0.3, max_depth=7, max_features=None, min_samples_leaf=1, min_samples_split=5, n_estimators=200, subsample=1.0; total time=   1.5s\n",
      "[CV] END learning_rate=0.3, max_depth=7, max_features=None, min_samples_leaf=1, min_samples_split=5, n_estimators=200, subsample=1.0; total time=   1.6s\n",
      "[CV] END learning_rate=0.3, max_depth=7, max_features=None, min_samples_leaf=1, min_samples_split=5, n_estimators=200, subsample=1.0; total time=   1.6s\n",
      "[CV] END learning_rate=0.3, max_depth=7, max_features=sqrt, min_samples_leaf=1, min_samples_split=5, n_estimators=150, subsample=1.0; total time=   0.9s\n",
      "[CV] END learning_rate=0.3, max_depth=7, max_features=sqrt, min_samples_leaf=1, min_samples_split=5, n_estimators=150, subsample=1.0; total time=   1.0s\n",
      "[CV] END learning_rate=0.3, max_depth=7, max_features=sqrt, min_samples_leaf=1, min_samples_split=5, n_estimators=150, subsample=1.0; total time=   0.9s\n",
      "[CV] END learning_rate=0.3, max_depth=7, max_features=sqrt, min_samples_leaf=1, min_samples_split=5, n_estimators=150, subsample=1.0; total time=   1.0s\n",
      "[CV] END learning_rate=0.3, max_depth=7, max_features=sqrt, min_samples_leaf=1, min_samples_split=5, n_estimators=150, subsample=1.0; total time=   1.0s\n",
      "[CV] END learning_rate=0.3, max_depth=6, max_features=log2, min_samples_leaf=1, min_samples_split=10, n_estimators=200, subsample=1.0; total time=   0.9s\n",
      "[CV] END learning_rate=0.3, max_depth=6, max_features=log2, min_samples_leaf=1, min_samples_split=10, n_estimators=200, subsample=1.0; total time=   0.9s\n",
      "[CV] END learning_rate=0.3, max_depth=6, max_features=log2, min_samples_leaf=1, min_samples_split=10, n_estimators=200, subsample=1.0; total time=   0.9s\n",
      "[CV] END learning_rate=0.3, max_depth=6, max_features=log2, min_samples_leaf=1, min_samples_split=10, n_estimators=200, subsample=1.0; total time=   0.9s\n",
      "[CV] END learning_rate=0.3, max_depth=6, max_features=log2, min_samples_leaf=1, min_samples_split=10, n_estimators=200, subsample=1.0; total time=   0.9s\n",
      "[CV] END learning_rate=0.2, max_depth=5, max_features=log2, min_samples_leaf=2, min_samples_split=10, n_estimators=250, subsample=0.7; total time=   0.8s\n",
      "[CV] END learning_rate=0.2, max_depth=5, max_features=log2, min_samples_leaf=2, min_samples_split=10, n_estimators=250, subsample=0.7; total time=   0.8s\n",
      "[CV] END learning_rate=0.2, max_depth=5, max_features=log2, min_samples_leaf=2, min_samples_split=10, n_estimators=250, subsample=0.7; total time=   0.8s\n",
      "[CV] END learning_rate=0.2, max_depth=5, max_features=log2, min_samples_leaf=2, min_samples_split=10, n_estimators=250, subsample=0.7; total time=   0.8s\n",
      "[CV] END learning_rate=0.2, max_depth=5, max_features=log2, min_samples_leaf=2, min_samples_split=10, n_estimators=250, subsample=0.7; total time=   0.8s\n",
      "[CV] END learning_rate=0.01, max_depth=7, max_features=sqrt, min_samples_leaf=2, min_samples_split=5, n_estimators=100, subsample=1.0; total time=   0.7s\n",
      "[CV] END learning_rate=0.01, max_depth=7, max_features=sqrt, min_samples_leaf=2, min_samples_split=5, n_estimators=100, subsample=1.0; total time=   0.7s\n",
      "[CV] END learning_rate=0.01, max_depth=7, max_features=sqrt, min_samples_leaf=2, min_samples_split=5, n_estimators=100, subsample=1.0; total time=   0.7s\n",
      "[CV] END learning_rate=0.01, max_depth=7, max_features=sqrt, min_samples_leaf=2, min_samples_split=5, n_estimators=100, subsample=1.0; total time=   0.7s\n",
      "[CV] END learning_rate=0.01, max_depth=7, max_features=sqrt, min_samples_leaf=2, min_samples_split=5, n_estimators=100, subsample=1.0; total time=   0.7s\n",
      "[CV] END learning_rate=0.01, max_depth=4, max_features=None, min_samples_leaf=4, min_samples_split=2, n_estimators=100, subsample=0.8; total time=   0.3s\n",
      "[CV] END learning_rate=0.01, max_depth=4, max_features=None, min_samples_leaf=4, min_samples_split=2, n_estimators=100, subsample=0.8; total time=   0.3s\n",
      "[CV] END learning_rate=0.01, max_depth=4, max_features=None, min_samples_leaf=4, min_samples_split=2, n_estimators=100, subsample=0.8; total time=   0.4s\n",
      "[CV] END learning_rate=0.01, max_depth=4, max_features=None, min_samples_leaf=4, min_samples_split=2, n_estimators=100, subsample=0.8; total time=   0.3s\n",
      "[CV] END learning_rate=0.01, max_depth=4, max_features=None, min_samples_leaf=4, min_samples_split=2, n_estimators=100, subsample=0.8; total time=   0.3s\n",
      "[CV] END learning_rate=0.3, max_depth=5, max_features=sqrt, min_samples_leaf=2, min_samples_split=2, n_estimators=150, subsample=1.0; total time=   0.5s\n",
      "[CV] END learning_rate=0.3, max_depth=5, max_features=sqrt, min_samples_leaf=2, min_samples_split=2, n_estimators=150, subsample=1.0; total time=   0.5s\n",
      "[CV] END learning_rate=0.3, max_depth=5, max_features=sqrt, min_samples_leaf=2, min_samples_split=2, n_estimators=150, subsample=1.0; total time=   0.5s\n",
      "[CV] END learning_rate=0.3, max_depth=5, max_features=sqrt, min_samples_leaf=2, min_samples_split=2, n_estimators=150, subsample=1.0; total time=   0.6s\n",
      "[CV] END learning_rate=0.3, max_depth=5, max_features=sqrt, min_samples_leaf=2, min_samples_split=2, n_estimators=150, subsample=1.0; total time=   0.5s\n",
      "[CV] END learning_rate=0.1, max_depth=8, max_features=sqrt, min_samples_leaf=2, min_samples_split=5, n_estimators=100, subsample=0.8; total time=   0.7s\n",
      "[CV] END learning_rate=0.1, max_depth=8, max_features=sqrt, min_samples_leaf=2, min_samples_split=5, n_estimators=100, subsample=0.8; total time=   0.7s\n",
      "[CV] END learning_rate=0.1, max_depth=8, max_features=sqrt, min_samples_leaf=2, min_samples_split=5, n_estimators=100, subsample=0.8; total time=   0.7s\n",
      "[CV] END learning_rate=0.1, max_depth=8, max_features=sqrt, min_samples_leaf=2, min_samples_split=5, n_estimators=100, subsample=0.8; total time=   0.8s\n",
      "[CV] END learning_rate=0.1, max_depth=8, max_features=sqrt, min_samples_leaf=2, min_samples_split=5, n_estimators=100, subsample=0.8; total time=   0.7s\n",
      "[CV] END learning_rate=0.05, max_depth=3, max_features=sqrt, min_samples_leaf=1, min_samples_split=2, n_estimators=100, subsample=0.7; total time=   0.2s\n",
      "[CV] END learning_rate=0.05, max_depth=3, max_features=sqrt, min_samples_leaf=1, min_samples_split=2, n_estimators=100, subsample=0.7; total time=   0.1s\n",
      "[CV] END learning_rate=0.05, max_depth=3, max_features=sqrt, min_samples_leaf=1, min_samples_split=2, n_estimators=100, subsample=0.7; total time=   0.1s\n",
      "[CV] END learning_rate=0.05, max_depth=3, max_features=sqrt, min_samples_leaf=1, min_samples_split=2, n_estimators=100, subsample=0.7; total time=   0.1s\n",
      "[CV] END learning_rate=0.05, max_depth=3, max_features=sqrt, min_samples_leaf=1, min_samples_split=2, n_estimators=100, subsample=0.7; total time=   0.2s\n"
     ]
    },
    {
     "data": {
      "text/html": [
       "<style>#sk-container-id-2 {color: black;}#sk-container-id-2 pre{padding: 0;}#sk-container-id-2 div.sk-toggleable {background-color: white;}#sk-container-id-2 label.sk-toggleable__label {cursor: pointer;display: block;width: 100%;margin-bottom: 0;padding: 0.3em;box-sizing: border-box;text-align: center;}#sk-container-id-2 label.sk-toggleable__label-arrow:before {content: \"▸\";float: left;margin-right: 0.25em;color: #696969;}#sk-container-id-2 label.sk-toggleable__label-arrow:hover:before {color: black;}#sk-container-id-2 div.sk-estimator:hover label.sk-toggleable__label-arrow:before {color: black;}#sk-container-id-2 div.sk-toggleable__content {max-height: 0;max-width: 0;overflow: hidden;text-align: left;background-color: #f0f8ff;}#sk-container-id-2 div.sk-toggleable__content pre {margin: 0.2em;color: black;border-radius: 0.25em;background-color: #f0f8ff;}#sk-container-id-2 input.sk-toggleable__control:checked~div.sk-toggleable__content {max-height: 200px;max-width: 100%;overflow: auto;}#sk-container-id-2 input.sk-toggleable__control:checked~label.sk-toggleable__label-arrow:before {content: \"▾\";}#sk-container-id-2 div.sk-estimator input.sk-toggleable__control:checked~label.sk-toggleable__label {background-color: #d4ebff;}#sk-container-id-2 div.sk-label input.sk-toggleable__control:checked~label.sk-toggleable__label {background-color: #d4ebff;}#sk-container-id-2 input.sk-hidden--visually {border: 0;clip: rect(1px 1px 1px 1px);clip: rect(1px, 1px, 1px, 1px);height: 1px;margin: -1px;overflow: hidden;padding: 0;position: absolute;width: 1px;}#sk-container-id-2 div.sk-estimator {font-family: monospace;background-color: #f0f8ff;border: 1px dotted black;border-radius: 0.25em;box-sizing: border-box;margin-bottom: 0.5em;}#sk-container-id-2 div.sk-estimator:hover {background-color: #d4ebff;}#sk-container-id-2 div.sk-parallel-item::after {content: \"\";width: 100%;border-bottom: 1px solid gray;flex-grow: 1;}#sk-container-id-2 div.sk-label:hover label.sk-toggleable__label {background-color: #d4ebff;}#sk-container-id-2 div.sk-serial::before {content: \"\";position: absolute;border-left: 1px solid gray;box-sizing: border-box;top: 0;bottom: 0;left: 50%;z-index: 0;}#sk-container-id-2 div.sk-serial {display: flex;flex-direction: column;align-items: center;background-color: white;padding-right: 0.2em;padding-left: 0.2em;position: relative;}#sk-container-id-2 div.sk-item {position: relative;z-index: 1;}#sk-container-id-2 div.sk-parallel {display: flex;align-items: stretch;justify-content: center;background-color: white;position: relative;}#sk-container-id-2 div.sk-item::before, #sk-container-id-2 div.sk-parallel-item::before {content: \"\";position: absolute;border-left: 1px solid gray;box-sizing: border-box;top: 0;bottom: 0;left: 50%;z-index: -1;}#sk-container-id-2 div.sk-parallel-item {display: flex;flex-direction: column;z-index: 1;position: relative;background-color: white;}#sk-container-id-2 div.sk-parallel-item:first-child::after {align-self: flex-end;width: 50%;}#sk-container-id-2 div.sk-parallel-item:last-child::after {align-self: flex-start;width: 50%;}#sk-container-id-2 div.sk-parallel-item:only-child::after {width: 0;}#sk-container-id-2 div.sk-dashed-wrapped {border: 1px dashed gray;margin: 0 0.4em 0.5em 0.4em;box-sizing: border-box;padding-bottom: 0.4em;background-color: white;}#sk-container-id-2 div.sk-label label {font-family: monospace;font-weight: bold;display: inline-block;line-height: 1.2em;}#sk-container-id-2 div.sk-label-container {text-align: center;}#sk-container-id-2 div.sk-container {/* jupyter's `normalize.less` sets `[hidden] { display: none; }` but bootstrap.min.css set `[hidden] { display: none !important; }` so we also need the `!important` here to be able to override the default hidden behavior on the sphinx rendered scikit-learn.org. See: https://github.com/scikit-learn/scikit-learn/issues/21755 */display: inline-block !important;position: relative;}#sk-container-id-2 div.sk-text-repr-fallback {display: none;}</style><div id=\"sk-container-id-2\" class=\"sk-top-container\"><div class=\"sk-text-repr-fallback\"><pre>RandomizedSearchCV(cv=5, estimator=GradientBoostingClassifier(random_state=42),\n",
       "                   n_iter=20,\n",
       "                   param_distributions={&#x27;learning_rate&#x27;: [0.01, 0.05, 0.1, 0.2,\n",
       "                                                          0.3],\n",
       "                                        &#x27;max_depth&#x27;: [3, 4, 5, 6, 7, 8],\n",
       "                                        &#x27;max_features&#x27;: [&#x27;sqrt&#x27;, &#x27;log2&#x27;, None],\n",
       "                                        &#x27;min_samples_leaf&#x27;: [1, 2, 4],\n",
       "                                        &#x27;min_samples_split&#x27;: [2, 5, 10],\n",
       "                                        &#x27;n_estimators&#x27;: [50, 100, 150, 200,\n",
       "                                                         250],\n",
       "                                        &#x27;subsample&#x27;: [0.7, 0.8, 1.0]},\n",
       "                   random_state=42, scoring=&#x27;neg_brier_score&#x27;, verbose=2)</pre><b>In a Jupyter environment, please rerun this cell to show the HTML representation or trust the notebook. <br />On GitHub, the HTML representation is unable to render, please try loading this page with nbviewer.org.</b></div><div class=\"sk-container\" hidden><div class=\"sk-item sk-dashed-wrapped\"><div class=\"sk-label-container\"><div class=\"sk-label sk-toggleable\"><input class=\"sk-toggleable__control sk-hidden--visually\" id=\"sk-estimator-id-2\" type=\"checkbox\" ><label for=\"sk-estimator-id-2\" class=\"sk-toggleable__label sk-toggleable__label-arrow\">RandomizedSearchCV</label><div class=\"sk-toggleable__content\"><pre>RandomizedSearchCV(cv=5, estimator=GradientBoostingClassifier(random_state=42),\n",
       "                   n_iter=20,\n",
       "                   param_distributions={&#x27;learning_rate&#x27;: [0.01, 0.05, 0.1, 0.2,\n",
       "                                                          0.3],\n",
       "                                        &#x27;max_depth&#x27;: [3, 4, 5, 6, 7, 8],\n",
       "                                        &#x27;max_features&#x27;: [&#x27;sqrt&#x27;, &#x27;log2&#x27;, None],\n",
       "                                        &#x27;min_samples_leaf&#x27;: [1, 2, 4],\n",
       "                                        &#x27;min_samples_split&#x27;: [2, 5, 10],\n",
       "                                        &#x27;n_estimators&#x27;: [50, 100, 150, 200,\n",
       "                                                         250],\n",
       "                                        &#x27;subsample&#x27;: [0.7, 0.8, 1.0]},\n",
       "                   random_state=42, scoring=&#x27;neg_brier_score&#x27;, verbose=2)</pre></div></div></div><div class=\"sk-parallel\"><div class=\"sk-parallel-item\"><div class=\"sk-item\"><div class=\"sk-label-container\"><div class=\"sk-label sk-toggleable\"><input class=\"sk-toggleable__control sk-hidden--visually\" id=\"sk-estimator-id-3\" type=\"checkbox\" ><label for=\"sk-estimator-id-3\" class=\"sk-toggleable__label sk-toggleable__label-arrow\">estimator: GradientBoostingClassifier</label><div class=\"sk-toggleable__content\"><pre>GradientBoostingClassifier(random_state=42)</pre></div></div></div><div class=\"sk-serial\"><div class=\"sk-item\"><div class=\"sk-estimator sk-toggleable\"><input class=\"sk-toggleable__control sk-hidden--visually\" id=\"sk-estimator-id-4\" type=\"checkbox\" ><label for=\"sk-estimator-id-4\" class=\"sk-toggleable__label sk-toggleable__label-arrow\">GradientBoostingClassifier</label><div class=\"sk-toggleable__content\"><pre>GradientBoostingClassifier(random_state=42)</pre></div></div></div></div></div></div></div></div></div></div>"
      ],
      "text/plain": [
       "RandomizedSearchCV(cv=5, estimator=GradientBoostingClassifier(random_state=42),\n",
       "                   n_iter=20,\n",
       "                   param_distributions={'learning_rate': [0.01, 0.05, 0.1, 0.2,\n",
       "                                                          0.3],\n",
       "                                        'max_depth': [3, 4, 5, 6, 7, 8],\n",
       "                                        'max_features': ['sqrt', 'log2', None],\n",
       "                                        'min_samples_leaf': [1, 2, 4],\n",
       "                                        'min_samples_split': [2, 5, 10],\n",
       "                                        'n_estimators': [50, 100, 150, 200,\n",
       "                                                         250],\n",
       "                                        'subsample': [0.7, 0.8, 1.0]},\n",
       "                   random_state=42, scoring='neg_brier_score', verbose=2)"
      ]
     },
     "execution_count": 170,
     "metadata": {},
     "output_type": "execute_result"
    }
   ],
   "source": [
    "param_grid = {\n",
    "    'n_estimators': [50, 100, 150, 200, 250],\n",
    "    'learning_rate': [0.01, 0.05, 0.1, 0.2, 0.3],\n",
    "    'max_depth': [3, 4, 5, 6, 7, 8],\n",
    "    'subsample': [0.7, 0.8, 1.0],\n",
    "    'min_samples_split': [2, 5, 10],\n",
    "    'min_samples_leaf': [1, 2, 4],\n",
    "    'max_features': ['sqrt', 'log2', None]\n",
    "}\n",
    "\n",
    "gb_model = GradientBoostingClassifier(random_state=42)\n",
    "random_search = RandomizedSearchCV(gb_model, param_grid, cv=5, scoring='neg_brier_score', n_iter=20, random_state=42, verbose=2)\n",
    "random_search.fit(X_train_scaled, y_train)"
   ]
  },
  {
   "cell_type": "code",
   "execution_count": 171,
   "id": "d8fa634a-5a48-4b59-9dae-fe8d832895b1",
   "metadata": {
    "tags": []
   },
   "outputs": [
    {
     "data": {
      "text/html": [
       "<style>#sk-container-id-3 {color: black;}#sk-container-id-3 pre{padding: 0;}#sk-container-id-3 div.sk-toggleable {background-color: white;}#sk-container-id-3 label.sk-toggleable__label {cursor: pointer;display: block;width: 100%;margin-bottom: 0;padding: 0.3em;box-sizing: border-box;text-align: center;}#sk-container-id-3 label.sk-toggleable__label-arrow:before {content: \"▸\";float: left;margin-right: 0.25em;color: #696969;}#sk-container-id-3 label.sk-toggleable__label-arrow:hover:before {color: black;}#sk-container-id-3 div.sk-estimator:hover label.sk-toggleable__label-arrow:before {color: black;}#sk-container-id-3 div.sk-toggleable__content {max-height: 0;max-width: 0;overflow: hidden;text-align: left;background-color: #f0f8ff;}#sk-container-id-3 div.sk-toggleable__content pre {margin: 0.2em;color: black;border-radius: 0.25em;background-color: #f0f8ff;}#sk-container-id-3 input.sk-toggleable__control:checked~div.sk-toggleable__content {max-height: 200px;max-width: 100%;overflow: auto;}#sk-container-id-3 input.sk-toggleable__control:checked~label.sk-toggleable__label-arrow:before {content: \"▾\";}#sk-container-id-3 div.sk-estimator input.sk-toggleable__control:checked~label.sk-toggleable__label {background-color: #d4ebff;}#sk-container-id-3 div.sk-label input.sk-toggleable__control:checked~label.sk-toggleable__label {background-color: #d4ebff;}#sk-container-id-3 input.sk-hidden--visually {border: 0;clip: rect(1px 1px 1px 1px);clip: rect(1px, 1px, 1px, 1px);height: 1px;margin: -1px;overflow: hidden;padding: 0;position: absolute;width: 1px;}#sk-container-id-3 div.sk-estimator {font-family: monospace;background-color: #f0f8ff;border: 1px dotted black;border-radius: 0.25em;box-sizing: border-box;margin-bottom: 0.5em;}#sk-container-id-3 div.sk-estimator:hover {background-color: #d4ebff;}#sk-container-id-3 div.sk-parallel-item::after {content: \"\";width: 100%;border-bottom: 1px solid gray;flex-grow: 1;}#sk-container-id-3 div.sk-label:hover label.sk-toggleable__label {background-color: #d4ebff;}#sk-container-id-3 div.sk-serial::before {content: \"\";position: absolute;border-left: 1px solid gray;box-sizing: border-box;top: 0;bottom: 0;left: 50%;z-index: 0;}#sk-container-id-3 div.sk-serial {display: flex;flex-direction: column;align-items: center;background-color: white;padding-right: 0.2em;padding-left: 0.2em;position: relative;}#sk-container-id-3 div.sk-item {position: relative;z-index: 1;}#sk-container-id-3 div.sk-parallel {display: flex;align-items: stretch;justify-content: center;background-color: white;position: relative;}#sk-container-id-3 div.sk-item::before, #sk-container-id-3 div.sk-parallel-item::before {content: \"\";position: absolute;border-left: 1px solid gray;box-sizing: border-box;top: 0;bottom: 0;left: 50%;z-index: -1;}#sk-container-id-3 div.sk-parallel-item {display: flex;flex-direction: column;z-index: 1;position: relative;background-color: white;}#sk-container-id-3 div.sk-parallel-item:first-child::after {align-self: flex-end;width: 50%;}#sk-container-id-3 div.sk-parallel-item:last-child::after {align-self: flex-start;width: 50%;}#sk-container-id-3 div.sk-parallel-item:only-child::after {width: 0;}#sk-container-id-3 div.sk-dashed-wrapped {border: 1px dashed gray;margin: 0 0.4em 0.5em 0.4em;box-sizing: border-box;padding-bottom: 0.4em;background-color: white;}#sk-container-id-3 div.sk-label label {font-family: monospace;font-weight: bold;display: inline-block;line-height: 1.2em;}#sk-container-id-3 div.sk-label-container {text-align: center;}#sk-container-id-3 div.sk-container {/* jupyter's `normalize.less` sets `[hidden] { display: none; }` but bootstrap.min.css set `[hidden] { display: none !important; }` so we also need the `!important` here to be able to override the default hidden behavior on the sphinx rendered scikit-learn.org. See: https://github.com/scikit-learn/scikit-learn/issues/21755 */display: inline-block !important;position: relative;}#sk-container-id-3 div.sk-text-repr-fallback {display: none;}</style><div id=\"sk-container-id-3\" class=\"sk-top-container\"><div class=\"sk-text-repr-fallback\"><pre>CalibratedClassifierCV(cv=&#x27;prefit&#x27;,\n",
       "                       estimator=GradientBoostingClassifier(learning_rate=0.05,\n",
       "                                                            max_features=&#x27;sqrt&#x27;,\n",
       "                                                            random_state=42,\n",
       "                                                            subsample=0.7),\n",
       "                       method=&#x27;isotonic&#x27;)</pre><b>In a Jupyter environment, please rerun this cell to show the HTML representation or trust the notebook. <br />On GitHub, the HTML representation is unable to render, please try loading this page with nbviewer.org.</b></div><div class=\"sk-container\" hidden><div class=\"sk-item sk-dashed-wrapped\"><div class=\"sk-label-container\"><div class=\"sk-label sk-toggleable\"><input class=\"sk-toggleable__control sk-hidden--visually\" id=\"sk-estimator-id-5\" type=\"checkbox\" ><label for=\"sk-estimator-id-5\" class=\"sk-toggleable__label sk-toggleable__label-arrow\">CalibratedClassifierCV</label><div class=\"sk-toggleable__content\"><pre>CalibratedClassifierCV(cv=&#x27;prefit&#x27;,\n",
       "                       estimator=GradientBoostingClassifier(learning_rate=0.05,\n",
       "                                                            max_features=&#x27;sqrt&#x27;,\n",
       "                                                            random_state=42,\n",
       "                                                            subsample=0.7),\n",
       "                       method=&#x27;isotonic&#x27;)</pre></div></div></div><div class=\"sk-parallel\"><div class=\"sk-parallel-item\"><div class=\"sk-item\"><div class=\"sk-label-container\"><div class=\"sk-label sk-toggleable\"><input class=\"sk-toggleable__control sk-hidden--visually\" id=\"sk-estimator-id-6\" type=\"checkbox\" ><label for=\"sk-estimator-id-6\" class=\"sk-toggleable__label sk-toggleable__label-arrow\">estimator: GradientBoostingClassifier</label><div class=\"sk-toggleable__content\"><pre>GradientBoostingClassifier(learning_rate=0.05, max_features=&#x27;sqrt&#x27;,\n",
       "                           random_state=42, subsample=0.7)</pre></div></div></div><div class=\"sk-serial\"><div class=\"sk-item\"><div class=\"sk-estimator sk-toggleable\"><input class=\"sk-toggleable__control sk-hidden--visually\" id=\"sk-estimator-id-7\" type=\"checkbox\" ><label for=\"sk-estimator-id-7\" class=\"sk-toggleable__label sk-toggleable__label-arrow\">GradientBoostingClassifier</label><div class=\"sk-toggleable__content\"><pre>GradientBoostingClassifier(learning_rate=0.05, max_features=&#x27;sqrt&#x27;,\n",
       "                           random_state=42, subsample=0.7)</pre></div></div></div></div></div></div></div></div></div></div>"
      ],
      "text/plain": [
       "CalibratedClassifierCV(cv='prefit',\n",
       "                       estimator=GradientBoostingClassifier(learning_rate=0.05,\n",
       "                                                            max_features='sqrt',\n",
       "                                                            random_state=42,\n",
       "                                                            subsample=0.7),\n",
       "                       method='isotonic')"
      ]
     },
     "execution_count": 171,
     "metadata": {},
     "output_type": "execute_result"
    }
   ],
   "source": [
    "best_gb_model = random_search.best_estimator_\n",
    "calibrated_model = CalibratedClassifierCV(best_gb_model, method='isotonic', cv='prefit')\n",
    "calibrated_model.fit(X_train_scaled, y_train)"
   ]
  },
  {
   "cell_type": "code",
   "execution_count": 172,
   "id": "1034703d-d0aa-41c8-981d-5a5afad8e408",
   "metadata": {
    "tags": []
   },
   "outputs": [
    {
     "name": "stdout",
     "output_type": "stream",
     "text": [
      "Final Calibrated Brier Score: 0.14572124724946223\n"
     ]
    }
   ],
   "source": [
    "y_pred_proba = calibrated_model.predict_proba(X_test_scaled)[:, 1]\n",
    "brier_score = brier_score_loss(y_test, y_pred_proba)\n",
    "print(f\"Final Calibrated Brier Score: {brier_score}\")"
   ]
  },
  {
   "cell_type": "code",
   "execution_count": 173,
   "id": "a61aa632-e491-422a-9ddd-82cfae105cb8",
   "metadata": {
    "tags": []
   },
   "outputs": [
    {
     "data": {
      "text/plain": [
       "3348"
      ]
     },
     "execution_count": 173,
     "metadata": {},
     "output_type": "execute_result"
    }
   ],
   "source": [
    "y_pred_proba.size"
   ]
  },
  {
   "cell_type": "code",
   "execution_count": 174,
   "id": "8702fe6d-62e4-4f24-b621-5e8a985afc03",
   "metadata": {
    "tags": []
   },
   "outputs": [
    {
     "data": {
      "text/plain": [
       "Index(['PatientGuid', 'DMIndicator', 'Gender', 'YearOfBirth', 'State',\n",
       "       'PracticeGuid'],\n",
       "      dtype='object')"
      ]
     },
     "execution_count": 174,
     "metadata": {},
     "output_type": "execute_result"
    }
   ],
   "source": [
    "df_train_cleaned.columns"
   ]
  },
  {
   "cell_type": "code",
   "execution_count": 175,
   "id": "a0c71cd5-8028-456b-9236-f03a4fef5c82",
   "metadata": {
    "tags": []
   },
   "outputs": [
    {
     "data": {
      "text/plain": [
       "Index(['PatientGuid', 'Gender', 'YearOfBirth', 'State', 'PracticeGuid'], dtype='object')"
      ]
     },
     "execution_count": 175,
     "metadata": {},
     "output_type": "execute_result"
    }
   ],
   "source": [
    "df_test_sp_tot.columns"
   ]
  },
  {
   "cell_type": "code",
   "execution_count": 176,
   "id": "dc706010-616a-46bc-ac61-47f811a67fda",
   "metadata": {
    "tags": []
   },
   "outputs": [],
   "source": [
    "results = pd.DataFrame({\n",
    "    'PatientGuid': df_test_sp_tot['PatientGuid'],  \n",
    "    'DMIndicatorForecast': y_pred_proba  \n",
    "})"
   ]
  },
  {
   "cell_type": "code",
   "execution_count": 177,
   "id": "8a624ead-23b6-4efa-a54a-d9ce22e8a35a",
   "metadata": {
    "tags": []
   },
   "outputs": [
    {
     "name": "stdout",
     "output_type": "stream",
     "text": [
      "File saved successfully at C:/Users/svkar/Downloads/test_SyncPatientForecast.csv\n"
     ]
    }
   ],
   "source": [
    "output_file_path = \"C:/Users/svkar/Downloads/test_SyncPatientForecast.csv\"\n",
    "results.to_csv(output_file_path, index=False)\n",
    "print(f\"File saved successfully at {output_file_path}\")"
   ]
  },
  {
   "cell_type": "markdown",
   "id": "d71338d6-63bf-462d-bc4b-79950f848757",
   "metadata": {
    "jp-MarkdownHeadingCollapsed": true,
    "tags": []
   },
   "source": [
    "### Saving File"
   ]
  },
  {
   "cell_type": "code",
   "execution_count": 178,
   "id": "031e5e2b-f877-4b00-adb5-54fa60a953cd",
   "metadata": {
    "tags": []
   },
   "outputs": [],
   "source": [
    "df_test_sp_aligned = df_test_sp_tot.iloc[:X_test_scaled.shape[0]]"
   ]
  },
  {
   "cell_type": "code",
   "execution_count": 179,
   "id": "80563ce0-fb09-40ad-aae4-9a01a86182da",
   "metadata": {
    "tags": []
   },
   "outputs": [],
   "source": [
    "results = pd.DataFrame({\n",
    "    'PatientGuid': df_test_sp_tot['PatientGuid'],  \n",
    "    'DMIndicatorForecast': y_pred_proba  \n",
    "})"
   ]
  },
  {
   "cell_type": "code",
   "execution_count": 180,
   "id": "c336d7f2-cd7c-4a77-b7cd-cc3ef3fd9121",
   "metadata": {
    "tags": []
   },
   "outputs": [],
   "source": [
    "results.to_csv('test_SyncPatientForecast.csv', index=False)"
   ]
  },
  {
   "cell_type": "code",
   "execution_count": 181,
   "id": "34d59496-c5d0-4afc-823d-4c361a664215",
   "metadata": {
    "tags": []
   },
   "outputs": [
    {
     "name": "stdout",
     "output_type": "stream",
     "text": [
      "                               PatientGuid  DMIndicatorForecast\n",
      "0     000B4862-7CE7-4EC5-8043-A97FCD74BD78             0.004484\n",
      "1     003CEE1F-5BF5-4171-9284-F5464EC12D41             0.004484\n",
      "2     004382BD-E31F-4091-8DE5-E86A59D70C2D             0.004484\n",
      "3     004EA6A7-6159-4D70-B06A-C0391D8623BD             0.081571\n",
      "4     0063B34F-C2C4-423A-A144-E51F7149253A             0.333333\n",
      "...                                    ...                  ...\n",
      "3343  FF9BA1EB-03AB-47FE-B110-B559D8E0835B             0.023077\n",
      "3344  FFA25126-98E0-46E2-9B80-FBEEEA1C7D71             0.812500\n",
      "3345  FFB3BB66-F74A-462E-A9B8-F982857B4CB3             0.212871\n",
      "3346  FFC8E19F-A199-46A3-895A-E3C07FBAC809             0.004484\n",
      "3347  FFCD70A8-72FC-4F06-AC19-D9962B2CA95E             0.473684\n",
      "\n",
      "[3348 rows x 2 columns]\n"
     ]
    }
   ],
   "source": [
    "print(results)"
   ]
  },
  {
   "cell_type": "code",
   "execution_count": 182,
   "id": "02295430-7d62-4776-af56-ca2bed230415",
   "metadata": {
    "tags": []
   },
   "outputs": [
    {
     "name": "stdout",
     "output_type": "stream",
     "text": [
      "C:\\Users\\svkar\\Data Science in Healthcare\n"
     ]
    }
   ],
   "source": [
    "import os\n",
    "print(os.getcwd())"
   ]
  },
  {
   "cell_type": "code",
   "execution_count": 183,
   "id": "1e27fafb-5667-4aef-a1d3-c937015b18f6",
   "metadata": {
    "tags": []
   },
   "outputs": [
    {
     "data": {
      "text/html": [
       "<a href='test_SyncPatientForecast.csv' target='_blank'>test_SyncPatientForecast.csv</a><br>"
      ],
      "text/plain": [
       "C:\\Users\\svkar\\Data Science in Healthcare\\test_SyncPatientForecast.csv"
      ]
     },
     "execution_count": 183,
     "metadata": {},
     "output_type": "execute_result"
    }
   ],
   "source": [
    "from IPython.display import FileLink\n",
    "results.to_csv('test_SyncPatientForecast.csv', index=False)\n",
    "FileLink('test_SyncPatientForecast.csv')"
   ]
  },
  {
   "cell_type": "code",
   "execution_count": 184,
   "id": "3d57d39e-b98a-4e41-9828-195d9d9b96a4",
   "metadata": {
    "tags": []
   },
   "outputs": [],
   "source": [
    "output_file_path = \"C:/Users/svkar/OneDrive/Documents\""
   ]
  },
  {
   "cell_type": "code",
   "execution_count": 185,
   "id": "62ef03a4-4d0a-4053-b8a5-f034f5afb543",
   "metadata": {
    "tags": []
   },
   "outputs": [
    {
     "name": "stdout",
     "output_type": "stream",
     "text": [
      "File saved successfully at C:/Users/svkar/Downloads/test_SyncPatientForecast.csv\n"
     ]
    }
   ],
   "source": [
    "output_file_path = \"C:/Users/svkar/Downloads/test_SyncPatientForecast.csv\"\n",
    "results.to_csv(output_file_path, index=False)\n",
    "print(f\"File saved successfully at {output_file_path}\")"
   ]
  },
  {
   "cell_type": "markdown",
   "id": "c76c22b0-2bca-4c28-89e9-2f9f412f698e",
   "metadata": {
    "tags": []
   },
   "source": [
    "### Stacking Model"
   ]
  },
  {
   "cell_type": "code",
   "execution_count": 186,
   "id": "7be4f94a-9849-4bc8-811e-09daf49176a8",
   "metadata": {
    "tags": []
   },
   "outputs": [],
   "source": [
    "from sklearn.ensemble import StackingClassifier\n",
    "from sklearn.linear_model import LogisticRegression\n",
    "from sklearn.svm import SVC\n",
    "from sklearn.tree import DecisionTreeClassifier\n",
    "from sklearn.ensemble import GradientBoostingRegressor, RandomForestRegressor\n",
    "from sklearn.linear_model import LinearRegression\n",
    "from sklearn.ensemble import StackingRegressor\n",
    "from sklearn.model_selection import GridSearchCV\n",
    "from sklearn.preprocessing import StandardScaler, PolynomialFeatures"
   ]
  },
  {
   "cell_type": "code",
   "execution_count": 187,
   "id": "0957b6a0-99da-48c6-985d-64b427a7b370",
   "metadata": {
    "tags": []
   },
   "outputs": [],
   "source": [
    "model = GradientBoostingClassifier()\n",
    "param_grid = {\n",
    "    'n_estimators': [50, 100, 200],\n",
    "    'learning_rate': [0.01, 0.1, 0.5],\n",
    "    'max_depth': [3, 5, 7]\n",
    "}"
   ]
  },
  {
   "cell_type": "code",
   "execution_count": 188,
   "id": "2f6b982b-12bd-4a8d-8c53-59c0ae063612",
   "metadata": {
    "tags": []
   },
   "outputs": [],
   "source": [
    "poly = PolynomialFeatures(degree=2)\n",
    "X_train_poly = poly.fit_transform(X_train_scaled)\n",
    "X_test_poly = poly.transform(X_test_scaled)"
   ]
  },
  {
   "cell_type": "code",
   "execution_count": 189,
   "id": "99cf2d45-1479-4112-9bc6-00c2a8c2ca6e",
   "metadata": {
    "tags": []
   },
   "outputs": [
    {
     "data": {
      "text/html": [
       "<style>#sk-container-id-4 {color: black;}#sk-container-id-4 pre{padding: 0;}#sk-container-id-4 div.sk-toggleable {background-color: white;}#sk-container-id-4 label.sk-toggleable__label {cursor: pointer;display: block;width: 100%;margin-bottom: 0;padding: 0.3em;box-sizing: border-box;text-align: center;}#sk-container-id-4 label.sk-toggleable__label-arrow:before {content: \"▸\";float: left;margin-right: 0.25em;color: #696969;}#sk-container-id-4 label.sk-toggleable__label-arrow:hover:before {color: black;}#sk-container-id-4 div.sk-estimator:hover label.sk-toggleable__label-arrow:before {color: black;}#sk-container-id-4 div.sk-toggleable__content {max-height: 0;max-width: 0;overflow: hidden;text-align: left;background-color: #f0f8ff;}#sk-container-id-4 div.sk-toggleable__content pre {margin: 0.2em;color: black;border-radius: 0.25em;background-color: #f0f8ff;}#sk-container-id-4 input.sk-toggleable__control:checked~div.sk-toggleable__content {max-height: 200px;max-width: 100%;overflow: auto;}#sk-container-id-4 input.sk-toggleable__control:checked~label.sk-toggleable__label-arrow:before {content: \"▾\";}#sk-container-id-4 div.sk-estimator input.sk-toggleable__control:checked~label.sk-toggleable__label {background-color: #d4ebff;}#sk-container-id-4 div.sk-label input.sk-toggleable__control:checked~label.sk-toggleable__label {background-color: #d4ebff;}#sk-container-id-4 input.sk-hidden--visually {border: 0;clip: rect(1px 1px 1px 1px);clip: rect(1px, 1px, 1px, 1px);height: 1px;margin: -1px;overflow: hidden;padding: 0;position: absolute;width: 1px;}#sk-container-id-4 div.sk-estimator {font-family: monospace;background-color: #f0f8ff;border: 1px dotted black;border-radius: 0.25em;box-sizing: border-box;margin-bottom: 0.5em;}#sk-container-id-4 div.sk-estimator:hover {background-color: #d4ebff;}#sk-container-id-4 div.sk-parallel-item::after {content: \"\";width: 100%;border-bottom: 1px solid gray;flex-grow: 1;}#sk-container-id-4 div.sk-label:hover label.sk-toggleable__label {background-color: #d4ebff;}#sk-container-id-4 div.sk-serial::before {content: \"\";position: absolute;border-left: 1px solid gray;box-sizing: border-box;top: 0;bottom: 0;left: 50%;z-index: 0;}#sk-container-id-4 div.sk-serial {display: flex;flex-direction: column;align-items: center;background-color: white;padding-right: 0.2em;padding-left: 0.2em;position: relative;}#sk-container-id-4 div.sk-item {position: relative;z-index: 1;}#sk-container-id-4 div.sk-parallel {display: flex;align-items: stretch;justify-content: center;background-color: white;position: relative;}#sk-container-id-4 div.sk-item::before, #sk-container-id-4 div.sk-parallel-item::before {content: \"\";position: absolute;border-left: 1px solid gray;box-sizing: border-box;top: 0;bottom: 0;left: 50%;z-index: -1;}#sk-container-id-4 div.sk-parallel-item {display: flex;flex-direction: column;z-index: 1;position: relative;background-color: white;}#sk-container-id-4 div.sk-parallel-item:first-child::after {align-self: flex-end;width: 50%;}#sk-container-id-4 div.sk-parallel-item:last-child::after {align-self: flex-start;width: 50%;}#sk-container-id-4 div.sk-parallel-item:only-child::after {width: 0;}#sk-container-id-4 div.sk-dashed-wrapped {border: 1px dashed gray;margin: 0 0.4em 0.5em 0.4em;box-sizing: border-box;padding-bottom: 0.4em;background-color: white;}#sk-container-id-4 div.sk-label label {font-family: monospace;font-weight: bold;display: inline-block;line-height: 1.2em;}#sk-container-id-4 div.sk-label-container {text-align: center;}#sk-container-id-4 div.sk-container {/* jupyter's `normalize.less` sets `[hidden] { display: none; }` but bootstrap.min.css set `[hidden] { display: none !important; }` so we also need the `!important` here to be able to override the default hidden behavior on the sphinx rendered scikit-learn.org. See: https://github.com/scikit-learn/scikit-learn/issues/21755 */display: inline-block !important;position: relative;}#sk-container-id-4 div.sk-text-repr-fallback {display: none;}</style><div id=\"sk-container-id-4\" class=\"sk-top-container\"><div class=\"sk-text-repr-fallback\"><pre>GridSearchCV(cv=5, estimator=GradientBoostingClassifier(),\n",
       "             param_grid={&#x27;learning_rate&#x27;: [0.01, 0.1, 0.5],\n",
       "                         &#x27;max_depth&#x27;: [3, 5, 7],\n",
       "                         &#x27;n_estimators&#x27;: [50, 100, 200]})</pre><b>In a Jupyter environment, please rerun this cell to show the HTML representation or trust the notebook. <br />On GitHub, the HTML representation is unable to render, please try loading this page with nbviewer.org.</b></div><div class=\"sk-container\" hidden><div class=\"sk-item sk-dashed-wrapped\"><div class=\"sk-label-container\"><div class=\"sk-label sk-toggleable\"><input class=\"sk-toggleable__control sk-hidden--visually\" id=\"sk-estimator-id-8\" type=\"checkbox\" ><label for=\"sk-estimator-id-8\" class=\"sk-toggleable__label sk-toggleable__label-arrow\">GridSearchCV</label><div class=\"sk-toggleable__content\"><pre>GridSearchCV(cv=5, estimator=GradientBoostingClassifier(),\n",
       "             param_grid={&#x27;learning_rate&#x27;: [0.01, 0.1, 0.5],\n",
       "                         &#x27;max_depth&#x27;: [3, 5, 7],\n",
       "                         &#x27;n_estimators&#x27;: [50, 100, 200]})</pre></div></div></div><div class=\"sk-parallel\"><div class=\"sk-parallel-item\"><div class=\"sk-item\"><div class=\"sk-label-container\"><div class=\"sk-label sk-toggleable\"><input class=\"sk-toggleable__control sk-hidden--visually\" id=\"sk-estimator-id-9\" type=\"checkbox\" ><label for=\"sk-estimator-id-9\" class=\"sk-toggleable__label sk-toggleable__label-arrow\">estimator: GradientBoostingClassifier</label><div class=\"sk-toggleable__content\"><pre>GradientBoostingClassifier()</pre></div></div></div><div class=\"sk-serial\"><div class=\"sk-item\"><div class=\"sk-estimator sk-toggleable\"><input class=\"sk-toggleable__control sk-hidden--visually\" id=\"sk-estimator-id-10\" type=\"checkbox\" ><label for=\"sk-estimator-id-10\" class=\"sk-toggleable__label sk-toggleable__label-arrow\">GradientBoostingClassifier</label><div class=\"sk-toggleable__content\"><pre>GradientBoostingClassifier()</pre></div></div></div></div></div></div></div></div></div></div>"
      ],
      "text/plain": [
       "GridSearchCV(cv=5, estimator=GradientBoostingClassifier(),\n",
       "             param_grid={'learning_rate': [0.01, 0.1, 0.5],\n",
       "                         'max_depth': [3, 5, 7],\n",
       "                         'n_estimators': [50, 100, 200]})"
      ]
     },
     "execution_count": 189,
     "metadata": {},
     "output_type": "execute_result"
    }
   ],
   "source": [
    "grid_search = GridSearchCV(estimator=model, param_grid=param_grid, cv=5)\n",
    "grid_search.fit(X_train_poly, y_train)"
   ]
  },
  {
   "cell_type": "code",
   "execution_count": 190,
   "id": "04b499e8-58f4-49ed-9a4c-907e92fade64",
   "metadata": {
    "tags": []
   },
   "outputs": [
    {
     "data": {
      "text/html": [
       "<style>#sk-container-id-5 {color: black;}#sk-container-id-5 pre{padding: 0;}#sk-container-id-5 div.sk-toggleable {background-color: white;}#sk-container-id-5 label.sk-toggleable__label {cursor: pointer;display: block;width: 100%;margin-bottom: 0;padding: 0.3em;box-sizing: border-box;text-align: center;}#sk-container-id-5 label.sk-toggleable__label-arrow:before {content: \"▸\";float: left;margin-right: 0.25em;color: #696969;}#sk-container-id-5 label.sk-toggleable__label-arrow:hover:before {color: black;}#sk-container-id-5 div.sk-estimator:hover label.sk-toggleable__label-arrow:before {color: black;}#sk-container-id-5 div.sk-toggleable__content {max-height: 0;max-width: 0;overflow: hidden;text-align: left;background-color: #f0f8ff;}#sk-container-id-5 div.sk-toggleable__content pre {margin: 0.2em;color: black;border-radius: 0.25em;background-color: #f0f8ff;}#sk-container-id-5 input.sk-toggleable__control:checked~div.sk-toggleable__content {max-height: 200px;max-width: 100%;overflow: auto;}#sk-container-id-5 input.sk-toggleable__control:checked~label.sk-toggleable__label-arrow:before {content: \"▾\";}#sk-container-id-5 div.sk-estimator input.sk-toggleable__control:checked~label.sk-toggleable__label {background-color: #d4ebff;}#sk-container-id-5 div.sk-label input.sk-toggleable__control:checked~label.sk-toggleable__label {background-color: #d4ebff;}#sk-container-id-5 input.sk-hidden--visually {border: 0;clip: rect(1px 1px 1px 1px);clip: rect(1px, 1px, 1px, 1px);height: 1px;margin: -1px;overflow: hidden;padding: 0;position: absolute;width: 1px;}#sk-container-id-5 div.sk-estimator {font-family: monospace;background-color: #f0f8ff;border: 1px dotted black;border-radius: 0.25em;box-sizing: border-box;margin-bottom: 0.5em;}#sk-container-id-5 div.sk-estimator:hover {background-color: #d4ebff;}#sk-container-id-5 div.sk-parallel-item::after {content: \"\";width: 100%;border-bottom: 1px solid gray;flex-grow: 1;}#sk-container-id-5 div.sk-label:hover label.sk-toggleable__label {background-color: #d4ebff;}#sk-container-id-5 div.sk-serial::before {content: \"\";position: absolute;border-left: 1px solid gray;box-sizing: border-box;top: 0;bottom: 0;left: 50%;z-index: 0;}#sk-container-id-5 div.sk-serial {display: flex;flex-direction: column;align-items: center;background-color: white;padding-right: 0.2em;padding-left: 0.2em;position: relative;}#sk-container-id-5 div.sk-item {position: relative;z-index: 1;}#sk-container-id-5 div.sk-parallel {display: flex;align-items: stretch;justify-content: center;background-color: white;position: relative;}#sk-container-id-5 div.sk-item::before, #sk-container-id-5 div.sk-parallel-item::before {content: \"\";position: absolute;border-left: 1px solid gray;box-sizing: border-box;top: 0;bottom: 0;left: 50%;z-index: -1;}#sk-container-id-5 div.sk-parallel-item {display: flex;flex-direction: column;z-index: 1;position: relative;background-color: white;}#sk-container-id-5 div.sk-parallel-item:first-child::after {align-self: flex-end;width: 50%;}#sk-container-id-5 div.sk-parallel-item:last-child::after {align-self: flex-start;width: 50%;}#sk-container-id-5 div.sk-parallel-item:only-child::after {width: 0;}#sk-container-id-5 div.sk-dashed-wrapped {border: 1px dashed gray;margin: 0 0.4em 0.5em 0.4em;box-sizing: border-box;padding-bottom: 0.4em;background-color: white;}#sk-container-id-5 div.sk-label label {font-family: monospace;font-weight: bold;display: inline-block;line-height: 1.2em;}#sk-container-id-5 div.sk-label-container {text-align: center;}#sk-container-id-5 div.sk-container {/* jupyter's `normalize.less` sets `[hidden] { display: none; }` but bootstrap.min.css set `[hidden] { display: none !important; }` so we also need the `!important` here to be able to override the default hidden behavior on the sphinx rendered scikit-learn.org. See: https://github.com/scikit-learn/scikit-learn/issues/21755 */display: inline-block !important;position: relative;}#sk-container-id-5 div.sk-text-repr-fallback {display: none;}</style><div id=\"sk-container-id-5\" class=\"sk-top-container\"><div class=\"sk-text-repr-fallback\"><pre>CalibratedClassifierCV(estimator=GradientBoostingClassifier(learning_rate=0.01,\n",
       "                                                            n_estimators=50))</pre><b>In a Jupyter environment, please rerun this cell to show the HTML representation or trust the notebook. <br />On GitHub, the HTML representation is unable to render, please try loading this page with nbviewer.org.</b></div><div class=\"sk-container\" hidden><div class=\"sk-item sk-dashed-wrapped\"><div class=\"sk-label-container\"><div class=\"sk-label sk-toggleable\"><input class=\"sk-toggleable__control sk-hidden--visually\" id=\"sk-estimator-id-11\" type=\"checkbox\" ><label for=\"sk-estimator-id-11\" class=\"sk-toggleable__label sk-toggleable__label-arrow\">CalibratedClassifierCV</label><div class=\"sk-toggleable__content\"><pre>CalibratedClassifierCV(estimator=GradientBoostingClassifier(learning_rate=0.01,\n",
       "                                                            n_estimators=50))</pre></div></div></div><div class=\"sk-parallel\"><div class=\"sk-parallel-item\"><div class=\"sk-item\"><div class=\"sk-label-container\"><div class=\"sk-label sk-toggleable\"><input class=\"sk-toggleable__control sk-hidden--visually\" id=\"sk-estimator-id-12\" type=\"checkbox\" ><label for=\"sk-estimator-id-12\" class=\"sk-toggleable__label sk-toggleable__label-arrow\">estimator: GradientBoostingClassifier</label><div class=\"sk-toggleable__content\"><pre>GradientBoostingClassifier(learning_rate=0.01, n_estimators=50)</pre></div></div></div><div class=\"sk-serial\"><div class=\"sk-item\"><div class=\"sk-estimator sk-toggleable\"><input class=\"sk-toggleable__control sk-hidden--visually\" id=\"sk-estimator-id-13\" type=\"checkbox\" ><label for=\"sk-estimator-id-13\" class=\"sk-toggleable__label sk-toggleable__label-arrow\">GradientBoostingClassifier</label><div class=\"sk-toggleable__content\"><pre>GradientBoostingClassifier(learning_rate=0.01, n_estimators=50)</pre></div></div></div></div></div></div></div></div></div></div>"
      ],
      "text/plain": [
       "CalibratedClassifierCV(estimator=GradientBoostingClassifier(learning_rate=0.01,\n",
       "                                                            n_estimators=50))"
      ]
     },
     "execution_count": 190,
     "metadata": {},
     "output_type": "execute_result"
    }
   ],
   "source": [
    "best_model = grid_search.best_estimator_\n",
    "calibrated_model = CalibratedClassifierCV(best_model, method='sigmoid')\n",
    "calibrated_model.fit(X_train_poly, y_train)"
   ]
  },
  {
   "cell_type": "code",
   "execution_count": 191,
   "id": "61cd1a8b-bc97-4d05-a4c5-a388a32fb3f7",
   "metadata": {
    "tags": []
   },
   "outputs": [],
   "source": [
    "y_pred_calibrated = calibrated_model.predict_proba(X_test_poly)[:, 1]"
   ]
  },
  {
   "cell_type": "code",
   "execution_count": 192,
   "id": "183ddbdb-6646-4add-8c8c-c77accc95c87",
   "metadata": {
    "tags": []
   },
   "outputs": [
    {
     "name": "stdout",
     "output_type": "stream",
     "text": [
      "Final Calibrated Brier Score: 0.14303585695691762\n"
     ]
    }
   ],
   "source": [
    "brier_score = brier_score_loss(y_test, y_pred_calibrated)\n",
    "print(f\"Final Calibrated Brier Score: {brier_score}\")"
   ]
  },
  {
   "cell_type": "code",
   "execution_count": 193,
   "id": "0cfb9161-a6ef-4fd2-ab01-5efa7a7d12a6",
   "metadata": {
    "tags": []
   },
   "outputs": [],
   "source": [
    "results = pd.DataFrame({\n",
    "    'PatientGuid': df_test_sp_tot['PatientGuid'],  \n",
    "    'DMIndicatorForecast': y_pred_calibrated  \n",
    "})"
   ]
  },
  {
   "cell_type": "code",
   "execution_count": 194,
   "id": "0a69accb-c9f3-4154-a2bf-a2665dd916c0",
   "metadata": {
    "tags": []
   },
   "outputs": [
    {
     "name": "stdout",
     "output_type": "stream",
     "text": [
      "File saved successfully at C:/Users/svkar/Downloads/test_SyncPatientForecast_2.csv\n"
     ]
    }
   ],
   "source": [
    "output_file_path = \"C:/Users/svkar/Downloads/test_SyncPatientForecast_2.csv\"\n",
    "results.to_csv(output_file_path, index=False)\n",
    "print(f\"File saved successfully at {output_file_path}\")"
   ]
  },
  {
   "cell_type": "markdown",
   "id": "5c091f9c",
   "metadata": {},
   "source": [
    "#### Model with Flags Included"
   ]
  },
  {
   "cell_type": "code",
   "execution_count": 195,
   "id": "6a5fe28c",
   "metadata": {},
   "outputs": [
    {
     "data": {
      "text/plain": [
       "Index(['PatientGuid', 'DMIndicator', 'Gender', 'YearOfBirth', 'State',\n",
       "       'PracticeGuid', 'CommonMedication', 'MedicationNDCCount',\n",
       "       'AllergyTypes', 'T2D_Diagnosis_Flag_Mode', 'DiagnosisDescription',\n",
       "       'CommonICD9', 'StartYear', 'DiagnosisGuid', 'PanelID', 'LabObservation',\n",
       "       'HL7Identifier', 'AbnormalFlags', 'IsAbnormalValue', 'Status',\n",
       "       'LabTest', 'LabResultGuid', 'ReportYear', 'AncestorLabResultGuid',\n",
       "       'ConditionGuid', 'PatientConditionGuid', 'CreatedYear',\n",
       "       'MedicationGuid', 'PrescriptionGuid', 'PrescriptionYear',\n",
       "       'SmokingStatusGuid', 'T2DSmokingFlag', 'Description', 'NISTCode',\n",
       "       'VisitYear', 'TranscriptGuid', 'AvgHeight', 'AvgWeight', 'AvgBMI',\n",
       "       'AvgSystolicBP', 'AvgDiastolicBP', 'AvgRespiratoryRate', 'AvgHeartRate',\n",
       "       'TranscriptGuid', 'TranscriptAllergyGuid', 'TranscriptDiagnosisGuid',\n",
       "       'TranscriptMedicationGuid', 'AllergyGuid'],\n",
       "      dtype='object')"
      ]
     },
     "execution_count": 195,
     "metadata": {},
     "output_type": "execute_result"
    }
   ],
   "source": [
    "df_train_sp_tot.columns"
   ]
  },
  {
   "cell_type": "code",
   "execution_count": 196,
   "id": "21e317ca",
   "metadata": {},
   "outputs": [],
   "source": [
    "columns_to_keep = ['PatientGuid', 'DMIndicator', 'Gender', 'YearOfBirth', 'State', 'PracticeGuid','T2D_Diagnosis_Flag_Mode','AbnormalFlags','T2DSmokingFlag']\n",
    "df_train_sp_tot_filtered = df_train_sp_tot[columns_to_keep]"
   ]
  },
  {
   "cell_type": "code",
   "execution_count": 197,
   "id": "cb751b7d",
   "metadata": {},
   "outputs": [
    {
     "data": {
      "text/plain": [
       "Index(['PatientGuid', 'DMIndicator', 'Gender', 'YearOfBirth', 'State',\n",
       "       'PracticeGuid', 'T2D_Diagnosis_Flag_Mode', 'AbnormalFlags',\n",
       "       'T2DSmokingFlag'],\n",
       "      dtype='object')"
      ]
     },
     "execution_count": 197,
     "metadata": {},
     "output_type": "execute_result"
    }
   ],
   "source": [
    "df_train_sp_tot_filtered.columns"
   ]
  },
  {
   "cell_type": "code",
   "execution_count": 198,
   "id": "dbd6ae8e",
   "metadata": {},
   "outputs": [],
   "source": [
    "flag_columns = ['T2D_Diagnosis_Flag_Mode', 'AbnormalFlags', 'T2DSmokingFlag']"
   ]
  },
  {
   "cell_type": "code",
   "execution_count": 199,
   "id": "641e7ef7",
   "metadata": {},
   "outputs": [],
   "source": [
    "df_train_sp_tot_filtered = df_train_sp_tot_filtered.copy()\n",
    "\n",
    "df_train_sp_tot_filtered[flag_columns] = df_train_sp_tot_filtered[flag_columns].apply(pd.to_numeric, errors='coerce')\n",
    "\n",
    "df_train_sp_tot_filtered[flag_columns] = df_train_sp_tot_filtered[flag_columns].fillna(0)\n",
    "\n",
    "df_train_sp_tot_filtered['Flag_Sum'] = df_train_sp_tot_filtered[flag_columns].sum(axis=1)\n",
    "\n",
    "df_train_sp_tot_filtered['DMIndicator_Weighted'] = (\n",
    "    df_train_sp_tot_filtered['DMIndicator'] * (1 + df_train_sp_tot_filtered['Flag_Sum'])\n",
    ")"
   ]
  },
  {
   "cell_type": "code",
   "execution_count": 200,
   "id": "17611411",
   "metadata": {},
   "outputs": [
    {
     "data": {
      "text/plain": [
       "(6600, 11)"
      ]
     },
     "execution_count": 200,
     "metadata": {},
     "output_type": "execute_result"
    }
   ],
   "source": [
    "df_train_sp_tot_filtered.shape"
   ]
  },
  {
   "cell_type": "code",
   "execution_count": 201,
   "id": "dce3849c",
   "metadata": {},
   "outputs": [
    {
     "data": {
      "text/plain": [
       "Index(['PatientGuid', 'DMIndicator', 'Gender', 'YearOfBirth', 'State',\n",
       "       'PracticeGuid', 'T2D_Diagnosis_Flag_Mode', 'AbnormalFlags',\n",
       "       'T2DSmokingFlag', 'Flag_Sum', 'DMIndicator_Weighted'],\n",
       "      dtype='object')"
      ]
     },
     "execution_count": 201,
     "metadata": {},
     "output_type": "execute_result"
    }
   ],
   "source": [
    "df_train_sp_tot_filtered.columns"
   ]
  },
  {
   "cell_type": "code",
   "execution_count": 202,
   "id": "3b65f0c0",
   "metadata": {},
   "outputs": [],
   "source": [
    "columns_to_keep = ['PatientGuid', 'DMIndicator_Weighted', 'Gender', 'YearOfBirth', 'State', 'PracticeGuid']\n",
    "df_train_sp_tot_filtered_new = df_train_sp_tot_filtered[columns_to_keep]"
   ]
  },
  {
   "cell_type": "code",
   "execution_count": 203,
   "id": "ccf76162",
   "metadata": {},
   "outputs": [
    {
     "name": "stderr",
     "output_type": "stream",
     "text": [
      "C:\\Users\\svkar\\AppData\\Local\\Temp\\ipykernel_824\\4163860734.py:2: SettingWithCopyWarning: \n",
      "A value is trying to be set on a copy of a slice from a DataFrame.\n",
      "Try using .loc[row_indexer,col_indexer] = value instead\n",
      "\n",
      "See the caveats in the documentation: https://pandas.pydata.org/pandas-docs/stable/user_guide/indexing.html#returning-a-view-versus-a-copy\n",
      "  df_train_sp_tot_filtered_new['Gender'] = df_train_sp_tot_filtered_new['Gender'].astype(str)\n",
      "C:\\Users\\svkar\\AppData\\Local\\Temp\\ipykernel_824\\4163860734.py:3: SettingWithCopyWarning: \n",
      "A value is trying to be set on a copy of a slice from a DataFrame.\n",
      "Try using .loc[row_indexer,col_indexer] = value instead\n",
      "\n",
      "See the caveats in the documentation: https://pandas.pydata.org/pandas-docs/stable/user_guide/indexing.html#returning-a-view-versus-a-copy\n",
      "  df_train_sp_tot_filtered_new['State'] = df_train_sp_tot_filtered_new['State'].astype(str)\n",
      "C:\\Users\\svkar\\AppData\\Local\\Temp\\ipykernel_824\\4163860734.py:4: SettingWithCopyWarning: \n",
      "A value is trying to be set on a copy of a slice from a DataFrame.\n",
      "Try using .loc[row_indexer,col_indexer] = value instead\n",
      "\n",
      "See the caveats in the documentation: https://pandas.pydata.org/pandas-docs/stable/user_guide/indexing.html#returning-a-view-versus-a-copy\n",
      "  df_train_sp_tot_filtered_new['YearOfBirth'] = df_train_sp_tot_filtered_new['YearOfBirth'].astype(str)\n",
      "C:\\Users\\svkar\\AppData\\Local\\Temp\\ipykernel_824\\4163860734.py:5: SettingWithCopyWarning: \n",
      "A value is trying to be set on a copy of a slice from a DataFrame.\n",
      "Try using .loc[row_indexer,col_indexer] = value instead\n",
      "\n",
      "See the caveats in the documentation: https://pandas.pydata.org/pandas-docs/stable/user_guide/indexing.html#returning-a-view-versus-a-copy\n",
      "  df_train_sp_tot_filtered_new['PracticeGuid'] = df_train_sp_tot_filtered_new['PracticeGuid'].astype(str)\n"
     ]
    }
   ],
   "source": [
    "label_encoder = LabelEncoder()\n",
    "df_train_sp_tot_filtered_new['Gender'] = df_train_sp_tot_filtered_new['Gender'].astype(str)\n",
    "df_train_sp_tot_filtered_new['State'] = df_train_sp_tot_filtered_new['State'].astype(str)\n",
    "df_train_sp_tot_filtered_new['YearOfBirth'] = df_train_sp_tot_filtered_new['YearOfBirth'].astype(str)\n",
    "df_train_sp_tot_filtered_new['PracticeGuid'] = df_train_sp_tot_filtered_new['PracticeGuid'].astype(str)"
   ]
  },
  {
   "cell_type": "code",
   "execution_count": 204,
   "id": "d76e4f50",
   "metadata": {},
   "outputs": [
    {
     "name": "stderr",
     "output_type": "stream",
     "text": [
      "C:\\Users\\svkar\\AppData\\Local\\Temp\\ipykernel_824\\2173598551.py:1: SettingWithCopyWarning: \n",
      "A value is trying to be set on a copy of a slice from a DataFrame.\n",
      "Try using .loc[row_indexer,col_indexer] = value instead\n",
      "\n",
      "See the caveats in the documentation: https://pandas.pydata.org/pandas-docs/stable/user_guide/indexing.html#returning-a-view-versus-a-copy\n",
      "  df_train_sp_tot_filtered_new['Gender'] = label_encoder.fit_transform(df_train_sp_tot_filtered_new['Gender'])\n",
      "C:\\Users\\svkar\\AppData\\Local\\Temp\\ipykernel_824\\2173598551.py:2: SettingWithCopyWarning: \n",
      "A value is trying to be set on a copy of a slice from a DataFrame.\n",
      "Try using .loc[row_indexer,col_indexer] = value instead\n",
      "\n",
      "See the caveats in the documentation: https://pandas.pydata.org/pandas-docs/stable/user_guide/indexing.html#returning-a-view-versus-a-copy\n",
      "  df_train_sp_tot_filtered_new['State'] = label_encoder.fit_transform(df_train_sp_tot_filtered_new['State'])\n",
      "C:\\Users\\svkar\\AppData\\Local\\Temp\\ipykernel_824\\2173598551.py:3: SettingWithCopyWarning: \n",
      "A value is trying to be set on a copy of a slice from a DataFrame.\n",
      "Try using .loc[row_indexer,col_indexer] = value instead\n",
      "\n",
      "See the caveats in the documentation: https://pandas.pydata.org/pandas-docs/stable/user_guide/indexing.html#returning-a-view-versus-a-copy\n",
      "  df_train_sp_tot_filtered_new['YearOfBirth'] = label_encoder.fit_transform(df_train_sp_tot_filtered_new['YearOfBirth'])\n",
      "C:\\Users\\svkar\\AppData\\Local\\Temp\\ipykernel_824\\2173598551.py:4: SettingWithCopyWarning: \n",
      "A value is trying to be set on a copy of a slice from a DataFrame.\n",
      "Try using .loc[row_indexer,col_indexer] = value instead\n",
      "\n",
      "See the caveats in the documentation: https://pandas.pydata.org/pandas-docs/stable/user_guide/indexing.html#returning-a-view-versus-a-copy\n",
      "  df_train_sp_tot_filtered_new['PracticeGuid'] = label_encoder.fit_transform(df_train_sp_tot_filtered_new['PracticeGuid'])\n"
     ]
    }
   ],
   "source": [
    "df_train_sp_tot_filtered_new['Gender'] = label_encoder.fit_transform(df_train_sp_tot_filtered_new['Gender'])\n",
    "df_train_sp_tot_filtered_new['State'] = label_encoder.fit_transform(df_train_sp_tot_filtered_new['State'])\n",
    "df_train_sp_tot_filtered_new['YearOfBirth'] = label_encoder.fit_transform(df_train_sp_tot_filtered_new['YearOfBirth'])\n",
    "df_train_sp_tot_filtered_new['PracticeGuid'] = label_encoder.fit_transform(df_train_sp_tot_filtered_new['PracticeGuid'])"
   ]
  },
  {
   "cell_type": "code",
   "execution_count": 205,
   "id": "8935cd70",
   "metadata": {},
   "outputs": [],
   "source": [
    "df_train_sp_tot_filtered_imputed = df_train_sp_tot_filtered_new.fillna(0)"
   ]
  },
  {
   "cell_type": "code",
   "execution_count": 206,
   "id": "2db91c12",
   "metadata": {},
   "outputs": [],
   "source": [
    "df_train_cleaned = remove_outliers(df_train_sp_tot_filtered_imputed)"
   ]
  },
  {
   "cell_type": "code",
   "execution_count": 207,
   "id": "463a29b3",
   "metadata": {},
   "outputs": [],
   "source": [
    "X = df_train_cleaned.drop(columns=['PatientGuid', 'DMIndicator_Weighted'])\n",
    "y = df_train_cleaned['DMIndicator_Weighted']"
   ]
  },
  {
   "cell_type": "code",
   "execution_count": 208,
   "id": "32bd782f",
   "metadata": {},
   "outputs": [],
   "source": [
    "test_size = 3348 / 6600"
   ]
  },
  {
   "cell_type": "code",
   "execution_count": 209,
   "id": "06fe6724",
   "metadata": {},
   "outputs": [],
   "source": [
    "X_train, X_test, y_train, y_test = train_test_split(X, y, test_size=test_size, random_state=42, stratify=y)"
   ]
  },
  {
   "cell_type": "code",
   "execution_count": 210,
   "id": "8bb9fd0f",
   "metadata": {},
   "outputs": [
    {
     "data": {
      "text/plain": [
       "(3251, 4)"
      ]
     },
     "execution_count": 210,
     "metadata": {},
     "output_type": "execute_result"
    }
   ],
   "source": [
    "X_train.shape"
   ]
  },
  {
   "cell_type": "code",
   "execution_count": 211,
   "id": "6100f5ac",
   "metadata": {},
   "outputs": [
    {
     "data": {
      "text/plain": [
       "(3348,)"
      ]
     },
     "execution_count": 211,
     "metadata": {},
     "output_type": "execute_result"
    }
   ],
   "source": [
    "y_test.shape"
   ]
  },
  {
   "cell_type": "code",
   "execution_count": 212,
   "id": "0330a877",
   "metadata": {},
   "outputs": [],
   "source": [
    "scaler = StandardScaler()\n",
    "X_train_scaled = scaler.fit_transform(X_train)\n",
    "X_test_scaled = scaler.transform(X_test)"
   ]
  },
  {
   "cell_type": "code",
   "execution_count": 213,
   "id": "bdf7c761",
   "metadata": {},
   "outputs": [
    {
     "data": {
      "text/html": [
       "<style>#sk-container-id-6 {color: black;}#sk-container-id-6 pre{padding: 0;}#sk-container-id-6 div.sk-toggleable {background-color: white;}#sk-container-id-6 label.sk-toggleable__label {cursor: pointer;display: block;width: 100%;margin-bottom: 0;padding: 0.3em;box-sizing: border-box;text-align: center;}#sk-container-id-6 label.sk-toggleable__label-arrow:before {content: \"▸\";float: left;margin-right: 0.25em;color: #696969;}#sk-container-id-6 label.sk-toggleable__label-arrow:hover:before {color: black;}#sk-container-id-6 div.sk-estimator:hover label.sk-toggleable__label-arrow:before {color: black;}#sk-container-id-6 div.sk-toggleable__content {max-height: 0;max-width: 0;overflow: hidden;text-align: left;background-color: #f0f8ff;}#sk-container-id-6 div.sk-toggleable__content pre {margin: 0.2em;color: black;border-radius: 0.25em;background-color: #f0f8ff;}#sk-container-id-6 input.sk-toggleable__control:checked~div.sk-toggleable__content {max-height: 200px;max-width: 100%;overflow: auto;}#sk-container-id-6 input.sk-toggleable__control:checked~label.sk-toggleable__label-arrow:before {content: \"▾\";}#sk-container-id-6 div.sk-estimator input.sk-toggleable__control:checked~label.sk-toggleable__label {background-color: #d4ebff;}#sk-container-id-6 div.sk-label input.sk-toggleable__control:checked~label.sk-toggleable__label {background-color: #d4ebff;}#sk-container-id-6 input.sk-hidden--visually {border: 0;clip: rect(1px 1px 1px 1px);clip: rect(1px, 1px, 1px, 1px);height: 1px;margin: -1px;overflow: hidden;padding: 0;position: absolute;width: 1px;}#sk-container-id-6 div.sk-estimator {font-family: monospace;background-color: #f0f8ff;border: 1px dotted black;border-radius: 0.25em;box-sizing: border-box;margin-bottom: 0.5em;}#sk-container-id-6 div.sk-estimator:hover {background-color: #d4ebff;}#sk-container-id-6 div.sk-parallel-item::after {content: \"\";width: 100%;border-bottom: 1px solid gray;flex-grow: 1;}#sk-container-id-6 div.sk-label:hover label.sk-toggleable__label {background-color: #d4ebff;}#sk-container-id-6 div.sk-serial::before {content: \"\";position: absolute;border-left: 1px solid gray;box-sizing: border-box;top: 0;bottom: 0;left: 50%;z-index: 0;}#sk-container-id-6 div.sk-serial {display: flex;flex-direction: column;align-items: center;background-color: white;padding-right: 0.2em;padding-left: 0.2em;position: relative;}#sk-container-id-6 div.sk-item {position: relative;z-index: 1;}#sk-container-id-6 div.sk-parallel {display: flex;align-items: stretch;justify-content: center;background-color: white;position: relative;}#sk-container-id-6 div.sk-item::before, #sk-container-id-6 div.sk-parallel-item::before {content: \"\";position: absolute;border-left: 1px solid gray;box-sizing: border-box;top: 0;bottom: 0;left: 50%;z-index: -1;}#sk-container-id-6 div.sk-parallel-item {display: flex;flex-direction: column;z-index: 1;position: relative;background-color: white;}#sk-container-id-6 div.sk-parallel-item:first-child::after {align-self: flex-end;width: 50%;}#sk-container-id-6 div.sk-parallel-item:last-child::after {align-self: flex-start;width: 50%;}#sk-container-id-6 div.sk-parallel-item:only-child::after {width: 0;}#sk-container-id-6 div.sk-dashed-wrapped {border: 1px dashed gray;margin: 0 0.4em 0.5em 0.4em;box-sizing: border-box;padding-bottom: 0.4em;background-color: white;}#sk-container-id-6 div.sk-label label {font-family: monospace;font-weight: bold;display: inline-block;line-height: 1.2em;}#sk-container-id-6 div.sk-label-container {text-align: center;}#sk-container-id-6 div.sk-container {/* jupyter's `normalize.less` sets `[hidden] { display: none; }` but bootstrap.min.css set `[hidden] { display: none !important; }` so we also need the `!important` here to be able to override the default hidden behavior on the sphinx rendered scikit-learn.org. See: https://github.com/scikit-learn/scikit-learn/issues/21755 */display: inline-block !important;position: relative;}#sk-container-id-6 div.sk-text-repr-fallback {display: none;}</style><div id=\"sk-container-id-6\" class=\"sk-top-container\"><div class=\"sk-text-repr-fallback\"><pre>GradientBoostingClassifier(random_state=42)</pre><b>In a Jupyter environment, please rerun this cell to show the HTML representation or trust the notebook. <br />On GitHub, the HTML representation is unable to render, please try loading this page with nbviewer.org.</b></div><div class=\"sk-container\" hidden><div class=\"sk-item\"><div class=\"sk-estimator sk-toggleable\"><input class=\"sk-toggleable__control sk-hidden--visually\" id=\"sk-estimator-id-14\" type=\"checkbox\" checked><label for=\"sk-estimator-id-14\" class=\"sk-toggleable__label sk-toggleable__label-arrow\">GradientBoostingClassifier</label><div class=\"sk-toggleable__content\"><pre>GradientBoostingClassifier(random_state=42)</pre></div></div></div></div></div>"
      ],
      "text/plain": [
       "GradientBoostingClassifier(random_state=42)"
      ]
     },
     "execution_count": 213,
     "metadata": {},
     "output_type": "execute_result"
    }
   ],
   "source": [
    "base_model = GradientBoostingClassifier(n_estimators=100, random_state=42)\n",
    "base_model.fit(X_train_scaled, y_train)"
   ]
  },
  {
   "cell_type": "code",
   "execution_count": 214,
   "id": "1a5c5e99",
   "metadata": {},
   "outputs": [
    {
     "name": "stdout",
     "output_type": "stream",
     "text": [
      "Fitting 5 folds for each of 20 candidates, totalling 100 fits\n",
      "[CV] END learning_rate=0.1, max_depth=8, max_features=None, min_samples_leaf=4, min_samples_split=5, n_estimators=200, subsample=0.8; total time=   2.0s\n",
      "[CV] END learning_rate=0.1, max_depth=8, max_features=None, min_samples_leaf=4, min_samples_split=5, n_estimators=200, subsample=0.8; total time=   1.7s\n",
      "[CV] END learning_rate=0.1, max_depth=8, max_features=None, min_samples_leaf=4, min_samples_split=5, n_estimators=200, subsample=0.8; total time=   1.8s\n",
      "[CV] END learning_rate=0.1, max_depth=8, max_features=None, min_samples_leaf=4, min_samples_split=5, n_estimators=200, subsample=0.8; total time=   1.8s\n",
      "[CV] END learning_rate=0.1, max_depth=8, max_features=None, min_samples_leaf=4, min_samples_split=5, n_estimators=200, subsample=0.8; total time=   1.9s\n",
      "[CV] END learning_rate=0.01, max_depth=5, max_features=sqrt, min_samples_leaf=2, min_samples_split=2, n_estimators=100, subsample=1.0; total time=   0.4s\n",
      "[CV] END learning_rate=0.01, max_depth=5, max_features=sqrt, min_samples_leaf=2, min_samples_split=2, n_estimators=100, subsample=1.0; total time=   0.3s\n",
      "[CV] END learning_rate=0.01, max_depth=5, max_features=sqrt, min_samples_leaf=2, min_samples_split=2, n_estimators=100, subsample=1.0; total time=   0.3s\n",
      "[CV] END learning_rate=0.01, max_depth=5, max_features=sqrt, min_samples_leaf=2, min_samples_split=2, n_estimators=100, subsample=1.0; total time=   0.3s\n",
      "[CV] END learning_rate=0.01, max_depth=5, max_features=sqrt, min_samples_leaf=2, min_samples_split=2, n_estimators=100, subsample=1.0; total time=   0.3s\n",
      "[CV] END learning_rate=0.1, max_depth=4, max_features=sqrt, min_samples_leaf=4, min_samples_split=10, n_estimators=100, subsample=1.0; total time=   0.2s\n",
      "[CV] END learning_rate=0.1, max_depth=4, max_features=sqrt, min_samples_leaf=4, min_samples_split=10, n_estimators=100, subsample=1.0; total time=   0.2s\n",
      "[CV] END learning_rate=0.1, max_depth=4, max_features=sqrt, min_samples_leaf=4, min_samples_split=10, n_estimators=100, subsample=1.0; total time=   0.2s\n",
      "[CV] END learning_rate=0.1, max_depth=4, max_features=sqrt, min_samples_leaf=4, min_samples_split=10, n_estimators=100, subsample=1.0; total time=   0.2s\n",
      "[CV] END learning_rate=0.1, max_depth=4, max_features=sqrt, min_samples_leaf=4, min_samples_split=10, n_estimators=100, subsample=1.0; total time=   0.2s\n",
      "[CV] END learning_rate=0.1, max_depth=3, max_features=None, min_samples_leaf=2, min_samples_split=5, n_estimators=50, subsample=0.8; total time=   0.1s\n",
      "[CV] END learning_rate=0.1, max_depth=3, max_features=None, min_samples_leaf=2, min_samples_split=5, n_estimators=50, subsample=0.8; total time=   0.0s\n",
      "[CV] END learning_rate=0.1, max_depth=3, max_features=None, min_samples_leaf=2, min_samples_split=5, n_estimators=50, subsample=0.8; total time=   0.1s\n",
      "[CV] END learning_rate=0.1, max_depth=3, max_features=None, min_samples_leaf=2, min_samples_split=5, n_estimators=50, subsample=0.8; total time=   0.1s\n",
      "[CV] END learning_rate=0.1, max_depth=3, max_features=None, min_samples_leaf=2, min_samples_split=5, n_estimators=50, subsample=0.8; total time=   0.1s\n",
      "[CV] END learning_rate=0.3, max_depth=8, max_features=log2, min_samples_leaf=2, min_samples_split=10, n_estimators=200, subsample=0.7; total time=   1.6s\n",
      "[CV] END learning_rate=0.3, max_depth=8, max_features=log2, min_samples_leaf=2, min_samples_split=10, n_estimators=200, subsample=0.7; total time=   1.5s\n",
      "[CV] END learning_rate=0.3, max_depth=8, max_features=log2, min_samples_leaf=2, min_samples_split=10, n_estimators=200, subsample=0.7; total time=   1.4s\n",
      "[CV] END learning_rate=0.3, max_depth=8, max_features=log2, min_samples_leaf=2, min_samples_split=10, n_estimators=200, subsample=0.7; total time=   1.4s\n",
      "[CV] END learning_rate=0.3, max_depth=8, max_features=log2, min_samples_leaf=2, min_samples_split=10, n_estimators=200, subsample=0.7; total time=   1.3s\n",
      "[CV] END learning_rate=0.3, max_depth=6, max_features=None, min_samples_leaf=2, min_samples_split=10, n_estimators=100, subsample=0.8; total time=   0.5s\n",
      "[CV] END learning_rate=0.3, max_depth=6, max_features=None, min_samples_leaf=2, min_samples_split=10, n_estimators=100, subsample=0.8; total time=   0.5s\n",
      "[CV] END learning_rate=0.3, max_depth=6, max_features=None, min_samples_leaf=2, min_samples_split=10, n_estimators=100, subsample=0.8; total time=   0.5s\n",
      "[CV] END learning_rate=0.3, max_depth=6, max_features=None, min_samples_leaf=2, min_samples_split=10, n_estimators=100, subsample=0.8; total time=   0.5s\n",
      "[CV] END learning_rate=0.3, max_depth=6, max_features=None, min_samples_leaf=2, min_samples_split=10, n_estimators=100, subsample=0.8; total time=   0.6s\n",
      "[CV] END learning_rate=0.1, max_depth=5, max_features=sqrt, min_samples_leaf=2, min_samples_split=5, n_estimators=100, subsample=0.8; total time=   0.3s\n",
      "[CV] END learning_rate=0.1, max_depth=5, max_features=sqrt, min_samples_leaf=2, min_samples_split=5, n_estimators=100, subsample=0.8; total time=   0.3s\n",
      "[CV] END learning_rate=0.1, max_depth=5, max_features=sqrt, min_samples_leaf=2, min_samples_split=5, n_estimators=100, subsample=0.8; total time=   0.3s\n",
      "[CV] END learning_rate=0.1, max_depth=5, max_features=sqrt, min_samples_leaf=2, min_samples_split=5, n_estimators=100, subsample=0.8; total time=   0.3s\n",
      "[CV] END learning_rate=0.1, max_depth=5, max_features=sqrt, min_samples_leaf=2, min_samples_split=5, n_estimators=100, subsample=0.8; total time=   0.3s\n",
      "[CV] END learning_rate=0.1, max_depth=6, max_features=log2, min_samples_leaf=2, min_samples_split=2, n_estimators=200, subsample=0.8; total time=   1.0s\n",
      "[CV] END learning_rate=0.1, max_depth=6, max_features=log2, min_samples_leaf=2, min_samples_split=2, n_estimators=200, subsample=0.8; total time= 1.2min\n",
      "[CV] END learning_rate=0.1, max_depth=6, max_features=log2, min_samples_leaf=2, min_samples_split=2, n_estimators=200, subsample=0.8; total time=   0.7s\n",
      "[CV] END learning_rate=0.1, max_depth=6, max_features=log2, min_samples_leaf=2, min_samples_split=2, n_estimators=200, subsample=0.8; total time=   0.4s\n",
      "[CV] END learning_rate=0.1, max_depth=6, max_features=log2, min_samples_leaf=2, min_samples_split=2, n_estimators=200, subsample=0.8; total time=   0.4s\n",
      "[CV] END learning_rate=0.01, max_depth=4, max_features=sqrt, min_samples_leaf=2, min_samples_split=5, n_estimators=50, subsample=0.8; total time=   0.0s\n",
      "[CV] END learning_rate=0.01, max_depth=4, max_features=sqrt, min_samples_leaf=2, min_samples_split=5, n_estimators=50, subsample=0.8; total time=   0.0s\n",
      "[CV] END learning_rate=0.01, max_depth=4, max_features=sqrt, min_samples_leaf=2, min_samples_split=5, n_estimators=50, subsample=0.8; total time=   0.0s\n",
      "[CV] END learning_rate=0.01, max_depth=4, max_features=sqrt, min_samples_leaf=2, min_samples_split=5, n_estimators=50, subsample=0.8; total time=   0.0s\n",
      "[CV] END learning_rate=0.01, max_depth=4, max_features=sqrt, min_samples_leaf=2, min_samples_split=5, n_estimators=50, subsample=0.8; total time=   0.0s\n",
      "[CV] END learning_rate=0.05, max_depth=7, max_features=None, min_samples_leaf=4, min_samples_split=5, n_estimators=50, subsample=0.8; total time=   0.1s\n",
      "[CV] END learning_rate=0.05, max_depth=7, max_features=None, min_samples_leaf=4, min_samples_split=5, n_estimators=50, subsample=0.8; total time=   0.1s\n",
      "[CV] END learning_rate=0.05, max_depth=7, max_features=None, min_samples_leaf=4, min_samples_split=5, n_estimators=50, subsample=0.8; total time=   0.3s\n",
      "[CV] END learning_rate=0.05, max_depth=7, max_features=None, min_samples_leaf=4, min_samples_split=5, n_estimators=50, subsample=0.8; total time=   0.3s\n",
      "[CV] END learning_rate=0.05, max_depth=7, max_features=None, min_samples_leaf=4, min_samples_split=5, n_estimators=50, subsample=0.8; total time=   0.4s\n",
      "[CV] END learning_rate=0.1, max_depth=4, max_features=None, min_samples_leaf=1, min_samples_split=10, n_estimators=250, subsample=0.8; total time=   0.8s\n",
      "[CV] END learning_rate=0.1, max_depth=4, max_features=None, min_samples_leaf=1, min_samples_split=10, n_estimators=250, subsample=0.8; total time=   0.9s\n",
      "[CV] END learning_rate=0.1, max_depth=4, max_features=None, min_samples_leaf=1, min_samples_split=10, n_estimators=250, subsample=0.8; total time=   0.9s\n",
      "[CV] END learning_rate=0.1, max_depth=4, max_features=None, min_samples_leaf=1, min_samples_split=10, n_estimators=250, subsample=0.8; total time=   0.8s\n",
      "[CV] END learning_rate=0.1, max_depth=4, max_features=None, min_samples_leaf=1, min_samples_split=10, n_estimators=250, subsample=0.8; total time=   0.8s\n",
      "[CV] END learning_rate=0.3, max_depth=7, max_features=None, min_samples_leaf=1, min_samples_split=5, n_estimators=200, subsample=1.0; total time=   1.7s\n",
      "[CV] END learning_rate=0.3, max_depth=7, max_features=None, min_samples_leaf=1, min_samples_split=5, n_estimators=200, subsample=1.0; total time=   1.7s\n",
      "[CV] END learning_rate=0.3, max_depth=7, max_features=None, min_samples_leaf=1, min_samples_split=5, n_estimators=200, subsample=1.0; total time=   1.6s\n",
      "[CV] END learning_rate=0.3, max_depth=7, max_features=None, min_samples_leaf=1, min_samples_split=5, n_estimators=200, subsample=1.0; total time=   1.6s\n",
      "[CV] END learning_rate=0.3, max_depth=7, max_features=None, min_samples_leaf=1, min_samples_split=5, n_estimators=200, subsample=1.0; total time=   1.7s\n",
      "[CV] END learning_rate=0.3, max_depth=7, max_features=sqrt, min_samples_leaf=1, min_samples_split=5, n_estimators=150, subsample=1.0; total time=   1.0s\n",
      "[CV] END learning_rate=0.3, max_depth=7, max_features=sqrt, min_samples_leaf=1, min_samples_split=5, n_estimators=150, subsample=1.0; total time=   1.0s\n",
      "[CV] END learning_rate=0.3, max_depth=7, max_features=sqrt, min_samples_leaf=1, min_samples_split=5, n_estimators=150, subsample=1.0; total time=   1.1s\n",
      "[CV] END learning_rate=0.3, max_depth=7, max_features=sqrt, min_samples_leaf=1, min_samples_split=5, n_estimators=150, subsample=1.0; total time=   0.9s\n",
      "[CV] END learning_rate=0.3, max_depth=7, max_features=sqrt, min_samples_leaf=1, min_samples_split=5, n_estimators=150, subsample=1.0; total time=   0.9s\n",
      "[CV] END learning_rate=0.3, max_depth=6, max_features=log2, min_samples_leaf=1, min_samples_split=10, n_estimators=200, subsample=1.0; total time=   0.9s\n",
      "[CV] END learning_rate=0.3, max_depth=6, max_features=log2, min_samples_leaf=1, min_samples_split=10, n_estimators=200, subsample=1.0; total time=   0.9s\n",
      "[CV] END learning_rate=0.3, max_depth=6, max_features=log2, min_samples_leaf=1, min_samples_split=10, n_estimators=200, subsample=1.0; total time=   0.8s\n",
      "[CV] END learning_rate=0.3, max_depth=6, max_features=log2, min_samples_leaf=1, min_samples_split=10, n_estimators=200, subsample=1.0; total time=   0.9s\n",
      "[CV] END learning_rate=0.3, max_depth=6, max_features=log2, min_samples_leaf=1, min_samples_split=10, n_estimators=200, subsample=1.0; total time=   0.8s\n",
      "[CV] END learning_rate=0.2, max_depth=5, max_features=log2, min_samples_leaf=2, min_samples_split=10, n_estimators=250, subsample=0.7; total time=   0.9s\n",
      "[CV] END learning_rate=0.2, max_depth=5, max_features=log2, min_samples_leaf=2, min_samples_split=10, n_estimators=250, subsample=0.7; total time=   0.9s\n",
      "[CV] END learning_rate=0.2, max_depth=5, max_features=log2, min_samples_leaf=2, min_samples_split=10, n_estimators=250, subsample=0.7; total time=   0.9s\n",
      "[CV] END learning_rate=0.2, max_depth=5, max_features=log2, min_samples_leaf=2, min_samples_split=10, n_estimators=250, subsample=0.7; total time=   0.8s\n",
      "[CV] END learning_rate=0.2, max_depth=5, max_features=log2, min_samples_leaf=2, min_samples_split=10, n_estimators=250, subsample=0.7; total time=   0.8s\n",
      "[CV] END learning_rate=0.01, max_depth=7, max_features=sqrt, min_samples_leaf=2, min_samples_split=5, n_estimators=100, subsample=1.0; total time=   0.7s\n",
      "[CV] END learning_rate=0.01, max_depth=7, max_features=sqrt, min_samples_leaf=2, min_samples_split=5, n_estimators=100, subsample=1.0; total time=   0.6s\n",
      "[CV] END learning_rate=0.01, max_depth=7, max_features=sqrt, min_samples_leaf=2, min_samples_split=5, n_estimators=100, subsample=1.0; total time=   0.7s\n",
      "[CV] END learning_rate=0.01, max_depth=7, max_features=sqrt, min_samples_leaf=2, min_samples_split=5, n_estimators=100, subsample=1.0; total time=   0.8s\n",
      "[CV] END learning_rate=0.01, max_depth=7, max_features=sqrt, min_samples_leaf=2, min_samples_split=5, n_estimators=100, subsample=1.0; total time=   0.8s\n",
      "[CV] END learning_rate=0.01, max_depth=4, max_features=None, min_samples_leaf=4, min_samples_split=2, n_estimators=100, subsample=0.8; total time=   0.4s\n",
      "[CV] END learning_rate=0.01, max_depth=4, max_features=None, min_samples_leaf=4, min_samples_split=2, n_estimators=100, subsample=0.8; total time=   0.3s\n",
      "[CV] END learning_rate=0.01, max_depth=4, max_features=None, min_samples_leaf=4, min_samples_split=2, n_estimators=100, subsample=0.8; total time=   0.3s\n",
      "[CV] END learning_rate=0.01, max_depth=4, max_features=None, min_samples_leaf=4, min_samples_split=2, n_estimators=100, subsample=0.8; total time=   0.3s\n",
      "[CV] END learning_rate=0.01, max_depth=4, max_features=None, min_samples_leaf=4, min_samples_split=2, n_estimators=100, subsample=0.8; total time=   0.3s\n",
      "[CV] END learning_rate=0.3, max_depth=5, max_features=sqrt, min_samples_leaf=2, min_samples_split=2, n_estimators=150, subsample=1.0; total time=   0.4s\n",
      "[CV] END learning_rate=0.3, max_depth=5, max_features=sqrt, min_samples_leaf=2, min_samples_split=2, n_estimators=150, subsample=1.0; total time=   0.5s\n",
      "[CV] END learning_rate=0.3, max_depth=5, max_features=sqrt, min_samples_leaf=2, min_samples_split=2, n_estimators=150, subsample=1.0; total time=   0.5s\n",
      "[CV] END learning_rate=0.3, max_depth=5, max_features=sqrt, min_samples_leaf=2, min_samples_split=2, n_estimators=150, subsample=1.0; total time=   0.5s\n",
      "[CV] END learning_rate=0.3, max_depth=5, max_features=sqrt, min_samples_leaf=2, min_samples_split=2, n_estimators=150, subsample=1.0; total time=   0.5s\n",
      "[CV] END learning_rate=0.1, max_depth=8, max_features=sqrt, min_samples_leaf=2, min_samples_split=5, n_estimators=100, subsample=0.8; total time=   0.7s\n",
      "[CV] END learning_rate=0.1, max_depth=8, max_features=sqrt, min_samples_leaf=2, min_samples_split=5, n_estimators=100, subsample=0.8; total time=   0.8s\n",
      "[CV] END learning_rate=0.1, max_depth=8, max_features=sqrt, min_samples_leaf=2, min_samples_split=5, n_estimators=100, subsample=0.8; total time=   0.7s\n",
      "[CV] END learning_rate=0.1, max_depth=8, max_features=sqrt, min_samples_leaf=2, min_samples_split=5, n_estimators=100, subsample=0.8; total time=   0.7s\n",
      "[CV] END learning_rate=0.1, max_depth=8, max_features=sqrt, min_samples_leaf=2, min_samples_split=5, n_estimators=100, subsample=0.8; total time=   0.7s\n",
      "[CV] END learning_rate=0.05, max_depth=3, max_features=sqrt, min_samples_leaf=1, min_samples_split=2, n_estimators=100, subsample=0.7; total time=   0.1s\n",
      "[CV] END learning_rate=0.05, max_depth=3, max_features=sqrt, min_samples_leaf=1, min_samples_split=2, n_estimators=100, subsample=0.7; total time=   0.1s\n",
      "[CV] END learning_rate=0.05, max_depth=3, max_features=sqrt, min_samples_leaf=1, min_samples_split=2, n_estimators=100, subsample=0.7; total time=   0.1s\n",
      "[CV] END learning_rate=0.05, max_depth=3, max_features=sqrt, min_samples_leaf=1, min_samples_split=2, n_estimators=100, subsample=0.7; total time=   0.1s\n",
      "[CV] END learning_rate=0.05, max_depth=3, max_features=sqrt, min_samples_leaf=1, min_samples_split=2, n_estimators=100, subsample=0.7; total time=   0.1s\n"
     ]
    },
    {
     "data": {
      "text/html": [
       "<style>#sk-container-id-7 {color: black;}#sk-container-id-7 pre{padding: 0;}#sk-container-id-7 div.sk-toggleable {background-color: white;}#sk-container-id-7 label.sk-toggleable__label {cursor: pointer;display: block;width: 100%;margin-bottom: 0;padding: 0.3em;box-sizing: border-box;text-align: center;}#sk-container-id-7 label.sk-toggleable__label-arrow:before {content: \"▸\";float: left;margin-right: 0.25em;color: #696969;}#sk-container-id-7 label.sk-toggleable__label-arrow:hover:before {color: black;}#sk-container-id-7 div.sk-estimator:hover label.sk-toggleable__label-arrow:before {color: black;}#sk-container-id-7 div.sk-toggleable__content {max-height: 0;max-width: 0;overflow: hidden;text-align: left;background-color: #f0f8ff;}#sk-container-id-7 div.sk-toggleable__content pre {margin: 0.2em;color: black;border-radius: 0.25em;background-color: #f0f8ff;}#sk-container-id-7 input.sk-toggleable__control:checked~div.sk-toggleable__content {max-height: 200px;max-width: 100%;overflow: auto;}#sk-container-id-7 input.sk-toggleable__control:checked~label.sk-toggleable__label-arrow:before {content: \"▾\";}#sk-container-id-7 div.sk-estimator input.sk-toggleable__control:checked~label.sk-toggleable__label {background-color: #d4ebff;}#sk-container-id-7 div.sk-label input.sk-toggleable__control:checked~label.sk-toggleable__label {background-color: #d4ebff;}#sk-container-id-7 input.sk-hidden--visually {border: 0;clip: rect(1px 1px 1px 1px);clip: rect(1px, 1px, 1px, 1px);height: 1px;margin: -1px;overflow: hidden;padding: 0;position: absolute;width: 1px;}#sk-container-id-7 div.sk-estimator {font-family: monospace;background-color: #f0f8ff;border: 1px dotted black;border-radius: 0.25em;box-sizing: border-box;margin-bottom: 0.5em;}#sk-container-id-7 div.sk-estimator:hover {background-color: #d4ebff;}#sk-container-id-7 div.sk-parallel-item::after {content: \"\";width: 100%;border-bottom: 1px solid gray;flex-grow: 1;}#sk-container-id-7 div.sk-label:hover label.sk-toggleable__label {background-color: #d4ebff;}#sk-container-id-7 div.sk-serial::before {content: \"\";position: absolute;border-left: 1px solid gray;box-sizing: border-box;top: 0;bottom: 0;left: 50%;z-index: 0;}#sk-container-id-7 div.sk-serial {display: flex;flex-direction: column;align-items: center;background-color: white;padding-right: 0.2em;padding-left: 0.2em;position: relative;}#sk-container-id-7 div.sk-item {position: relative;z-index: 1;}#sk-container-id-7 div.sk-parallel {display: flex;align-items: stretch;justify-content: center;background-color: white;position: relative;}#sk-container-id-7 div.sk-item::before, #sk-container-id-7 div.sk-parallel-item::before {content: \"\";position: absolute;border-left: 1px solid gray;box-sizing: border-box;top: 0;bottom: 0;left: 50%;z-index: -1;}#sk-container-id-7 div.sk-parallel-item {display: flex;flex-direction: column;z-index: 1;position: relative;background-color: white;}#sk-container-id-7 div.sk-parallel-item:first-child::after {align-self: flex-end;width: 50%;}#sk-container-id-7 div.sk-parallel-item:last-child::after {align-self: flex-start;width: 50%;}#sk-container-id-7 div.sk-parallel-item:only-child::after {width: 0;}#sk-container-id-7 div.sk-dashed-wrapped {border: 1px dashed gray;margin: 0 0.4em 0.5em 0.4em;box-sizing: border-box;padding-bottom: 0.4em;background-color: white;}#sk-container-id-7 div.sk-label label {font-family: monospace;font-weight: bold;display: inline-block;line-height: 1.2em;}#sk-container-id-7 div.sk-label-container {text-align: center;}#sk-container-id-7 div.sk-container {/* jupyter's `normalize.less` sets `[hidden] { display: none; }` but bootstrap.min.css set `[hidden] { display: none !important; }` so we also need the `!important` here to be able to override the default hidden behavior on the sphinx rendered scikit-learn.org. See: https://github.com/scikit-learn/scikit-learn/issues/21755 */display: inline-block !important;position: relative;}#sk-container-id-7 div.sk-text-repr-fallback {display: none;}</style><div id=\"sk-container-id-7\" class=\"sk-top-container\"><div class=\"sk-text-repr-fallback\"><pre>RandomizedSearchCV(cv=5, estimator=GradientBoostingClassifier(random_state=42),\n",
       "                   n_iter=20,\n",
       "                   param_distributions={&#x27;learning_rate&#x27;: [0.01, 0.05, 0.1, 0.2,\n",
       "                                                          0.3],\n",
       "                                        &#x27;max_depth&#x27;: [3, 4, 5, 6, 7, 8],\n",
       "                                        &#x27;max_features&#x27;: [&#x27;sqrt&#x27;, &#x27;log2&#x27;, None],\n",
       "                                        &#x27;min_samples_leaf&#x27;: [1, 2, 4],\n",
       "                                        &#x27;min_samples_split&#x27;: [2, 5, 10],\n",
       "                                        &#x27;n_estimators&#x27;: [50, 100, 150, 200,\n",
       "                                                         250],\n",
       "                                        &#x27;subsample&#x27;: [0.7, 0.8, 1.0]},\n",
       "                   random_state=42, scoring=&#x27;neg_brier_score&#x27;, verbose=2)</pre><b>In a Jupyter environment, please rerun this cell to show the HTML representation or trust the notebook. <br />On GitHub, the HTML representation is unable to render, please try loading this page with nbviewer.org.</b></div><div class=\"sk-container\" hidden><div class=\"sk-item sk-dashed-wrapped\"><div class=\"sk-label-container\"><div class=\"sk-label sk-toggleable\"><input class=\"sk-toggleable__control sk-hidden--visually\" id=\"sk-estimator-id-15\" type=\"checkbox\" ><label for=\"sk-estimator-id-15\" class=\"sk-toggleable__label sk-toggleable__label-arrow\">RandomizedSearchCV</label><div class=\"sk-toggleable__content\"><pre>RandomizedSearchCV(cv=5, estimator=GradientBoostingClassifier(random_state=42),\n",
       "                   n_iter=20,\n",
       "                   param_distributions={&#x27;learning_rate&#x27;: [0.01, 0.05, 0.1, 0.2,\n",
       "                                                          0.3],\n",
       "                                        &#x27;max_depth&#x27;: [3, 4, 5, 6, 7, 8],\n",
       "                                        &#x27;max_features&#x27;: [&#x27;sqrt&#x27;, &#x27;log2&#x27;, None],\n",
       "                                        &#x27;min_samples_leaf&#x27;: [1, 2, 4],\n",
       "                                        &#x27;min_samples_split&#x27;: [2, 5, 10],\n",
       "                                        &#x27;n_estimators&#x27;: [50, 100, 150, 200,\n",
       "                                                         250],\n",
       "                                        &#x27;subsample&#x27;: [0.7, 0.8, 1.0]},\n",
       "                   random_state=42, scoring=&#x27;neg_brier_score&#x27;, verbose=2)</pre></div></div></div><div class=\"sk-parallel\"><div class=\"sk-parallel-item\"><div class=\"sk-item\"><div class=\"sk-label-container\"><div class=\"sk-label sk-toggleable\"><input class=\"sk-toggleable__control sk-hidden--visually\" id=\"sk-estimator-id-16\" type=\"checkbox\" ><label for=\"sk-estimator-id-16\" class=\"sk-toggleable__label sk-toggleable__label-arrow\">estimator: GradientBoostingClassifier</label><div class=\"sk-toggleable__content\"><pre>GradientBoostingClassifier(random_state=42)</pre></div></div></div><div class=\"sk-serial\"><div class=\"sk-item\"><div class=\"sk-estimator sk-toggleable\"><input class=\"sk-toggleable__control sk-hidden--visually\" id=\"sk-estimator-id-17\" type=\"checkbox\" ><label for=\"sk-estimator-id-17\" class=\"sk-toggleable__label sk-toggleable__label-arrow\">GradientBoostingClassifier</label><div class=\"sk-toggleable__content\"><pre>GradientBoostingClassifier(random_state=42)</pre></div></div></div></div></div></div></div></div></div></div>"
      ],
      "text/plain": [
       "RandomizedSearchCV(cv=5, estimator=GradientBoostingClassifier(random_state=42),\n",
       "                   n_iter=20,\n",
       "                   param_distributions={'learning_rate': [0.01, 0.05, 0.1, 0.2,\n",
       "                                                          0.3],\n",
       "                                        'max_depth': [3, 4, 5, 6, 7, 8],\n",
       "                                        'max_features': ['sqrt', 'log2', None],\n",
       "                                        'min_samples_leaf': [1, 2, 4],\n",
       "                                        'min_samples_split': [2, 5, 10],\n",
       "                                        'n_estimators': [50, 100, 150, 200,\n",
       "                                                         250],\n",
       "                                        'subsample': [0.7, 0.8, 1.0]},\n",
       "                   random_state=42, scoring='neg_brier_score', verbose=2)"
      ]
     },
     "execution_count": 214,
     "metadata": {},
     "output_type": "execute_result"
    }
   ],
   "source": [
    "param_grid = {\n",
    "    'n_estimators': [50, 100, 150, 200, 250],\n",
    "    'learning_rate': [0.01, 0.05, 0.1, 0.2, 0.3],\n",
    "    'max_depth': [3, 4, 5, 6, 7, 8],\n",
    "    'subsample': [0.7, 0.8, 1.0],\n",
    "    'min_samples_split': [2, 5, 10],\n",
    "    'min_samples_leaf': [1, 2, 4],\n",
    "    'max_features': ['sqrt', 'log2', None]\n",
    "}\n",
    "\n",
    "gb_model = GradientBoostingClassifier(random_state=42)\n",
    "random_search = RandomizedSearchCV(gb_model, param_grid, cv=5, scoring='neg_brier_score', n_iter=20, random_state=42, verbose=2)\n",
    "random_search.fit(X_train_scaled, y_train)"
   ]
  },
  {
   "cell_type": "code",
   "execution_count": 215,
   "id": "ef470ce5",
   "metadata": {},
   "outputs": [
    {
     "data": {
      "text/html": [
       "<style>#sk-container-id-8 {color: black;}#sk-container-id-8 pre{padding: 0;}#sk-container-id-8 div.sk-toggleable {background-color: white;}#sk-container-id-8 label.sk-toggleable__label {cursor: pointer;display: block;width: 100%;margin-bottom: 0;padding: 0.3em;box-sizing: border-box;text-align: center;}#sk-container-id-8 label.sk-toggleable__label-arrow:before {content: \"▸\";float: left;margin-right: 0.25em;color: #696969;}#sk-container-id-8 label.sk-toggleable__label-arrow:hover:before {color: black;}#sk-container-id-8 div.sk-estimator:hover label.sk-toggleable__label-arrow:before {color: black;}#sk-container-id-8 div.sk-toggleable__content {max-height: 0;max-width: 0;overflow: hidden;text-align: left;background-color: #f0f8ff;}#sk-container-id-8 div.sk-toggleable__content pre {margin: 0.2em;color: black;border-radius: 0.25em;background-color: #f0f8ff;}#sk-container-id-8 input.sk-toggleable__control:checked~div.sk-toggleable__content {max-height: 200px;max-width: 100%;overflow: auto;}#sk-container-id-8 input.sk-toggleable__control:checked~label.sk-toggleable__label-arrow:before {content: \"▾\";}#sk-container-id-8 div.sk-estimator input.sk-toggleable__control:checked~label.sk-toggleable__label {background-color: #d4ebff;}#sk-container-id-8 div.sk-label input.sk-toggleable__control:checked~label.sk-toggleable__label {background-color: #d4ebff;}#sk-container-id-8 input.sk-hidden--visually {border: 0;clip: rect(1px 1px 1px 1px);clip: rect(1px, 1px, 1px, 1px);height: 1px;margin: -1px;overflow: hidden;padding: 0;position: absolute;width: 1px;}#sk-container-id-8 div.sk-estimator {font-family: monospace;background-color: #f0f8ff;border: 1px dotted black;border-radius: 0.25em;box-sizing: border-box;margin-bottom: 0.5em;}#sk-container-id-8 div.sk-estimator:hover {background-color: #d4ebff;}#sk-container-id-8 div.sk-parallel-item::after {content: \"\";width: 100%;border-bottom: 1px solid gray;flex-grow: 1;}#sk-container-id-8 div.sk-label:hover label.sk-toggleable__label {background-color: #d4ebff;}#sk-container-id-8 div.sk-serial::before {content: \"\";position: absolute;border-left: 1px solid gray;box-sizing: border-box;top: 0;bottom: 0;left: 50%;z-index: 0;}#sk-container-id-8 div.sk-serial {display: flex;flex-direction: column;align-items: center;background-color: white;padding-right: 0.2em;padding-left: 0.2em;position: relative;}#sk-container-id-8 div.sk-item {position: relative;z-index: 1;}#sk-container-id-8 div.sk-parallel {display: flex;align-items: stretch;justify-content: center;background-color: white;position: relative;}#sk-container-id-8 div.sk-item::before, #sk-container-id-8 div.sk-parallel-item::before {content: \"\";position: absolute;border-left: 1px solid gray;box-sizing: border-box;top: 0;bottom: 0;left: 50%;z-index: -1;}#sk-container-id-8 div.sk-parallel-item {display: flex;flex-direction: column;z-index: 1;position: relative;background-color: white;}#sk-container-id-8 div.sk-parallel-item:first-child::after {align-self: flex-end;width: 50%;}#sk-container-id-8 div.sk-parallel-item:last-child::after {align-self: flex-start;width: 50%;}#sk-container-id-8 div.sk-parallel-item:only-child::after {width: 0;}#sk-container-id-8 div.sk-dashed-wrapped {border: 1px dashed gray;margin: 0 0.4em 0.5em 0.4em;box-sizing: border-box;padding-bottom: 0.4em;background-color: white;}#sk-container-id-8 div.sk-label label {font-family: monospace;font-weight: bold;display: inline-block;line-height: 1.2em;}#sk-container-id-8 div.sk-label-container {text-align: center;}#sk-container-id-8 div.sk-container {/* jupyter's `normalize.less` sets `[hidden] { display: none; }` but bootstrap.min.css set `[hidden] { display: none !important; }` so we also need the `!important` here to be able to override the default hidden behavior on the sphinx rendered scikit-learn.org. See: https://github.com/scikit-learn/scikit-learn/issues/21755 */display: inline-block !important;position: relative;}#sk-container-id-8 div.sk-text-repr-fallback {display: none;}</style><div id=\"sk-container-id-8\" class=\"sk-top-container\"><div class=\"sk-text-repr-fallback\"><pre>CalibratedClassifierCV(estimator=GradientBoostingClassifier(learning_rate=0.01,\n",
       "                                                            n_estimators=50))</pre><b>In a Jupyter environment, please rerun this cell to show the HTML representation or trust the notebook. <br />On GitHub, the HTML representation is unable to render, please try loading this page with nbviewer.org.</b></div><div class=\"sk-container\" hidden><div class=\"sk-item sk-dashed-wrapped\"><div class=\"sk-label-container\"><div class=\"sk-label sk-toggleable\"><input class=\"sk-toggleable__control sk-hidden--visually\" id=\"sk-estimator-id-18\" type=\"checkbox\" ><label for=\"sk-estimator-id-18\" class=\"sk-toggleable__label sk-toggleable__label-arrow\">CalibratedClassifierCV</label><div class=\"sk-toggleable__content\"><pre>CalibratedClassifierCV(estimator=GradientBoostingClassifier(learning_rate=0.01,\n",
       "                                                            n_estimators=50))</pre></div></div></div><div class=\"sk-parallel\"><div class=\"sk-parallel-item\"><div class=\"sk-item\"><div class=\"sk-label-container\"><div class=\"sk-label sk-toggleable\"><input class=\"sk-toggleable__control sk-hidden--visually\" id=\"sk-estimator-id-19\" type=\"checkbox\" ><label for=\"sk-estimator-id-19\" class=\"sk-toggleable__label sk-toggleable__label-arrow\">estimator: GradientBoostingClassifier</label><div class=\"sk-toggleable__content\"><pre>GradientBoostingClassifier(learning_rate=0.01, n_estimators=50)</pre></div></div></div><div class=\"sk-serial\"><div class=\"sk-item\"><div class=\"sk-estimator sk-toggleable\"><input class=\"sk-toggleable__control sk-hidden--visually\" id=\"sk-estimator-id-20\" type=\"checkbox\" ><label for=\"sk-estimator-id-20\" class=\"sk-toggleable__label sk-toggleable__label-arrow\">GradientBoostingClassifier</label><div class=\"sk-toggleable__content\"><pre>GradientBoostingClassifier(learning_rate=0.01, n_estimators=50)</pre></div></div></div></div></div></div></div></div></div></div>"
      ],
      "text/plain": [
       "CalibratedClassifierCV(estimator=GradientBoostingClassifier(learning_rate=0.01,\n",
       "                                                            n_estimators=50))"
      ]
     },
     "execution_count": 215,
     "metadata": {},
     "output_type": "execute_result"
    }
   ],
   "source": [
    "best_model = grid_search.best_estimator_\n",
    "calibrated_model = CalibratedClassifierCV(best_model, method='sigmoid')\n",
    "calibrated_model.fit(X_train_scaled, y_train)"
   ]
  },
  {
   "cell_type": "code",
   "execution_count": 216,
   "id": "6b667dae",
   "metadata": {},
   "outputs": [],
   "source": [
    "y_pred = calibrated_model.predict_proba(X_test_scaled)[:, 1]"
   ]
  },
  {
   "cell_type": "code",
   "execution_count": 217,
   "id": "a4e8c203",
   "metadata": {},
   "outputs": [
    {
     "name": "stdout",
     "output_type": "stream",
     "text": [
      "Final Calibrated Brier Score: 0.14320045013080981\n"
     ]
    }
   ],
   "source": [
    "brier_score = brier_score_loss(y_test, y_pred)\n",
    "print(f\"Final Calibrated Brier Score: {brier_score}\")"
   ]
  },
  {
   "cell_type": "code",
   "execution_count": 218,
   "id": "91d1f318",
   "metadata": {},
   "outputs": [
    {
     "name": "stdout",
     "output_type": "stream",
     "text": [
      "File saved successfully at C:/Users/svkar/Downloads/test_SyncPatientForecast_3.csv\n"
     ]
    }
   ],
   "source": [
    "output_file_path = \"C:/Users/svkar/Downloads/test_SyncPatientForecast_3.csv\"\n",
    "results.to_csv(output_file_path, index=False)\n",
    "print(f\"File saved successfully at {output_file_path}\")"
   ]
  }
 ],
 "metadata": {
  "kernelspec": {
   "display_name": "Python 3 (ipykernel)",
   "language": "python",
   "name": "python3"
  },
  "language_info": {
   "codemirror_mode": {
    "name": "ipython",
    "version": 3
   },
   "file_extension": ".py",
   "mimetype": "text/x-python",
   "name": "python",
   "nbconvert_exporter": "python",
   "pygments_lexer": "ipython3",
   "version": "3.11.4"
  }
 },
 "nbformat": 4,
 "nbformat_minor": 5
}
